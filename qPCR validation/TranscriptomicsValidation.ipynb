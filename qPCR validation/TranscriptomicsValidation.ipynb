{
 "cells": [
  {
   "cell_type": "markdown",
   "metadata": {},
   "source": [
    "<h1> <center>Transcriptome Validation Project</center></h1> "
   ]
  },
  {
   "cell_type": "markdown",
   "metadata": {},
   "source": [
    "#### Authors: Sudha GC Upadhaya & David Linnard Wheeler     "
   ]
  },
  {
   "cell_type": "markdown",
   "metadata": {},
   "source": [
    "# Objectives"
   ]
  },
  {
   "cell_type": "markdown",
   "metadata": {},
   "source": [
    "- Validate the differences in gene experssion between symptomatic vs asymptomatic hosts\n",
    "- Validate the differences in gene experssion of *Verticillium dahliae* isolates between symptomatic vs asymtomatic hosts"
   ]
  },
  {
   "cell_type": "markdown",
   "metadata": {},
   "source": [
    "# Experimental design"
   ]
  },
  {
   "cell_type": "markdown",
   "metadata": {},
   "source": [
    "- Treatment structure: 2 way factorial\n",
    "- Independent variables: \n",
    "  - Two Hosts\n",
    "    * Potato: cv. 'Russet Burbank'\n",
    "    * Brown mustard: cv. 'ISCI 99'\n",
    "  - Three Fungi\n",
    "    - *𝑉𝑒𝑟𝑡𝑖𝑐𝑖𝑙𝑙𝑖𝑢𝑚 𝑑𝑎ℎ𝑙𝑖𝑎𝑒*-653 (Virulent in potato and avirulent in mint)\n",
    "    - *𝑉𝑒𝑟𝑡𝑖𝑐𝑖𝑙𝑙𝑖𝑢𝑚 𝑑𝑎ℎ𝑙𝑖𝑎𝑒*-111 (Virulent in mint and avirulent in potato)\n",
    "    -  Non-inoculated control (Water only)\n",
    "       \n",
    "- Sample collection: 10 days after inoculation\n",
    "- Three replicates\n",
    "- Design structure: Randomized complete Block Design \n",
    "- Observational unit: plant\n",
    "- Experimental unit: plant\n",
    "- Samples: whole plants\n",
    "- Data\n",
    "    - RNA quantity\n",
    "    - Fold change\n",
    "- Analysis: \n",
    "   - delta-delta ct method\n",
    "   - correlation"
   ]
  },
  {
   "cell_type": "markdown",
   "metadata": {},
   "source": [
    "# Material and Methods"
   ]
  },
  {
   "cell_type": "markdown",
   "metadata": {},
   "source": [
    "  **Greenhouse trial**\n",
    "* Inoculum preparation for root dips (3.5\"pot):\n",
    " * Inoculum for isolates 653 and 111:\n",
    "   * 60 plants/3 isolates = 20 plants/isolate \n",
    "   * 100 ml/plant (Dung et al. 2010) = 2000 ml = 2 L inoculum/isolate\n",
    "   * 2 L of 10 conidia/ml inoculum is needed per isolate\n",
    "   * 2 L/200 ml/flask = 10 flasks/isolate \n",
    "* Trial planting date: 8/21/2020\n",
    "* Trial inoculation date: 9/2/2020 \n",
    "* Sample collection date : 9/12/2020 potato and mustards harvest @ 10 dpi\n"
   ]
  },
  {
   "cell_type": "markdown",
   "metadata": {},
   "source": [
    "# Gene expression validation"
   ]
  },
  {
   "cell_type": "markdown",
   "metadata": {},
   "source": [
    "\n",
    "* RNA extraction: Crude method (Kumar et al. 2007)\n",
    "* RNA quantification: QUBIT Flurometer\n",
    "* RNA integrity check: Gel electorophoresis\n",
    "* cDNA synthesis: VWR cDNA supermix\n",
    "   * 6 µl of ~1µg total RNA + 4 µl supermix + 10 µl water\n",
    "   * Incubate: 5 min at 25°C +30 min at 42°C + 5 min at 85°C and hold at 4°C\n",
    "   * Dilute cDNA to 1/5th\n",
    "   * Store at -20°C\n",
    "* Primer design: \n",
    "   * 19 to 23 bp\n",
    "   * Product size: 70 to 210 bp\n",
    "   * GC content: 35% to 65%\n",
    "   * Spanning exon-exon junction (if applicable)\n",
    "* RTPCR\n",
    "  * Reaction mixture (10µl): \n",
    "     * SYBR Select Mix(2X): 5µl\n",
    "     * Forward primer (10µM): 0.5µl\n",
    "     * Reverse primer (10µM): 0.5µl\n",
    "     * H20: 3µl\n",
    "     * cDNA template: 1µl\n",
    "\n",
    "  * RT-PCR cycling condition:\n",
    "     * Initial denaturation 95°C for 10 min\n",
    "     * 40 cycles   95°C for 15 sec;\n",
    "     * 40 cycles   62°C for 1 min; \n",
    "     * Followed by 60 cycles of temperature increasing from 60°C to 95°C with fluorescence readings     acquired at 0.5°C \n",
    "        increment per cycle. \n",
    "   * Internal control: Housekeeping gene for normalization\n",
    "   * Negative control: No template\n",
    "   * Three technical replications\n",
    "   * Three biological replications\n",
    "   * Check melting curve for the presence of single amplified product\n",
    "* Calculate Ct values for samples using LinRegPCR software\n",
    "* Calculate primer efficiency using LinRegPCR (Ruijter et al. 2009)\n",
    "* Calculate log2foldchange using delta-delat Ct methond (Livak et al. 2001)\n",
    "   * $∆∆Ct = ∆Ct (Treatment) – ∆Ct (Control)$\n",
    "   * $Fold change = 2^-(∆∆Ct)$"
   ]
  },
  {
   "cell_type": "markdown",
   "metadata": {},
   "source": [
    "# Data Analysis"
   ]
  },
  {
   "cell_type": "code",
   "execution_count": null,
   "metadata": {},
   "outputs": [],
   "source": [
    "getwd()#get working directory"
   ]
  },
  {
   "cell_type": "code",
   "execution_count": null,
   "metadata": {},
   "outputs": [],
   "source": [
    "library(dplyr)\n",
    "library(ggplot2)\n",
    "library(ggthemes)\n",
    "library(tidyr)\n",
    "library(RColorBrewer)\n",
    "library(ggpubr)"
   ]
  },
  {
   "cell_type": "code",
   "execution_count": null,
   "metadata": {},
   "outputs": [],
   "source": [
    "df<- read.csv('qpcr.csv')"
   ]
  },
  {
   "cell_type": "code",
   "execution_count": null,
   "metadata": {},
   "outputs": [],
   "source": [
    "summary(df)"
   ]
  },
  {
   "cell_type": "code",
   "execution_count": null,
   "metadata": {},
   "outputs": [],
   "source": [
    "head(df)"
   ]
  },
  {
   "cell_type": "code",
   "execution_count": null,
   "metadata": {},
   "outputs": [],
   "source": [
    "str(df)"
   ]
  },
  {
   "cell_type": "code",
   "execution_count": null,
   "metadata": {},
   "outputs": [],
   "source": [
    "df$Replication <- as.factor(df$Replication)#change numeric data to factor\n",
    "df$qPCR <- as.numeric(as.character(df$qPCR))#change factor to numeric\n",
    "df$Host <- factor(df$Host, levels= c('Solanum tuberosum', 'Verticillium dahliae', 'Brassica juncea'),\n",
    "                 labels = c('S. tuberosum', 'V. dahliae', 'B. juncea'))"
   ]
  },
  {
   "cell_type": "code",
   "execution_count": null,
   "metadata": {},
   "outputs": [],
   "source": [
    "df[!complete.cases(df),]# find data with NA \n",
    "df<- df[!is.na(df$qPCR),]#subset data excluding NAs"
   ]
  },
  {
   "cell_type": "code",
   "execution_count": null,
   "metadata": {},
   "outputs": [],
   "source": [
    "df1<- gather(df, method, foldchange, qPCR:RNASeq)"
   ]
  },
  {
   "cell_type": "code",
   "execution_count": null,
   "metadata": {},
   "outputs": [],
   "source": [
    "method.labs <- c(\"qRT-PCR\", \"RNA-Seq\")\n",
    "names(method.labs) <- c(\"qPCR\", \"RNASeq\")"
   ]
  },
  {
   "cell_type": "markdown",
   "metadata": {},
   "source": [
    "---"
   ]
  },
  {
   "cell_type": "markdown",
   "metadata": {},
   "source": [
    "#### Boxplot"
   ]
  },
  {
   "cell_type": "code",
   "execution_count": null,
   "metadata": {},
   "outputs": [],
   "source": [
    "#tiff('Boxplot.tiff',width=17,height=14,units='in',res=300)\n",
    "Boxplot = ggplot(df1, aes(x= Gene, y= foldchange, fill = comparision))+\n",
    "    geom_boxplot(aes(fill =comparision),alpha=1,lwd=0.6)+geom_hline(yintercept = 0)+\n",
    "    geom_jitter(size=4,pch=20,alpha = 0.5)+\n",
    "    theme_bw()+\n",
    "    scale_fill_manual(values = c(\"cyan3\", \"brown1\", \"chartreuse3\",\"cornflowerblue\", \"darkorchid\", \"deeppink\"))+\n",
    "    facet_grid(method~Host, scales ='free', labeller = labeller (method =method.labs))+\n",
    "    labs(title ='', x = 'Gene', y =expression(log[2]~fold~change))+\n",
    "    theme(axis.title.x= element_text(size =26, color ='black'),\n",
    "    axis.title.y = element_text(size =26, color ='black'),\n",
    "    axis.text.x = element_text(vjust =0.5, size =18,angle =90,color = 'black'),\n",
    "    axis.text.y = element_text(size =24, color = 'black'),\n",
    "    strip.text.x = element_text(size = 26, face = 'italic'),\n",
    "    strip.text.y = element_text(size = 26),\n",
    "    legend.text = element_text(size =20),\n",
    "    legend.title = element_text(size =20),\n",
    "    legend.key.size = unit(1.5, 'cm'))+\n",
    "    theme(legend.position=\"bottom\")+\n",
    "    guides(fill = guide_legend('Comparision', override.aes = list(alpha =1))) \n",
    "Boxplot\n",
    "#dev.off()"
   ]
  },
  {
   "cell_type": "markdown",
   "metadata": {},
   "source": [
    "#### Boxplot (qPCR only)"
   ]
  },
  {
   "cell_type": "code",
   "execution_count": null,
   "metadata": {},
   "outputs": [],
   "source": [
    "#tiff('Boxplot_qpcr.tiff',width=10,height=7,units='in',res=300)\n",
    "Boxplot_qpcr = ggplot(df, aes(x= Gene, y= qPCR, fill = comparision))+\n",
    "    geom_boxplot(aes(fill =comparision),alpha=0.7,lwd=0.6)+geom_hline(yintercept = 0)+\n",
    "    geom_jitter(size=4,pch=20,alpha = 0.5)+\n",
    "    theme_bw()+\n",
    "    scale_fill_manual(values = c(\"cyan3\", \"brown1\", \"chartreuse3\",\"cornflowerblue\", \"darkorchid\", \"deeppink\"))+\n",
    "     facet_grid(~Host, scales ='free')+\n",
    "    labs(title ='', x = 'Gene', y =expression(log[2]~fold~change))+\n",
    "    theme(axis.title.x= element_text(size =14, color ='black'),\n",
    "    axis.title.y = element_text(size =14, color ='black'),\n",
    "    axis.text.x = element_text(vjust =0.5, size =8,angle =90,color = 'black'),\n",
    "    axis.text.y = element_text(size =12, color = 'black'),\n",
    "    strip.text.x = element_text(size = 16, face = 'italic'),\n",
    "    legend.text = element_text(size =10),\n",
    "    legend.title = element_text(size =10),\n",
    "    legend.key.size = unit(0.75, 'cm'))+\n",
    "    theme(legend.position=\"bottom\")+\n",
    "    guides(fill = guide_legend('Comparision', override.aes = list(alpha =0.7))) \n",
    "Boxplot_qpcr\n",
    "#dev.off()"
   ]
  },
  {
   "cell_type": "code",
   "execution_count": null,
   "metadata": {},
   "outputs": [],
   "source": [
    "df_summary <- df %>% \n",
    "                group_by (Gene, comparision, Host) %>% \n",
    "                summarise(Avg_qPCR = mean(qPCR), na.rm = T,\n",
    "                          Avg_RNASeq = mean(RNASeq),\n",
    "                          sd_qpcr = sd(qPCR), na.rm = T,\n",
    "                          sd_rnaseq = sd(RNASeq))\n",
    "df_summary<- df_summary[,c(-5,-8)]\n",
    "cor(x=df_summary[,4], y=df_summary[,5])"
   ]
  },
  {
   "cell_type": "markdown",
   "metadata": {},
   "source": [
    "#### Scatter plot"
   ]
  },
  {
   "cell_type": "code",
   "execution_count": null,
   "metadata": {},
   "outputs": [],
   "source": [
    "#tiff('scatterplot.tiff',width=5,height=5,units='in',res=300)\n",
    "scatterplot<-ggplot(df_summary, aes(x = Avg_qPCR, y = Avg_RNASeq))+\n",
    "  geom_point(aes(colour = Host), size = 3, pch =18, alpha =0.9)+\n",
    "  geom_vline(xintercept = 0)+\n",
    "  geom_hline(yintercept = 0)+\n",
    "  geom_smooth(method = 'lm', se = T, alpha =0.15, size = 0.75)+\n",
    "  scale_color_brewer (palette = 'Dark2')+\n",
    "  labs(title ='', x =expression(log[2]~fold ~change~(qRT-PCR)) , y = expression(log[2]~fold ~change~(RNA-Seq)))+\n",
    "  theme_gray()+theme(panel.grid.major=element_line(colour=\"white\"))+\n",
    "  theme(plot.title = element_text(size =12,\n",
    "                                    face =\"bold\",\n",
    "                                    color = 'black',\n",
    "                                    hjust = 0.5),\n",
    "          axis.title.x= element_text(size =10, color ='black', face ='bold'),\n",
    "          axis.title.y = element_text(size =10, color ='black', angle = 90,, face ='bold'),\n",
    "          axis.text.x = element_text(vjust =0.5, size =10,angle =1,color = 'black', face='bold'),\n",
    "          axis.text.y = element_text(size =10, color = 'black', face ='bold'),\n",
    "          legend.text = element_text(size =8, face ='italic'))+\n",
    "          guides(color = guide_legend('Host'))+\n",
    "            stat_cor(method = \"pearson\", label.x =2.66, label.y = 7)\n",
    "scatterplot\n",
    "#dev.off() "
   ]
  },
  {
   "cell_type": "code",
   "execution_count": 18,
   "metadata": {},
   "outputs": [
    {
     "data": {
      "text/html": [
       "<strong>png:</strong> 2"
      ],
      "text/latex": [
       "\\textbf{png:} 2"
      ],
      "text/markdown": [
       "**png:** 2"
      ],
      "text/plain": [
       "png \n",
       "  2 "
      ]
     },
     "metadata": {},
     "output_type": "display_data"
    }
   ],
   "source": [
    "tiff('scatterplot_separate.tiff',width=8,height=5,units='in',res=300)\n",
    "scatterplot_separate<-ggplot(df_summary, aes(x = Avg_qPCR, y = Avg_RNASeq))+\n",
    "  geom_point(aes(colour = comparision), size = 3, pch =18, alpha =1)+\n",
    "  geom_vline(xintercept = 0)+\n",
    "  geom_hline(yintercept = 0)+\n",
    "  geom_smooth(method = 'lm', se = T, alpha =0.2, size = 0.75)+\n",
    "  scale_color_brewer (palette = 'Dark2')+\n",
    "  labs(title ='', x =expression(log[2]~fold ~change~(qRT-PCR)) , y = expression(log[2]~fold ~change~(RNA-Seq)))+\n",
    "  theme_bw()+theme(panel.grid.major=element_line(colour=\"white\"))+\n",
    "  theme(plot.title = element_text(size =12,\n",
    "                                    face =\"bold\",\n",
    "                                    color = 'black',\n",
    "                                    hjust = 0.5),\n",
    "          axis.title.x= element_text(size =14, color ='black', face ='bold'),\n",
    "          axis.title.y = element_text(size =14, color ='black', angle = 90,, face ='bold'),\n",
    "          axis.text.x = element_text(vjust =0.5, size =12,angle =1,color = 'black', face='bold'),\n",
    "          axis.text.y = element_text(size =12, color = 'black', face ='bold'),\n",
    "          legend.text = element_text(size =12), \n",
    "          strip.text = element_text(size = 14, face = 'italic'))+\n",
    "          guides(color = guide_legend('Comparision'))+\n",
    "            stat_cor(method = \"pearson\", label.x =2.25, label.y = 7)+theme(legend.position=\"bottom\")+ \n",
    "            facet_wrap(Host~., scales ='fixed')\n",
    "scatterplot_separate\n",
    "dev.off() "
   ]
  },
  {
   "cell_type": "code",
   "execution_count": null,
   "metadata": {},
   "outputs": [],
   "source": [
    "df2<- gather(df_summary, method, foldchange, Avg_qPCR:Avg_RNASeq)"
   ]
  },
  {
   "cell_type": "markdown",
   "metadata": {},
   "source": [
    "#### Lollipop chart"
   ]
  },
  {
   "cell_type": "code",
   "execution_count": null,
   "metadata": {},
   "outputs": [],
   "source": [
    "#tiff('lollipop.tiff',width=10,height=10,units='in',res=300)\n",
    "lollipop<-ggplot(df2, aes(x = foldchange, y = Gene, color = Host, shape = method)) +\n",
    "        geom_segment(aes(x = 0, y = Gene, xend = foldchange, yend = Gene)) +\n",
    "        geom_point(stat='identity', fill=\"black\", size=3)+ \n",
    "        geom_vline(xintercept = 0)+\n",
    "        scale_colour_manual(values = c(\"deeppink\", \"blue\", 'tomato'))+\n",
    "       labs( title = \"qRT-PCR vs RNA-Seq\", x = 'Fold change', y = 'Gene')+\n",
    "  theme_gray()+theme(panel.grid.major=element_line(colour=\"white\"))+\n",
    "  theme(plot.title = element_text(size =12,\n",
    "                                    face =\"bold\",\n",
    "                                    color = 'black',\n",
    "                                    hjust = 0.5),\n",
    "          axis.title.x= element_text(size =12, color ='black', face = 'bold'),\n",
    "          axis.title.y = element_text(size =12, color ='black', angle = 90, face = 'bold'),\n",
    "          axis.text.x = element_text(vjust =0.5, size =10,angle =1,color = 'black'),\n",
    "          axis.text.y = element_text(size =9, color = 'black'))+\n",
    "          guides(color = guide_legend('Host'),shape = guide_legend('Method'))\n",
    "lollipop\n",
    "#dev.off()"
   ]
  },
  {
   "cell_type": "markdown",
   "metadata": {},
   "source": [
    "### Lollipop(RNAseq only)"
   ]
  },
  {
   "cell_type": "code",
   "execution_count": null,
   "metadata": {},
   "outputs": [],
   "source": [
    "head(df_summary)"
   ]
  },
  {
   "cell_type": "code",
   "execution_count": null,
   "metadata": {},
   "outputs": [],
   "source": [
    "tiff('lollipop_RNASeq.tiff',width=10,height=7,units='in',res=300)\n",
    "lollipop_RNASeq<-ggplot(df_summary, aes(x = Avg_RNASeq, y = Gene,color = comparision)) +\n",
    "        geom_segment(aes(x = 0, y = Gene, xend = Avg_RNASeq, yend = Gene), size =1.2) +\n",
    "        geom_point(stat='identity', size=3)+ theme_bw()+\n",
    "        geom_vline(xintercept = 0)+\n",
    "        scale_fill_manual(values = c(\"cyan3\", \"brown1\", \"chartreuse3\",\"cornflowerblue\", \"darkorchid\", \"deeppink\"))+\n",
    "       labs( title = \"\", x = expression(log[2]~fold ~change~(RNASeq)), y = 'Gene')+\n",
    "  theme(panel.grid.major=element_line(colour=\"white\"))+\n",
    "  theme(plot.title = element_text(size =12,\n",
    "                                    face =\"bold\",\n",
    "                                    color = 'black',\n",
    "                                    hjust = 0.5),\n",
    "          axis.title.x= element_text(size =12, color ='black'),\n",
    "          axis.title.y = element_text(size =12, color ='black', angle = 90 ),\n",
    "          axis.text.x = element_text(vjust =0.5, size =9,angle =90,color = 'black'),\n",
    "         strip.text.x = element_text(size = 16, face = 'italic'),\n",
    "          axis.text.y = element_text(size =12, color = 'black'))+\n",
    "          guides(shape = guide_legend('Comparision'))+theme(legend.position=\"bottom\")+\n",
    "facet_grid(~Host, scales ='free')+ coord_flip()\n",
    "lollipop_RNASeq\n",
    "dev.off()"
   ]
  },
  {
   "cell_type": "code",
   "execution_count": null,
   "metadata": {},
   "outputs": [],
   "source": [
    "tiff('expression.tiff',width=20,height=14,units='in',res=300)\n",
    "expression<- ggarrange(Boxplot_qpcr, lollipop_RNASeq, labels = c(\"A\", \"B\"), ncol =1)\n",
    "expression\n",
    "dev.off()"
   ]
  },
  {
   "cell_type": "markdown",
   "metadata": {},
   "source": [
    "#### Bar graph"
   ]
  },
  {
   "cell_type": "code",
   "execution_count": null,
   "metadata": {},
   "outputs": [],
   "source": [
    "#tiff('Bargraph.tiff',width=11,height=8,units='in',res=300)\n",
    "Bargraph = ggplot(df1, aes(x= Gene, y= foldchange, fill = comparision))+\n",
    "            geom_hline(yintercept = 0)+\n",
    "        stat_summary(geom = \"bar\", fun = mean, position = \"dodge\", colour ='black') +\n",
    "        stat_summary(geom = \"errorbar\", fun.data = mean_se, position = \"dodge\")+\n",
    "       theme_bw()+\n",
    "       labs(title ='', x = 'Gene',  y =expression(log[2]~fold~change))+\n",
    "       theme(plot.title = element_text(size =12, face =\"bold\", color = 'black', hjust = 0.5),\n",
    "          axis.title.x= element_text(size =14, color ='black'),\n",
    "          axis.title.y = element_text(size =14, color ='black'),\n",
    "          axis.text.x = element_text(vjust =0.5, size =10,angle =90,color = 'black'),\n",
    "          axis.text.y = element_text(size =10, color = 'black'), \n",
    "          legend.text = element_text(size =12),\n",
    "             strip.text = element_text(size = 15)) +\n",
    "          guides(fill = guide_legend(''))+theme(legend.position=\"bottom\")+\n",
    "        facet_grid(method~Host, scales ='free',labeller = labeller (method =method.labs))\n",
    "Bargraph\n",
    "#dev.off()"
   ]
  },
  {
   "cell_type": "markdown",
   "metadata": {},
   "source": [
    "* For report: \n",
    "    * Pick and expalin validated defense/susceptibility related genes and their importance in disease  management\n",
    "    * Virulence genes of Verticillium and it's interaction with host\n",
    "    * Why few genes were not validated?\n",
    "    * \n",
    "     "
   ]
  },
  {
   "cell_type": "markdown",
   "metadata": {},
   "source": [
    "---"
   ]
  },
  {
   "cell_type": "markdown",
   "metadata": {},
   "source": [
    "## Folchange calculation by replications RNA seq (*Solanum tuberosum*)"
   ]
  },
  {
   "cell_type": "code",
   "execution_count": null,
   "metadata": {},
   "outputs": [],
   "source": [
    "library(\"DESeq2\")\n",
    "library(\"DEFormats\")\n",
    "library(\"dplyr\")\n",
    "library(\"ggplot2\")"
   ]
  },
  {
   "cell_type": "code",
   "execution_count": null,
   "metadata": {},
   "outputs": [],
   "source": [
    "DF<- read.csv('Solanum_reads.csv')#load read count data"
   ]
  },
  {
   "cell_type": "code",
   "execution_count": null,
   "metadata": {},
   "outputs": [],
   "source": [
    "DF_1 <- data.frame(DF[,-1], row.names = DF[,1])#change to dataframe\n",
    "df = data.matrix(DF_1)"
   ]
  },
  {
   "cell_type": "code",
   "execution_count": null,
   "metadata": {},
   "outputs": [],
   "source": [
    "group = rep(c(\"653\", \"111\", \"Control\"), each = 3) # create vector 'group'"
   ]
  },
  {
   "cell_type": "code",
   "execution_count": null,
   "metadata": {},
   "outputs": [],
   "source": [
    "dge = DGEList(df, group = group) #assign group\n"
   ]
  },
  {
   "cell_type": "code",
   "execution_count": null,
   "metadata": {},
   "outputs": [],
   "source": [
    "dds = as.DESeqDataSet(dge)# Set data in Deseqformat"
   ]
  },
  {
   "cell_type": "code",
   "execution_count": null,
   "metadata": {},
   "outputs": [],
   "source": [
    "dds <- dds[rowSums(counts(dds)) > 1, ]#exclude the count data if rowsum is less than 1"
   ]
  },
  {
   "cell_type": "code",
   "execution_count": null,
   "metadata": {},
   "outputs": [],
   "source": [
    "DESeq.ds<- estimateSizeFactors(dds)\n",
    "sizeFactors(DESeq.ds)"
   ]
  },
  {
   "cell_type": "code",
   "execution_count": null,
   "metadata": {},
   "outputs": [],
   "source": [
    "colData(DESeq.ds)"
   ]
  },
  {
   "cell_type": "code",
   "execution_count": null,
   "metadata": {},
   "outputs": [],
   "source": [
    "normalized_counts<- counts(DESeq.ds, normalized = TRUE)\n",
    "normalized_counts"
   ]
  },
  {
   "cell_type": "code",
   "execution_count": null,
   "metadata": {},
   "outputs": [],
   "source": [
    "log_norm_counts <-  log2(normalized_counts + 1)\n"
   ]
  },
  {
   "cell_type": "code",
   "execution_count": null,
   "metadata": {},
   "outputs": [],
   "source": [
    "genes<- c(\"PGSC0003DMG400023922\", \"PGSC0003DMG402018475\", \"PGSC0003DMG400024310\", \"PGSC0003DMG400020999\",\n",
    "          \"PGSC0003DMG400004259\", \"PGSC0003DMG400029620\", \"PGSC0003DMG400042481\", \"PGSC0003DMG400019824\",\n",
    "          \"PGSC0003DMG400001178\") #validated gene list"
   ]
  },
  {
   "cell_type": "code",
   "execution_count": null,
   "metadata": {},
   "outputs": [],
   "source": [
    "Solanum_norm_count<- (log_norm_counts)[genes,]#subset only validated genes"
   ]
  },
  {
   "cell_type": "code",
   "execution_count": null,
   "metadata": {},
   "outputs": [],
   "source": [
    "Solanum_norm_count"
   ]
  },
  {
   "cell_type": "code",
   "execution_count": null,
   "metadata": {},
   "outputs": [],
   "source": [
    "Solanum_trt = c('653-1', '653-2','653-3','111-1','111-2','111-3','control-1','control-2','control-3')"
   ]
  },
  {
   "cell_type": "code",
   "execution_count": null,
   "metadata": {},
   "outputs": [],
   "source": [
    "colnames(Solanum_norm_count)<- Solanum_trt"
   ]
  },
  {
   "cell_type": "code",
   "execution_count": null,
   "metadata": {},
   "outputs": [],
   "source": [
    "write.csv(Solanum_norm_count,'C:/Users/sudha.gcupadhaya/Desktop/RNA-seq/qPCR validation/Solanum.csv' )"
   ]
  },
  {
   "cell_type": "markdown",
   "metadata": {},
   "source": [
    "##### Tried to calculate foldchage by replicates in normalized data manually but it doesn't produce same foldchange values as DESeq2 does. DSEq2 uses regression model to every single gene to estimate fold change following: $Y = b0+b1*x+e$ (Love et al. 2014)"
   ]
  },
  {
   "cell_type": "markdown",
   "metadata": {},
   "source": [
    "# References"
   ]
  }
 ],
 "metadata": {
  "kernelspec": {
   "display_name": "R",
   "language": "R",
   "name": "ir"
  },
  "language_info": {
   "codemirror_mode": "r",
   "file_extension": ".r",
   "mimetype": "text/x-r-source",
   "name": "R",
   "pygments_lexer": "r",
   "version": "3.6.1"
  },
  "toc": {
   "base_numbering": 1,
   "nav_menu": {},
   "number_sections": true,
   "sideBar": true,
   "skip_h1_title": false,
   "title_cell": "Table of Contents",
   "title_sidebar": "Contents",
   "toc_cell": false,
   "toc_position": {},
   "toc_section_display": true,
   "toc_window_display": true
  }
 },
 "nbformat": 4,
 "nbformat_minor": 4
}
