{
 "cells": [
  {
   "cell_type": "markdown",
   "metadata": {},
   "source": [
    "<h1> <center>Transcriptome Validation Project</center></h1> "
   ]
  },
  {
   "cell_type": "markdown",
   "metadata": {},
   "source": [
    "#### Authors: Sudha GC Upadhaya & David Linnard Wheeler     "
   ]
  },
  {
   "cell_type": "markdown",
   "metadata": {},
   "source": [
    "# Objectives"
   ]
  },
  {
   "cell_type": "markdown",
   "metadata": {},
   "source": [
    "- Validate the differences in gene experssion between symptomatic vs asymptomatic hosts\n",
    "- Validate the differences in gene experssion of *Verticillium dahliae* isolates between symptomatic vs asymtomatic hosts"
   ]
  },
  {
   "cell_type": "markdown",
   "metadata": {},
   "source": [
    "# Experimental design"
   ]
  },
  {
   "cell_type": "markdown",
   "metadata": {},
   "source": [
    "- Treatment structure: 2 way factorial\n",
    "- Independent variables: \n",
    "  - Two Hosts\n",
    "    * Potato: cv. 'Russet Burbank'\n",
    "    * Brown mustard: cv. 'ISCI 99'\n",
    "  - Three Fungi\n",
    "    - *𝑉𝑒𝑟𝑡𝑖𝑐𝑖𝑙𝑙𝑖𝑢𝑚 𝑑𝑎ℎ𝑙𝑖𝑎𝑒*-653 (Virulent in potato and avirulent in mint)\n",
    "    - *𝑉𝑒𝑟𝑡𝑖𝑐𝑖𝑙𝑙𝑖𝑢𝑚 𝑑𝑎ℎ𝑙𝑖𝑎𝑒*-111 (Virulent in mint and avirulent in potato)\n",
    "    -  Non-inoculated control (Water only)\n",
    "       \n",
    "- Sample collection: 10 days after inoculation\n",
    "- Three replicates\n",
    "- Design structure: Randomized complete Block Design \n",
    "- Observational unit: plant\n",
    "- Experimental unit: plant\n",
    "- Samples: whole plants\n",
    "- Data\n",
    "    - RNA quantity\n",
    "    - Fold change\n",
    "- Analysis: \n",
    "   - delta-delta ct method\n",
    "   - correlation"
   ]
  },
  {
   "cell_type": "markdown",
   "metadata": {},
   "source": [
    "# Material and Methods"
   ]
  },
  {
   "cell_type": "markdown",
   "metadata": {},
   "source": [
    "  **Greenhouse trial**\n",
    "* Inoculum preparation for root dips (3.5\"pot):\n",
    " * Inoculum for isolates 653 and 111:\n",
    "   * 60 plants/3 isolates = 20 plants/isolate \n",
    "   * 100 ml/plant (Dung et al. 2010) = 2000 ml = 2 L inoculum/isolate\n",
    "   * 2 L of 10 conidia/ml inoculum is needed per isolate\n",
    "   * 2 L/200 ml/flask = 10 flasks/isolate \n",
    "* Trial planting date: 8/21/2020\n",
    "* Trial inoculation date: 9/2/2020 \n",
    "* Sample collection date : 9/12/2020 potato and mustards harvest @ 10 dpi\n"
   ]
  },
  {
   "cell_type": "markdown",
   "metadata": {},
   "source": [
    "# Gene expression validation"
   ]
  },
  {
   "cell_type": "markdown",
   "metadata": {},
   "source": [
    "\n",
    "* RNA extraction: Crude method (Kumar et al. 2007)\n",
    "* RNA quantification: QUBIT Flurometer\n",
    "* RNA integrity check: Gel electorophoresis\n",
    "* cDNA synthesis: VWR cDNA supermix\n",
    "   * 6 µl of ~1µg total RNA + 4 µl supermix + 10 µl water\n",
    "   * Incubate: 5 min at 25°C +30 min at 42°C + 5 min at 85°C and hold at 4°C\n",
    "   * Dilute cDNA to 1/5th\n",
    "   * Store at -20°C\n",
    "* Primer design: \n",
    "   * 19 to 23 bp\n",
    "   * Product size: 70 to 210 bp\n",
    "   * GC content: 35% to 65%\n",
    "   * Spanning exon-exon junction (if applicable)\n",
    "* RTPCR\n",
    "  * Reaction mixture (10µl): \n",
    "     * SYBR Select Mix(2X): 5µl\n",
    "     * Forward primer (10µM): 0.5µl\n",
    "     * Reverse primer (10µM): 0.5µl\n",
    "     * H20: 3µl\n",
    "     * cDNA template: 1µl\n",
    "\n",
    "  * RT-PCR cycling condition:\n",
    "     * Initial denaturation 95°C for 10 min\n",
    "     * 40 cycles   95°C for 15 sec;\n",
    "     * 40 cycles   62°C for 1 min; \n",
    "     * Followed by 60 cycles of temperature increasing from 60°C to 95°C with fluorescence readings     acquired at 0.5°C \n",
    "        increment per cycle. \n",
    "   * Internal control: Housekeeping gene for normalization\n",
    "   * Negative control: No template\n",
    "   * Three technical replications\n",
    "   * Three biological replications\n",
    "   * Check melting curve for the presence of single amplified product\n",
    "* Calculate Ct values for samples using LinRegPCR software\n",
    "* Calculate primer efficiency using LinRegPCR (Ruijter et al. 2009)\n",
    "* Calculate log2foldchange using delta-delat Ct methond (Livak et al. 2001)\n",
    "   * $∆∆Ct = ∆Ct (Treatment) – ∆Ct (Control)$\n",
    "   * $Fold change = 2^-(∆∆Ct)$"
   ]
  },
  {
   "cell_type": "markdown",
   "metadata": {},
   "source": [
    "# Data Analysis"
   ]
  },
  {
   "cell_type": "code",
   "execution_count": null,
   "metadata": {},
   "outputs": [],
   "source": [
    "getwd()#get working directory"
   ]
  },
  {
   "cell_type": "code",
   "execution_count": 81,
   "metadata": {},
   "outputs": [
    {
     "name": "stderr",
     "output_type": "stream",
     "text": [
      "Warning message:\n",
      "\"package 'ggthemes' was built under R version 3.6.3\"Warning message:\n",
      "\"package 'tidyr' was built under R version 3.6.3\"\n",
      "Attaching package: 'tidyr'\n",
      "\n",
      "The following object is masked from 'package:S4Vectors':\n",
      "\n",
      "    expand\n",
      "\n",
      "Warning message:\n",
      "\"package 'ggpubr' was built under R version 3.6.3\""
     ]
    }
   ],
   "source": [
    "library(dplyr)\n",
    "library(ggplot2)\n",
    "library(ggthemes)\n",
    "library(tidyr)\n",
    "library(RColorBrewer)\n",
    "library(ggpubr)"
   ]
  },
  {
   "cell_type": "code",
   "execution_count": 120,
   "metadata": {},
   "outputs": [],
   "source": [
    "df<- read.csv('qpcr.csv')"
   ]
  },
  {
   "cell_type": "code",
   "execution_count": 83,
   "metadata": {},
   "outputs": [
    {
     "data": {
      "text/plain": [
       "       ID                       Host                          Gene   \n",
       " Bj-10  : 6   Brassica juncea     :33   Bj_Cluster-15354.125147 : 3  \n",
       " Bj-11  : 6   Solanum tuberosum   :36   Bj_Cluster-15354.44072-1: 3  \n",
       " Bj-3   : 6   Verticillium dahliae:12   Bj_Cluster-15354.44072-2: 3  \n",
       " Bj-7   : 6                             Bj_Cluster-15354.86688-1: 3  \n",
       " Bj-8   : 6                             Bj_Cluster-15354.86688-2: 3  \n",
       " St-1   : 6                             Bj_NUP1_ARATH-1         : 3  \n",
       " (Other):45                             (Other)                 :63  \n",
       "             comparision  Replication      qPCR        RNASeq      \n",
       " 111 vs 653        :21   Min.   :1    .      : 3   Min.   :-6.200  \n",
       " 111 vs control    :27   1st Qu.:1    -0.96  : 2   1st Qu.:-4.400  \n",
       " 653 vs control    :21   Median :2    -1.54  : 2   Median :-2.700  \n",
       " Bj(111) vs St(111): 3   Mean   :2    -1.83  : 2   Mean   :-1.289  \n",
       " Bj(653) vs St(653): 6   3rd Qu.:3    -2.87  : 2   3rd Qu.: 2.400  \n",
       " St(111) vs St(653): 3   Max.   :3    -0.34  : 1   Max.   : 6.200  \n",
       "                                      (Other):69                   "
      ]
     },
     "metadata": {},
     "output_type": "display_data"
    }
   ],
   "source": [
    "summary(df)"
   ]
  },
  {
   "cell_type": "code",
   "execution_count": 84,
   "metadata": {},
   "outputs": [
    {
     "data": {
      "text/html": [
       "<table>\n",
       "<thead><tr><th scope=col>ID</th><th scope=col>Host</th><th scope=col>Gene</th><th scope=col>comparision</th><th scope=col>Replication</th><th scope=col>qPCR</th><th scope=col>RNASeq</th></tr></thead>\n",
       "<tbody>\n",
       "\t<tr><td>St-1             </td><td>Solanum tuberosum</td><td>St_PR04_SOLLC-1  </td><td>653 vs control   </td><td>1                </td><td>1.30             </td><td> 2.4             </td></tr>\n",
       "\t<tr><td>St-1             </td><td>Solanum tuberosum</td><td>St_PR04_SOLLC-1  </td><td>653 vs control   </td><td>2                </td><td>0.79             </td><td> 2.4             </td></tr>\n",
       "\t<tr><td>St-1             </td><td>Solanum tuberosum</td><td>St_PR04_SOLLC-1  </td><td>653 vs control   </td><td>3                </td><td>1.45             </td><td> 2.4             </td></tr>\n",
       "\t<tr><td>St-1             </td><td>Solanum tuberosum</td><td>St_PR04_SOLLC-2  </td><td>111 vs 653       </td><td>1                </td><td>-1.67            </td><td>-2.4             </td></tr>\n",
       "\t<tr><td>St-1             </td><td>Solanum tuberosum</td><td>St_PR04_SOLLC-2  </td><td>111 vs 653       </td><td>2                </td><td>-1.83            </td><td>-2.4             </td></tr>\n",
       "\t<tr><td>St-1             </td><td>Solanum tuberosum</td><td>St_PR04_SOLLC-2  </td><td>111 vs 653       </td><td>3                </td><td>-2.88            </td><td>-2.4             </td></tr>\n",
       "</tbody>\n",
       "</table>\n"
      ],
      "text/latex": [
       "\\begin{tabular}{r|lllllll}\n",
       " ID & Host & Gene & comparision & Replication & qPCR & RNASeq\\\\\n",
       "\\hline\n",
       "\t St-1                & Solanum tuberosum   & St\\_PR04\\_SOLLC-1 & 653 vs control      & 1                   & 1.30                &  2.4               \\\\\n",
       "\t St-1                & Solanum tuberosum   & St\\_PR04\\_SOLLC-1 & 653 vs control      & 2                   & 0.79                &  2.4               \\\\\n",
       "\t St-1                & Solanum tuberosum   & St\\_PR04\\_SOLLC-1 & 653 vs control      & 3                   & 1.45                &  2.4               \\\\\n",
       "\t St-1                & Solanum tuberosum   & St\\_PR04\\_SOLLC-2 & 111 vs 653          & 1                   & -1.67               & -2.4               \\\\\n",
       "\t St-1                & Solanum tuberosum   & St\\_PR04\\_SOLLC-2 & 111 vs 653          & 2                   & -1.83               & -2.4               \\\\\n",
       "\t St-1                & Solanum tuberosum   & St\\_PR04\\_SOLLC-2 & 111 vs 653          & 3                   & -2.88               & -2.4               \\\\\n",
       "\\end{tabular}\n"
      ],
      "text/markdown": [
       "\n",
       "| ID | Host | Gene | comparision | Replication | qPCR | RNASeq |\n",
       "|---|---|---|---|---|---|---|\n",
       "| St-1              | Solanum tuberosum | St_PR04_SOLLC-1   | 653 vs control    | 1                 | 1.30              |  2.4              |\n",
       "| St-1              | Solanum tuberosum | St_PR04_SOLLC-1   | 653 vs control    | 2                 | 0.79              |  2.4              |\n",
       "| St-1              | Solanum tuberosum | St_PR04_SOLLC-1   | 653 vs control    | 3                 | 1.45              |  2.4              |\n",
       "| St-1              | Solanum tuberosum | St_PR04_SOLLC-2   | 111 vs 653        | 1                 | -1.67             | -2.4              |\n",
       "| St-1              | Solanum tuberosum | St_PR04_SOLLC-2   | 111 vs 653        | 2                 | -1.83             | -2.4              |\n",
       "| St-1              | Solanum tuberosum | St_PR04_SOLLC-2   | 111 vs 653        | 3                 | -2.88             | -2.4              |\n",
       "\n"
      ],
      "text/plain": [
       "  ID   Host              Gene            comparision    Replication qPCR \n",
       "1 St-1 Solanum tuberosum St_PR04_SOLLC-1 653 vs control 1           1.30 \n",
       "2 St-1 Solanum tuberosum St_PR04_SOLLC-1 653 vs control 2           0.79 \n",
       "3 St-1 Solanum tuberosum St_PR04_SOLLC-1 653 vs control 3           1.45 \n",
       "4 St-1 Solanum tuberosum St_PR04_SOLLC-2 111 vs 653     1           -1.67\n",
       "5 St-1 Solanum tuberosum St_PR04_SOLLC-2 111 vs 653     2           -1.83\n",
       "6 St-1 Solanum tuberosum St_PR04_SOLLC-2 111 vs 653     3           -2.88\n",
       "  RNASeq\n",
       "1  2.4  \n",
       "2  2.4  \n",
       "3  2.4  \n",
       "4 -2.4  \n",
       "5 -2.4  \n",
       "6 -2.4  "
      ]
     },
     "metadata": {},
     "output_type": "display_data"
    }
   ],
   "source": [
    "head(df)"
   ]
  },
  {
   "cell_type": "code",
   "execution_count": null,
   "metadata": {},
   "outputs": [],
   "source": [
    "str(df)"
   ]
  },
  {
   "cell_type": "code",
   "execution_count": 121,
   "metadata": {},
   "outputs": [
    {
     "name": "stderr",
     "output_type": "stream",
     "text": [
      "Warning message in eval(expr, envir, enclos):\n",
      "\"NAs introduced by coercion\""
     ]
    }
   ],
   "source": [
    "df$Replication <- as.factor(df$Replication)#change numeric data to factor\n",
    "df$qPCR <- as.numeric(as.character(df$qPCR))#change factor to numeric\n",
    "df$Host <- factor(df$Host, levels= c('Solanum tuberosum', 'Verticillium dahliae', 'Brassica juncea'),\n",
    "                 labels = c('S. tuberosum', 'V. dahliae', 'B. juncea'))"
   ]
  },
  {
   "cell_type": "code",
   "execution_count": 122,
   "metadata": {},
   "outputs": [
    {
     "data": {
      "text/html": [
       "<table>\n",
       "<thead><tr><th></th><th scope=col>ID</th><th scope=col>Host</th><th scope=col>Gene</th><th scope=col>comparision</th><th scope=col>Replication</th><th scope=col>qPCR</th><th scope=col>RNASeq</th></tr></thead>\n",
       "<tbody>\n",
       "\t<tr><th scope=row>34</th><td>St-11                  </td><td>S. tuberosum           </td><td>St_TIF5A_ARATH         </td><td>111 vs 653             </td><td>1                      </td><td>NA                     </td><td> 1.8                   </td></tr>\n",
       "\t<tr><th scope=row>79</th><td>Bj-2                   </td><td>B. juncea              </td><td>Bj_Cluster-15354.125147</td><td>653 vs control         </td><td>1                      </td><td>NA                     </td><td>-5.7                   </td></tr>\n",
       "\t<tr><th scope=row>81</th><td>Bj-2                   </td><td>B. juncea              </td><td>Bj_Cluster-15354.125147</td><td>653 vs control         </td><td>3                      </td><td>NA                     </td><td>-5.7                   </td></tr>\n",
       "</tbody>\n",
       "</table>\n"
      ],
      "text/latex": [
       "\\begin{tabular}{r|lllllll}\n",
       "  & ID & Host & Gene & comparision & Replication & qPCR & RNASeq\\\\\n",
       "\\hline\n",
       "\t34 & St-11                       & S. tuberosum                & St\\_TIF5A\\_ARATH          & 111 vs 653                  & 1                           & NA                          &  1.8                       \\\\\n",
       "\t79 & Bj-2                      & B. juncea                 & Bj\\_Cluster-15354.125147 & 653 vs control            & 1                         & NA                        & -5.7                     \\\\\n",
       "\t81 & Bj-2                      & B. juncea                 & Bj\\_Cluster-15354.125147 & 653 vs control            & 3                         & NA                        & -5.7                     \\\\\n",
       "\\end{tabular}\n"
      ],
      "text/markdown": [
       "\n",
       "| <!--/--> | ID | Host | Gene | comparision | Replication | qPCR | RNASeq |\n",
       "|---|---|---|---|---|---|---|---|\n",
       "| 34 | St-11                   | S. tuberosum            | St_TIF5A_ARATH          | 111 vs 653              | 1                       | NA                      |  1.8                    |\n",
       "| 79 | Bj-2                    | B. juncea               | Bj_Cluster-15354.125147 | 653 vs control          | 1                       | NA                      | -5.7                    |\n",
       "| 81 | Bj-2                    | B. juncea               | Bj_Cluster-15354.125147 | 653 vs control          | 3                       | NA                      | -5.7                    |\n",
       "\n"
      ],
      "text/plain": [
       "   ID    Host         Gene                    comparision    Replication qPCR\n",
       "34 St-11 S. tuberosum St_TIF5A_ARATH          111 vs 653     1           NA  \n",
       "79 Bj-2  B. juncea    Bj_Cluster-15354.125147 653 vs control 1           NA  \n",
       "81 Bj-2  B. juncea    Bj_Cluster-15354.125147 653 vs control 3           NA  \n",
       "   RNASeq\n",
       "34  1.8  \n",
       "79 -5.7  \n",
       "81 -5.7  "
      ]
     },
     "metadata": {},
     "output_type": "display_data"
    }
   ],
   "source": [
    "df[!complete.cases(df),]# find data with NA \n",
    "df<- df[!is.na(df$qPCR),]#subset data excluding NAs"
   ]
  },
  {
   "cell_type": "code",
   "execution_count": 123,
   "metadata": {},
   "outputs": [],
   "source": [
    "df1<- gather(df, method, foldchange, qPCR:RNASeq)"
   ]
  },
  {
   "cell_type": "code",
   "execution_count": null,
   "metadata": {},
   "outputs": [],
   "source": []
  },
  {
   "cell_type": "code",
   "execution_count": 124,
   "metadata": {},
   "outputs": [],
   "source": [
    "method.labs <- c(\"qRT-PCR\", \"RNA-Seq\")\n",
    "names(method.labs) <- c(\"qPCR\", \"RNASeq\")"
   ]
  },
  {
   "cell_type": "markdown",
   "metadata": {},
   "source": [
    "#### Boxplot"
   ]
  },
  {
   "cell_type": "code",
   "execution_count": null,
   "metadata": {},
   "outputs": [],
   "source": [
    "#tiff('Boxplot.tiff',width=17,height=14,units='in',res=300)\n",
    "Boxplot = ggplot(df1, aes(x= Gene, y= foldchange, fill = comparision))+\n",
    "    geom_boxplot(aes(fill =comparision),alpha=1,lwd=0.6)+geom_hline(yintercept = 0)+\n",
    "    geom_jitter(size=4,pch=20,alpha = 0.5)+\n",
    "    theme_bw()+\n",
    "    scale_fill_manual(values = c(\"cyan3\", \"brown1\", \"chartreuse3\",\"cornflowerblue\", \"darkorchid\", \"deeppink\"))+\n",
    "    facet_grid(method~Host, scales ='free', labeller = labeller (method =method.labs))+\n",
    "    labs(title ='', x = 'Gene', y =expression(log[2]~fold~change))+\n",
    "    theme(axis.title.x= element_text(size =26, color ='black'),\n",
    "    axis.title.y = element_text(size =26, color ='black'),\n",
    "    axis.text.x = element_text(vjust =0.5, size =18,angle =90,color = 'black'),\n",
    "    axis.text.y = element_text(size =24, color = 'black'),\n",
    "    strip.text.x = element_text(size = 26, face = 'italic'),\n",
    "    strip.text.y = element_text(size = 26),\n",
    "    legend.text = element_text(size =20),\n",
    "    legend.title = element_text(size =20),\n",
    "    legend.key.size = unit(1.5, 'cm'))+\n",
    "    theme(legend.position=\"bottom\")+\n",
    "    guides(fill = guide_legend('Comparision', override.aes = list(alpha =1))) \n",
    "Boxplot\n",
    "#dev.off()"
   ]
  },
  {
   "cell_type": "markdown",
   "metadata": {},
   "source": [
    "#### Boxplot (qPCR only)"
   ]
  },
  {
   "cell_type": "code",
   "execution_count": 131,
   "metadata": {},
   "outputs": [
    {
     "data": {
      "image/png": "[encoded data removed]",
      "text/plain": [
       "plot without title"
      ]
     },
     "metadata": {},
     "output_type": "display_data"
    }
   ],
   "source": [
    "#tiff('Boxplot_qpcr.tiff',width=10,height=7,units='in',res=300)\n",
    "Boxplot_qpcr = ggplot(df, aes(x= Gene, y= qPCR, fill = comparision))+\n",
    "    geom_boxplot(aes(fill =comparision),alpha=0.7,lwd=0.6)+geom_hline(yintercept = 0)+\n",
    "    geom_jitter(size=4,pch=20,alpha = 0.5)+\n",
    "    theme_bw()+\n",
    "    scale_fill_manual(values = c(\"cyan3\", \"brown1\", \"chartreuse3\",\"cornflowerblue\", \"darkorchid\", \"deeppink\"))+\n",
    "     facet_grid(~Host, scales ='free')+\n",
    "    labs(title ='', x = 'Gene', y =expression(log[2]~fold~change))+\n",
    "    theme(axis.title.x= element_text(size =14, color ='black'),\n",
    "    axis.title.y = element_text(size =14, color ='black'),\n",
    "    axis.text.x = element_text(vjust =0.5, size =8,angle =90,color = 'black'),\n",
    "    axis.text.y = element_text(size =12, color = 'black'),\n",
    "    strip.text.x = element_text(size = 16, face = 'italic'),\n",
    "    legend.text = element_text(size =10),\n",
    "    legend.title = element_text(size =10),\n",
    "    legend.key.size = unit(0.75, 'cm'))+\n",
    "    theme(legend.position=\"bottom\")+\n",
    "    guides(fill = guide_legend('Comparision', override.aes = list(alpha =0.7))) \n",
    "Boxplot_qpcr\n",
    "#dev.off()"
   ]
  },
  {
   "cell_type": "code",
   "execution_count": 132,
   "metadata": {},
   "outputs": [
    {
     "name": "stderr",
     "output_type": "stream",
     "text": [
      "`summarise()` regrouping output by 'Gene', 'comparision' (override with `.groups` argument)\n"
     ]
    },
    {
     "data": {
      "text/html": [
       "<table>\n",
       "<thead><tr><th></th><th scope=col>Avg_RNASeq</th></tr></thead>\n",
       "<tbody>\n",
       "\t<tr><th scope=row>Avg_qPCR</th><td>0.9174427</td></tr>\n",
       "</tbody>\n",
       "</table>\n"
      ],
      "text/latex": [
       "\\begin{tabular}{r|l}\n",
       "  & Avg\\_RNASeq\\\\\n",
       "\\hline\n",
       "\tAvg\\_qPCR & 0.9174427\\\\\n",
       "\\end{tabular}\n"
      ],
      "text/markdown": [
       "\n",
       "| <!--/--> | Avg_RNASeq |\n",
       "|---|---|\n",
       "| Avg_qPCR | 0.9174427 |\n",
       "\n"
      ],
      "text/plain": [
       "         Avg_RNASeq\n",
       "Avg_qPCR 0.9174427 "
      ]
     },
     "metadata": {},
     "output_type": "display_data"
    }
   ],
   "source": [
    "df_summary <- df %>% \n",
    "                group_by (Gene, comparision, Host) %>% \n",
    "                summarise(Avg_qPCR = mean(qPCR), na.rm = T,\n",
    "                          Avg_RNASeq = mean(RNASeq),\n",
    "                          sd_qpcr = sd(qPCR), na.rm = T,\n",
    "                          sd_rnaseq = sd(RNASeq))\n",
    "df_summary<- df_summary[,c(-5,-8)]\n",
    "cor(x=df_summary[,4], y=df_summary[,5])"
   ]
  },
  {
   "cell_type": "markdown",
   "metadata": {},
   "source": [
    "#### Scatter plot"
   ]
  },
  {
   "cell_type": "code",
   "execution_count": null,
   "metadata": {},
   "outputs": [],
   "source": [
    "tiff('scatterplot.tiff',width=5,height=5,units='in',res=300)\n",
    "scatterplot<-ggplot(df_summary, aes(x = Avg_qPCR, y = Avg_RNASeq))+\n",
    "  geom_point(aes(colour = Host), size = 3, pch =18, alpha =0.9)+\n",
    "  geom_vline(xintercept = 0)+\n",
    "  geom_hline(yintercept = 0)+\n",
    "  geom_smooth(method = 'lm', se = T, alpha =0.15, size = 0.75)+\n",
    "  scale_color_brewer (palette = 'Dark2')+\n",
    "  labs(title ='', x =expression(log[2]~fold ~change~(qRT-PCR)) , y = expression(log[2]~fold ~change~(RNA-Seq)))+\n",
    "  theme_gray()+theme(panel.grid.major=element_line(colour=\"white\"))+\n",
    "  theme(plot.title = element_text(size =12,\n",
    "                                    face =\"bold\",\n",
    "                                    color = 'black',\n",
    "                                    hjust = 0.5),\n",
    "          axis.title.x= element_text(size =10, color ='black', face ='bold'),\n",
    "          axis.title.y = element_text(size =10, color ='black', angle = 90,, face ='bold'),\n",
    "          axis.text.x = element_text(vjust =0.5, size =10,angle =1,color = 'black', face='bold'),\n",
    "          axis.text.y = element_text(size =10, color = 'black', face ='bold'),\n",
    "          legend.text = element_text(size =8, face ='italic'))+\n",
    "          guides(color = guide_legend('Host'))+\n",
    "            stat_cor(method = \"pearson\", label.x =2.66, label.y = 7)\n",
    "scatterplot\n",
    "dev.off() "
   ]
  },
  {
   "cell_type": "code",
   "execution_count": null,
   "metadata": {},
   "outputs": [],
   "source": [
    "tiff('scatterplot_separate.tiff',width=8,height=5,units='in',res=300)\n",
    "scatterplot_separate<-ggplot(df_summary, aes(x = Avg_qPCR, y = Avg_RNASeq))+\n",
    "  geom_point(aes(colour = comparision), size = 3, pch =18, alpha =0.9)+\n",
    "  geom_vline(xintercept = 0)+\n",
    "  geom_hline(yintercept = 0)+\n",
    "  geom_smooth(method = 'lm', se = T, alpha =0.15, size = 0.75)+\n",
    "  scale_color_brewer (palette = 'Dark2')+\n",
    "  labs(title ='', x =expression(log[2]~fold ~change~(qRT-PCR)) , y = expression(log[2]~fold ~change~(RNA-Seq)))+\n",
    "  theme_gray()+theme(panel.grid.major=element_line(colour=\"white\"))+\n",
    "  theme(plot.title = element_text(size =12,\n",
    "                                    face =\"bold\",\n",
    "                                    color = 'black',\n",
    "                                    hjust = 0.5),\n",
    "          axis.title.x= element_text(size =14, color ='black', face ='bold'),\n",
    "          axis.title.y = element_text(size =14, color ='black', angle = 90,, face ='bold'),\n",
    "          axis.text.x = element_text(vjust =0.5, size =12,angle =1,color = 'black', face='bold'),\n",
    "          axis.text.y = element_text(size =12, color = 'black', face ='bold'),\n",
    "          legend.text = element_text(size =12), \n",
    "          strip.text = element_text(size = 14, face = 'italic'))+\n",
    "          guides(color = guide_legend('Comparision'))+\n",
    "            stat_cor(method = \"pearson\", label.x =2.25, label.y = 7)+theme(legend.position=\"bottom\")+ \n",
    "            facet_wrap(Host~., scales ='fixed')\n",
    "scatterplot_separate\n",
    "dev.off() "
   ]
  },
  {
   "cell_type": "code",
   "execution_count": 133,
   "metadata": {},
   "outputs": [],
   "source": [
    "df2<- gather(df_summary, method, foldchange, Avg_qPCR:Avg_RNASeq)"
   ]
  },
  {
   "cell_type": "markdown",
   "metadata": {},
   "source": [
    "#### Lollipop chart"
   ]
  },
  {
   "cell_type": "code",
   "execution_count": 107,
   "metadata": {},
   "outputs": [
    {
     "ename": "ERROR",
     "evalue": "Error in ggplot(df2, aes(x = foldchange, y = Gene, color = Host, shape = method)): object 'df2' not found\n",
     "output_type": "error",
     "traceback": [
      "Error in ggplot(df2, aes(x = foldchange, y = Gene, color = Host, shape = method)): object 'df2' not found\nTraceback:\n",
      "1. ggplot(df2, aes(x = foldchange, y = Gene, color = Host, shape = method))"
     ]
    }
   ],
   "source": [
    "#tiff('lollipop.tiff',width=10,height=10,units='in',res=300)\n",
    "lollipop<-ggplot(df2, aes(x = foldchange, y = Gene, color = Host, shape = method)) +\n",
    "        geom_segment(aes(x = 0, y = Gene, xend = foldchange, yend = Gene)) +\n",
    "        geom_point(stat='identity', fill=\"black\", size=3)+ \n",
    "        geom_vline(xintercept = 0)+\n",
    "        scale_colour_manual(values = c(\"deeppink\", \"blue\", 'tomato'))+\n",
    "       labs( title = \"qRT-PCR vs RNA-Seq\", x = 'Fold change', y = 'Gene')+\n",
    "  theme_gray()+theme(panel.grid.major=element_line(colour=\"white\"))+\n",
    "  theme(plot.title = element_text(size =12,\n",
    "                                    face =\"bold\",\n",
    "                                    color = 'black',\n",
    "                                    hjust = 0.5),\n",
    "          axis.title.x= element_text(size =12, color ='black', face = 'bold'),\n",
    "          axis.title.y = element_text(size =12, color ='black', angle = 90, face = 'bold'),\n",
    "          axis.text.x = element_text(vjust =0.5, size =10,angle =1,color = 'black'),\n",
    "          axis.text.y = element_text(size =9, color = 'black'))+\n",
    "          guides(color = guide_legend('Host'),shape = guide_legend('Method'))\n",
    "lollipop\n",
    "#dev.off()"
   ]
  },
  {
   "cell_type": "markdown",
   "metadata": {},
   "source": [
    "### Lollipop(RNAseq only)"
   ]
  },
  {
   "cell_type": "code",
   "execution_count": 135,
   "metadata": {},
   "outputs": [
    {
     "data": {
      "text/html": [
       "<table>\n",
       "<thead><tr><th scope=col>Gene</th><th scope=col>comparision</th><th scope=col>Host</th><th scope=col>Avg_qPCR</th><th scope=col>Avg_RNASeq</th><th scope=col>sd_qpcr</th></tr></thead>\n",
       "<tbody>\n",
       "\t<tr><td>Bj_Cluster-15354.125147 </td><td>653 vs control          </td><td>B. juncea               </td><td>-1.540000               </td><td>-5.7                    </td><td>       NA               </td></tr>\n",
       "\t<tr><td>Bj_Cluster-15354.44072-1</td><td>111 vs control          </td><td>B. juncea               </td><td>-2.366667               </td><td>-4.4                    </td><td>0.7559321               </td></tr>\n",
       "\t<tr><td>Bj_Cluster-15354.44072-2</td><td>111 vs 653              </td><td>B. juncea               </td><td>-2.513333               </td><td>-4.9                    </td><td>0.7556675               </td></tr>\n",
       "\t<tr><td>Bj_Cluster-15354.86688-1</td><td>653 vs control          </td><td>B. juncea               </td><td>-1.990000               </td><td>-6.2                    </td><td>0.5761076               </td></tr>\n",
       "\t<tr><td>Bj_Cluster-15354.86688-2</td><td>111 vs 653              </td><td>B. juncea               </td><td> 2.226667               </td><td> 6.2                    </td><td>0.5101307               </td></tr>\n",
       "\t<tr><td>Bj_NUP1_ARATH-1         </td><td>653 vs control          </td><td>B. juncea               </td><td> 1.956667               </td><td> 3.0                    </td><td>0.4800347               </td></tr>\n",
       "</tbody>\n",
       "</table>\n"
      ],
      "text/latex": [
       "\\begin{tabular}{r|llllll}\n",
       " Gene & comparision & Host & Avg\\_qPCR & Avg\\_RNASeq & sd\\_qpcr\\\\\n",
       "\\hline\n",
       "\t Bj\\_Cluster-15354.125147  & 653 vs control             & B. juncea                  & -1.540000                  & -5.7                       &        NA                 \\\\\n",
       "\t Bj\\_Cluster-15354.44072-1 & 111 vs control             & B. juncea                  & -2.366667                  & -4.4                       & 0.7559321                 \\\\\n",
       "\t Bj\\_Cluster-15354.44072-2 & 111 vs 653                 & B. juncea                  & -2.513333                  & -4.9                       & 0.7556675                 \\\\\n",
       "\t Bj\\_Cluster-15354.86688-1 & 653 vs control             & B. juncea                  & -1.990000                  & -6.2                       & 0.5761076                 \\\\\n",
       "\t Bj\\_Cluster-15354.86688-2 & 111 vs 653                 & B. juncea                  &  2.226667                  &  6.2                       & 0.5101307                 \\\\\n",
       "\t Bj\\_NUP1\\_ARATH-1          & 653 vs control               & B. juncea                    &  1.956667                    &  3.0                         & 0.4800347                   \\\\\n",
       "\\end{tabular}\n"
      ],
      "text/markdown": [
       "\n",
       "| Gene | comparision | Host | Avg_qPCR | Avg_RNASeq | sd_qpcr |\n",
       "|---|---|---|---|---|---|\n",
       "| Bj_Cluster-15354.125147  | 653 vs control           | B. juncea                | -1.540000                | -5.7                     |        NA                |\n",
       "| Bj_Cluster-15354.44072-1 | 111 vs control           | B. juncea                | -2.366667                | -4.4                     | 0.7559321                |\n",
       "| Bj_Cluster-15354.44072-2 | 111 vs 653               | B. juncea                | -2.513333                | -4.9                     | 0.7556675                |\n",
       "| Bj_Cluster-15354.86688-1 | 653 vs control           | B. juncea                | -1.990000                | -6.2                     | 0.5761076                |\n",
       "| Bj_Cluster-15354.86688-2 | 111 vs 653               | B. juncea                |  2.226667                |  6.2                     | 0.5101307                |\n",
       "| Bj_NUP1_ARATH-1          | 653 vs control           | B. juncea                |  1.956667                |  3.0                     | 0.4800347                |\n",
       "\n"
      ],
      "text/plain": [
       "  Gene                     comparision    Host      Avg_qPCR  Avg_RNASeq\n",
       "1 Bj_Cluster-15354.125147  653 vs control B. juncea -1.540000 -5.7      \n",
       "2 Bj_Cluster-15354.44072-1 111 vs control B. juncea -2.366667 -4.4      \n",
       "3 Bj_Cluster-15354.44072-2 111 vs 653     B. juncea -2.513333 -4.9      \n",
       "4 Bj_Cluster-15354.86688-1 653 vs control B. juncea -1.990000 -6.2      \n",
       "5 Bj_Cluster-15354.86688-2 111 vs 653     B. juncea  2.226667  6.2      \n",
       "6 Bj_NUP1_ARATH-1          653 vs control B. juncea  1.956667  3.0      \n",
       "  sd_qpcr  \n",
       "1        NA\n",
       "2 0.7559321\n",
       "3 0.7556675\n",
       "4 0.5761076\n",
       "5 0.5101307\n",
       "6 0.4800347"
      ]
     },
     "metadata": {},
     "output_type": "display_data"
    }
   ],
   "source": [
    "head(df_summary)"
   ]
  },
  {
   "cell_type": "code",
   "execution_count": 172,
   "metadata": {},
   "outputs": [
    {
     "data": {
      "text/html": [
       "<strong>png:</strong> 2"
      ],
      "text/latex": [
       "\\textbf{png:} 2"
      ],
      "text/markdown": [
       "**png:** 2"
      ],
      "text/plain": [
       "png \n",
       "  2 "
      ]
     },
     "metadata": {},
     "output_type": "display_data"
    }
   ],
   "source": [
    "tiff('lollipop_RNASeq.tiff',width=10,height=7,units='in',res=300)\n",
    "lollipop_RNASeq<-ggplot(df_summary, aes(x = Avg_RNASeq, y = Gene,color = comparision)) +\n",
    "        geom_segment(aes(x = 0, y = Gene, xend = Avg_RNASeq, yend = Gene), size =1.2) +\n",
    "        geom_point(stat='identity', size=3)+ theme_bw()+\n",
    "        geom_vline(xintercept = 0)+\n",
    "        scale_fill_manual(values = c(\"cyan3\", \"brown1\", \"chartreuse3\",\"cornflowerblue\", \"darkorchid\", \"deeppink\"))+\n",
    "       labs( title = \"\", x = expression(log[2]~fold ~change~(RNASeq)), y = 'Gene')+\n",
    "  theme(panel.grid.major=element_line(colour=\"white\"))+\n",
    "  theme(plot.title = element_text(size =12,\n",
    "                                    face =\"bold\",\n",
    "                                    color = 'black',\n",
    "                                    hjust = 0.5),\n",
    "          axis.title.x= element_text(size =12, color ='black'),\n",
    "          axis.title.y = element_text(size =12, color ='black', angle = 90 ),\n",
    "          axis.text.x = element_text(vjust =0.5, size =9,angle =90,color = 'black'),\n",
    "         strip.text.x = element_text(size = 16, face = 'italic'),\n",
    "          axis.text.y = element_text(size =12, color = 'black'))+\n",
    "          guides(shape = guide_legend('Comparision'))+theme(legend.position=\"bottom\")+\n",
    "facet_grid(~Host, scales ='free')+ coord_flip()\n",
    "lollipop_RNASeq\n",
    "dev.off()"
   ]
  },
  {
   "cell_type": "code",
   "execution_count": 179,
   "metadata": {},
   "outputs": [
    {
     "data": {
      "text/html": [
       "<strong>png:</strong> 2"
      ],
      "text/latex": [
       "\\textbf{png:} 2"
      ],
      "text/markdown": [
       "**png:** 2"
      ],
      "text/plain": [
       "png \n",
       "  2 "
      ]
     },
     "metadata": {},
     "output_type": "display_data"
    }
   ],
   "source": [
    "tiff('expression.tiff',width=20,height=14,units='in',res=300)\n",
    "expression<- ggarrange(Boxplot_qpcr, lollipop_RNASeq, labels = c(\"A\", \"B\"), ncol =1)\n",
    "expression\n",
    "dev.off()"
   ]
  },
  {
   "cell_type": "markdown",
   "metadata": {},
   "source": [
    "#### Bar graph"
   ]
  },
  {
   "cell_type": "code",
   "execution_count": null,
   "metadata": {},
   "outputs": [],
   "source": [
    "#tiff('Bargraph.tiff',width=11,height=8,units='in',res=300)\n",
    "Bargraph = ggplot(df1, aes(x= Gene, y= foldchange, fill = comparision))+\n",
    "            geom_hline(yintercept = 0)+\n",
    "        stat_summary(geom = \"bar\", fun = mean, position = \"dodge\", colour ='black') +\n",
    "        stat_summary(geom = \"errorbar\", fun.data = mean_se, position = \"dodge\")+\n",
    "       theme_bw()+\n",
    "       labs(title ='', x = 'Gene',  y =expression(log[2]~fold~change))+\n",
    "       theme(plot.title = element_text(size =12, face =\"bold\", color = 'black', hjust = 0.5),\n",
    "          axis.title.x= element_text(size =14, color ='black'),\n",
    "          axis.title.y = element_text(size =14, color ='black'),\n",
    "          axis.text.x = element_text(vjust =0.5, size =10,angle =90,color = 'black'),\n",
    "          axis.text.y = element_text(size =10, color = 'black'), \n",
    "          legend.text = element_text(size =12),\n",
    "             strip.text = element_text(size = 15)) +\n",
    "          guides(fill = guide_legend(''))+theme(legend.position=\"bottom\")+\n",
    "        facet_grid(method~Host, scales ='free',labeller = labeller (method =method.labs))\n",
    "Bargraph\n",
    "#dev.off()"
   ]
  },
  {
   "cell_type": "markdown",
   "metadata": {},
   "source": [
    "* For report: \n",
    "    * Pick and expalin validated defense/susceptibility related genes and their importance in disease  management\n",
    "    * Virulence genes of Verticillium and it's interaction with host\n",
    "    * Why few genes were not validated?\n",
    "    * \n",
    "     "
   ]
  },
  {
   "cell_type": "markdown",
   "metadata": {},
   "source": [
    "## Folchange calculation by replications (*Solanum tuberosum*)"
   ]
  },
  {
   "cell_type": "code",
   "execution_count": 259,
   "metadata": {},
   "outputs": [],
   "source": [
    "library(\"DESeq2\")\n",
    "library(\"DEFormats\")\n",
    "library(\"dplyr\")\n",
    "library(\"ggplot2\")"
   ]
  },
  {
   "cell_type": "code",
   "execution_count": 260,
   "metadata": {},
   "outputs": [],
   "source": [
    "DF<- read.csv('Solanum_reads.csv')#load read count data"
   ]
  },
  {
   "cell_type": "code",
   "execution_count": 261,
   "metadata": {},
   "outputs": [],
   "source": [
    "DF_1 <- data.frame(DF[,-1], row.names = DF[,1])#change to dataframe\n",
    "df = data.matrix(DF_1)"
   ]
  },
  {
   "cell_type": "code",
   "execution_count": 262,
   "metadata": {},
   "outputs": [],
   "source": [
    "group = rep(c(\"653\", \"111\", \"Control\"), each = 3) # create vector 'group'"
   ]
  },
  {
   "cell_type": "code",
   "execution_count": 263,
   "metadata": {},
   "outputs": [],
   "source": [
    "dge = DGEList(df, group = group) #assign group\n"
   ]
  },
  {
   "cell_type": "code",
   "execution_count": 264,
   "metadata": {},
   "outputs": [
    {
     "name": "stderr",
     "output_type": "stream",
     "text": [
      "  it appears that the last variable in the design formula, 'group',\n",
      "  has a factor level, 'Control', which is not the reference level. we recommend\n",
      "  to use factor(...,levels=...) or relevel() to set this as the reference level\n",
      "  before proceeding. for more information, please see the 'Note on factor levels'\n",
      "  in vignette('DESeq2').\n"
     ]
    }
   ],
   "source": [
    "dds = as.DESeqDataSet(dge)# Set data in Deseqformat"
   ]
  },
  {
   "cell_type": "code",
   "execution_count": 265,
   "metadata": {},
   "outputs": [],
   "source": [
    "dds <- dds[rowSums(counts(dds)) > 1, ]#exclude the count data if rowsum is less than 1"
   ]
  },
  {
   "cell_type": "code",
   "execution_count": 266,
   "metadata": {},
   "outputs": [
    {
     "data": {
      "text/html": [
       "<dl class=dl-horizontal>\n",
       "\t<dt>S1_1_2_2</dt>\n",
       "\t\t<dd>1.1785003352832</dd>\n",
       "\t<dt>S1_1_2_3</dt>\n",
       "\t\t<dd>1.13390822470835</dd>\n",
       "\t<dt>S1_1_2_6</dt>\n",
       "\t\t<dd>1.11877770220033</dd>\n",
       "\t<dt>S1_2_2_1</dt>\n",
       "\t\t<dd>1.32948356957981</dd>\n",
       "\t<dt>S1_2_2_2</dt>\n",
       "\t\t<dd>1.14384319268416</dd>\n",
       "\t<dt>S1_2_2_4</dt>\n",
       "\t\t<dd>1.2676012100265</dd>\n",
       "\t<dt>S1_3_2_3</dt>\n",
       "\t\t<dd>0.833699051575236</dd>\n",
       "\t<dt>S1_3_2_4</dt>\n",
       "\t\t<dd>0.623943604225657</dd>\n",
       "\t<dt>S1_3_2_5</dt>\n",
       "\t\t<dd>0.697024434624298</dd>\n",
       "</dl>\n"
      ],
      "text/latex": [
       "\\begin{description*}\n",
       "\\item[S1\\textbackslash{}\\_1\\textbackslash{}\\_2\\textbackslash{}\\_2] 1.1785003352832\n",
       "\\item[S1\\textbackslash{}\\_1\\textbackslash{}\\_2\\textbackslash{}\\_3] 1.13390822470835\n",
       "\\item[S1\\textbackslash{}\\_1\\textbackslash{}\\_2\\textbackslash{}\\_6] 1.11877770220033\n",
       "\\item[S1\\textbackslash{}\\_2\\textbackslash{}\\_2\\textbackslash{}\\_1] 1.32948356957981\n",
       "\\item[S1\\textbackslash{}\\_2\\textbackslash{}\\_2\\textbackslash{}\\_2] 1.14384319268416\n",
       "\\item[S1\\textbackslash{}\\_2\\textbackslash{}\\_2\\textbackslash{}\\_4] 1.2676012100265\n",
       "\\item[S1\\textbackslash{}\\_3\\textbackslash{}\\_2\\textbackslash{}\\_3] 0.833699051575236\n",
       "\\item[S1\\textbackslash{}\\_3\\textbackslash{}\\_2\\textbackslash{}\\_4] 0.623943604225657\n",
       "\\item[S1\\textbackslash{}\\_3\\textbackslash{}\\_2\\textbackslash{}\\_5] 0.697024434624298\n",
       "\\end{description*}\n"
      ],
      "text/markdown": [
       "S1_1_2_2\n",
       ":   1.1785003352832S1_1_2_3\n",
       ":   1.13390822470835S1_1_2_6\n",
       ":   1.11877770220033S1_2_2_1\n",
       ":   1.32948356957981S1_2_2_2\n",
       ":   1.14384319268416S1_2_2_4\n",
       ":   1.2676012100265S1_3_2_3\n",
       ":   0.833699051575236S1_3_2_4\n",
       ":   0.623943604225657S1_3_2_5\n",
       ":   0.697024434624298\n",
       "\n"
      ],
      "text/plain": [
       " S1_1_2_2  S1_1_2_3  S1_1_2_6  S1_2_2_1  S1_2_2_2  S1_2_2_4  S1_3_2_3  S1_3_2_4 \n",
       "1.1785003 1.1339082 1.1187777 1.3294836 1.1438432 1.2676012 0.8336991 0.6239436 \n",
       " S1_3_2_5 \n",
       "0.6970244 "
      ]
     },
     "metadata": {},
     "output_type": "display_data"
    }
   ],
   "source": [
    "DESeq.ds<- estimateSizeFactors(dds)\n",
    "sizeFactors(DESeq.ds)"
   ]
  },
  {
   "cell_type": "code",
   "execution_count": 267,
   "metadata": {},
   "outputs": [
    {
     "data": {
      "text/plain": [
       "DataFrame with 9 rows and 4 columns\n",
       "            group  lib.size norm.factors        sizeFactor\n",
       "         <factor> <numeric>    <numeric>         <numeric>\n",
       "S1_1_2_2      653  25518237            1   1.1785003352832\n",
       "S1_1_2_3      653  25955750            1  1.13390822470835\n",
       "S1_1_2_6      653  24465446            1  1.11877770220033\n",
       "S1_2_2_1      111  28741125            1  1.32948356957981\n",
       "S1_2_2_2      111  24851601            1  1.14384319268416\n",
       "S1_2_2_4      111  28294179            1   1.2676012100265\n",
       "S1_3_2_3  Control  17629462            1 0.833699051575236\n",
       "S1_3_2_4  Control  13352444            1 0.623943604225657\n",
       "S1_3_2_5  Control  15220193            1 0.697024434624298"
      ]
     },
     "metadata": {},
     "output_type": "display_data"
    }
   ],
   "source": [
    "colData(DESeq.ds)"
   ]
  },
  {
   "cell_type": "code",
   "execution_count": null,
   "metadata": {},
   "outputs": [],
   "source": [
    "normalized_counts<- counts(DESeq.ds, normalized = TRUE)\n",
    "normalized_counts"
   ]
  },
  {
   "cell_type": "code",
   "execution_count": 278,
   "metadata": {},
   "outputs": [],
   "source": [
    "log_norm_counts <-  log2(normalized_counts + 1)\n"
   ]
  },
  {
   "cell_type": "code",
   "execution_count": 279,
   "metadata": {},
   "outputs": [],
   "source": [
    "genes<- c(\"PGSC0003DMG400023922\", \"PGSC0003DMG402018475\", \"PGSC0003DMG400024310\", \"PGSC0003DMG400020999\",\n",
    "          \"PGSC0003DMG400004259\", \"PGSC0003DMG400029620\", \"PGSC0003DMG400042481\", \"PGSC0003DMG400019824\",\n",
    "          \"PGSC0003DMG400001178\") #validated gene list"
   ]
  },
  {
   "cell_type": "code",
   "execution_count": 280,
   "metadata": {},
   "outputs": [],
   "source": [
    "Solanum_norm_count<- (log_norm_counts)[genes,]#subset only validated genes"
   ]
  },
  {
   "cell_type": "code",
   "execution_count": 281,
   "metadata": {},
   "outputs": [
    {
     "data": {
      "text/html": [
       "<table>\n",
       "<thead><tr><th></th><th scope=col>S1_1_2_2</th><th scope=col>S1_1_2_3</th><th scope=col>S1_1_2_6</th><th scope=col>S1_2_2_1</th><th scope=col>S1_2_2_2</th><th scope=col>S1_2_2_4</th><th scope=col>S1_3_2_3</th><th scope=col>S1_3_2_4</th><th scope=col>S1_3_2_5</th></tr></thead>\n",
       "<tbody>\n",
       "\t<tr><th scope=row>PGSC0003DMG400023922</th><td> 6.719319</td><td> 9.543438</td><td> 7.926169</td><td> 4.307741</td><td> 5.302568</td><td> 3.767895</td><td> 4.775494</td><td> 4.338603</td><td> 4.892070</td></tr>\n",
       "\t<tr><th scope=row>PGSC0003DMG402018475</th><td> 6.841770</td><td> 6.359931</td><td> 6.672469</td><td> 6.570182</td><td> 6.549516</td><td> 6.889289</td><td> 9.761916</td><td>10.155484</td><td> 9.465276</td></tr>\n",
       "\t<tr><th scope=row>PGSC0003DMG400024310</th><td> 5.650049</td><td> 3.830720</td><td> 5.052154</td><td> 6.335037</td><td> 4.812581</td><td> 6.494172</td><td> 9.481167</td><td>10.163570</td><td>10.456911</td></tr>\n",
       "\t<tr><th scope=row>PGSC0003DMG400020999</th><td>12.031057</td><td>11.785250</td><td>12.964962</td><td>14.366406</td><td>14.154987</td><td>14.854704</td><td>11.907535</td><td>11.407262</td><td>13.031408</td></tr>\n",
       "\t<tr><th scope=row>PGSC0003DMG400004259</th><td>11.651098</td><td>12.600698</td><td>13.072612</td><td> 9.444516</td><td>10.437419</td><td> 9.896623</td><td>10.374624</td><td>10.215056</td><td> 9.841964</td></tr>\n",
       "\t<tr><th scope=row>PGSC0003DMG400029620</th><td> 8.791447</td><td> 7.554312</td><td> 8.033418</td><td> 6.752326</td><td> 7.274888</td><td> 7.069559</td><td> 9.945104</td><td>10.449729</td><td>10.190839</td></tr>\n",
       "\t<tr><th scope=row>PGSC0003DMG400042481</th><td> 5.468431</td><td> 5.908997</td><td> 6.215179</td><td> 4.361520</td><td> 4.514510</td><td> 4.989447</td><td> 7.653290</td><td> 7.826434</td><td> 7.657167</td></tr>\n",
       "\t<tr><th scope=row>PGSC0003DMG400019824</th><td> 5.744410</td><td> 7.974192</td><td> 7.354713</td><td> 4.886673</td><td> 5.168715</td><td> 5.337875</td><td> 9.652213</td><td> 8.760658</td><td> 8.519010</td></tr>\n",
       "\t<tr><th scope=row>PGSC0003DMG400001178</th><td> 3.245703</td><td> 3.830720</td><td> 3.026917</td><td> 6.772318</td><td> 4.719902</td><td> 7.281909</td><td> 4.247328</td><td> 2.538073</td><td> 5.087353</td></tr>\n",
       "</tbody>\n",
       "</table>\n"
      ],
      "text/latex": [
       "\\begin{tabular}{r|lllllllll}\n",
       "  & S1\\_1\\_2\\_2 & S1\\_1\\_2\\_3 & S1\\_1\\_2\\_6 & S1\\_2\\_2\\_1 & S1\\_2\\_2\\_2 & S1\\_2\\_2\\_4 & S1\\_3\\_2\\_3 & S1\\_3\\_2\\_4 & S1\\_3\\_2\\_5\\\\\n",
       "\\hline\n",
       "\tPGSC0003DMG400023922 &  6.719319 &  9.543438 &  7.926169 &  4.307741 &  5.302568 &  3.767895 &  4.775494 &  4.338603 &  4.892070\\\\\n",
       "\tPGSC0003DMG402018475 &  6.841770 &  6.359931 &  6.672469 &  6.570182 &  6.549516 &  6.889289 &  9.761916 & 10.155484 &  9.465276\\\\\n",
       "\tPGSC0003DMG400024310 &  5.650049 &  3.830720 &  5.052154 &  6.335037 &  4.812581 &  6.494172 &  9.481167 & 10.163570 & 10.456911\\\\\n",
       "\tPGSC0003DMG400020999 & 12.031057 & 11.785250 & 12.964962 & 14.366406 & 14.154987 & 14.854704 & 11.907535 & 11.407262 & 13.031408\\\\\n",
       "\tPGSC0003DMG400004259 & 11.651098 & 12.600698 & 13.072612 &  9.444516 & 10.437419 &  9.896623 & 10.374624 & 10.215056 &  9.841964\\\\\n",
       "\tPGSC0003DMG400029620 &  8.791447 &  7.554312 &  8.033418 &  6.752326 &  7.274888 &  7.069559 &  9.945104 & 10.449729 & 10.190839\\\\\n",
       "\tPGSC0003DMG400042481 &  5.468431 &  5.908997 &  6.215179 &  4.361520 &  4.514510 &  4.989447 &  7.653290 &  7.826434 &  7.657167\\\\\n",
       "\tPGSC0003DMG400019824 &  5.744410 &  7.974192 &  7.354713 &  4.886673 &  5.168715 &  5.337875 &  9.652213 &  8.760658 &  8.519010\\\\\n",
       "\tPGSC0003DMG400001178 &  3.245703 &  3.830720 &  3.026917 &  6.772318 &  4.719902 &  7.281909 &  4.247328 &  2.538073 &  5.087353\\\\\n",
       "\\end{tabular}\n"
      ],
      "text/markdown": [
       "\n",
       "| <!--/--> | S1_1_2_2 | S1_1_2_3 | S1_1_2_6 | S1_2_2_1 | S1_2_2_2 | S1_2_2_4 | S1_3_2_3 | S1_3_2_4 | S1_3_2_5 |\n",
       "|---|---|---|---|---|---|---|---|---|---|\n",
       "| PGSC0003DMG400023922 |  6.719319 |  9.543438 |  7.926169 |  4.307741 |  5.302568 |  3.767895 |  4.775494 |  4.338603 |  4.892070 |\n",
       "| PGSC0003DMG402018475 |  6.841770 |  6.359931 |  6.672469 |  6.570182 |  6.549516 |  6.889289 |  9.761916 | 10.155484 |  9.465276 |\n",
       "| PGSC0003DMG400024310 |  5.650049 |  3.830720 |  5.052154 |  6.335037 |  4.812581 |  6.494172 |  9.481167 | 10.163570 | 10.456911 |\n",
       "| PGSC0003DMG400020999 | 12.031057 | 11.785250 | 12.964962 | 14.366406 | 14.154987 | 14.854704 | 11.907535 | 11.407262 | 13.031408 |\n",
       "| PGSC0003DMG400004259 | 11.651098 | 12.600698 | 13.072612 |  9.444516 | 10.437419 |  9.896623 | 10.374624 | 10.215056 |  9.841964 |\n",
       "| PGSC0003DMG400029620 |  8.791447 |  7.554312 |  8.033418 |  6.752326 |  7.274888 |  7.069559 |  9.945104 | 10.449729 | 10.190839 |\n",
       "| PGSC0003DMG400042481 |  5.468431 |  5.908997 |  6.215179 |  4.361520 |  4.514510 |  4.989447 |  7.653290 |  7.826434 |  7.657167 |\n",
       "| PGSC0003DMG400019824 |  5.744410 |  7.974192 |  7.354713 |  4.886673 |  5.168715 |  5.337875 |  9.652213 |  8.760658 |  8.519010 |\n",
       "| PGSC0003DMG400001178 |  3.245703 |  3.830720 |  3.026917 |  6.772318 |  4.719902 |  7.281909 |  4.247328 |  2.538073 |  5.087353 |\n",
       "\n"
      ],
      "text/plain": [
       "                     S1_1_2_2  S1_1_2_3  S1_1_2_6  S1_2_2_1  S1_2_2_2 \n",
       "PGSC0003DMG400023922  6.719319  9.543438  7.926169  4.307741  5.302568\n",
       "PGSC0003DMG402018475  6.841770  6.359931  6.672469  6.570182  6.549516\n",
       "PGSC0003DMG400024310  5.650049  3.830720  5.052154  6.335037  4.812581\n",
       "PGSC0003DMG400020999 12.031057 11.785250 12.964962 14.366406 14.154987\n",
       "PGSC0003DMG400004259 11.651098 12.600698 13.072612  9.444516 10.437419\n",
       "PGSC0003DMG400029620  8.791447  7.554312  8.033418  6.752326  7.274888\n",
       "PGSC0003DMG400042481  5.468431  5.908997  6.215179  4.361520  4.514510\n",
       "PGSC0003DMG400019824  5.744410  7.974192  7.354713  4.886673  5.168715\n",
       "PGSC0003DMG400001178  3.245703  3.830720  3.026917  6.772318  4.719902\n",
       "                     S1_2_2_4  S1_3_2_3  S1_3_2_4  S1_3_2_5 \n",
       "PGSC0003DMG400023922  3.767895  4.775494  4.338603  4.892070\n",
       "PGSC0003DMG402018475  6.889289  9.761916 10.155484  9.465276\n",
       "PGSC0003DMG400024310  6.494172  9.481167 10.163570 10.456911\n",
       "PGSC0003DMG400020999 14.854704 11.907535 11.407262 13.031408\n",
       "PGSC0003DMG400004259  9.896623 10.374624 10.215056  9.841964\n",
       "PGSC0003DMG400029620  7.069559  9.945104 10.449729 10.190839\n",
       "PGSC0003DMG400042481  4.989447  7.653290  7.826434  7.657167\n",
       "PGSC0003DMG400019824  5.337875  9.652213  8.760658  8.519010\n",
       "PGSC0003DMG400001178  7.281909  4.247328  2.538073  5.087353"
      ]
     },
     "metadata": {},
     "output_type": "display_data"
    }
   ],
   "source": [
    "Solanum_norm_count"
   ]
  },
  {
   "cell_type": "code",
   "execution_count": 282,
   "metadata": {},
   "outputs": [],
   "source": [
    "Solanum_trt = c('653-1', '653-2','653-3','111-1','111-2','111-3','control-1','control-2','control-3')"
   ]
  },
  {
   "cell_type": "code",
   "execution_count": 283,
   "metadata": {},
   "outputs": [],
   "source": [
    "colnames(Solanum_norm_count)<- Solanum_trt"
   ]
  },
  {
   "cell_type": "code",
   "execution_count": 284,
   "metadata": {},
   "outputs": [],
   "source": [
    "write.csv(Solanum_norm_count,'C:/Users/sudha.gcupadhaya/Desktop/RNA-seq/qPCR validation/Solanum.csv' )"
   ]
  },
  {
   "cell_type": "markdown",
   "metadata": {},
   "source": [
    "##### Tried to calculate foldchage by replicates in normalized data manually but it doesn't produce same foldchange values as DESeq2 does. DSEq2 uses regression model to every single gene to estimate fold change following: $Y = b0+b1*x+e$ (Love et al. 2014)"
   ]
  },
  {
   "cell_type": "markdown",
   "metadata": {},
   "source": [
    "# References"
   ]
  }
 ],
 "metadata": {
  "kernelspec": {
   "display_name": "R",
   "language": "R",
   "name": "ir"
  },
  "language_info": {
   "codemirror_mode": "r",
   "file_extension": ".r",
   "mimetype": "text/x-r-source",
   "name": "R",
   "pygments_lexer": "r",
   "version": "3.6.1"
  },
  "toc": {
   "base_numbering": 1,
   "nav_menu": {},
   "number_sections": true,
   "sideBar": true,
   "skip_h1_title": false,
   "title_cell": "Table of Contents",
   "title_sidebar": "Contents",
   "toc_cell": false,
   "toc_position": {},
   "toc_section_display": true,
   "toc_window_display": true
  }
 },
 "nbformat": 4,
 "nbformat_minor": 4
}
