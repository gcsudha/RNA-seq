{
 "cells": [
  {
   "cell_type": "markdown",
   "metadata": {},
   "source": [
    "<h1> <center>Transcriptome Validation Projecty</center></h1> "
   ]
  },
  {
   "cell_type": "markdown",
   "metadata": {},
   "source": [
    "#### Authors: Sudha GC Upadhaya & David Linnard Wheeler     "
   ]
  },
  {
   "cell_type": "markdown",
   "metadata": {},
   "source": [
    "# Objectives"
   ]
  },
  {
   "cell_type": "markdown",
   "metadata": {},
   "source": [
    "- Validate the differences in gene experssion between symptomatic vs asymptomatic hosts\n",
    "- Validate the differences in gene experssion of *Verticillium dahliae* isolates between symptomatic vs asymtomatic hosts"
   ]
  },
  {
   "cell_type": "markdown",
   "metadata": {},
   "source": [
    "# Experimental design"
   ]
  },
  {
   "cell_type": "markdown",
   "metadata": {},
   "source": [
    "- Treatment structure: 2 way factorial\n",
    "- Independent variables: \n",
    "  - Two Hosts\n",
    "    * Potato: cv. 'Russet Burbank'\n",
    "    * Brown mustard: cv. 'ISCI 99'\n",
    "  - Three Fungi\n",
    "    - *𝑉𝑒𝑟𝑡𝑖𝑐𝑖𝑙𝑙𝑖𝑢𝑚 𝑑𝑎ℎ𝑙𝑖𝑎𝑒*-653 (Virulent in potato and avirulent in mint)\n",
    "    - *𝑉𝑒𝑟𝑡𝑖𝑐𝑖𝑙𝑙𝑖𝑢𝑚 𝑑𝑎ℎ𝑙𝑖𝑎𝑒*-111 (Virulent in mint and avirulent in potato)\n",
    "    -  Non-inoculated control (Water only)\n",
    "       \n",
    "- Sample collection: 10 days after inoculation\n",
    "- Three replicates\n",
    "- Design structure: Randomized complete Block Design \n",
    "- Observational unit: plant\n",
    "- Experimental unit: plant\n",
    "- Samples: whole plants\n",
    "- Data\n",
    "    - RNA quantity\n",
    "    - Fold change\n",
    "- Analysis: \n",
    "   - delta-delta ct method\n",
    "   - correlation"
   ]
  },
  {
   "cell_type": "markdown",
   "metadata": {},
   "source": [
    "# Material and Methods"
   ]
  },
  {
   "cell_type": "markdown",
   "metadata": {},
   "source": [
    "  **Greenhouse trial**\n",
    "* Inoculum preparation for root dips (3.5\"pot):\n",
    " * Inoculum for isolates 653 and 111:\n",
    "   * 60 plants/3 isolates = 20 plants/isolate \n",
    "   * 100 ml/plant (Dung et al. 2010) = 2000 ml = 2 L inoculum/isolate\n",
    "   * 2 L of 10 conidia/ml inoculum is needed per isolate\n",
    "   * 2 L/200 ml/flask = 10 flasks/isolate \n",
    "* Trial planting date: 8/21/2020\n",
    "* Trial inoculation date: 9/2/2020 \n",
    "* Sample collection date : 9/12/2020 potato and mustards harvest @ 10 dpi\n"
   ]
  },
  {
   "cell_type": "markdown",
   "metadata": {},
   "source": [
    "# Gene expression validation"
   ]
  },
  {
   "cell_type": "markdown",
   "metadata": {},
   "source": [
    "\n",
    "* RNA extraction: Crude method (Kumar et al. 2007)\n",
    "* RNA quantification: QUBIT Flurometer\n",
    "* RNA integrity check: Gel electorophoresis\n",
    "* cDNA synthesis: VWR cDNA supermix\n",
    "   * 6 µl of ~1µg total RNA + 4 µl supermix + 10 µl water\n",
    "   * Incubate: 5 min at 25°C +30 min at 42°C + 5 min at 85°C and hold at 4°C\n",
    "   * Dilute cDNA to 1/5th\n",
    "   * Store at -20°C\n",
    "* Primer design: \n",
    "   * 19 to 23 bp\n",
    "   * Product size: 70 to 210 bp\n",
    "   * GC content: 35% to 65%\n",
    "   * Spanning exon-exon junction (if applicable)\n",
    "* RTPCR\n",
    "  * Reaction mixture (10µl): \n",
    "     * SYBR Select Mix(2X): 5µl\n",
    "     * Forward primer (10µM): 0.5µl\n",
    "     * Reverse primer (10µM): 0.5µl\n",
    "     * H20: 3µl\n",
    "     * cDNA template: 1µl\n",
    "\n",
    "  * RT-PCR cycling condition:\n",
    "     * Initial denaturation 95°C for 10 min\n",
    "     * 40 cycles   95°C for 15 sec;\n",
    "     * 40 cycles   62°C for 1 min; \n",
    "     * Followed by 60 cycles of temperature increasing from 60°C to 95°C with fluorescence readings     acquired at 0.5°C \n",
    "        increment per cycle. \n",
    "   * Internal control: Housekeeping gene for normalization\n",
    "   * Negative control: No template\n",
    "   * Three technical replications\n",
    "   * Three biological replications\n",
    "   * Check melting curve for the presence of single amplified product\n",
    "* Calculate Ct values for samples using LinRegPCR software\n",
    "* Calculate primer efficiency using LinRegPCR (Ruijter et al. 2009)\n",
    "* Calculate log2foldchange using delta-delat Ct methond (Livak et al. 2001)\n",
    "   * $∆∆Ct = ∆Ct (Treatment) – ∆Ct (Control)$\n",
    "   * $Fold change = 2^-(∆∆Ct)$"
   ]
  },
  {
   "cell_type": "markdown",
   "metadata": {},
   "source": [
    "# Data"
   ]
  },
  {
   "cell_type": "code",
   "execution_count": 1,
   "metadata": {},
   "outputs": [
    {
     "data": {
      "text/html": [
       "'/Users/davidlinnardwheeler/Desktop/Desktop - David’s MacBook Pro/Research/RNA-seq/qPCR validation'"
      ],
      "text/latex": [
       "'/Users/davidlinnardwheeler/Desktop/Desktop - David’s MacBook Pro/Research/RNA-seq/qPCR validation'"
      ],
      "text/markdown": [
       "'/Users/davidlinnardwheeler/Desktop/Desktop - David’s MacBook Pro/Research/RNA-seq/qPCR validation'"
      ],
      "text/plain": [
       "[1] \"/Users/davidlinnardwheeler/Desktop/Desktop - David’s MacBook Pro/Research/RNA-seq/qPCR validation\""
      ]
     },
     "metadata": {},
     "output_type": "display_data"
    }
   ],
   "source": [
    "getwd()#get working directory"
   ]
  },
  {
   "cell_type": "code",
   "execution_count": 22,
   "metadata": {},
   "outputs": [
    {
     "name": "stderr",
     "output_type": "stream",
     "text": [
      "Warning message:\n",
      "\"package 'ggthemes' was built under R version 3.6.3\""
     ]
    }
   ],
   "source": [
    "library(dplyr)\n",
    "library(ggplot2)\n",
    "library(ggthemes)"
   ]
  },
  {
   "cell_type": "code",
   "execution_count": 4,
   "metadata": {},
   "outputs": [],
   "source": [
    "df<- read.csv('qpcr.csv')"
   ]
  },
  {
   "cell_type": "code",
   "execution_count": 5,
   "metadata": {},
   "outputs": [
    {
     "data": {
      "text/plain": [
       "       ID                       Host                        Gene   \n",
       " Bj-10  : 6   Brassica juncea     :33   Bj_Cluster-15354.44072: 6  \n",
       " Bj-11  : 6   Solanum tuberosum   :36   Bj_Cluster-15354.86688: 6  \n",
       " Bj-3   : 6   Verticillium dahliae:12   Bj_NUP1_ARATH         : 6  \n",
       " Bj-7   : 6                             Bj_PDRP2_ARATH        : 6  \n",
       " Bj-8   : 6                             Bj_SCL1_ARATH         : 6  \n",
       " St-1   : 6                             St_ABAH1_ARATH        : 6  \n",
       " (Other):45                             (Other)               :45  \n",
       "             comparision  Replication     foldchange_qpcr foldchange_rnaseq\n",
       " 111 vs 653        :21   Min.   :1    .           : 3     Min.   :-6.200   \n",
       " 111 vs control    :27   1st Qu.:1    -0.344272296: 1     1st Qu.:-4.400   \n",
       " 653 vs control    :21   Median :2    -0.483789126: 1     Median :-2.700   \n",
       " Bj(111) vs St(111): 3   Mean   :2    -0.657525579: 1     Mean   :-1.289   \n",
       " Bj(653) vs St(653): 6   3rd Qu.:3    -0.880783467: 1     3rd Qu.: 2.400   \n",
       " St(111) vs St(653): 3   Max.   :3    -0.952741692: 1     Max.   : 6.200   \n",
       "                                      (Other)     :73                      "
      ]
     },
     "metadata": {},
     "output_type": "display_data"
    }
   ],
   "source": [
    "summary(df)"
   ]
  },
  {
   "cell_type": "code",
   "execution_count": 6,
   "metadata": {},
   "outputs": [
    {
     "data": {
      "text/html": [
       "<table>\n",
       "<thead><tr><th scope=col>ID</th><th scope=col>Host</th><th scope=col>Gene</th><th scope=col>comparision</th><th scope=col>Replication</th><th scope=col>foldchange_qpcr</th><th scope=col>foldchange_rnaseq</th></tr></thead>\n",
       "<tbody>\n",
       "\t<tr><td>St-1             </td><td>Solanum tuberosum</td><td>St_PR04_SOLLC    </td><td>653 vs control   </td><td>1                </td><td>1.303045807      </td><td> 2.4             </td></tr>\n",
       "\t<tr><td>St-1             </td><td>Solanum tuberosum</td><td>St_PR04_SOLLC    </td><td>653 vs control   </td><td>2                </td><td>0.79286977       </td><td> 2.4             </td></tr>\n",
       "\t<tr><td>St-1             </td><td>Solanum tuberosum</td><td>St_PR04_SOLLC    </td><td>653 vs control   </td><td>3                </td><td>1.448635281      </td><td> 2.4             </td></tr>\n",
       "\t<tr><td>St-1             </td><td>Solanum tuberosum</td><td>St_PR04_SOLLC    </td><td>111 vs 653       </td><td>1                </td><td>-1.669729039     </td><td>-2.4             </td></tr>\n",
       "\t<tr><td>St-1             </td><td>Solanum tuberosum</td><td>St_PR04_SOLLC    </td><td>111 vs 653       </td><td>2                </td><td>-1.831987607     </td><td>-2.4             </td></tr>\n",
       "\t<tr><td>St-1             </td><td>Solanum tuberosum</td><td>St_PR04_SOLLC    </td><td>111 vs 653       </td><td>3                </td><td>-2.884060926     </td><td>-2.4             </td></tr>\n",
       "</tbody>\n",
       "</table>\n"
      ],
      "text/latex": [
       "\\begin{tabular}{r|lllllll}\n",
       " ID & Host & Gene & comparision & Replication & foldchange\\_qpcr & foldchange\\_rnaseq\\\\\n",
       "\\hline\n",
       "\t St-1              & Solanum tuberosum & St\\_PR04\\_SOLLC & 653 vs control    & 1                 & 1.303045807       &  2.4             \\\\\n",
       "\t St-1              & Solanum tuberosum & St\\_PR04\\_SOLLC & 653 vs control    & 2                 & 0.79286977        &  2.4             \\\\\n",
       "\t St-1              & Solanum tuberosum & St\\_PR04\\_SOLLC & 653 vs control    & 3                 & 1.448635281       &  2.4             \\\\\n",
       "\t St-1              & Solanum tuberosum & St\\_PR04\\_SOLLC & 111 vs 653        & 1                 & -1.669729039      & -2.4             \\\\\n",
       "\t St-1              & Solanum tuberosum & St\\_PR04\\_SOLLC & 111 vs 653        & 2                 & -1.831987607      & -2.4             \\\\\n",
       "\t St-1              & Solanum tuberosum & St\\_PR04\\_SOLLC & 111 vs 653        & 3                 & -2.884060926      & -2.4             \\\\\n",
       "\\end{tabular}\n"
      ],
      "text/markdown": [
       "\n",
       "| ID | Host | Gene | comparision | Replication | foldchange_qpcr | foldchange_rnaseq |\n",
       "|---|---|---|---|---|---|---|\n",
       "| St-1              | Solanum tuberosum | St_PR04_SOLLC     | 653 vs control    | 1                 | 1.303045807       |  2.4              |\n",
       "| St-1              | Solanum tuberosum | St_PR04_SOLLC     | 653 vs control    | 2                 | 0.79286977        |  2.4              |\n",
       "| St-1              | Solanum tuberosum | St_PR04_SOLLC     | 653 vs control    | 3                 | 1.448635281       |  2.4              |\n",
       "| St-1              | Solanum tuberosum | St_PR04_SOLLC     | 111 vs 653        | 1                 | -1.669729039      | -2.4              |\n",
       "| St-1              | Solanum tuberosum | St_PR04_SOLLC     | 111 vs 653        | 2                 | -1.831987607      | -2.4              |\n",
       "| St-1              | Solanum tuberosum | St_PR04_SOLLC     | 111 vs 653        | 3                 | -2.884060926      | -2.4              |\n",
       "\n"
      ],
      "text/plain": [
       "  ID   Host              Gene          comparision    Replication\n",
       "1 St-1 Solanum tuberosum St_PR04_SOLLC 653 vs control 1          \n",
       "2 St-1 Solanum tuberosum St_PR04_SOLLC 653 vs control 2          \n",
       "3 St-1 Solanum tuberosum St_PR04_SOLLC 653 vs control 3          \n",
       "4 St-1 Solanum tuberosum St_PR04_SOLLC 111 vs 653     1          \n",
       "5 St-1 Solanum tuberosum St_PR04_SOLLC 111 vs 653     2          \n",
       "6 St-1 Solanum tuberosum St_PR04_SOLLC 111 vs 653     3          \n",
       "  foldchange_qpcr foldchange_rnaseq\n",
       "1 1.303045807      2.4             \n",
       "2 0.79286977       2.4             \n",
       "3 1.448635281      2.4             \n",
       "4 -1.669729039    -2.4             \n",
       "5 -1.831987607    -2.4             \n",
       "6 -2.884060926    -2.4             "
      ]
     },
     "metadata": {},
     "output_type": "display_data"
    }
   ],
   "source": [
    "head(df)"
   ]
  },
  {
   "cell_type": "code",
   "execution_count": 7,
   "metadata": {},
   "outputs": [
    {
     "name": "stdout",
     "output_type": "stream",
     "text": [
      "'data.frame':\t81 obs. of  7 variables:\n",
      " $ ID               : Factor w/ 19 levels \"Bj-10\",\"Bj-11\",..: 7 7 7 7 7 7 10 10 10 10 ...\n",
      " $ Host             : Factor w/ 3 levels \"Brassica juncea\",..: 2 2 2 2 2 2 2 2 2 2 ...\n",
      " $ Gene             : Factor w/ 19 levels \"Bj_Cluster-15354.125147\",..: 12 12 12 12 12 12 7 7 7 7 ...\n",
      " $ comparision      : Factor w/ 6 levels \"111 vs 653\",\"111 vs control\",..: 3 3 3 1 1 1 3 3 3 2 ...\n",
      " $ Replication      : int  1 2 3 1 2 3 1 2 3 1 ...\n",
      " $ foldchange_qpcr  : Factor w/ 79 levels \"-0.344272296\",..: 57 54 58 22 26 45 27 5 14 6 ...\n",
      " $ foldchange_rnaseq: num  2.4 2.4 2.4 -2.4 -2.4 -2.4 -2.9 -2.9 -2.9 -2.9 ...\n"
     ]
    }
   ],
   "source": [
    "str(df)"
   ]
  },
  {
   "cell_type": "code",
   "execution_count": 8,
   "metadata": {},
   "outputs": [
    {
     "name": "stderr",
     "output_type": "stream",
     "text": [
      "Warning message in eval(expr, envir, enclos):\n",
      "\"NAs introduced by coercion\""
     ]
    }
   ],
   "source": [
    "df$Replication <- as.factor(df$Replication)#change numeric data to factor\n",
    "df$foldchange_qpcr <- as.numeric(as.character(df$foldchange_qpcr))#change factor to numeric\n"
   ]
  },
  {
   "cell_type": "code",
   "execution_count": 9,
   "metadata": {},
   "outputs": [
    {
     "data": {
      "text/html": [
       "<table>\n",
       "<thead><tr><th></th><th scope=col>ID</th><th scope=col>Host</th><th scope=col>Gene</th><th scope=col>comparision</th><th scope=col>Replication</th><th scope=col>foldchange_qpcr</th><th scope=col>foldchange_rnaseq</th></tr></thead>\n",
       "<tbody>\n",
       "\t<tr><th scope=row>34</th><td>St-11                  </td><td>Solanum tuberosum      </td><td>St_TIF5A_ARATH         </td><td>111 vs 653             </td><td>1                      </td><td>NA                     </td><td> 1.8                   </td></tr>\n",
       "\t<tr><th scope=row>79</th><td>Bj-2                   </td><td>Brassica juncea        </td><td>Bj_Cluster-15354.125147</td><td>653 vs control         </td><td>1                      </td><td>NA                     </td><td>-5.7                   </td></tr>\n",
       "\t<tr><th scope=row>81</th><td>Bj-2                   </td><td>Brassica juncea        </td><td>Bj_Cluster-15354.125147</td><td>653 vs control         </td><td>3                      </td><td>NA                     </td><td>-5.7                   </td></tr>\n",
       "</tbody>\n",
       "</table>\n"
      ],
      "text/latex": [
       "\\begin{tabular}{r|lllllll}\n",
       "  & ID & Host & Gene & comparision & Replication & foldchange\\_qpcr & foldchange\\_rnaseq\\\\\n",
       "\\hline\n",
       "\t34 & St-11                       & Solanum tuberosum           & St\\_TIF5A\\_ARATH          & 111 vs 653                  & 1                           & NA                          &  1.8                       \\\\\n",
       "\t79 & Bj-2                      & Brassica juncea           & Bj\\_Cluster-15354.125147 & 653 vs control            & 1                         & NA                        & -5.7                     \\\\\n",
       "\t81 & Bj-2                      & Brassica juncea           & Bj\\_Cluster-15354.125147 & 653 vs control            & 3                         & NA                        & -5.7                     \\\\\n",
       "\\end{tabular}\n"
      ],
      "text/markdown": [
       "\n",
       "| <!--/--> | ID | Host | Gene | comparision | Replication | foldchange_qpcr | foldchange_rnaseq |\n",
       "|---|---|---|---|---|---|---|---|\n",
       "| 34 | St-11                   | Solanum tuberosum       | St_TIF5A_ARATH          | 111 vs 653              | 1                       | NA                      |  1.8                    |\n",
       "| 79 | Bj-2                    | Brassica juncea         | Bj_Cluster-15354.125147 | 653 vs control          | 1                       | NA                      | -5.7                    |\n",
       "| 81 | Bj-2                    | Brassica juncea         | Bj_Cluster-15354.125147 | 653 vs control          | 3                       | NA                      | -5.7                    |\n",
       "\n"
      ],
      "text/plain": [
       "   ID    Host              Gene                    comparision    Replication\n",
       "34 St-11 Solanum tuberosum St_TIF5A_ARATH          111 vs 653     1          \n",
       "79 Bj-2  Brassica juncea   Bj_Cluster-15354.125147 653 vs control 1          \n",
       "81 Bj-2  Brassica juncea   Bj_Cluster-15354.125147 653 vs control 3          \n",
       "   foldchange_qpcr foldchange_rnaseq\n",
       "34 NA               1.8             \n",
       "79 NA              -5.7             \n",
       "81 NA              -5.7             "
      ]
     },
     "metadata": {},
     "output_type": "display_data"
    }
   ],
   "source": [
    "df[!complete.cases(df),]# find data with NA \n",
    "df<- df[!is.na(df$foldchange_qpcr),]#subset data excluding NAs"
   ]
  },
  {
   "cell_type": "code",
   "execution_count": 11,
   "metadata": {},
   "outputs": [
    {
     "name": "stderr",
     "output_type": "stream",
     "text": [
      "`summarise()` regrouping output by 'Gene', 'comparision' (override with `.groups` argument)\n"
     ]
    }
   ],
   "source": [
    "df_summary <- df %>% \n",
    "                group_by (Gene, comparision, Host) %>% \n",
    "                summarise(Avg_foldchange_qpcr = mean(foldchange_qpcr), na.rm = T,\n",
    "                          Avg_foldchange_rnaseq = mean(foldchange_rnaseq),\n",
    "                          sd_qpcr = sd(foldchange_qpcr), na.rm = T,\n",
    "                          sd_rnaseq = sd(foldchange_rnaseq))\n",
    "#calculate foldchange average and standard deviation for each genes of Solanum"
   ]
  },
  {
   "cell_type": "code",
   "execution_count": 13,
   "metadata": {},
   "outputs": [],
   "source": [
    "df_summary<- df_summary[,c(-5,-8)]"
   ]
  },
  {
   "cell_type": "code",
   "execution_count": 14,
   "metadata": {},
   "outputs": [
    {
     "data": {
      "text/html": [
       "<table>\n",
       "<thead><tr><th scope=col>Gene</th><th scope=col>comparision</th><th scope=col>Host</th><th scope=col>Avg_foldchange_qpcr</th><th scope=col>Avg_foldchange_rnaseq</th><th scope=col>sd_qpcr</th></tr></thead>\n",
       "<tbody>\n",
       "\t<tr><td>Bj_Cluster-15354.125147</td><td>653 vs control         </td><td>Brassica juncea        </td><td>-1.5374467             </td><td>-5.7                   </td><td>       NA              </td></tr>\n",
       "\t<tr><td>Bj_Cluster-15354.44072 </td><td>111 vs 653             </td><td>Brassica juncea        </td><td>-2.5122950             </td><td>-4.9                   </td><td>0.7565105              </td></tr>\n",
       "\t<tr><td>Bj_Cluster-15354.44072 </td><td>111 vs control         </td><td>Brassica juncea        </td><td>-2.3632792             </td><td>-4.4                   </td><td>0.7565105              </td></tr>\n",
       "\t<tr><td>Bj_Cluster-15354.86688 </td><td>111 vs 653             </td><td>Brassica juncea        </td><td> 2.2261087             </td><td> 6.2                   </td><td>0.5112726              </td></tr>\n",
       "\t<tr><td>Bj_Cluster-15354.86688 </td><td>653 vs control         </td><td>Brassica juncea        </td><td>-1.9927103             </td><td>-6.2                   </td><td>0.5760083              </td></tr>\n",
       "\t<tr><td>Bj_NUP1_ARATH          </td><td>111 vs control         </td><td>Brassica juncea        </td><td> 2.0759432             </td><td> 3.5                   </td><td>0.3833220              </td></tr>\n",
       "\t<tr><td>Bj_NUP1_ARATH          </td><td>653 vs control         </td><td>Brassica juncea        </td><td> 1.9590700             </td><td> 3.0                   </td><td>0.4808523              </td></tr>\n",
       "\t<tr><td>Bj_PDRP2_ARATH         </td><td>111 vs control         </td><td>Brassica juncea        </td><td>-2.2261462             </td><td>-4.5                   </td><td>1.0425814              </td></tr>\n",
       "\t<tr><td>Bj_PDRP2_ARATH         </td><td>653 vs control         </td><td>Brassica juncea        </td><td>-1.9384720             </td><td>-4.5                   </td><td>0.4065250              </td></tr>\n",
       "\t<tr><td>Bj_SCL1_ARATH          </td><td>111 vs 653             </td><td>Brassica juncea        </td><td>-2.1728327             </td><td>-4.6                   </td><td>0.6605095              </td></tr>\n",
       "\t<tr><td>Bj_SCL1_ARATH          </td><td>111 vs control         </td><td>Brassica juncea        </td><td>-2.5863944             </td><td>-4.4                   </td><td>0.6605095              </td></tr>\n",
       "\t<tr><td>St_ABAH1_ARATH         </td><td>111 vs control         </td><td>Solanum tuberosum      </td><td>-1.4469436             </td><td>-2.9                   </td><td>0.9129518              </td></tr>\n",
       "\t<tr><td>St_ABAH1_ARATH         </td><td>653 vs control         </td><td>Solanum tuberosum      </td><td>-1.4178009             </td><td>-2.9                   </td><td>0.4762092              </td></tr>\n",
       "\t<tr><td>St_CHSB_SOLTU          </td><td>111 vs control         </td><td>Solanum tuberosum      </td><td>-1.2491311             </td><td>-2.7                   </td><td>0.1601725              </td></tr>\n",
       "\t<tr><td>St_EDL3_ARATH          </td><td>111 vs control         </td><td>Solanum tuberosum      </td><td>-1.5632810             </td><td>-2.7                   </td><td>0.3935132              </td></tr>\n",
       "\t<tr><td>St_LOX12_SOLTU         </td><td>111 vs 653             </td><td>Solanum tuberosum      </td><td> 1.2489404             </td><td> 1.7                   </td><td>0.2023095              </td></tr>\n",
       "\t<tr><td>St_PGSC0003DMG400024310</td><td>111 vs control         </td><td>Solanum tuberosum      </td><td>-2.5317130             </td><td>-3.0                   </td><td>0.6521561              </td></tr>\n",
       "\t<tr><td>St_PGSC0003DMG400024310</td><td>653 vs control         </td><td>Solanum tuberosum      </td><td>-2.3687547             </td><td>-3.7                   </td><td>1.0117094              </td></tr>\n",
       "\t<tr><td>St_PR04_SOLLC          </td><td>111 vs 653             </td><td>Solanum tuberosum      </td><td>-2.1285925             </td><td>-2.4                   </td><td>0.6592658              </td></tr>\n",
       "\t<tr><td>St_PR04_SOLLC          </td><td>653 vs control         </td><td>Solanum tuberosum      </td><td> 1.1815170             </td><td> 2.4                   </td><td>0.3443603              </td></tr>\n",
       "\t<tr><td>St_PRR1_TOBAC          </td><td>111 vs 653             </td><td>Solanum tuberosum      </td><td>-1.9850760             </td><td>-2.1                   </td><td>1.0541274              </td></tr>\n",
       "\t<tr><td>St_TIF5A_ARATH         </td><td>111 vs 653             </td><td>Solanum tuberosum      </td><td> 3.6306995             </td><td> 1.8                   </td><td>1.6421582              </td></tr>\n",
       "\t<tr><td>St_WRK40_ARATH         </td><td>111 vs control         </td><td>Solanum tuberosum      </td><td>-1.6353629             </td><td>-2.7                   </td><td>0.8471169              </td></tr>\n",
       "\t<tr><td>Vd_AOX_PODAS           </td><td>St(111) vs St(653)     </td><td>Verticillium dahliae   </td><td> 3.2946432             </td><td> 3.0                   </td><td>0.5406863              </td></tr>\n",
       "\t<tr><td>Vd_AYG1_ASPFU          </td><td>Bj(111) vs St(111)     </td><td>Verticillium dahliae   </td><td>-0.7955662             </td><td>-1.1                   </td><td>0.6645106              </td></tr>\n",
       "\t<tr><td>Vd_mRNA_1341           </td><td>Bj(653) vs St(653)     </td><td>Verticillium dahliae   </td><td> 2.3185678             </td><td> 5.2                   </td><td>0.6357973              </td></tr>\n",
       "\t<tr><td>Vd_YDDQ_BACSU          </td><td>Bj(653) vs St(653)     </td><td>Verticillium dahliae   </td><td> 2.9462843             </td><td> 3.8                   </td><td>0.4031430              </td></tr>\n",
       "</tbody>\n",
       "</table>\n"
      ],
      "text/latex": [
       "\\begin{tabular}{r|llllll}\n",
       " Gene & comparision & Host & Avg\\_foldchange\\_qpcr & Avg\\_foldchange\\_rnaseq & sd\\_qpcr\\\\\n",
       "\\hline\n",
       "\t Bj\\_Cluster-15354.125147 & 653 vs control            & Brassica juncea           & -1.5374467                & -5.7                      &        NA                \\\\\n",
       "\t Bj\\_Cluster-15354.44072  & 111 vs 653                & Brassica juncea           & -2.5122950                & -4.9                      & 0.7565105                \\\\\n",
       "\t Bj\\_Cluster-15354.44072  & 111 vs control            & Brassica juncea           & -2.3632792                & -4.4                      & 0.7565105                \\\\\n",
       "\t Bj\\_Cluster-15354.86688  & 111 vs 653                & Brassica juncea           &  2.2261087                &  6.2                      & 0.5112726                \\\\\n",
       "\t Bj\\_Cluster-15354.86688  & 653 vs control            & Brassica juncea           & -1.9927103                & -6.2                      & 0.5760083                \\\\\n",
       "\t Bj\\_NUP1\\_ARATH           & 111 vs control              & Brassica juncea             &  2.0759432                  &  3.5                        & 0.3833220                  \\\\\n",
       "\t Bj\\_NUP1\\_ARATH           & 653 vs control              & Brassica juncea             &  1.9590700                  &  3.0                        & 0.4808523                  \\\\\n",
       "\t Bj\\_PDRP2\\_ARATH          & 111 vs control              & Brassica juncea             & -2.2261462                  & -4.5                        & 1.0425814                  \\\\\n",
       "\t Bj\\_PDRP2\\_ARATH          & 653 vs control              & Brassica juncea             & -1.9384720                  & -4.5                        & 0.4065250                  \\\\\n",
       "\t Bj\\_SCL1\\_ARATH           & 111 vs 653                  & Brassica juncea             & -2.1728327                  & -4.6                        & 0.6605095                  \\\\\n",
       "\t Bj\\_SCL1\\_ARATH           & 111 vs control              & Brassica juncea             & -2.5863944                  & -4.4                        & 0.6605095                  \\\\\n",
       "\t St\\_ABAH1\\_ARATH          & 111 vs control              & Solanum tuberosum           & -1.4469436                  & -2.9                        & 0.9129518                  \\\\\n",
       "\t St\\_ABAH1\\_ARATH          & 653 vs control              & Solanum tuberosum           & -1.4178009                  & -2.9                        & 0.4762092                  \\\\\n",
       "\t St\\_CHSB\\_SOLTU           & 111 vs control              & Solanum tuberosum           & -1.2491311                  & -2.7                        & 0.1601725                  \\\\\n",
       "\t St\\_EDL3\\_ARATH           & 111 vs control              & Solanum tuberosum           & -1.5632810                  & -2.7                        & 0.3935132                  \\\\\n",
       "\t St\\_LOX12\\_SOLTU          & 111 vs 653                  & Solanum tuberosum           &  1.2489404                  &  1.7                        & 0.2023095                  \\\\\n",
       "\t St\\_PGSC0003DMG400024310 & 111 vs control            & Solanum tuberosum         & -2.5317130                & -3.0                      & 0.6521561                \\\\\n",
       "\t St\\_PGSC0003DMG400024310 & 653 vs control            & Solanum tuberosum         & -2.3687547                & -3.7                      & 1.0117094                \\\\\n",
       "\t St\\_PR04\\_SOLLC           & 111 vs 653                  & Solanum tuberosum           & -2.1285925                  & -2.4                        & 0.6592658                  \\\\\n",
       "\t St\\_PR04\\_SOLLC           & 653 vs control              & Solanum tuberosum           &  1.1815170                  &  2.4                        & 0.3443603                  \\\\\n",
       "\t St\\_PRR1\\_TOBAC           & 111 vs 653                  & Solanum tuberosum           & -1.9850760                  & -2.1                        & 1.0541274                  \\\\\n",
       "\t St\\_TIF5A\\_ARATH          & 111 vs 653                  & Solanum tuberosum           &  3.6306995                  &  1.8                        & 1.6421582                  \\\\\n",
       "\t St\\_WRK40\\_ARATH          & 111 vs control              & Solanum tuberosum           & -1.6353629                  & -2.7                        & 0.8471169                  \\\\\n",
       "\t Vd\\_AOX\\_PODAS            & St(111) vs St(653)          & Verticillium dahliae        &  3.2946432                  &  3.0                        & 0.5406863                  \\\\\n",
       "\t Vd\\_AYG1\\_ASPFU           & Bj(111) vs St(111)          & Verticillium dahliae        & -0.7955662                  & -1.1                        & 0.6645106                  \\\\\n",
       "\t Vd\\_mRNA\\_1341            & Bj(653) vs St(653)          & Verticillium dahliae        &  2.3185678                  &  5.2                        & 0.6357973                  \\\\\n",
       "\t Vd\\_YDDQ\\_BACSU           & Bj(653) vs St(653)          & Verticillium dahliae        &  2.9462843                  &  3.8                        & 0.4031430                  \\\\\n",
       "\\end{tabular}\n"
      ],
      "text/markdown": [
       "\n",
       "| Gene | comparision | Host | Avg_foldchange_qpcr | Avg_foldchange_rnaseq | sd_qpcr |\n",
       "|---|---|---|---|---|---|\n",
       "| Bj_Cluster-15354.125147 | 653 vs control          | Brassica juncea         | -1.5374467              | -5.7                    |        NA               |\n",
       "| Bj_Cluster-15354.44072  | 111 vs 653              | Brassica juncea         | -2.5122950              | -4.9                    | 0.7565105               |\n",
       "| Bj_Cluster-15354.44072  | 111 vs control          | Brassica juncea         | -2.3632792              | -4.4                    | 0.7565105               |\n",
       "| Bj_Cluster-15354.86688  | 111 vs 653              | Brassica juncea         |  2.2261087              |  6.2                    | 0.5112726               |\n",
       "| Bj_Cluster-15354.86688  | 653 vs control          | Brassica juncea         | -1.9927103              | -6.2                    | 0.5760083               |\n",
       "| Bj_NUP1_ARATH           | 111 vs control          | Brassica juncea         |  2.0759432              |  3.5                    | 0.3833220               |\n",
       "| Bj_NUP1_ARATH           | 653 vs control          | Brassica juncea         |  1.9590700              |  3.0                    | 0.4808523               |\n",
       "| Bj_PDRP2_ARATH          | 111 vs control          | Brassica juncea         | -2.2261462              | -4.5                    | 1.0425814               |\n",
       "| Bj_PDRP2_ARATH          | 653 vs control          | Brassica juncea         | -1.9384720              | -4.5                    | 0.4065250               |\n",
       "| Bj_SCL1_ARATH           | 111 vs 653              | Brassica juncea         | -2.1728327              | -4.6                    | 0.6605095               |\n",
       "| Bj_SCL1_ARATH           | 111 vs control          | Brassica juncea         | -2.5863944              | -4.4                    | 0.6605095               |\n",
       "| St_ABAH1_ARATH          | 111 vs control          | Solanum tuberosum       | -1.4469436              | -2.9                    | 0.9129518               |\n",
       "| St_ABAH1_ARATH          | 653 vs control          | Solanum tuberosum       | -1.4178009              | -2.9                    | 0.4762092               |\n",
       "| St_CHSB_SOLTU           | 111 vs control          | Solanum tuberosum       | -1.2491311              | -2.7                    | 0.1601725               |\n",
       "| St_EDL3_ARATH           | 111 vs control          | Solanum tuberosum       | -1.5632810              | -2.7                    | 0.3935132               |\n",
       "| St_LOX12_SOLTU          | 111 vs 653              | Solanum tuberosum       |  1.2489404              |  1.7                    | 0.2023095               |\n",
       "| St_PGSC0003DMG400024310 | 111 vs control          | Solanum tuberosum       | -2.5317130              | -3.0                    | 0.6521561               |\n",
       "| St_PGSC0003DMG400024310 | 653 vs control          | Solanum tuberosum       | -2.3687547              | -3.7                    | 1.0117094               |\n",
       "| St_PR04_SOLLC           | 111 vs 653              | Solanum tuberosum       | -2.1285925              | -2.4                    | 0.6592658               |\n",
       "| St_PR04_SOLLC           | 653 vs control          | Solanum tuberosum       |  1.1815170              |  2.4                    | 0.3443603               |\n",
       "| St_PRR1_TOBAC           | 111 vs 653              | Solanum tuberosum       | -1.9850760              | -2.1                    | 1.0541274               |\n",
       "| St_TIF5A_ARATH          | 111 vs 653              | Solanum tuberosum       |  3.6306995              |  1.8                    | 1.6421582               |\n",
       "| St_WRK40_ARATH          | 111 vs control          | Solanum tuberosum       | -1.6353629              | -2.7                    | 0.8471169               |\n",
       "| Vd_AOX_PODAS            | St(111) vs St(653)      | Verticillium dahliae    |  3.2946432              |  3.0                    | 0.5406863               |\n",
       "| Vd_AYG1_ASPFU           | Bj(111) vs St(111)      | Verticillium dahliae    | -0.7955662              | -1.1                    | 0.6645106               |\n",
       "| Vd_mRNA_1341            | Bj(653) vs St(653)      | Verticillium dahliae    |  2.3185678              |  5.2                    | 0.6357973               |\n",
       "| Vd_YDDQ_BACSU           | Bj(653) vs St(653)      | Verticillium dahliae    |  2.9462843              |  3.8                    | 0.4031430               |\n",
       "\n"
      ],
      "text/plain": [
       "   Gene                    comparision        Host                \n",
       "1  Bj_Cluster-15354.125147 653 vs control     Brassica juncea     \n",
       "2  Bj_Cluster-15354.44072  111 vs 653         Brassica juncea     \n",
       "3  Bj_Cluster-15354.44072  111 vs control     Brassica juncea     \n",
       "4  Bj_Cluster-15354.86688  111 vs 653         Brassica juncea     \n",
       "5  Bj_Cluster-15354.86688  653 vs control     Brassica juncea     \n",
       "6  Bj_NUP1_ARATH           111 vs control     Brassica juncea     \n",
       "7  Bj_NUP1_ARATH           653 vs control     Brassica juncea     \n",
       "8  Bj_PDRP2_ARATH          111 vs control     Brassica juncea     \n",
       "9  Bj_PDRP2_ARATH          653 vs control     Brassica juncea     \n",
       "10 Bj_SCL1_ARATH           111 vs 653         Brassica juncea     \n",
       "11 Bj_SCL1_ARATH           111 vs control     Brassica juncea     \n",
       "12 St_ABAH1_ARATH          111 vs control     Solanum tuberosum   \n",
       "13 St_ABAH1_ARATH          653 vs control     Solanum tuberosum   \n",
       "14 St_CHSB_SOLTU           111 vs control     Solanum tuberosum   \n",
       "15 St_EDL3_ARATH           111 vs control     Solanum tuberosum   \n",
       "16 St_LOX12_SOLTU          111 vs 653         Solanum tuberosum   \n",
       "17 St_PGSC0003DMG400024310 111 vs control     Solanum tuberosum   \n",
       "18 St_PGSC0003DMG400024310 653 vs control     Solanum tuberosum   \n",
       "19 St_PR04_SOLLC           111 vs 653         Solanum tuberosum   \n",
       "20 St_PR04_SOLLC           653 vs control     Solanum tuberosum   \n",
       "21 St_PRR1_TOBAC           111 vs 653         Solanum tuberosum   \n",
       "22 St_TIF5A_ARATH          111 vs 653         Solanum tuberosum   \n",
       "23 St_WRK40_ARATH          111 vs control     Solanum tuberosum   \n",
       "24 Vd_AOX_PODAS            St(111) vs St(653) Verticillium dahliae\n",
       "25 Vd_AYG1_ASPFU           Bj(111) vs St(111) Verticillium dahliae\n",
       "26 Vd_mRNA_1341            Bj(653) vs St(653) Verticillium dahliae\n",
       "27 Vd_YDDQ_BACSU           Bj(653) vs St(653) Verticillium dahliae\n",
       "   Avg_foldchange_qpcr Avg_foldchange_rnaseq sd_qpcr  \n",
       "1  -1.5374467          -5.7                         NA\n",
       "2  -2.5122950          -4.9                  0.7565105\n",
       "3  -2.3632792          -4.4                  0.7565105\n",
       "4   2.2261087           6.2                  0.5112726\n",
       "5  -1.9927103          -6.2                  0.5760083\n",
       "6   2.0759432           3.5                  0.3833220\n",
       "7   1.9590700           3.0                  0.4808523\n",
       "8  -2.2261462          -4.5                  1.0425814\n",
       "9  -1.9384720          -4.5                  0.4065250\n",
       "10 -2.1728327          -4.6                  0.6605095\n",
       "11 -2.5863944          -4.4                  0.6605095\n",
       "12 -1.4469436          -2.9                  0.9129518\n",
       "13 -1.4178009          -2.9                  0.4762092\n",
       "14 -1.2491311          -2.7                  0.1601725\n",
       "15 -1.5632810          -2.7                  0.3935132\n",
       "16  1.2489404           1.7                  0.2023095\n",
       "17 -2.5317130          -3.0                  0.6521561\n",
       "18 -2.3687547          -3.7                  1.0117094\n",
       "19 -2.1285925          -2.4                  0.6592658\n",
       "20  1.1815170           2.4                  0.3443603\n",
       "21 -1.9850760          -2.1                  1.0541274\n",
       "22  3.6306995           1.8                  1.6421582\n",
       "23 -1.6353629          -2.7                  0.8471169\n",
       "24  3.2946432           3.0                  0.5406863\n",
       "25 -0.7955662          -1.1                  0.6645106\n",
       "26  2.3185678           5.2                  0.6357973\n",
       "27  2.9462843           3.8                  0.4031430"
      ]
     },
     "metadata": {},
     "output_type": "display_data"
    }
   ],
   "source": [
    "df_summary"
   ]
  },
  {
   "cell_type": "code",
   "execution_count": 40,
   "metadata": {},
   "outputs": [
    {
     "name": "stderr",
     "output_type": "stream",
     "text": [
      "`geom_smooth()` using formula 'y ~ x'\n"
     ]
    },
    {
     "data": {
      "image/png": "[encoded data removed]",
      "text/plain": [
       "plot without title"
      ]
     },
     "metadata": {},
     "output_type": "display_data"
    }
   ],
   "source": [
    "ggplot(df_summary, aes(x = Avg_foldchange_qpcr, y = Avg_foldchange_rnaseq))+\n",
    "  geom_point(aes(col = comparision))+\n",
    "  geom_smooth(method = 'lm', se = F)+\n",
    "  xlim(c(-4,4))+ylim(c(-7, 7))+\n",
    "  labs(title ='qPCR Validation', x = 'qpcr', y = 'rnaseq')+\n",
    "  facet_wrap(~Host)+theme_light()"
   ]
  },
  {
   "cell_type": "code",
   "execution_count": 15,
   "metadata": {},
   "outputs": [
    {
     "data": {
      "text/html": [
       "<table>\n",
       "<thead><tr><th></th><th scope=col>Avg_foldchange_rnaseq</th></tr></thead>\n",
       "<tbody>\n",
       "\t<tr><th scope=row>Avg_foldchange_qpcr</th><td>0.9173855</td></tr>\n",
       "</tbody>\n",
       "</table>\n"
      ],
      "text/latex": [
       "\\begin{tabular}{r|l}\n",
       "  & Avg\\_foldchange\\_rnaseq\\\\\n",
       "\\hline\n",
       "\tAvg\\_foldchange\\_qpcr & 0.9173855\\\\\n",
       "\\end{tabular}\n"
      ],
      "text/markdown": [
       "\n",
       "| <!--/--> | Avg_foldchange_rnaseq |\n",
       "|---|---|\n",
       "| Avg_foldchange_qpcr | 0.9173855 |\n",
       "\n"
      ],
      "text/plain": [
       "                    Avg_foldchange_rnaseq\n",
       "Avg_foldchange_qpcr 0.9173855            "
      ]
     },
     "metadata": {},
     "output_type": "display_data"
    }
   ],
   "source": [
    "cor(x=df_summary[,4], y=df_summary[,5])"
   ]
  },
  {
   "cell_type": "code",
   "execution_count": 41,
   "metadata": {},
   "outputs": [],
   "source": [
    "df_St<- subset(df_summary, Host == 'Solanum tuberosum')#subset solanum \n",
    "df_Bj<- subset(df_summary, Host == 'Brassica juncea')\n",
    "df_Vd<- subset(df_summary, Host == 'Verticillium dahliae')\n",
    "df_653vscontrol<- subset(df_summary, comparision == '653 vs control')\n",
    "df_111vs653<- subset(df_summary, comparision == '111 vs 653')\n",
    "df_111vscontrol<- subset(df_summary, comparision == '111 vs control')"
   ]
  },
  {
   "cell_type": "code",
   "execution_count": 46,
   "metadata": {},
   "outputs": [
    {
     "data": {
      "text/html": [
       "<table>\n",
       "<thead><tr><th scope=col>Gene</th><th scope=col>comparision</th><th scope=col>Host</th><th scope=col>Avg_foldchange_qpcr</th><th scope=col>Avg_foldchange_rnaseq</th><th scope=col>sd_qpcr</th></tr></thead>\n",
       "<tbody>\n",
       "\t<tr><td>St_ABAH1_ARATH         </td><td>111 vs control         </td><td>Solanum tuberosum      </td><td>-1.446944              </td><td>-2.9                   </td><td>0.9129518              </td></tr>\n",
       "\t<tr><td>St_ABAH1_ARATH         </td><td>653 vs control         </td><td>Solanum tuberosum      </td><td>-1.417801              </td><td>-2.9                   </td><td>0.4762092              </td></tr>\n",
       "\t<tr><td>St_CHSB_SOLTU          </td><td>111 vs control         </td><td>Solanum tuberosum      </td><td>-1.249131              </td><td>-2.7                   </td><td>0.1601725              </td></tr>\n",
       "\t<tr><td>St_EDL3_ARATH          </td><td>111 vs control         </td><td>Solanum tuberosum      </td><td>-1.563281              </td><td>-2.7                   </td><td>0.3935132              </td></tr>\n",
       "\t<tr><td>St_LOX12_SOLTU         </td><td>111 vs 653             </td><td>Solanum tuberosum      </td><td> 1.248940              </td><td> 1.7                   </td><td>0.2023095              </td></tr>\n",
       "\t<tr><td>St_PGSC0003DMG400024310</td><td>111 vs control         </td><td>Solanum tuberosum      </td><td>-2.531713              </td><td>-3.0                   </td><td>0.6521561              </td></tr>\n",
       "\t<tr><td>St_PGSC0003DMG400024310</td><td>653 vs control         </td><td>Solanum tuberosum      </td><td>-2.368755              </td><td>-3.7                   </td><td>1.0117094              </td></tr>\n",
       "\t<tr><td>St_PR04_SOLLC          </td><td>111 vs 653             </td><td>Solanum tuberosum      </td><td>-2.128593              </td><td>-2.4                   </td><td>0.6592658              </td></tr>\n",
       "\t<tr><td>St_PR04_SOLLC          </td><td>653 vs control         </td><td>Solanum tuberosum      </td><td> 1.181517              </td><td> 2.4                   </td><td>0.3443603              </td></tr>\n",
       "\t<tr><td>St_PRR1_TOBAC          </td><td>111 vs 653             </td><td>Solanum tuberosum      </td><td>-1.985076              </td><td>-2.1                   </td><td>1.0541274              </td></tr>\n",
       "\t<tr><td>St_TIF5A_ARATH         </td><td>111 vs 653             </td><td>Solanum tuberosum      </td><td> 3.630699              </td><td> 1.8                   </td><td>1.6421582              </td></tr>\n",
       "\t<tr><td>St_WRK40_ARATH         </td><td>111 vs control         </td><td>Solanum tuberosum      </td><td>-1.635363              </td><td>-2.7                   </td><td>0.8471169              </td></tr>\n",
       "</tbody>\n",
       "</table>\n"
      ],
      "text/latex": [
       "\\begin{tabular}{r|llllll}\n",
       " Gene & comparision & Host & Avg\\_foldchange\\_qpcr & Avg\\_foldchange\\_rnaseq & sd\\_qpcr\\\\\n",
       "\\hline\n",
       "\t St\\_ABAH1\\_ARATH          & 111 vs control              & Solanum tuberosum           & -1.446944                   & -2.9                        & 0.9129518                  \\\\\n",
       "\t St\\_ABAH1\\_ARATH          & 653 vs control              & Solanum tuberosum           & -1.417801                   & -2.9                        & 0.4762092                  \\\\\n",
       "\t St\\_CHSB\\_SOLTU           & 111 vs control              & Solanum tuberosum           & -1.249131                   & -2.7                        & 0.1601725                  \\\\\n",
       "\t St\\_EDL3\\_ARATH           & 111 vs control              & Solanum tuberosum           & -1.563281                   & -2.7                        & 0.3935132                  \\\\\n",
       "\t St\\_LOX12\\_SOLTU          & 111 vs 653                  & Solanum tuberosum           &  1.248940                   &  1.7                        & 0.2023095                  \\\\\n",
       "\t St\\_PGSC0003DMG400024310 & 111 vs control            & Solanum tuberosum         & -2.531713                 & -3.0                      & 0.6521561                \\\\\n",
       "\t St\\_PGSC0003DMG400024310 & 653 vs control            & Solanum tuberosum         & -2.368755                 & -3.7                      & 1.0117094                \\\\\n",
       "\t St\\_PR04\\_SOLLC           & 111 vs 653                  & Solanum tuberosum           & -2.128593                   & -2.4                        & 0.6592658                  \\\\\n",
       "\t St\\_PR04\\_SOLLC           & 653 vs control              & Solanum tuberosum           &  1.181517                   &  2.4                        & 0.3443603                  \\\\\n",
       "\t St\\_PRR1\\_TOBAC           & 111 vs 653                  & Solanum tuberosum           & -1.985076                   & -2.1                        & 1.0541274                  \\\\\n",
       "\t St\\_TIF5A\\_ARATH          & 111 vs 653                  & Solanum tuberosum           &  3.630699                   &  1.8                        & 1.6421582                  \\\\\n",
       "\t St\\_WRK40\\_ARATH          & 111 vs control              & Solanum tuberosum           & -1.635363                   & -2.7                        & 0.8471169                  \\\\\n",
       "\\end{tabular}\n"
      ],
      "text/markdown": [
       "\n",
       "| Gene | comparision | Host | Avg_foldchange_qpcr | Avg_foldchange_rnaseq | sd_qpcr |\n",
       "|---|---|---|---|---|---|\n",
       "| St_ABAH1_ARATH          | 111 vs control          | Solanum tuberosum       | -1.446944               | -2.9                    | 0.9129518               |\n",
       "| St_ABAH1_ARATH          | 653 vs control          | Solanum tuberosum       | -1.417801               | -2.9                    | 0.4762092               |\n",
       "| St_CHSB_SOLTU           | 111 vs control          | Solanum tuberosum       | -1.249131               | -2.7                    | 0.1601725               |\n",
       "| St_EDL3_ARATH           | 111 vs control          | Solanum tuberosum       | -1.563281               | -2.7                    | 0.3935132               |\n",
       "| St_LOX12_SOLTU          | 111 vs 653              | Solanum tuberosum       |  1.248940               |  1.7                    | 0.2023095               |\n",
       "| St_PGSC0003DMG400024310 | 111 vs control          | Solanum tuberosum       | -2.531713               | -3.0                    | 0.6521561               |\n",
       "| St_PGSC0003DMG400024310 | 653 vs control          | Solanum tuberosum       | -2.368755               | -3.7                    | 1.0117094               |\n",
       "| St_PR04_SOLLC           | 111 vs 653              | Solanum tuberosum       | -2.128593               | -2.4                    | 0.6592658               |\n",
       "| St_PR04_SOLLC           | 653 vs control          | Solanum tuberosum       |  1.181517               |  2.4                    | 0.3443603               |\n",
       "| St_PRR1_TOBAC           | 111 vs 653              | Solanum tuberosum       | -1.985076               | -2.1                    | 1.0541274               |\n",
       "| St_TIF5A_ARATH          | 111 vs 653              | Solanum tuberosum       |  3.630699               |  1.8                    | 1.6421582               |\n",
       "| St_WRK40_ARATH          | 111 vs control          | Solanum tuberosum       | -1.635363               | -2.7                    | 0.8471169               |\n",
       "\n"
      ],
      "text/plain": [
       "   Gene                    comparision    Host              Avg_foldchange_qpcr\n",
       "1  St_ABAH1_ARATH          111 vs control Solanum tuberosum -1.446944          \n",
       "2  St_ABAH1_ARATH          653 vs control Solanum tuberosum -1.417801          \n",
       "3  St_CHSB_SOLTU           111 vs control Solanum tuberosum -1.249131          \n",
       "4  St_EDL3_ARATH           111 vs control Solanum tuberosum -1.563281          \n",
       "5  St_LOX12_SOLTU          111 vs 653     Solanum tuberosum  1.248940          \n",
       "6  St_PGSC0003DMG400024310 111 vs control Solanum tuberosum -2.531713          \n",
       "7  St_PGSC0003DMG400024310 653 vs control Solanum tuberosum -2.368755          \n",
       "8  St_PR04_SOLLC           111 vs 653     Solanum tuberosum -2.128593          \n",
       "9  St_PR04_SOLLC           653 vs control Solanum tuberosum  1.181517          \n",
       "10 St_PRR1_TOBAC           111 vs 653     Solanum tuberosum -1.985076          \n",
       "11 St_TIF5A_ARATH          111 vs 653     Solanum tuberosum  3.630699          \n",
       "12 St_WRK40_ARATH          111 vs control Solanum tuberosum -1.635363          \n",
       "   Avg_foldchange_rnaseq sd_qpcr  \n",
       "1  -2.9                  0.9129518\n",
       "2  -2.9                  0.4762092\n",
       "3  -2.7                  0.1601725\n",
       "4  -2.7                  0.3935132\n",
       "5   1.7                  0.2023095\n",
       "6  -3.0                  0.6521561\n",
       "7  -3.7                  1.0117094\n",
       "8  -2.4                  0.6592658\n",
       "9   2.4                  0.3443603\n",
       "10 -2.1                  1.0541274\n",
       "11  1.8                  1.6421582\n",
       "12 -2.7                  0.8471169"
      ]
     },
     "metadata": {},
     "output_type": "display_data"
    },
    {
     "data": {
      "text/html": [
       "<table>\n",
       "<thead><tr><th></th><th scope=col>Avg_foldchange_rnaseq</th></tr></thead>\n",
       "<tbody>\n",
       "\t<tr><th scope=row>Avg_foldchange_qpcr</th><td>0.9090193</td></tr>\n",
       "</tbody>\n",
       "</table>\n"
      ],
      "text/latex": [
       "\\begin{tabular}{r|l}\n",
       "  & Avg\\_foldchange\\_rnaseq\\\\\n",
       "\\hline\n",
       "\tAvg\\_foldchange\\_qpcr & 0.9090193\\\\\n",
       "\\end{tabular}\n"
      ],
      "text/markdown": [
       "\n",
       "| <!--/--> | Avg_foldchange_rnaseq |\n",
       "|---|---|\n",
       "| Avg_foldchange_qpcr | 0.9090193 |\n",
       "\n"
      ],
      "text/plain": [
       "                    Avg_foldchange_rnaseq\n",
       "Avg_foldchange_qpcr 0.9090193            "
      ]
     },
     "metadata": {},
     "output_type": "display_data"
    }
   ],
   "source": [
    "df_St\n",
    "cor(x=df_St[,4], y=df_St[,5])#correlation coefficient Solanum genes\n"
   ]
  },
  {
   "cell_type": "code",
   "execution_count": null,
   "metadata": {},
   "outputs": [],
   "source": [
    "ggplot(df_summary, aes(x = Avg_foldchange_qpcr, y = Avg_foldchange_rnaseq))+\n",
    "  geom_point(aes(col = comparision))+\n",
    "  geom_smooth(method = 'lm', se = F)+\n",
    "  xlim(c(-4,4))+ylim(c(-7, 7))+\n",
    "  labs(title ='qPCR Validation', x = 'qpcr', y = 'rnaseq')+\n",
    "  facet_wrap(~Host)+\n",
    "  theme(plot.title = element_text(size =15,\n",
    "                                    face =\"bold\",\n",
    "                                    color = 'black',\n",
    "                                    hjust = 0.5),\n",
    "          plot.caption = element_text(size =10),\n",
    "          axis.title.x= element_text(size =12, color ='black'),\n",
    "          axis.title.y = element_text(size =12, color ='black'),\n",
    "          axis.text.x = element_text(vjust =0.5,angle =30,color = 'black'),\n",
    "          axis.text.y = element_text(color = 'black'))+\n",
    "          guides(color = guide_legend('Comparision'))\n",
    "\n"
   ]
  },
  {
   "cell_type": "code",
   "execution_count": null,
   "metadata": {},
   "outputs": [],
   "source": []
  },
  {
   "cell_type": "code",
   "execution_count": null,
   "metadata": {},
   "outputs": [],
   "source": []
  },
  {
   "cell_type": "code",
   "execution_count": null,
   "metadata": {},
   "outputs": [],
   "source": []
  },
  {
   "cell_type": "code",
   "execution_count": null,
   "metadata": {},
   "outputs": [],
   "source": []
  },
  {
   "cell_type": "markdown",
   "metadata": {},
   "source": [
    "# References"
   ]
  },
  {
   "cell_type": "code",
   "execution_count": null,
   "metadata": {},
   "outputs": [],
   "source": []
  }
 ],
 "metadata": {
  "kernelspec": {
   "display_name": "R",
   "language": "R",
   "name": "ir"
  },
  "language_info": {
   "codemirror_mode": "r",
   "file_extension": ".r",
   "mimetype": "text/x-r-source",
   "name": "R",
   "pygments_lexer": "r",
   "version": "4.0.2"
  },
  "toc": {
   "base_numbering": 1,
   "nav_menu": {},
   "number_sections": true,
   "sideBar": true,
   "skip_h1_title": false,
   "title_cell": "Table of Contents",
   "title_sidebar": "Contents",
   "toc_cell": false,
   "toc_position": {},
   "toc_section_display": true,
   "toc_window_display": true
  }
 },
 "nbformat": 4,
 "nbformat_minor": 4
}
