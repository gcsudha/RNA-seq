{
 "cells": [
  {
   "cell_type": "code",
   "execution_count": 320,
   "id": "reserved-minneapolis",
   "metadata": {},
   "outputs": [],
   "source": [
    "import os\n",
    "import pandas as pd\n",
    "import numpy as np"
   ]
  },
  {
   "cell_type": "code",
   "execution_count": 324,
   "id": "common-coordination",
   "metadata": {},
   "outputs": [],
   "source": [
    "os.chdir('C:/Users/sudha.gcupadhaya/Desktop/GO/')\n",
    "degs = pd.read_csv('Solanum_genename.csv')\n",
    "annot = pd.read_csv('Potato_gene.goannot.csv')"
   ]
  },
  {
   "cell_type": "code",
   "execution_count": 325,
   "id": "lasting-allah",
   "metadata": {},
   "outputs": [],
   "source": [
    "degs = degs[degs['Comparison'] == '653v111']\n",
    "selected_degs = degs['Gene_ID'] \n",
    "selected_annot = annot[annot['Gene_ID'].isin(selected_degs)]"
   ]
  },
  {
   "cell_type": "code",
   "execution_count": 327,
   "id": "indonesian-jimmy",
   "metadata": {},
   "outputs": [],
   "source": [
    "df_GO = selected_annot[['Gene_ID', 'biological_process', 'molecular_function', 'cellular_component']]\n",
    "df_GO.columns = ['Gene_ID', 'BP', 'MF', 'CC']"
   ]
  },
  {
   "cell_type": "code",
   "execution_count": 329,
   "id": "following-import",
   "metadata": {},
   "outputs": [
    {
     "data": {
      "text/plain": [
       "(60, 4)"
      ]
     },
     "execution_count": 329,
     "metadata": {},
     "output_type": "execute_result"
    }
   ],
   "source": [
    "df_GO.shape"
   ]
  },
  {
   "cell_type": "markdown",
   "id": "vulnerable-country",
   "metadata": {},
   "source": [
    "* BP"
   ]
  },
  {
   "cell_type": "code",
   "execution_count": 330,
   "id": "tough-argentina",
   "metadata": {},
   "outputs": [],
   "source": [
    "ID = df_GO['Gene_ID']\n",
    "BP = df_GO['BP'].str.split('//', 1000, expand = True)\n",
    "GO_BP = pd.concat([ID, BP], axis =1)"
   ]
  },
  {
   "cell_type": "code",
   "execution_count": 331,
   "id": "liked-swiss",
   "metadata": {},
   "outputs": [
    {
     "data": {
      "text/html": [
       "<div>\n",
       "<style scoped>\n",
       "    .dataframe tbody tr th:only-of-type {\n",
       "        vertical-align: middle;\n",
       "    }\n",
       "\n",
       "    .dataframe tbody tr th {\n",
       "        vertical-align: top;\n",
       "    }\n",
       "\n",
       "    .dataframe thead th {\n",
       "        text-align: right;\n",
       "    }\n",
       "</style>\n",
       "<table border=\"1\" class=\"dataframe\">\n",
       "  <thead>\n",
       "    <tr style=\"text-align: right;\">\n",
       "      <th></th>\n",
       "      <th>Gene_ID</th>\n",
       "      <th>GO</th>\n",
       "    </tr>\n",
       "  </thead>\n",
       "  <tbody>\n",
       "    <tr>\n",
       "      <th>0</th>\n",
       "      <td>Novel00135</td>\n",
       "      <td>GO:0006082</td>\n",
       "    </tr>\n",
       "    <tr>\n",
       "      <th>1</th>\n",
       "      <td>Novel01306</td>\n",
       "      <td>GO:0016114</td>\n",
       "    </tr>\n",
       "    <tr>\n",
       "      <th>2</th>\n",
       "      <td>Novel01794</td>\n",
       "      <td>GO:0008152</td>\n",
       "    </tr>\n",
       "    <tr>\n",
       "      <th>3</th>\n",
       "      <td>Novel02419</td>\n",
       "      <td>--</td>\n",
       "    </tr>\n",
       "    <tr>\n",
       "      <th>4</th>\n",
       "      <td>Novel02885</td>\n",
       "      <td>GO:0044699</td>\n",
       "    </tr>\n",
       "  </tbody>\n",
       "</table>\n",
       "</div>"
      ],
      "text/plain": [
       "      Gene_ID          GO\n",
       "0  Novel00135  GO:0006082\n",
       "1  Novel01306  GO:0016114\n",
       "2  Novel01794  GO:0008152\n",
       "3  Novel02419          --\n",
       "4  Novel02885  GO:0044699"
      ]
     },
     "execution_count": 331,
     "metadata": {},
     "output_type": "execute_result"
    }
   ],
   "source": [
    "melt_BP= GO_BP.melt(id_vars = ['Gene_ID'], value_name = 'GO')\n",
    "melt_BP = melt_BP.drop(['variable'], axis =1)\n",
    "melt_BP.head()"
   ]
  },
  {
   "cell_type": "code",
   "execution_count": 332,
   "id": "acceptable-charger",
   "metadata": {},
   "outputs": [
    {
     "data": {
      "text/plain": [
       "Gene_ID    6780\n",
       "GO         1082\n",
       "dtype: int64"
      ]
     },
     "execution_count": 332,
     "metadata": {},
     "output_type": "execute_result"
    }
   ],
   "source": [
    "melt_BP.count()"
   ]
  },
  {
   "cell_type": "code",
   "execution_count": 333,
   "id": "russian-portland",
   "metadata": {},
   "outputs": [],
   "source": [
    "nan_value = float(\"NaN\")\n",
    "melt_BP['GO'].replace(\"--\", nan_value, inplace=True)\n",
    "melt_BP.dropna(subset = [\"GO\"], inplace=True)"
   ]
  },
  {
   "cell_type": "code",
   "execution_count": 334,
   "id": "auburn-clause",
   "metadata": {},
   "outputs": [],
   "source": [
    "df_bp = melt_BP[melt_BP['GO'].astype(bool)]"
   ]
  },
  {
   "cell_type": "code",
   "execution_count": 335,
   "id": "whole-tragedy",
   "metadata": {},
   "outputs": [
    {
     "data": {
      "text/plain": [
       "Gene_ID    1070\n",
       "GO         1070\n",
       "dtype: int64"
      ]
     },
     "execution_count": 335,
     "metadata": {},
     "output_type": "execute_result"
    }
   ],
   "source": [
    "df_bp.count()"
   ]
  },
  {
   "cell_type": "markdown",
   "id": "answering-playback",
   "metadata": {},
   "source": [
    "* MF"
   ]
  },
  {
   "cell_type": "code",
   "execution_count": 336,
   "id": "worldwide-sister",
   "metadata": {},
   "outputs": [],
   "source": [
    "ID = df_GO['Gene_ID']\n",
    "MF = df_GO['MF'].str.split('//', 1000, expand = True)\n",
    "GO_MF = pd.concat([ID, MF], axis =1)"
   ]
  },
  {
   "cell_type": "code",
   "execution_count": 337,
   "id": "earlier-annex",
   "metadata": {},
   "outputs": [
    {
     "data": {
      "text/html": [
       "<div>\n",
       "<style scoped>\n",
       "    .dataframe tbody tr th:only-of-type {\n",
       "        vertical-align: middle;\n",
       "    }\n",
       "\n",
       "    .dataframe tbody tr th {\n",
       "        vertical-align: top;\n",
       "    }\n",
       "\n",
       "    .dataframe thead th {\n",
       "        text-align: right;\n",
       "    }\n",
       "</style>\n",
       "<table border=\"1\" class=\"dataframe\">\n",
       "  <thead>\n",
       "    <tr style=\"text-align: right;\">\n",
       "      <th></th>\n",
       "      <th>Gene_ID</th>\n",
       "      <th>GO</th>\n",
       "    </tr>\n",
       "  </thead>\n",
       "  <tbody>\n",
       "    <tr>\n",
       "      <th>0</th>\n",
       "      <td>Novel00135</td>\n",
       "      <td>GO:1901363</td>\n",
       "    </tr>\n",
       "    <tr>\n",
       "      <th>1</th>\n",
       "      <td>Novel01306</td>\n",
       "      <td>GO:0043169</td>\n",
       "    </tr>\n",
       "    <tr>\n",
       "      <th>2</th>\n",
       "      <td>Novel01794</td>\n",
       "      <td>GO:0003824</td>\n",
       "    </tr>\n",
       "    <tr>\n",
       "      <th>3</th>\n",
       "      <td>Novel02419</td>\n",
       "      <td>GO:0016872</td>\n",
       "    </tr>\n",
       "    <tr>\n",
       "      <th>4</th>\n",
       "      <td>Novel02885</td>\n",
       "      <td>GO:0003674</td>\n",
       "    </tr>\n",
       "  </tbody>\n",
       "</table>\n",
       "</div>"
      ],
      "text/plain": [
       "      Gene_ID          GO\n",
       "0  Novel00135  GO:1901363\n",
       "1  Novel01306  GO:0043169\n",
       "2  Novel01794  GO:0003824\n",
       "3  Novel02419  GO:0016872\n",
       "4  Novel02885  GO:0003674"
      ]
     },
     "execution_count": 337,
     "metadata": {},
     "output_type": "execute_result"
    }
   ],
   "source": [
    "melt_MF= GO_MF.melt(id_vars = ['Gene_ID'], value_name = 'GO')\n",
    "melt_MF = melt_MF.drop(['variable'], axis =1)\n",
    "melt_MF.head()"
   ]
  },
  {
   "cell_type": "code",
   "execution_count": 338,
   "id": "iraqi-hammer",
   "metadata": {},
   "outputs": [
    {
     "data": {
      "text/plain": [
       "Gene_ID    2280\n",
       "GO          534\n",
       "dtype: int64"
      ]
     },
     "execution_count": 338,
     "metadata": {},
     "output_type": "execute_result"
    }
   ],
   "source": [
    "melt_MF.count()"
   ]
  },
  {
   "cell_type": "code",
   "execution_count": 339,
   "id": "minute-sewing",
   "metadata": {},
   "outputs": [],
   "source": [
    "nan_value = float(\"NaN\")\n",
    "melt_MF['GO'].replace(\"--\", nan_value, inplace=True)\n",
    "melt_MF.dropna(subset = [\"GO\"], inplace=True)"
   ]
  },
  {
   "cell_type": "code",
   "execution_count": 340,
   "id": "focused-above",
   "metadata": {},
   "outputs": [],
   "source": [
    "df_mf = melt_MF[melt_MF['GO'].astype(bool)]"
   ]
  },
  {
   "cell_type": "code",
   "execution_count": 341,
   "id": "superior-delight",
   "metadata": {},
   "outputs": [
    {
     "data": {
      "text/plain": [
       "Gene_ID    522\n",
       "GO         522\n",
       "dtype: int64"
      ]
     },
     "execution_count": 341,
     "metadata": {},
     "output_type": "execute_result"
    }
   ],
   "source": [
    "df_mf.count()"
   ]
  },
  {
   "cell_type": "markdown",
   "id": "given-conspiracy",
   "metadata": {},
   "source": [
    "* CC"
   ]
  },
  {
   "cell_type": "code",
   "execution_count": 342,
   "id": "arabic-cisco",
   "metadata": {},
   "outputs": [],
   "source": [
    "ID = df_GO['Gene_ID']\n",
    "CC = df_GO['CC'].str.split('//', 1000, expand = True)\n",
    "GO_CC = pd.concat([ID, CC], axis =1)"
   ]
  },
  {
   "cell_type": "code",
   "execution_count": 343,
   "id": "sound-completion",
   "metadata": {},
   "outputs": [
    {
     "data": {
      "text/html": [
       "<div>\n",
       "<style scoped>\n",
       "    .dataframe tbody tr th:only-of-type {\n",
       "        vertical-align: middle;\n",
       "    }\n",
       "\n",
       "    .dataframe tbody tr th {\n",
       "        vertical-align: top;\n",
       "    }\n",
       "\n",
       "    .dataframe thead th {\n",
       "        text-align: right;\n",
       "    }\n",
       "</style>\n",
       "<table border=\"1\" class=\"dataframe\">\n",
       "  <thead>\n",
       "    <tr style=\"text-align: right;\">\n",
       "      <th></th>\n",
       "      <th>Gene_ID</th>\n",
       "      <th>GO</th>\n",
       "    </tr>\n",
       "  </thead>\n",
       "  <tbody>\n",
       "    <tr>\n",
       "      <th>0</th>\n",
       "      <td>Novel00135</td>\n",
       "      <td>--</td>\n",
       "    </tr>\n",
       "    <tr>\n",
       "      <th>1</th>\n",
       "      <td>Novel01306</td>\n",
       "      <td>--</td>\n",
       "    </tr>\n",
       "    <tr>\n",
       "      <th>2</th>\n",
       "      <td>Novel01794</td>\n",
       "      <td>--</td>\n",
       "    </tr>\n",
       "    <tr>\n",
       "      <th>3</th>\n",
       "      <td>Novel02419</td>\n",
       "      <td>--</td>\n",
       "    </tr>\n",
       "    <tr>\n",
       "      <th>4</th>\n",
       "      <td>Novel02885</td>\n",
       "      <td>--</td>\n",
       "    </tr>\n",
       "  </tbody>\n",
       "</table>\n",
       "</div>"
      ],
      "text/plain": [
       "      Gene_ID  GO\n",
       "0  Novel00135  --\n",
       "1  Novel01306  --\n",
       "2  Novel01794  --\n",
       "3  Novel02419  --\n",
       "4  Novel02885  --"
      ]
     },
     "execution_count": 343,
     "metadata": {},
     "output_type": "execute_result"
    }
   ],
   "source": [
    "melt_CC= GO_CC.melt(id_vars = ['Gene_ID'], value_name = 'GO')\n",
    "melt_CC = melt_CC.drop(['variable'], axis =1)\n",
    "melt_CC.head()"
   ]
  },
  {
   "cell_type": "code",
   "execution_count": 344,
   "id": "polar-brass",
   "metadata": {},
   "outputs": [
    {
     "data": {
      "text/plain": [
       "Gene_ID    960\n",
       "GO         223\n",
       "dtype: int64"
      ]
     },
     "execution_count": 344,
     "metadata": {},
     "output_type": "execute_result"
    }
   ],
   "source": [
    "melt_CC.count()"
   ]
  },
  {
   "cell_type": "code",
   "execution_count": 345,
   "id": "accessory-gamma",
   "metadata": {},
   "outputs": [],
   "source": [
    "nan_value = float(\"NaN\")\n",
    "melt_CC['GO'].replace(\"--\", nan_value, inplace=True)\n",
    "melt_CC.dropna(subset = [\"GO\"], inplace=True)"
   ]
  },
  {
   "cell_type": "code",
   "execution_count": 346,
   "id": "aware-latvia",
   "metadata": {},
   "outputs": [],
   "source": [
    "df_cc = melt_CC[melt_CC['GO'].astype(bool)]"
   ]
  },
  {
   "cell_type": "code",
   "execution_count": 347,
   "id": "removable-consideration",
   "metadata": {},
   "outputs": [
    {
     "data": {
      "text/plain": [
       "Gene_ID    191\n",
       "GO         191\n",
       "dtype: int64"
      ]
     },
     "execution_count": 347,
     "metadata": {},
     "output_type": "execute_result"
    }
   ],
   "source": [
    "df_cc.count()"
   ]
  },
  {
   "cell_type": "markdown",
   "id": "better-aggregate",
   "metadata": {},
   "source": [
    "* Combine all three process"
   ]
  },
  {
   "cell_type": "code",
   "execution_count": 348,
   "id": "certain-cigarette",
   "metadata": {},
   "outputs": [],
   "source": [
    "annot_all = pd.concat([df_bp, df_mf, df_cc])"
   ]
  },
  {
   "cell_type": "code",
   "execution_count": 349,
   "id": "front-check",
   "metadata": {},
   "outputs": [
    {
     "data": {
      "text/plain": [
       "(1783, 2)"
      ]
     },
     "execution_count": 349,
     "metadata": {},
     "output_type": "execute_result"
    }
   ],
   "source": [
    "annot_all.shape"
   ]
  },
  {
   "cell_type": "code",
   "execution_count": 350,
   "id": "grave-salmon",
   "metadata": {},
   "outputs": [],
   "source": [
    "annot_all.to_csv('annot_list_potato.csv')"
   ]
  },
  {
   "cell_type": "code",
   "execution_count": null,
   "id": "promotional-warehouse",
   "metadata": {},
   "outputs": [],
   "source": []
  },
  {
   "cell_type": "code",
   "execution_count": null,
   "id": "proper-basin",
   "metadata": {},
   "outputs": [],
   "source": []
  }
 ],
 "metadata": {
  "kernelspec": {
   "display_name": "Python 3",
   "language": "python",
   "name": "python3"
  },
  "language_info": {
   "codemirror_mode": {
    "name": "ipython",
    "version": 3
   },
   "file_extension": ".py",
   "mimetype": "text/x-python",
   "name": "python",
   "nbconvert_exporter": "python",
   "pygments_lexer": "ipython3",
   "version": "3.7.7"
  }
 },
 "nbformat": 4,
 "nbformat_minor": 5
}
