{
 "cells": [
  {
   "cell_type": "markdown",
   "id": "residential-bridal",
   "metadata": {},
   "source": [
    "#### Potato"
   ]
  },
  {
   "cell_type": "code",
   "execution_count": 1,
   "id": "filled-drilling",
   "metadata": {},
   "outputs": [],
   "source": [
    "import os\n",
    "import pandas as pd\n",
    "import numpy as np"
   ]
  },
  {
   "cell_type": "code",
   "execution_count": 6,
   "id": "unlike-decline",
   "metadata": {},
   "outputs": [],
   "source": [
    "os.chdir('C:/Users/sudha.gcupadhaya/Desktop/GO_Enrichment_Analysis/potato/')\n",
    "degs = pd.read_csv('Solanum_genename.csv')\n",
    "annot = pd.read_csv('Potato_gene.goannot.csv')"
   ]
  },
  {
   "cell_type": "code",
   "execution_count": 7,
   "id": "recovered-theorem",
   "metadata": {},
   "outputs": [],
   "source": [
    "degs = degs[degs['Comparison'] == '653v111']\n",
    "selected_degs = degs['Gene_ID'] \n",
    "selected_annot = annot[annot['Gene_ID'].isin(selected_degs)]"
   ]
  },
  {
   "cell_type": "code",
   "execution_count": 8,
   "id": "noted-effort",
   "metadata": {},
   "outputs": [],
   "source": [
    "df_GO = selected_annot[['Gene_ID', 'biological_process', 'molecular_function', 'cellular_component']]\n",
    "df_GO.columns = ['Gene_ID', 'BP', 'MF', 'CC']"
   ]
  },
  {
   "cell_type": "code",
   "execution_count": 9,
   "id": "functioning-feeding",
   "metadata": {},
   "outputs": [
    {
     "data": {
      "text/plain": [
       "(60, 4)"
      ]
     },
     "execution_count": 9,
     "metadata": {},
     "output_type": "execute_result"
    }
   ],
   "source": [
    "df_GO.shape"
   ]
  },
  {
   "cell_type": "markdown",
   "id": "regulation-porcelain",
   "metadata": {},
   "source": [
    "* BP"
   ]
  },
  {
   "cell_type": "code",
   "execution_count": 330,
   "id": "realistic-russell",
   "metadata": {},
   "outputs": [],
   "source": [
    "ID = df_GO['Gene_ID']\n",
    "BP = df_GO['BP'].str.split('//', 1000, expand = True)\n",
    "GO_BP = pd.concat([ID, BP], axis =1)"
   ]
  },
  {
   "cell_type": "code",
   "execution_count": 331,
   "id": "complicated-syndication",
   "metadata": {},
   "outputs": [
    {
     "data": {
      "text/html": [
       "<div>\n",
       "<style scoped>\n",
       "    .dataframe tbody tr th:only-of-type {\n",
       "        vertical-align: middle;\n",
       "    }\n",
       "\n",
       "    .dataframe tbody tr th {\n",
       "        vertical-align: top;\n",
       "    }\n",
       "\n",
       "    .dataframe thead th {\n",
       "        text-align: right;\n",
       "    }\n",
       "</style>\n",
       "<table border=\"1\" class=\"dataframe\">\n",
       "  <thead>\n",
       "    <tr style=\"text-align: right;\">\n",
       "      <th></th>\n",
       "      <th>Gene_ID</th>\n",
       "      <th>GO</th>\n",
       "    </tr>\n",
       "  </thead>\n",
       "  <tbody>\n",
       "    <tr>\n",
       "      <th>0</th>\n",
       "      <td>Novel00135</td>\n",
       "      <td>GO:0006082</td>\n",
       "    </tr>\n",
       "    <tr>\n",
       "      <th>1</th>\n",
       "      <td>Novel01306</td>\n",
       "      <td>GO:0016114</td>\n",
       "    </tr>\n",
       "    <tr>\n",
       "      <th>2</th>\n",
       "      <td>Novel01794</td>\n",
       "      <td>GO:0008152</td>\n",
       "    </tr>\n",
       "    <tr>\n",
       "      <th>3</th>\n",
       "      <td>Novel02419</td>\n",
       "      <td>--</td>\n",
       "    </tr>\n",
       "    <tr>\n",
       "      <th>4</th>\n",
       "      <td>Novel02885</td>\n",
       "      <td>GO:0044699</td>\n",
       "    </tr>\n",
       "  </tbody>\n",
       "</table>\n",
       "</div>"
      ],
      "text/plain": [
       "      Gene_ID          GO\n",
       "0  Novel00135  GO:0006082\n",
       "1  Novel01306  GO:0016114\n",
       "2  Novel01794  GO:0008152\n",
       "3  Novel02419          --\n",
       "4  Novel02885  GO:0044699"
      ]
     },
     "execution_count": 331,
     "metadata": {},
     "output_type": "execute_result"
    }
   ],
   "source": [
    "melt_BP= GO_BP.melt(id_vars = ['Gene_ID'], value_name = 'GO')\n",
    "melt_BP = melt_BP.drop(['variable'], axis =1)\n",
    "melt_BP.head()"
   ]
  },
  {
   "cell_type": "code",
   "execution_count": 332,
   "id": "massive-cemetery",
   "metadata": {},
   "outputs": [
    {
     "data": {
      "text/plain": [
       "Gene_ID    6780\n",
       "GO         1082\n",
       "dtype: int64"
      ]
     },
     "execution_count": 332,
     "metadata": {},
     "output_type": "execute_result"
    }
   ],
   "source": [
    "melt_BP.count()"
   ]
  },
  {
   "cell_type": "code",
   "execution_count": 333,
   "id": "checked-account",
   "metadata": {},
   "outputs": [],
   "source": [
    "nan_value = float(\"NaN\")\n",
    "melt_BP['GO'].replace(\"--\", nan_value, inplace=True)\n",
    "melt_BP.dropna(subset = [\"GO\"], inplace=True)"
   ]
  },
  {
   "cell_type": "code",
   "execution_count": 334,
   "id": "passing-chambers",
   "metadata": {},
   "outputs": [],
   "source": [
    "df_bp = melt_BP[melt_BP['GO'].astype(bool)]"
   ]
  },
  {
   "cell_type": "code",
   "execution_count": 335,
   "id": "initial-union",
   "metadata": {},
   "outputs": [
    {
     "data": {
      "text/plain": [
       "Gene_ID    1070\n",
       "GO         1070\n",
       "dtype: int64"
      ]
     },
     "execution_count": 335,
     "metadata": {},
     "output_type": "execute_result"
    }
   ],
   "source": [
    "df_bp.count()"
   ]
  },
  {
   "cell_type": "markdown",
   "id": "prerequisite-terror",
   "metadata": {},
   "source": [
    "* MF"
   ]
  },
  {
   "cell_type": "code",
   "execution_count": 336,
   "id": "bronze-board",
   "metadata": {},
   "outputs": [],
   "source": [
    "ID = df_GO['Gene_ID']\n",
    "MF = df_GO['MF'].str.split('//', 1000, expand = True)\n",
    "GO_MF = pd.concat([ID, MF], axis =1)"
   ]
  },
  {
   "cell_type": "code",
   "execution_count": 337,
   "id": "reflected-salem",
   "metadata": {},
   "outputs": [
    {
     "data": {
      "text/html": [
       "<div>\n",
       "<style scoped>\n",
       "    .dataframe tbody tr th:only-of-type {\n",
       "        vertical-align: middle;\n",
       "    }\n",
       "\n",
       "    .dataframe tbody tr th {\n",
       "        vertical-align: top;\n",
       "    }\n",
       "\n",
       "    .dataframe thead th {\n",
       "        text-align: right;\n",
       "    }\n",
       "</style>\n",
       "<table border=\"1\" class=\"dataframe\">\n",
       "  <thead>\n",
       "    <tr style=\"text-align: right;\">\n",
       "      <th></th>\n",
       "      <th>Gene_ID</th>\n",
       "      <th>GO</th>\n",
       "    </tr>\n",
       "  </thead>\n",
       "  <tbody>\n",
       "    <tr>\n",
       "      <th>0</th>\n",
       "      <td>Novel00135</td>\n",
       "      <td>GO:1901363</td>\n",
       "    </tr>\n",
       "    <tr>\n",
       "      <th>1</th>\n",
       "      <td>Novel01306</td>\n",
       "      <td>GO:0043169</td>\n",
       "    </tr>\n",
       "    <tr>\n",
       "      <th>2</th>\n",
       "      <td>Novel01794</td>\n",
       "      <td>GO:0003824</td>\n",
       "    </tr>\n",
       "    <tr>\n",
       "      <th>3</th>\n",
       "      <td>Novel02419</td>\n",
       "      <td>GO:0016872</td>\n",
       "    </tr>\n",
       "    <tr>\n",
       "      <th>4</th>\n",
       "      <td>Novel02885</td>\n",
       "      <td>GO:0003674</td>\n",
       "    </tr>\n",
       "  </tbody>\n",
       "</table>\n",
       "</div>"
      ],
      "text/plain": [
       "      Gene_ID          GO\n",
       "0  Novel00135  GO:1901363\n",
       "1  Novel01306  GO:0043169\n",
       "2  Novel01794  GO:0003824\n",
       "3  Novel02419  GO:0016872\n",
       "4  Novel02885  GO:0003674"
      ]
     },
     "execution_count": 337,
     "metadata": {},
     "output_type": "execute_result"
    }
   ],
   "source": [
    "melt_MF= GO_MF.melt(id_vars = ['Gene_ID'], value_name = 'GO')\n",
    "melt_MF = melt_MF.drop(['variable'], axis =1)\n",
    "melt_MF.head()"
   ]
  },
  {
   "cell_type": "code",
   "execution_count": 338,
   "id": "excess-mineral",
   "metadata": {},
   "outputs": [
    {
     "data": {
      "text/plain": [
       "Gene_ID    2280\n",
       "GO          534\n",
       "dtype: int64"
      ]
     },
     "execution_count": 338,
     "metadata": {},
     "output_type": "execute_result"
    }
   ],
   "source": [
    "melt_MF.count()"
   ]
  },
  {
   "cell_type": "code",
   "execution_count": 339,
   "id": "subject-clearance",
   "metadata": {},
   "outputs": [],
   "source": [
    "nan_value = float(\"NaN\")\n",
    "melt_MF['GO'].replace(\"--\", nan_value, inplace=True)\n",
    "melt_MF.dropna(subset = [\"GO\"], inplace=True)"
   ]
  },
  {
   "cell_type": "code",
   "execution_count": 340,
   "id": "identical-allen",
   "metadata": {},
   "outputs": [],
   "source": [
    "df_mf = melt_MF[melt_MF['GO'].astype(bool)]"
   ]
  },
  {
   "cell_type": "code",
   "execution_count": 341,
   "id": "dutch-probability",
   "metadata": {},
   "outputs": [
    {
     "data": {
      "text/plain": [
       "Gene_ID    522\n",
       "GO         522\n",
       "dtype: int64"
      ]
     },
     "execution_count": 341,
     "metadata": {},
     "output_type": "execute_result"
    }
   ],
   "source": [
    "df_mf.count()"
   ]
  },
  {
   "cell_type": "markdown",
   "id": "individual-plumbing",
   "metadata": {},
   "source": [
    "* CC"
   ]
  },
  {
   "cell_type": "code",
   "execution_count": 342,
   "id": "colored-movie",
   "metadata": {},
   "outputs": [],
   "source": [
    "ID = df_GO['Gene_ID']\n",
    "CC = df_GO['CC'].str.split('//', 1000, expand = True)\n",
    "GO_CC = pd.concat([ID, CC], axis =1)"
   ]
  },
  {
   "cell_type": "code",
   "execution_count": 343,
   "id": "promising-selling",
   "metadata": {},
   "outputs": [
    {
     "data": {
      "text/html": [
       "<div>\n",
       "<style scoped>\n",
       "    .dataframe tbody tr th:only-of-type {\n",
       "        vertical-align: middle;\n",
       "    }\n",
       "\n",
       "    .dataframe tbody tr th {\n",
       "        vertical-align: top;\n",
       "    }\n",
       "\n",
       "    .dataframe thead th {\n",
       "        text-align: right;\n",
       "    }\n",
       "</style>\n",
       "<table border=\"1\" class=\"dataframe\">\n",
       "  <thead>\n",
       "    <tr style=\"text-align: right;\">\n",
       "      <th></th>\n",
       "      <th>Gene_ID</th>\n",
       "      <th>GO</th>\n",
       "    </tr>\n",
       "  </thead>\n",
       "  <tbody>\n",
       "    <tr>\n",
       "      <th>0</th>\n",
       "      <td>Novel00135</td>\n",
       "      <td>--</td>\n",
       "    </tr>\n",
       "    <tr>\n",
       "      <th>1</th>\n",
       "      <td>Novel01306</td>\n",
       "      <td>--</td>\n",
       "    </tr>\n",
       "    <tr>\n",
       "      <th>2</th>\n",
       "      <td>Novel01794</td>\n",
       "      <td>--</td>\n",
       "    </tr>\n",
       "    <tr>\n",
       "      <th>3</th>\n",
       "      <td>Novel02419</td>\n",
       "      <td>--</td>\n",
       "    </tr>\n",
       "    <tr>\n",
       "      <th>4</th>\n",
       "      <td>Novel02885</td>\n",
       "      <td>--</td>\n",
       "    </tr>\n",
       "  </tbody>\n",
       "</table>\n",
       "</div>"
      ],
      "text/plain": [
       "      Gene_ID  GO\n",
       "0  Novel00135  --\n",
       "1  Novel01306  --\n",
       "2  Novel01794  --\n",
       "3  Novel02419  --\n",
       "4  Novel02885  --"
      ]
     },
     "execution_count": 343,
     "metadata": {},
     "output_type": "execute_result"
    }
   ],
   "source": [
    "melt_CC= GO_CC.melt(id_vars = ['Gene_ID'], value_name = 'GO')\n",
    "melt_CC = melt_CC.drop(['variable'], axis =1)\n",
    "melt_CC.head()"
   ]
  },
  {
   "cell_type": "code",
   "execution_count": 344,
   "id": "naughty-transition",
   "metadata": {},
   "outputs": [
    {
     "data": {
      "text/plain": [
       "Gene_ID    960\n",
       "GO         223\n",
       "dtype: int64"
      ]
     },
     "execution_count": 344,
     "metadata": {},
     "output_type": "execute_result"
    }
   ],
   "source": [
    "melt_CC.count()"
   ]
  },
  {
   "cell_type": "code",
   "execution_count": 345,
   "id": "standing-stock",
   "metadata": {},
   "outputs": [],
   "source": [
    "nan_value = float(\"NaN\")\n",
    "melt_CC['GO'].replace(\"--\", nan_value, inplace=True)\n",
    "melt_CC.dropna(subset = [\"GO\"], inplace=True)"
   ]
  },
  {
   "cell_type": "code",
   "execution_count": 346,
   "id": "cardiovascular-bedroom",
   "metadata": {},
   "outputs": [],
   "source": [
    "df_cc = melt_CC[melt_CC['GO'].astype(bool)]"
   ]
  },
  {
   "cell_type": "code",
   "execution_count": 347,
   "id": "provincial-schema",
   "metadata": {},
   "outputs": [
    {
     "data": {
      "text/plain": [
       "Gene_ID    191\n",
       "GO         191\n",
       "dtype: int64"
      ]
     },
     "execution_count": 347,
     "metadata": {},
     "output_type": "execute_result"
    }
   ],
   "source": [
    "df_cc.count()"
   ]
  },
  {
   "cell_type": "markdown",
   "id": "relevant-voice",
   "metadata": {},
   "source": [
    "* Combine all three process"
   ]
  },
  {
   "cell_type": "code",
   "execution_count": 348,
   "id": "backed-bunch",
   "metadata": {},
   "outputs": [],
   "source": [
    "annot_all = pd.concat([df_bp, df_mf, df_cc])"
   ]
  },
  {
   "cell_type": "code",
   "execution_count": 349,
   "id": "according-georgia",
   "metadata": {},
   "outputs": [
    {
     "data": {
      "text/plain": [
       "(1783, 2)"
      ]
     },
     "execution_count": 349,
     "metadata": {},
     "output_type": "execute_result"
    }
   ],
   "source": [
    "annot_all.shape"
   ]
  },
  {
   "cell_type": "code",
   "execution_count": 350,
   "id": "nuclear-february",
   "metadata": {},
   "outputs": [],
   "source": [
    "annot_all.to_csv('annot_list_potato.csv')"
   ]
  },
  {
   "cell_type": "code",
   "execution_count": null,
   "id": "foster-calgary",
   "metadata": {},
   "outputs": [],
   "source": []
  },
  {
   "cell_type": "code",
   "execution_count": null,
   "id": "coordinated-southeast",
   "metadata": {},
   "outputs": [],
   "source": []
  },
  {
   "cell_type": "markdown",
   "id": "limiting-nickname",
   "metadata": {},
   "source": [
    "#### Mustard"
   ]
  },
  {
   "cell_type": "code",
   "execution_count": 10,
   "id": "sudden-qualification",
   "metadata": {},
   "outputs": [],
   "source": [
    "import os\n",
    "import pandas as pd\n",
    "import numpy as np"
   ]
  },
  {
   "cell_type": "code",
   "execution_count": 11,
   "id": "passive-application",
   "metadata": {},
   "outputs": [],
   "source": [
    "os.chdir('C:/Users/sudha.gcupadhaya/Desktop/GO_Enrichment_Analysis/mustard/')\n",
    "degs = pd.read_csv('Brassica_genename.csv')\n",
    "annot = pd.read_csv('Brassica_Annotation_GO.csv')"
   ]
  },
  {
   "cell_type": "code",
   "execution_count": 16,
   "id": "young-orange",
   "metadata": {},
   "outputs": [
    {
     "data": {
      "text/html": [
       "<div>\n",
       "<style scoped>\n",
       "    .dataframe tbody tr th:only-of-type {\n",
       "        vertical-align: middle;\n",
       "    }\n",
       "\n",
       "    .dataframe tbody tr th {\n",
       "        vertical-align: top;\n",
       "    }\n",
       "\n",
       "    .dataframe thead th {\n",
       "        text-align: right;\n",
       "    }\n",
       "</style>\n",
       "<table border=\"1\" class=\"dataframe\">\n",
       "  <thead>\n",
       "    <tr style=\"text-align: right;\">\n",
       "      <th></th>\n",
       "      <th>Gene ID</th>\n",
       "      <th>Gene Ontology Biological Pathway</th>\n",
       "      <th>BP Description</th>\n",
       "      <th>Gene Ontology Molecular Function</th>\n",
       "      <th>MF Description</th>\n",
       "      <th>Gene Ontology Cellular Component</th>\n",
       "      <th>CC Description</th>\n",
       "    </tr>\n",
       "  </thead>\n",
       "  <tbody>\n",
       "    <tr>\n",
       "      <th>3893</th>\n",
       "      <td>Cluster-15354.101048</td>\n",
       "      <td>--</td>\n",
       "      <td>--</td>\n",
       "      <td>GO:0016773</td>\n",
       "      <td>phosphotransferase activity, alcohol group as ...</td>\n",
       "      <td>--</td>\n",
       "      <td>--</td>\n",
       "    </tr>\n",
       "    <tr>\n",
       "      <th>5095</th>\n",
       "      <td>Cluster-15354.102982</td>\n",
       "      <td>GO:0006810</td>\n",
       "      <td>transport</td>\n",
       "      <td>GO:0005524//GO:0004386//GO:0016887//GO:0003676</td>\n",
       "      <td>ATP binding//helicase activity//ATPase activit...</td>\n",
       "      <td>--</td>\n",
       "      <td>--</td>\n",
       "    </tr>\n",
       "    <tr>\n",
       "      <th>8835</th>\n",
       "      <td>Cluster-15354.108826</td>\n",
       "      <td>--</td>\n",
       "      <td>--</td>\n",
       "      <td>GO:0005515</td>\n",
       "      <td>protein binding</td>\n",
       "      <td>--</td>\n",
       "      <td>--</td>\n",
       "    </tr>\n",
       "    <tr>\n",
       "      <th>13004</th>\n",
       "      <td>Cluster-15354.115916</td>\n",
       "      <td>GO:0008152//GO:0006629//GO:0006355//GO:0009058</td>\n",
       "      <td>metabolic process//lipid metabolic process//re...</td>\n",
       "      <td>GO:0016787//GO:0016788//GO:0000287//GO:0030976...</td>\n",
       "      <td>hydrolase activity//hydrolase activity, acting...</td>\n",
       "      <td>--</td>\n",
       "      <td>--</td>\n",
       "    </tr>\n",
       "    <tr>\n",
       "      <th>13192</th>\n",
       "      <td>Cluster-15354.11627</td>\n",
       "      <td>--</td>\n",
       "      <td>--</td>\n",
       "      <td>GO:0003924//GO:0016887//GO:0005524//GO:0005525</td>\n",
       "      <td>GTPase activity//ATPase activity//ATP binding/...</td>\n",
       "      <td>GO:0016020</td>\n",
       "      <td>membrane</td>\n",
       "    </tr>\n",
       "    <tr>\n",
       "      <th>...</th>\n",
       "      <td>...</td>\n",
       "      <td>...</td>\n",
       "      <td>...</td>\n",
       "      <td>...</td>\n",
       "      <td>...</td>\n",
       "      <td>...</td>\n",
       "      <td>...</td>\n",
       "    </tr>\n",
       "    <tr>\n",
       "      <th>109468</th>\n",
       "      <td>Cluster-48422.1</td>\n",
       "      <td>GO:0016567</td>\n",
       "      <td>protein ubiquitination</td>\n",
       "      <td>GO:0005515//GO:0061630//GO:0004842//GO:0008270...</td>\n",
       "      <td>protein binding//ubiquitin protein ligase acti...</td>\n",
       "      <td>GO:0005680</td>\n",
       "      <td>anaphase-promoting complex</td>\n",
       "    </tr>\n",
       "    <tr>\n",
       "      <th>110939</th>\n",
       "      <td>Cluster-50294.0</td>\n",
       "      <td>GO:0045893//GO:0030154//GO:0030238//GO:0006357...</td>\n",
       "      <td>positive regulation of transcription, DNA-temp...</td>\n",
       "      <td>GO:0005516//GO:0003705//GO:0008134//GO:0003677</td>\n",
       "      <td>calmodulin binding//transcription factor activ...</td>\n",
       "      <td>GO:0005737//GO:0005667//GO:0016607</td>\n",
       "      <td>cytoplasm//transcription factor complex//nucle...</td>\n",
       "    </tr>\n",
       "    <tr>\n",
       "      <th>115315</th>\n",
       "      <td>Cluster-5840.0</td>\n",
       "      <td>GO:0007283</td>\n",
       "      <td>spermatogenesis</td>\n",
       "      <td>GO:0003677</td>\n",
       "      <td>DNA binding</td>\n",
       "      <td>GO:0005634//GO:0000786</td>\n",
       "      <td>nucleus//nucleosome</td>\n",
       "    </tr>\n",
       "    <tr>\n",
       "      <th>115965</th>\n",
       "      <td>Cluster-6811.0</td>\n",
       "      <td>GO:0006355//GO:0006810//GO:0009405</td>\n",
       "      <td>regulation of transcription, DNA-templated//tr...</td>\n",
       "      <td>GO:0003677//GO:0008200//GO:0004190//GO:0003700</td>\n",
       "      <td>DNA binding//ion channel inhibitor activity//a...</td>\n",
       "      <td>GO:0016021//GO:0005667//GO:0005576</td>\n",
       "      <td>integral component of membrane//transcription ...</td>\n",
       "    </tr>\n",
       "    <tr>\n",
       "      <th>116471</th>\n",
       "      <td>Cluster-7594.0</td>\n",
       "      <td>GO:0055085</td>\n",
       "      <td>transmembrane transport</td>\n",
       "      <td>GO:0022857</td>\n",
       "      <td>transmembrane transporter activity</td>\n",
       "      <td>GO:0016021</td>\n",
       "      <td>integral component of membrane</td>\n",
       "    </tr>\n",
       "  </tbody>\n",
       "</table>\n",
       "<p>66 rows × 7 columns</p>\n",
       "</div>"
      ],
      "text/plain": [
       "                     Gene ID  \\\n",
       "3893    Cluster-15354.101048   \n",
       "5095    Cluster-15354.102982   \n",
       "8835    Cluster-15354.108826   \n",
       "13004   Cluster-15354.115916   \n",
       "13192    Cluster-15354.11627   \n",
       "...                      ...   \n",
       "109468       Cluster-48422.1   \n",
       "110939       Cluster-50294.0   \n",
       "115315        Cluster-5840.0   \n",
       "115965        Cluster-6811.0   \n",
       "116471        Cluster-7594.0   \n",
       "\n",
       "                         Gene Ontology Biological Pathway  \\\n",
       "3893                                                   --   \n",
       "5095                                           GO:0006810   \n",
       "8835                                                   --   \n",
       "13004      GO:0008152//GO:0006629//GO:0006355//GO:0009058   \n",
       "13192                                                  --   \n",
       "...                                                   ...   \n",
       "109468                                         GO:0016567   \n",
       "110939  GO:0045893//GO:0030154//GO:0030238//GO:0006357...   \n",
       "115315                                         GO:0007283   \n",
       "115965                 GO:0006355//GO:0006810//GO:0009405   \n",
       "116471                                         GO:0055085   \n",
       "\n",
       "                                           BP Description  \\\n",
       "3893                                                   --   \n",
       "5095                                            transport   \n",
       "8835                                                   --   \n",
       "13004   metabolic process//lipid metabolic process//re...   \n",
       "13192                                                  --   \n",
       "...                                                   ...   \n",
       "109468                             protein ubiquitination   \n",
       "110939  positive regulation of transcription, DNA-temp...   \n",
       "115315                                    spermatogenesis   \n",
       "115965  regulation of transcription, DNA-templated//tr...   \n",
       "116471                            transmembrane transport   \n",
       "\n",
       "                         Gene Ontology Molecular Function  \\\n",
       "3893                                           GO:0016773   \n",
       "5095       GO:0005524//GO:0004386//GO:0016887//GO:0003676   \n",
       "8835                                           GO:0005515   \n",
       "13004   GO:0016787//GO:0016788//GO:0000287//GO:0030976...   \n",
       "13192      GO:0003924//GO:0016887//GO:0005524//GO:0005525   \n",
       "...                                                   ...   \n",
       "109468  GO:0005515//GO:0061630//GO:0004842//GO:0008270...   \n",
       "110939     GO:0005516//GO:0003705//GO:0008134//GO:0003677   \n",
       "115315                                         GO:0003677   \n",
       "115965     GO:0003677//GO:0008200//GO:0004190//GO:0003700   \n",
       "116471                                         GO:0022857   \n",
       "\n",
       "                                           MF Description  \\\n",
       "3893    phosphotransferase activity, alcohol group as ...   \n",
       "5095    ATP binding//helicase activity//ATPase activit...   \n",
       "8835                                      protein binding   \n",
       "13004   hydrolase activity//hydrolase activity, acting...   \n",
       "13192   GTPase activity//ATPase activity//ATP binding/...   \n",
       "...                                                   ...   \n",
       "109468  protein binding//ubiquitin protein ligase acti...   \n",
       "110939  calmodulin binding//transcription factor activ...   \n",
       "115315                                        DNA binding   \n",
       "115965  DNA binding//ion channel inhibitor activity//a...   \n",
       "116471                 transmembrane transporter activity   \n",
       "\n",
       "          Gene Ontology Cellular Component  \\\n",
       "3893                                    --   \n",
       "5095                                    --   \n",
       "8835                                    --   \n",
       "13004                                   --   \n",
       "13192                           GO:0016020   \n",
       "...                                    ...   \n",
       "109468                          GO:0005680   \n",
       "110939  GO:0005737//GO:0005667//GO:0016607   \n",
       "115315              GO:0005634//GO:0000786   \n",
       "115965  GO:0016021//GO:0005667//GO:0005576   \n",
       "116471                          GO:0016021   \n",
       "\n",
       "                                           CC Description  \n",
       "3893                                                   --  \n",
       "5095                                                   --  \n",
       "8835                                                   --  \n",
       "13004                                                  --  \n",
       "13192                                            membrane  \n",
       "...                                                   ...  \n",
       "109468                         anaphase-promoting complex  \n",
       "110939  cytoplasm//transcription factor complex//nucle...  \n",
       "115315                                nucleus//nucleosome  \n",
       "115965  integral component of membrane//transcription ...  \n",
       "116471                     integral component of membrane  \n",
       "\n",
       "[66 rows x 7 columns]"
      ]
     },
     "execution_count": 16,
     "metadata": {},
     "output_type": "execute_result"
    }
   ],
   "source": [
    "selected_annot"
   ]
  },
  {
   "cell_type": "code",
   "execution_count": 15,
   "id": "corrected-magnet",
   "metadata": {},
   "outputs": [],
   "source": [
    "degs = degs[degs['Comparison'] == '653v111']\n",
    "selected_degs = degs['Gene_ID'] \n",
    "selected_annot = annot[annot['Gene ID'].isin(selected_degs)]"
   ]
  },
  {
   "cell_type": "code",
   "execution_count": 17,
   "id": "built-haiti",
   "metadata": {},
   "outputs": [],
   "source": [
    "df_GO = selected_annot[['Gene ID', 'Gene Ontology Biological Pathway', 'Gene Ontology Molecular Function', 'Gene Ontology Cellular Component']]\n",
    "df_GO.columns = ['Gene_ID', 'BP', 'MF', 'CC']"
   ]
  },
  {
   "cell_type": "code",
   "execution_count": 18,
   "id": "negative-communication",
   "metadata": {},
   "outputs": [
    {
     "data": {
      "text/plain": [
       "(66, 4)"
      ]
     },
     "execution_count": 18,
     "metadata": {},
     "output_type": "execute_result"
    }
   ],
   "source": [
    "df_GO.shape"
   ]
  },
  {
   "cell_type": "markdown",
   "id": "narrative-evans",
   "metadata": {},
   "source": [
    "* BP"
   ]
  },
  {
   "cell_type": "code",
   "execution_count": 19,
   "id": "statutory-edwards",
   "metadata": {},
   "outputs": [],
   "source": [
    "ID = df_GO['Gene_ID']\n",
    "BP = df_GO['BP'].str.split('//', 1000, expand = True)\n",
    "GO_BP = pd.concat([ID, BP], axis =1)"
   ]
  },
  {
   "cell_type": "code",
   "execution_count": 20,
   "id": "introductory-liechtenstein",
   "metadata": {},
   "outputs": [
    {
     "data": {
      "text/html": [
       "<div>\n",
       "<style scoped>\n",
       "    .dataframe tbody tr th:only-of-type {\n",
       "        vertical-align: middle;\n",
       "    }\n",
       "\n",
       "    .dataframe tbody tr th {\n",
       "        vertical-align: top;\n",
       "    }\n",
       "\n",
       "    .dataframe thead th {\n",
       "        text-align: right;\n",
       "    }\n",
       "</style>\n",
       "<table border=\"1\" class=\"dataframe\">\n",
       "  <thead>\n",
       "    <tr style=\"text-align: right;\">\n",
       "      <th></th>\n",
       "      <th>Gene_ID</th>\n",
       "      <th>GO</th>\n",
       "    </tr>\n",
       "  </thead>\n",
       "  <tbody>\n",
       "    <tr>\n",
       "      <th>0</th>\n",
       "      <td>Cluster-15354.101048</td>\n",
       "      <td>--</td>\n",
       "    </tr>\n",
       "    <tr>\n",
       "      <th>1</th>\n",
       "      <td>Cluster-15354.102982</td>\n",
       "      <td>GO:0006810</td>\n",
       "    </tr>\n",
       "    <tr>\n",
       "      <th>2</th>\n",
       "      <td>Cluster-15354.108826</td>\n",
       "      <td>--</td>\n",
       "    </tr>\n",
       "    <tr>\n",
       "      <th>3</th>\n",
       "      <td>Cluster-15354.115916</td>\n",
       "      <td>GO:0008152</td>\n",
       "    </tr>\n",
       "    <tr>\n",
       "      <th>4</th>\n",
       "      <td>Cluster-15354.11627</td>\n",
       "      <td>--</td>\n",
       "    </tr>\n",
       "  </tbody>\n",
       "</table>\n",
       "</div>"
      ],
      "text/plain": [
       "                Gene_ID          GO\n",
       "0  Cluster-15354.101048          --\n",
       "1  Cluster-15354.102982  GO:0006810\n",
       "2  Cluster-15354.108826          --\n",
       "3  Cluster-15354.115916  GO:0008152\n",
       "4   Cluster-15354.11627          --"
      ]
     },
     "execution_count": 20,
     "metadata": {},
     "output_type": "execute_result"
    }
   ],
   "source": [
    "melt_BP= GO_BP.melt(id_vars = ['Gene_ID'], value_name = 'GO')\n",
    "melt_BP = melt_BP.drop(['variable'], axis =1)\n",
    "melt_BP.head()"
   ]
  },
  {
   "cell_type": "code",
   "execution_count": 21,
   "id": "earlier-watts",
   "metadata": {},
   "outputs": [
    {
     "data": {
      "text/plain": [
       "Gene_ID    396\n",
       "GO         143\n",
       "dtype: int64"
      ]
     },
     "execution_count": 21,
     "metadata": {},
     "output_type": "execute_result"
    }
   ],
   "source": [
    "melt_BP.count()"
   ]
  },
  {
   "cell_type": "code",
   "execution_count": 22,
   "id": "assured-postcard",
   "metadata": {},
   "outputs": [],
   "source": [
    "nan_value = float(\"NaN\")\n",
    "melt_BP['GO'].replace(\"--\", nan_value, inplace=True)\n",
    "melt_BP.dropna(subset = [\"GO\"], inplace=True)"
   ]
  },
  {
   "cell_type": "code",
   "execution_count": 23,
   "id": "industrial-alberta",
   "metadata": {},
   "outputs": [],
   "source": [
    "df_bp = melt_BP[melt_BP['GO'].astype(bool)]"
   ]
  },
  {
   "cell_type": "code",
   "execution_count": 24,
   "id": "false-potato",
   "metadata": {},
   "outputs": [
    {
     "data": {
      "text/plain": [
       "Gene_ID    131\n",
       "GO         131\n",
       "dtype: int64"
      ]
     },
     "execution_count": 24,
     "metadata": {},
     "output_type": "execute_result"
    }
   ],
   "source": [
    "df_bp.count()"
   ]
  },
  {
   "cell_type": "markdown",
   "id": "focused-instrument",
   "metadata": {},
   "source": [
    "* MF"
   ]
  },
  {
   "cell_type": "code",
   "execution_count": 25,
   "id": "adjusted-experience",
   "metadata": {},
   "outputs": [],
   "source": [
    "ID = df_GO['Gene_ID']\n",
    "MF = df_GO['MF'].str.split('//', 1000, expand = True)\n",
    "GO_MF = pd.concat([ID, MF], axis =1)"
   ]
  },
  {
   "cell_type": "code",
   "execution_count": 26,
   "id": "complete-memory",
   "metadata": {},
   "outputs": [
    {
     "data": {
      "text/html": [
       "<div>\n",
       "<style scoped>\n",
       "    .dataframe tbody tr th:only-of-type {\n",
       "        vertical-align: middle;\n",
       "    }\n",
       "\n",
       "    .dataframe tbody tr th {\n",
       "        vertical-align: top;\n",
       "    }\n",
       "\n",
       "    .dataframe thead th {\n",
       "        text-align: right;\n",
       "    }\n",
       "</style>\n",
       "<table border=\"1\" class=\"dataframe\">\n",
       "  <thead>\n",
       "    <tr style=\"text-align: right;\">\n",
       "      <th></th>\n",
       "      <th>Gene_ID</th>\n",
       "      <th>GO</th>\n",
       "    </tr>\n",
       "  </thead>\n",
       "  <tbody>\n",
       "    <tr>\n",
       "      <th>0</th>\n",
       "      <td>Cluster-15354.101048</td>\n",
       "      <td>GO:0016773</td>\n",
       "    </tr>\n",
       "    <tr>\n",
       "      <th>1</th>\n",
       "      <td>Cluster-15354.102982</td>\n",
       "      <td>GO:0005524</td>\n",
       "    </tr>\n",
       "    <tr>\n",
       "      <th>2</th>\n",
       "      <td>Cluster-15354.108826</td>\n",
       "      <td>GO:0005515</td>\n",
       "    </tr>\n",
       "    <tr>\n",
       "      <th>3</th>\n",
       "      <td>Cluster-15354.115916</td>\n",
       "      <td>GO:0016787</td>\n",
       "    </tr>\n",
       "    <tr>\n",
       "      <th>4</th>\n",
       "      <td>Cluster-15354.11627</td>\n",
       "      <td>GO:0003924</td>\n",
       "    </tr>\n",
       "  </tbody>\n",
       "</table>\n",
       "</div>"
      ],
      "text/plain": [
       "                Gene_ID          GO\n",
       "0  Cluster-15354.101048  GO:0016773\n",
       "1  Cluster-15354.102982  GO:0005524\n",
       "2  Cluster-15354.108826  GO:0005515\n",
       "3  Cluster-15354.115916  GO:0016787\n",
       "4   Cluster-15354.11627  GO:0003924"
      ]
     },
     "execution_count": 26,
     "metadata": {},
     "output_type": "execute_result"
    }
   ],
   "source": [
    "melt_MF= GO_MF.melt(id_vars = ['Gene_ID'], value_name = 'GO')\n",
    "melt_MF = melt_MF.drop(['variable'], axis =1)\n",
    "melt_MF.head()"
   ]
  },
  {
   "cell_type": "code",
   "execution_count": 27,
   "id": "knowing-meditation",
   "metadata": {},
   "outputs": [
    {
     "data": {
      "text/plain": [
       "Gene_ID    462\n",
       "GO         156\n",
       "dtype: int64"
      ]
     },
     "execution_count": 27,
     "metadata": {},
     "output_type": "execute_result"
    }
   ],
   "source": [
    "melt_MF.count()"
   ]
  },
  {
   "cell_type": "code",
   "execution_count": 28,
   "id": "round-avenue",
   "metadata": {},
   "outputs": [],
   "source": [
    "nan_value = float(\"NaN\")\n",
    "melt_MF['GO'].replace(\"--\", nan_value, inplace=True)\n",
    "melt_MF.dropna(subset = [\"GO\"], inplace=True)"
   ]
  },
  {
   "cell_type": "code",
   "execution_count": 29,
   "id": "polished-reception",
   "metadata": {},
   "outputs": [],
   "source": [
    "df_mf = melt_MF[melt_MF['GO'].astype(bool)]"
   ]
  },
  {
   "cell_type": "code",
   "execution_count": 30,
   "id": "freelance-oriental",
   "metadata": {},
   "outputs": [
    {
     "data": {
      "text/plain": [
       "Gene_ID    150\n",
       "GO         150\n",
       "dtype: int64"
      ]
     },
     "execution_count": 30,
     "metadata": {},
     "output_type": "execute_result"
    }
   ],
   "source": [
    "df_mf.count()"
   ]
  },
  {
   "cell_type": "markdown",
   "id": "persistent-plastic",
   "metadata": {},
   "source": [
    "* CC"
   ]
  },
  {
   "cell_type": "code",
   "execution_count": 31,
   "id": "suffering-metabolism",
   "metadata": {},
   "outputs": [],
   "source": [
    "ID = df_GO['Gene_ID']\n",
    "CC = df_GO['CC'].str.split('//', 1000, expand = True)\n",
    "GO_CC = pd.concat([ID, CC], axis =1)"
   ]
  },
  {
   "cell_type": "code",
   "execution_count": 32,
   "id": "herbal-contents",
   "metadata": {},
   "outputs": [
    {
     "data": {
      "text/html": [
       "<div>\n",
       "<style scoped>\n",
       "    .dataframe tbody tr th:only-of-type {\n",
       "        vertical-align: middle;\n",
       "    }\n",
       "\n",
       "    .dataframe tbody tr th {\n",
       "        vertical-align: top;\n",
       "    }\n",
       "\n",
       "    .dataframe thead th {\n",
       "        text-align: right;\n",
       "    }\n",
       "</style>\n",
       "<table border=\"1\" class=\"dataframe\">\n",
       "  <thead>\n",
       "    <tr style=\"text-align: right;\">\n",
       "      <th></th>\n",
       "      <th>Gene_ID</th>\n",
       "      <th>GO</th>\n",
       "    </tr>\n",
       "  </thead>\n",
       "  <tbody>\n",
       "    <tr>\n",
       "      <th>0</th>\n",
       "      <td>Cluster-15354.101048</td>\n",
       "      <td>--</td>\n",
       "    </tr>\n",
       "    <tr>\n",
       "      <th>1</th>\n",
       "      <td>Cluster-15354.102982</td>\n",
       "      <td>--</td>\n",
       "    </tr>\n",
       "    <tr>\n",
       "      <th>2</th>\n",
       "      <td>Cluster-15354.108826</td>\n",
       "      <td>--</td>\n",
       "    </tr>\n",
       "    <tr>\n",
       "      <th>3</th>\n",
       "      <td>Cluster-15354.115916</td>\n",
       "      <td>--</td>\n",
       "    </tr>\n",
       "    <tr>\n",
       "      <th>4</th>\n",
       "      <td>Cluster-15354.11627</td>\n",
       "      <td>GO:0016020</td>\n",
       "    </tr>\n",
       "  </tbody>\n",
       "</table>\n",
       "</div>"
      ],
      "text/plain": [
       "                Gene_ID          GO\n",
       "0  Cluster-15354.101048          --\n",
       "1  Cluster-15354.102982          --\n",
       "2  Cluster-15354.108826          --\n",
       "3  Cluster-15354.115916          --\n",
       "4   Cluster-15354.11627  GO:0016020"
      ]
     },
     "execution_count": 32,
     "metadata": {},
     "output_type": "execute_result"
    }
   ],
   "source": [
    "melt_CC= GO_CC.melt(id_vars = ['Gene_ID'], value_name = 'GO')\n",
    "melt_CC = melt_CC.drop(['variable'], axis =1)\n",
    "melt_CC.head()"
   ]
  },
  {
   "cell_type": "code",
   "execution_count": 33,
   "id": "digital-defendant",
   "metadata": {},
   "outputs": [
    {
     "data": {
      "text/plain": [
       "Gene_ID    198\n",
       "GO          87\n",
       "dtype: int64"
      ]
     },
     "execution_count": 33,
     "metadata": {},
     "output_type": "execute_result"
    }
   ],
   "source": [
    "melt_CC.count()"
   ]
  },
  {
   "cell_type": "code",
   "execution_count": 34,
   "id": "artificial-column",
   "metadata": {},
   "outputs": [],
   "source": [
    "nan_value = float(\"NaN\")\n",
    "melt_CC['GO'].replace(\"--\", nan_value, inplace=True)\n",
    "melt_CC.dropna(subset = [\"GO\"], inplace=True)"
   ]
  },
  {
   "cell_type": "code",
   "execution_count": 35,
   "id": "pharmaceutical-kelly",
   "metadata": {},
   "outputs": [],
   "source": [
    "df_cc = melt_CC[melt_CC['GO'].astype(bool)]"
   ]
  },
  {
   "cell_type": "code",
   "execution_count": 36,
   "id": "rotary-perfume",
   "metadata": {},
   "outputs": [
    {
     "data": {
      "text/plain": [
       "Gene_ID    65\n",
       "GO         65\n",
       "dtype: int64"
      ]
     },
     "execution_count": 36,
     "metadata": {},
     "output_type": "execute_result"
    }
   ],
   "source": [
    "df_cc.count()"
   ]
  },
  {
   "cell_type": "markdown",
   "id": "advisory-waters",
   "metadata": {},
   "source": [
    "* Combine all three process"
   ]
  },
  {
   "cell_type": "code",
   "execution_count": 37,
   "id": "opponent-isaac",
   "metadata": {},
   "outputs": [],
   "source": [
    "annot_all = pd.concat([df_bp, df_mf, df_cc])"
   ]
  },
  {
   "cell_type": "code",
   "execution_count": 38,
   "id": "unlike-american",
   "metadata": {},
   "outputs": [
    {
     "data": {
      "text/plain": [
       "(346, 2)"
      ]
     },
     "execution_count": 38,
     "metadata": {},
     "output_type": "execute_result"
    }
   ],
   "source": [
    "annot_all.shape"
   ]
  },
  {
   "cell_type": "code",
   "execution_count": 39,
   "id": "precious-sandwich",
   "metadata": {},
   "outputs": [],
   "source": [
    "annot_all.to_csv('annot_list_mustard.csv')"
   ]
  },
  {
   "cell_type": "code",
   "execution_count": null,
   "id": "cubic-cyprus",
   "metadata": {},
   "outputs": [],
   "source": []
  },
  {
   "cell_type": "markdown",
   "id": "conditional-herald",
   "metadata": {},
   "source": [
    "#### Mint"
   ]
  },
  {
   "cell_type": "code",
   "execution_count": 41,
   "id": "guided-fundamental",
   "metadata": {},
   "outputs": [],
   "source": [
    "import os\n",
    "import pandas as pd\n",
    "import numpy as np"
   ]
  },
  {
   "cell_type": "code",
   "execution_count": 43,
   "id": "enclosed-complement",
   "metadata": {},
   "outputs": [],
   "source": [
    "os.chdir('C:/Users/sudha.gcupadhaya/Desktop/GO_Enrichment_Analysis/mint/')\n",
    "degs = pd.read_csv('Mentha_ganename.csv')\n",
    "annot = pd.read_csv('Mentha_Annotation_GO.csv')"
   ]
  },
  {
   "cell_type": "code",
   "execution_count": 46,
   "id": "exclusive-withdrawal",
   "metadata": {},
   "outputs": [],
   "source": [
    "degs = degs[degs['Comparison'] == '653v111']\n",
    "selected_degs = degs['Gene_ID'] \n",
    "selected_annot = annot[annot['Gene ID'].isin(selected_degs)]"
   ]
  },
  {
   "cell_type": "code",
   "execution_count": 47,
   "id": "recognized-anime",
   "metadata": {},
   "outputs": [],
   "source": [
    "df_GO = selected_annot[['Gene ID', 'Gene Ontology Biological Pathway', 'Gene Ontology Molecular Function', 'Gene Ontology Cellular Component']]\n",
    "df_GO.columns = ['Gene_ID', 'BP', 'MF', 'CC']"
   ]
  },
  {
   "cell_type": "code",
   "execution_count": 48,
   "id": "minor-suspect",
   "metadata": {},
   "outputs": [
    {
     "data": {
      "text/plain": [
       "(71, 4)"
      ]
     },
     "execution_count": 48,
     "metadata": {},
     "output_type": "execute_result"
    }
   ],
   "source": [
    "df_GO.shape"
   ]
  },
  {
   "cell_type": "markdown",
   "id": "former-generation",
   "metadata": {},
   "source": [
    "* BP"
   ]
  },
  {
   "cell_type": "code",
   "execution_count": 49,
   "id": "potential-humidity",
   "metadata": {},
   "outputs": [],
   "source": [
    "ID = df_GO['Gene_ID']\n",
    "BP = df_GO['BP'].str.split('//', 1000, expand = True)\n",
    "GO_BP = pd.concat([ID, BP], axis =1)"
   ]
  },
  {
   "cell_type": "code",
   "execution_count": 50,
   "id": "capital-delay",
   "metadata": {},
   "outputs": [
    {
     "data": {
      "text/html": [
       "<div>\n",
       "<style scoped>\n",
       "    .dataframe tbody tr th:only-of-type {\n",
       "        vertical-align: middle;\n",
       "    }\n",
       "\n",
       "    .dataframe tbody tr th {\n",
       "        vertical-align: top;\n",
       "    }\n",
       "\n",
       "    .dataframe thead th {\n",
       "        text-align: right;\n",
       "    }\n",
       "</style>\n",
       "<table border=\"1\" class=\"dataframe\">\n",
       "  <thead>\n",
       "    <tr style=\"text-align: right;\">\n",
       "      <th></th>\n",
       "      <th>Gene_ID</th>\n",
       "      <th>GO</th>\n",
       "    </tr>\n",
       "  </thead>\n",
       "  <tbody>\n",
       "    <tr>\n",
       "      <th>0</th>\n",
       "      <td>Cluster-67248.100189</td>\n",
       "      <td>GO:0006568</td>\n",
       "    </tr>\n",
       "    <tr>\n",
       "      <th>1</th>\n",
       "      <td>Cluster-67248.100665</td>\n",
       "      <td>--</td>\n",
       "    </tr>\n",
       "    <tr>\n",
       "      <th>2</th>\n",
       "      <td>Cluster-67248.101001</td>\n",
       "      <td>GO:0015947</td>\n",
       "    </tr>\n",
       "    <tr>\n",
       "      <th>3</th>\n",
       "      <td>Cluster-67248.101576</td>\n",
       "      <td>GO:0006144</td>\n",
       "    </tr>\n",
       "    <tr>\n",
       "      <th>4</th>\n",
       "      <td>Cluster-67248.102077</td>\n",
       "      <td>GO:0008654</td>\n",
       "    </tr>\n",
       "  </tbody>\n",
       "</table>\n",
       "</div>"
      ],
      "text/plain": [
       "                Gene_ID          GO\n",
       "0  Cluster-67248.100189  GO:0006568\n",
       "1  Cluster-67248.100665          --\n",
       "2  Cluster-67248.101001  GO:0015947\n",
       "3  Cluster-67248.101576  GO:0006144\n",
       "4  Cluster-67248.102077  GO:0008654"
      ]
     },
     "execution_count": 50,
     "metadata": {},
     "output_type": "execute_result"
    }
   ],
   "source": [
    "melt_BP= GO_BP.melt(id_vars = ['Gene_ID'], value_name = 'GO')\n",
    "melt_BP = melt_BP.drop(['variable'], axis =1)\n",
    "melt_BP.head()"
   ]
  },
  {
   "cell_type": "code",
   "execution_count": 51,
   "id": "respective-hawaiian",
   "metadata": {},
   "outputs": [
    {
     "data": {
      "text/plain": [
       "Gene_ID    710\n",
       "GO         148\n",
       "dtype: int64"
      ]
     },
     "execution_count": 51,
     "metadata": {},
     "output_type": "execute_result"
    }
   ],
   "source": [
    "melt_BP.count()"
   ]
  },
  {
   "cell_type": "code",
   "execution_count": 52,
   "id": "likely-collective",
   "metadata": {},
   "outputs": [],
   "source": [
    "nan_value = float(\"NaN\")\n",
    "melt_BP['GO'].replace(\"--\", nan_value, inplace=True)\n",
    "melt_BP.dropna(subset = [\"GO\"], inplace=True)"
   ]
  },
  {
   "cell_type": "code",
   "execution_count": 53,
   "id": "twenty-aquarium",
   "metadata": {},
   "outputs": [],
   "source": [
    "df_bp = melt_BP[melt_BP['GO'].astype(bool)]"
   ]
  },
  {
   "cell_type": "code",
   "execution_count": 54,
   "id": "rotary-viking",
   "metadata": {},
   "outputs": [
    {
     "data": {
      "text/plain": [
       "Gene_ID    132\n",
       "GO         132\n",
       "dtype: int64"
      ]
     },
     "execution_count": 54,
     "metadata": {},
     "output_type": "execute_result"
    }
   ],
   "source": [
    "df_bp.count()"
   ]
  },
  {
   "cell_type": "markdown",
   "id": "amateur-attention",
   "metadata": {},
   "source": [
    "* MF"
   ]
  },
  {
   "cell_type": "code",
   "execution_count": 55,
   "id": "second-concentrate",
   "metadata": {},
   "outputs": [],
   "source": [
    "ID = df_GO['Gene_ID']\n",
    "MF = df_GO['MF'].str.split('//', 1000, expand = True)\n",
    "GO_MF = pd.concat([ID, MF], axis =1)"
   ]
  },
  {
   "cell_type": "code",
   "execution_count": 56,
   "id": "coral-porter",
   "metadata": {},
   "outputs": [
    {
     "data": {
      "text/html": [
       "<div>\n",
       "<style scoped>\n",
       "    .dataframe tbody tr th:only-of-type {\n",
       "        vertical-align: middle;\n",
       "    }\n",
       "\n",
       "    .dataframe tbody tr th {\n",
       "        vertical-align: top;\n",
       "    }\n",
       "\n",
       "    .dataframe thead th {\n",
       "        text-align: right;\n",
       "    }\n",
       "</style>\n",
       "<table border=\"1\" class=\"dataframe\">\n",
       "  <thead>\n",
       "    <tr style=\"text-align: right;\">\n",
       "      <th></th>\n",
       "      <th>Gene_ID</th>\n",
       "      <th>GO</th>\n",
       "    </tr>\n",
       "  </thead>\n",
       "  <tbody>\n",
       "    <tr>\n",
       "      <th>0</th>\n",
       "      <td>Cluster-67248.100189</td>\n",
       "      <td>GO:0045735</td>\n",
       "    </tr>\n",
       "    <tr>\n",
       "      <th>1</th>\n",
       "      <td>Cluster-67248.100665</td>\n",
       "      <td>GO:0005515</td>\n",
       "    </tr>\n",
       "    <tr>\n",
       "      <th>2</th>\n",
       "      <td>Cluster-67248.101001</td>\n",
       "      <td>GO:0020037</td>\n",
       "    </tr>\n",
       "    <tr>\n",
       "      <th>3</th>\n",
       "      <td>Cluster-67248.101576</td>\n",
       "      <td>GO:0004114</td>\n",
       "    </tr>\n",
       "    <tr>\n",
       "      <th>4</th>\n",
       "      <td>Cluster-67248.102077</td>\n",
       "      <td>GO:0004512</td>\n",
       "    </tr>\n",
       "  </tbody>\n",
       "</table>\n",
       "</div>"
      ],
      "text/plain": [
       "                Gene_ID          GO\n",
       "0  Cluster-67248.100189  GO:0045735\n",
       "1  Cluster-67248.100665  GO:0005515\n",
       "2  Cluster-67248.101001  GO:0020037\n",
       "3  Cluster-67248.101576  GO:0004114\n",
       "4  Cluster-67248.102077  GO:0004512"
      ]
     },
     "execution_count": 56,
     "metadata": {},
     "output_type": "execute_result"
    }
   ],
   "source": [
    "melt_MF= GO_MF.melt(id_vars = ['Gene_ID'], value_name = 'GO')\n",
    "melt_MF = melt_MF.drop(['variable'], axis =1)\n",
    "melt_MF.head()"
   ]
  },
  {
   "cell_type": "code",
   "execution_count": 57,
   "id": "sorted-omaha",
   "metadata": {},
   "outputs": [
    {
     "data": {
      "text/plain": [
       "Gene_ID    852\n",
       "GO         164\n",
       "dtype: int64"
      ]
     },
     "execution_count": 57,
     "metadata": {},
     "output_type": "execute_result"
    }
   ],
   "source": [
    "melt_MF.count()"
   ]
  },
  {
   "cell_type": "code",
   "execution_count": 58,
   "id": "different-genome",
   "metadata": {},
   "outputs": [],
   "source": [
    "nan_value = float(\"NaN\")\n",
    "melt_MF['GO'].replace(\"--\", nan_value, inplace=True)\n",
    "melt_MF.dropna(subset = [\"GO\"], inplace=True)"
   ]
  },
  {
   "cell_type": "code",
   "execution_count": 59,
   "id": "heard-north",
   "metadata": {},
   "outputs": [],
   "source": [
    "df_mf = melt_MF[melt_MF['GO'].astype(bool)]"
   ]
  },
  {
   "cell_type": "code",
   "execution_count": 60,
   "id": "parliamentary-detail",
   "metadata": {},
   "outputs": [
    {
     "data": {
      "text/plain": [
       "Gene_ID    155\n",
       "GO         155\n",
       "dtype: int64"
      ]
     },
     "execution_count": 60,
     "metadata": {},
     "output_type": "execute_result"
    }
   ],
   "source": [
    "df_mf.count()"
   ]
  },
  {
   "cell_type": "markdown",
   "id": "demanding-oklahoma",
   "metadata": {},
   "source": [
    "* CC"
   ]
  },
  {
   "cell_type": "code",
   "execution_count": 61,
   "id": "mathematical-russia",
   "metadata": {},
   "outputs": [],
   "source": [
    "ID = df_GO['Gene_ID']\n",
    "CC = df_GO['CC'].str.split('//', 1000, expand = True)\n",
    "GO_CC = pd.concat([ID, CC], axis =1)"
   ]
  },
  {
   "cell_type": "code",
   "execution_count": 62,
   "id": "dramatic-sugar",
   "metadata": {},
   "outputs": [
    {
     "data": {
      "text/html": [
       "<div>\n",
       "<style scoped>\n",
       "    .dataframe tbody tr th:only-of-type {\n",
       "        vertical-align: middle;\n",
       "    }\n",
       "\n",
       "    .dataframe tbody tr th {\n",
       "        vertical-align: top;\n",
       "    }\n",
       "\n",
       "    .dataframe thead th {\n",
       "        text-align: right;\n",
       "    }\n",
       "</style>\n",
       "<table border=\"1\" class=\"dataframe\">\n",
       "  <thead>\n",
       "    <tr style=\"text-align: right;\">\n",
       "      <th></th>\n",
       "      <th>Gene_ID</th>\n",
       "      <th>GO</th>\n",
       "    </tr>\n",
       "  </thead>\n",
       "  <tbody>\n",
       "    <tr>\n",
       "      <th>0</th>\n",
       "      <td>Cluster-67248.100189</td>\n",
       "      <td>--</td>\n",
       "    </tr>\n",
       "    <tr>\n",
       "      <th>1</th>\n",
       "      <td>Cluster-67248.100665</td>\n",
       "      <td>--</td>\n",
       "    </tr>\n",
       "    <tr>\n",
       "      <th>2</th>\n",
       "      <td>Cluster-67248.101001</td>\n",
       "      <td>--</td>\n",
       "    </tr>\n",
       "    <tr>\n",
       "      <th>3</th>\n",
       "      <td>Cluster-67248.101576</td>\n",
       "      <td>--</td>\n",
       "    </tr>\n",
       "    <tr>\n",
       "      <th>4</th>\n",
       "      <td>Cluster-67248.102077</td>\n",
       "      <td>GO:0005737</td>\n",
       "    </tr>\n",
       "  </tbody>\n",
       "</table>\n",
       "</div>"
      ],
      "text/plain": [
       "                Gene_ID          GO\n",
       "0  Cluster-67248.100189          --\n",
       "1  Cluster-67248.100665          --\n",
       "2  Cluster-67248.101001          --\n",
       "3  Cluster-67248.101576          --\n",
       "4  Cluster-67248.102077  GO:0005737"
      ]
     },
     "execution_count": 62,
     "metadata": {},
     "output_type": "execute_result"
    }
   ],
   "source": [
    "melt_CC= GO_CC.melt(id_vars = ['Gene_ID'], value_name = 'GO')\n",
    "melt_CC = melt_CC.drop(['variable'], axis =1)\n",
    "melt_CC.head()"
   ]
  },
  {
   "cell_type": "code",
   "execution_count": 63,
   "id": "organic-contractor",
   "metadata": {},
   "outputs": [
    {
     "data": {
      "text/plain": [
       "Gene_ID    213\n",
       "GO          84\n",
       "dtype: int64"
      ]
     },
     "execution_count": 63,
     "metadata": {},
     "output_type": "execute_result"
    }
   ],
   "source": [
    "melt_CC.count()"
   ]
  },
  {
   "cell_type": "code",
   "execution_count": 64,
   "id": "interpreted-bahamas",
   "metadata": {},
   "outputs": [],
   "source": [
    "nan_value = float(\"NaN\")\n",
    "melt_CC['GO'].replace(\"--\", nan_value, inplace=True)\n",
    "melt_CC.dropna(subset = [\"GO\"], inplace=True)"
   ]
  },
  {
   "cell_type": "code",
   "execution_count": 65,
   "id": "binding-charm",
   "metadata": {},
   "outputs": [],
   "source": [
    "df_cc = melt_CC[melt_CC['GO'].astype(bool)]"
   ]
  },
  {
   "cell_type": "code",
   "execution_count": 66,
   "id": "hydraulic-ready",
   "metadata": {},
   "outputs": [
    {
     "data": {
      "text/plain": [
       "Gene_ID    39\n",
       "GO         39\n",
       "dtype: int64"
      ]
     },
     "execution_count": 66,
     "metadata": {},
     "output_type": "execute_result"
    }
   ],
   "source": [
    "df_cc.count()"
   ]
  },
  {
   "cell_type": "markdown",
   "id": "cardiac-fiction",
   "metadata": {},
   "source": [
    "* Combine all three process"
   ]
  },
  {
   "cell_type": "code",
   "execution_count": 67,
   "id": "invisible-sacrifice",
   "metadata": {},
   "outputs": [],
   "source": [
    "annot_all = pd.concat([df_bp, df_mf, df_cc])"
   ]
  },
  {
   "cell_type": "code",
   "execution_count": 68,
   "id": "affected-brook",
   "metadata": {},
   "outputs": [
    {
     "data": {
      "text/plain": [
       "(326, 2)"
      ]
     },
     "execution_count": 68,
     "metadata": {},
     "output_type": "execute_result"
    }
   ],
   "source": [
    "annot_all.shape"
   ]
  },
  {
   "cell_type": "code",
   "execution_count": 69,
   "id": "needed-laundry",
   "metadata": {},
   "outputs": [],
   "source": [
    "annot_all.to_csv('annot_list_mint_653v111.csv')"
   ]
  },
  {
   "cell_type": "code",
   "execution_count": null,
   "id": "norman-reserve",
   "metadata": {},
   "outputs": [],
   "source": []
  },
  {
   "cell_type": "markdown",
   "id": "increasing-nicaragua",
   "metadata": {},
   "source": [
    "#### Veticillium dahliae"
   ]
  },
  {
   "cell_type": "code",
   "execution_count": 41,
   "id": "usual-ambassador",
   "metadata": {},
   "outputs": [],
   "source": [
    "import os\n",
    "import pandas as pd\n",
    "import numpy as np"
   ]
  },
  {
   "cell_type": "code",
   "execution_count": 87,
   "id": "international-glance",
   "metadata": {},
   "outputs": [],
   "source": [
    "os.chdir('C:/Users/sudha.gcupadhaya/Desktop/GO_Enrichment_Analysis/Vd/')\n",
    "degs = pd.read_csv('Fungal_genename.csv')\n",
    "annot = pd.read_csv('Vd_gene.goannot.csv')"
   ]
  },
  {
   "cell_type": "code",
   "execution_count": 88,
   "id": "satisfied-oregon",
   "metadata": {},
   "outputs": [],
   "source": [
    "selected_degs = degs['Gene_ID']\n",
    "selected_annot = annot[annot['Gene_ID'].isin(selected_degs)]"
   ]
  },
  {
   "cell_type": "code",
   "execution_count": 89,
   "id": "gentle-grove",
   "metadata": {},
   "outputs": [],
   "source": [
    "df_GO = selected_annot[['Gene_ID', 'biological_process', 'molecular_function', 'cellular_component']]\n",
    "df_GO.columns = ['Gene_ID', 'BP', 'MF', 'CC']"
   ]
  },
  {
   "cell_type": "code",
   "execution_count": 90,
   "id": "accurate-competition",
   "metadata": {},
   "outputs": [
    {
     "data": {
      "text/plain": [
       "(28, 4)"
      ]
     },
     "execution_count": 90,
     "metadata": {},
     "output_type": "execute_result"
    }
   ],
   "source": [
    "df_GO.shape"
   ]
  },
  {
   "cell_type": "markdown",
   "id": "minute-success",
   "metadata": {},
   "source": [
    "* BP"
   ]
  },
  {
   "cell_type": "code",
   "execution_count": 91,
   "id": "sought-power",
   "metadata": {},
   "outputs": [],
   "source": [
    "ID = df_GO['Gene_ID']\n",
    "BP = df_GO['BP'].str.split('//', 1000, expand = True)\n",
    "GO_BP = pd.concat([ID, BP], axis =1)"
   ]
  },
  {
   "cell_type": "code",
   "execution_count": 92,
   "id": "sitting-jonathan",
   "metadata": {},
   "outputs": [
    {
     "data": {
      "text/html": [
       "<div>\n",
       "<style scoped>\n",
       "    .dataframe tbody tr th:only-of-type {\n",
       "        vertical-align: middle;\n",
       "    }\n",
       "\n",
       "    .dataframe tbody tr th {\n",
       "        vertical-align: top;\n",
       "    }\n",
       "\n",
       "    .dataframe thead th {\n",
       "        text-align: right;\n",
       "    }\n",
       "</style>\n",
       "<table border=\"1\" class=\"dataframe\">\n",
       "  <thead>\n",
       "    <tr style=\"text-align: right;\">\n",
       "      <th></th>\n",
       "      <th>Gene_ID</th>\n",
       "      <th>GO</th>\n",
       "    </tr>\n",
       "  </thead>\n",
       "  <tbody>\n",
       "    <tr>\n",
       "      <th>0</th>\n",
       "      <td>mRNA_10037</td>\n",
       "      <td>GO:0008150</td>\n",
       "    </tr>\n",
       "    <tr>\n",
       "      <th>1</th>\n",
       "      <td>mRNA_10198</td>\n",
       "      <td>GO:1901135</td>\n",
       "    </tr>\n",
       "    <tr>\n",
       "      <th>2</th>\n",
       "      <td>mRNA_10347</td>\n",
       "      <td>GO:0008152</td>\n",
       "    </tr>\n",
       "    <tr>\n",
       "      <th>3</th>\n",
       "      <td>mRNA_1128</td>\n",
       "      <td>GO:0044699</td>\n",
       "    </tr>\n",
       "    <tr>\n",
       "      <th>4</th>\n",
       "      <td>mRNA_1402</td>\n",
       "      <td>GO:0006542</td>\n",
       "    </tr>\n",
       "  </tbody>\n",
       "</table>\n",
       "</div>"
      ],
      "text/plain": [
       "      Gene_ID          GO\n",
       "0  mRNA_10037  GO:0008150\n",
       "1  mRNA_10198  GO:1901135\n",
       "2  mRNA_10347  GO:0008152\n",
       "3   mRNA_1128  GO:0044699\n",
       "4   mRNA_1402  GO:0006542"
      ]
     },
     "execution_count": 92,
     "metadata": {},
     "output_type": "execute_result"
    }
   ],
   "source": [
    "melt_BP= GO_BP.melt(id_vars = ['Gene_ID'], value_name = 'GO')\n",
    "melt_BP = melt_BP.drop(['variable'], axis =1)\n",
    "melt_BP.head()"
   ]
  },
  {
   "cell_type": "code",
   "execution_count": 93,
   "id": "substantial-payment",
   "metadata": {},
   "outputs": [
    {
     "data": {
      "text/plain": [
       "Gene_ID    2520\n",
       "GO          538\n",
       "dtype: int64"
      ]
     },
     "execution_count": 93,
     "metadata": {},
     "output_type": "execute_result"
    }
   ],
   "source": [
    "melt_BP.count()"
   ]
  },
  {
   "cell_type": "code",
   "execution_count": 94,
   "id": "precious-cement",
   "metadata": {},
   "outputs": [],
   "source": [
    "nan_value = float(\"NaN\")\n",
    "melt_BP['GO'].replace(\"--\", nan_value, inplace=True)\n",
    "melt_BP.dropna(subset = [\"GO\"], inplace=True)"
   ]
  },
  {
   "cell_type": "code",
   "execution_count": 95,
   "id": "wicked-practitioner",
   "metadata": {},
   "outputs": [],
   "source": [
    "df_bp = melt_BP[melt_BP['GO'].astype(bool)]"
   ]
  },
  {
   "cell_type": "code",
   "execution_count": 96,
   "id": "crazy-humanity",
   "metadata": {},
   "outputs": [
    {
     "data": {
      "text/plain": [
       "Gene_ID    535\n",
       "GO         535\n",
       "dtype: int64"
      ]
     },
     "execution_count": 96,
     "metadata": {},
     "output_type": "execute_result"
    }
   ],
   "source": [
    "df_bp.count()"
   ]
  },
  {
   "cell_type": "markdown",
   "id": "cross-feedback",
   "metadata": {},
   "source": [
    "* MF"
   ]
  },
  {
   "cell_type": "code",
   "execution_count": 97,
   "id": "documentary-ballot",
   "metadata": {},
   "outputs": [],
   "source": [
    "ID = df_GO['Gene_ID']\n",
    "MF = df_GO['MF'].str.split('//', 1000, expand = True)\n",
    "GO_MF = pd.concat([ID, MF], axis =1)"
   ]
  },
  {
   "cell_type": "code",
   "execution_count": 98,
   "id": "valued-philippines",
   "metadata": {},
   "outputs": [
    {
     "data": {
      "text/html": [
       "<div>\n",
       "<style scoped>\n",
       "    .dataframe tbody tr th:only-of-type {\n",
       "        vertical-align: middle;\n",
       "    }\n",
       "\n",
       "    .dataframe tbody tr th {\n",
       "        vertical-align: top;\n",
       "    }\n",
       "\n",
       "    .dataframe thead th {\n",
       "        text-align: right;\n",
       "    }\n",
       "</style>\n",
       "<table border=\"1\" class=\"dataframe\">\n",
       "  <thead>\n",
       "    <tr style=\"text-align: right;\">\n",
       "      <th></th>\n",
       "      <th>Gene_ID</th>\n",
       "      <th>GO</th>\n",
       "    </tr>\n",
       "  </thead>\n",
       "  <tbody>\n",
       "    <tr>\n",
       "      <th>0</th>\n",
       "      <td>mRNA_10037</td>\n",
       "      <td>--</td>\n",
       "    </tr>\n",
       "    <tr>\n",
       "      <th>1</th>\n",
       "      <td>mRNA_10198</td>\n",
       "      <td>GO:0008233</td>\n",
       "    </tr>\n",
       "    <tr>\n",
       "      <th>2</th>\n",
       "      <td>mRNA_10347</td>\n",
       "      <td>GO:0003824</td>\n",
       "    </tr>\n",
       "    <tr>\n",
       "      <th>3</th>\n",
       "      <td>mRNA_1128</td>\n",
       "      <td>GO:0097159</td>\n",
       "    </tr>\n",
       "    <tr>\n",
       "      <th>4</th>\n",
       "      <td>mRNA_1402</td>\n",
       "      <td>GO:0016211</td>\n",
       "    </tr>\n",
       "  </tbody>\n",
       "</table>\n",
       "</div>"
      ],
      "text/plain": [
       "      Gene_ID          GO\n",
       "0  mRNA_10037          --\n",
       "1  mRNA_10198  GO:0008233\n",
       "2  mRNA_10347  GO:0003824\n",
       "3   mRNA_1128  GO:0097159\n",
       "4   mRNA_1402  GO:0016211"
      ]
     },
     "execution_count": 98,
     "metadata": {},
     "output_type": "execute_result"
    }
   ],
   "source": [
    "melt_MF= GO_MF.melt(id_vars = ['Gene_ID'], value_name = 'GO')\n",
    "melt_MF = melt_MF.drop(['variable'], axis =1)\n",
    "melt_MF.head()"
   ]
  },
  {
   "cell_type": "code",
   "execution_count": 99,
   "id": "planned-situation",
   "metadata": {},
   "outputs": [
    {
     "data": {
      "text/plain": [
       "Gene_ID    1400\n",
       "GO          336\n",
       "dtype: int64"
      ]
     },
     "execution_count": 99,
     "metadata": {},
     "output_type": "execute_result"
    }
   ],
   "source": [
    "melt_MF.count()"
   ]
  },
  {
   "cell_type": "code",
   "execution_count": 100,
   "id": "becoming-headquarters",
   "metadata": {},
   "outputs": [],
   "source": [
    "nan_value = float(\"NaN\")\n",
    "melt_MF['GO'].replace(\"--\", nan_value, inplace=True)\n",
    "melt_MF.dropna(subset = [\"GO\"], inplace=True)"
   ]
  },
  {
   "cell_type": "code",
   "execution_count": 101,
   "id": "illegal-finger",
   "metadata": {},
   "outputs": [],
   "source": [
    "df_mf = melt_MF[melt_MF['GO'].astype(bool)]"
   ]
  },
  {
   "cell_type": "code",
   "execution_count": 102,
   "id": "corresponding-enzyme",
   "metadata": {},
   "outputs": [
    {
     "data": {
      "text/plain": [
       "Gene_ID    333\n",
       "GO         333\n",
       "dtype: int64"
      ]
     },
     "execution_count": 102,
     "metadata": {},
     "output_type": "execute_result"
    }
   ],
   "source": [
    "df_mf.count()"
   ]
  },
  {
   "cell_type": "markdown",
   "id": "cleared-military",
   "metadata": {},
   "source": [
    "* CC"
   ]
  },
  {
   "cell_type": "code",
   "execution_count": 103,
   "id": "ceramic-clear",
   "metadata": {},
   "outputs": [],
   "source": [
    "ID = df_GO['Gene_ID']\n",
    "CC = df_GO['CC'].str.split('//', 1000, expand = True)\n",
    "GO_CC = pd.concat([ID, CC], axis =1)"
   ]
  },
  {
   "cell_type": "code",
   "execution_count": 104,
   "id": "literary-immigration",
   "metadata": {},
   "outputs": [
    {
     "data": {
      "text/html": [
       "<div>\n",
       "<style scoped>\n",
       "    .dataframe tbody tr th:only-of-type {\n",
       "        vertical-align: middle;\n",
       "    }\n",
       "\n",
       "    .dataframe tbody tr th {\n",
       "        vertical-align: top;\n",
       "    }\n",
       "\n",
       "    .dataframe thead th {\n",
       "        text-align: right;\n",
       "    }\n",
       "</style>\n",
       "<table border=\"1\" class=\"dataframe\">\n",
       "  <thead>\n",
       "    <tr style=\"text-align: right;\">\n",
       "      <th></th>\n",
       "      <th>Gene_ID</th>\n",
       "      <th>GO</th>\n",
       "    </tr>\n",
       "  </thead>\n",
       "  <tbody>\n",
       "    <tr>\n",
       "      <th>0</th>\n",
       "      <td>mRNA_10037</td>\n",
       "      <td>--</td>\n",
       "    </tr>\n",
       "    <tr>\n",
       "      <th>1</th>\n",
       "      <td>mRNA_10198</td>\n",
       "      <td>GO:0005576</td>\n",
       "    </tr>\n",
       "    <tr>\n",
       "      <th>2</th>\n",
       "      <td>mRNA_10347</td>\n",
       "      <td>--</td>\n",
       "    </tr>\n",
       "    <tr>\n",
       "      <th>3</th>\n",
       "      <td>mRNA_1128</td>\n",
       "      <td>GO:0031224</td>\n",
       "    </tr>\n",
       "    <tr>\n",
       "      <th>4</th>\n",
       "      <td>mRNA_1402</td>\n",
       "      <td>--</td>\n",
       "    </tr>\n",
       "  </tbody>\n",
       "</table>\n",
       "</div>"
      ],
      "text/plain": [
       "      Gene_ID          GO\n",
       "0  mRNA_10037          --\n",
       "1  mRNA_10198  GO:0005576\n",
       "2  mRNA_10347          --\n",
       "3   mRNA_1128  GO:0031224\n",
       "4   mRNA_1402          --"
      ]
     },
     "execution_count": 104,
     "metadata": {},
     "output_type": "execute_result"
    }
   ],
   "source": [
    "melt_CC= GO_CC.melt(id_vars = ['Gene_ID'], value_name = 'GO')\n",
    "melt_CC = melt_CC.drop(['variable'], axis =1)\n",
    "melt_CC.head()"
   ]
  },
  {
   "cell_type": "code",
   "execution_count": 105,
   "id": "variable-looking",
   "metadata": {},
   "outputs": [
    {
     "data": {
      "text/plain": [
       "Gene_ID    896\n",
       "GO          92\n",
       "dtype: int64"
      ]
     },
     "execution_count": 105,
     "metadata": {},
     "output_type": "execute_result"
    }
   ],
   "source": [
    "melt_CC.count()"
   ]
  },
  {
   "cell_type": "code",
   "execution_count": 106,
   "id": "protecting-charles",
   "metadata": {},
   "outputs": [],
   "source": [
    "nan_value = float(\"NaN\")\n",
    "melt_CC['GO'].replace(\"--\", nan_value, inplace=True)\n",
    "melt_CC.dropna(subset = [\"GO\"], inplace=True)"
   ]
  },
  {
   "cell_type": "code",
   "execution_count": 107,
   "id": "textile-queens",
   "metadata": {},
   "outputs": [],
   "source": [
    "df_cc = melt_CC[melt_CC['GO'].astype(bool)]"
   ]
  },
  {
   "cell_type": "code",
   "execution_count": 108,
   "id": "frank-mathematics",
   "metadata": {},
   "outputs": [
    {
     "data": {
      "text/plain": [
       "Gene_ID    74\n",
       "GO         74\n",
       "dtype: int64"
      ]
     },
     "execution_count": 108,
     "metadata": {},
     "output_type": "execute_result"
    }
   ],
   "source": [
    "df_cc.count()"
   ]
  },
  {
   "cell_type": "markdown",
   "id": "least-klein",
   "metadata": {},
   "source": [
    "* Combine all three process"
   ]
  },
  {
   "cell_type": "code",
   "execution_count": 109,
   "id": "advised-blond",
   "metadata": {},
   "outputs": [],
   "source": [
    "annot_all = pd.concat([df_bp, df_mf, df_cc])"
   ]
  },
  {
   "cell_type": "code",
   "execution_count": 110,
   "id": "vocal-chicago",
   "metadata": {},
   "outputs": [
    {
     "data": {
      "text/plain": [
       "(942, 2)"
      ]
     },
     "execution_count": 110,
     "metadata": {},
     "output_type": "execute_result"
    }
   ],
   "source": [
    "annot_all.shape"
   ]
  },
  {
   "cell_type": "code",
   "execution_count": 111,
   "id": "executed-powell",
   "metadata": {},
   "outputs": [],
   "source": [
    "annot_all.to_csv('annot_list_Vd_all.csv')"
   ]
  },
  {
   "cell_type": "code",
   "execution_count": null,
   "id": "overall-daisy",
   "metadata": {},
   "outputs": [],
   "source": []
  }
 ],
 "metadata": {
  "kernelspec": {
   "display_name": "Python 3",
   "language": "python",
   "name": "python3"
  },
  "language_info": {
   "codemirror_mode": {
    "name": "ipython",
    "version": 3
   },
   "file_extension": ".py",
   "mimetype": "text/x-python",
   "name": "python",
   "nbconvert_exporter": "python",
   "pygments_lexer": "ipython3",
   "version": "3.7.7"
  }
 },
 "nbformat": 4,
 "nbformat_minor": 5
}
