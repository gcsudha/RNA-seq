{
 "cells": [
  {
   "cell_type": "markdown",
   "metadata": {},
   "source": [
    "<h1> <center>Transcriptome Validation Project</center></h1> "
   ]
  },
  {
   "cell_type": "markdown",
   "metadata": {},
   "source": [
    "### Authors: Sudha GC Upadhaya & David Linnard Wheeler     "
   ]
  },
  {
   "cell_type": "markdown",
   "metadata": {},
   "source": [
    "## Objectives"
   ]
  },
  {
   "cell_type": "markdown",
   "metadata": {},
   "source": [
    "- Validate the differences in gene experssion between symptomatic vs asymptomatic hosts\n",
    "- Validate the differences in gene experssion of *Verticillium dahliae* isolates between symptomatic vs asymtomatic hosts"
   ]
  },
  {
   "cell_type": "markdown",
   "metadata": {},
   "source": [
    "## Experimental design"
   ]
  },
  {
   "cell_type": "markdown",
   "metadata": {},
   "source": [
    "- Treatment structure: 2 way factorial\n",
    "- Independent variables: \n",
    "  - Two Hosts\n",
    "    * Potato: cv. 'Russet Burbank'\n",
    "    * Brown mustard: cv. 'ISCI 99'\n",
    "  - Three Fungi\n",
    "    - *𝑉𝑒𝑟𝑡𝑖𝑐𝑖𝑙𝑙𝑖𝑢𝑚 𝑑𝑎ℎ𝑙𝑖𝑎𝑒*-653 (Virulent in potato and avirulent in mint)\n",
    "    - *𝑉𝑒𝑟𝑡𝑖𝑐𝑖𝑙𝑙𝑖𝑢𝑚 𝑑𝑎ℎ𝑙𝑖𝑎𝑒*-111 (Virulent in mint and avirulent in potato)\n",
    "    -  Non-inoculated control (Water only)\n",
    "       \n",
    "- Sample collection: 10 days after inoculation\n",
    "- Three replicates\n",
    "- Design structure: Randomized complete Block Design \n",
    "- Observational unit: plant\n",
    "- Experimental unit: plant\n",
    "- Samples: whole plants\n",
    "- Data\n",
    "    - RNA quantity\n",
    "    - Fold change\n",
    "- Analysis: \n",
    "   - delta-delta ct method\n",
    "   - correlation"
   ]
  },
  {
   "cell_type": "markdown",
   "metadata": {},
   "source": [
    "## Material and Methods"
   ]
  },
  {
   "cell_type": "markdown",
   "metadata": {},
   "source": [
    "  **Greenhouse trial**\n",
    "* Inoculum preparation for root dips (3.5\"pot):\n",
    " * Inoculum for isolates 653 and 111:\n",
    "   * 60 plants/3 isolates = 20 plants/isolate \n",
    "   * 100 ml/plant (Dung et al. 2010) = 2000 ml = 2 L inoculum/isolate\n",
    "   * 2 L of 10 conidia/ml inoculum is needed per isolate\n",
    "   * 2 L/200 ml/flask = 10 flasks/isolate \n",
    "* Trial planting date: 8/21/2020\n",
    "* Trial inoculation date: 9/2/2020 \n",
    "* Sample collection date : 9/12/2020 potato and mustards harvest @ 10 dpi\n"
   ]
  },
  {
   "cell_type": "markdown",
   "metadata": {},
   "source": [
    "**Gene expression validation**\n",
    "* RNA extraction: Crude method (Kumar et al. 2007)\n",
    "* RNA quantification: QUBIT Flurometer\n",
    "* RNA integrity check: Gel electorophoresis\n",
    "* cDNA synthesis: VWR cDNA supermix\n",
    "   * 6 µl of ~1µg total RNA + 4 µl supermix + 10 µl water\n",
    "   * Incubate: 5 min at 25°C +30 min at 42°C + 5 min at 85°C and hold at 4°C\n",
    "   * Dilute cDNA to 1/5th\n",
    "   * Store at -20°C\n",
    "* Primer design: \n",
    "   * 19 to 23 bp\n",
    "   * Product size: 70 to 210 bp\n",
    "   * GC content: 35% to 65%\n",
    "   * Spanning exon-exon junction (if applicable)\n",
    "* RTPCR\n",
    "  * Reaction mixture (10µl): \n",
    "     * SYBR Select Mix(2X): 5µl\n",
    "     * Forward primer (10µM): 0.5µl\n",
    "     * Reverse primer (10µM): 0.5µl\n",
    "     * H20: 3µl\n",
    "     * cDNA template: 1µl\n",
    "\n",
    "  * RT-PCR cycling condition:\n",
    "     * Initial denaturation 95°C for 10 min\n",
    "     * 40 cycles   95°C for 15 sec;\n",
    "     * 40 cycles   62°C for 1 min; \n",
    "     * Followed by 60 cycles of temperature increasing from 60°C to 95°C with fluorescence readings     acquired at 0.5°C \n",
    "        increment per cycle. \n",
    "   * Internal control: Housekeeping gene for normalization\n",
    "   * Negative control: No template\n",
    "   * Three technical replications\n",
    "   * Three biological replications\n",
    "   * Check melting curve for the presence of single amplified product\n",
    "* Calculate Ct values for samples using LinRegPCR software\n",
    "* Calculate primer efficiency using LinRegPCR (Ruijter et al. 2009)\n",
    "* Calculate log2foldchange using delta-delat Ct methond (Livak et al. 2001)\n",
    "   * $∆∆Ct = ∆Ct (Treatment) – ∆Ct (Control)$\n",
    "   * $Fold change = 2^-(∆∆Ct)$"
   ]
  },
  {
   "cell_type": "markdown",
   "metadata": {},
   "source": [
    "### Data Analysis/Visualization"
   ]
  },
  {
   "cell_type": "code",
   "execution_count": 24,
   "metadata": {},
   "outputs": [
    {
     "data": {
      "text/html": [
       "'C:/Users/sudha.gcupadhaya/Desktop/RNA-seq/Validation project/Data and Script'"
      ],
      "text/latex": [
       "'C:/Users/sudha.gcupadhaya/Desktop/RNA-seq/Validation project/Data and Script'"
      ],
      "text/markdown": [
       "'C:/Users/sudha.gcupadhaya/Desktop/RNA-seq/Validation project/Data and Script'"
      ],
      "text/plain": [
       "[1] \"C:/Users/sudha.gcupadhaya/Desktop/RNA-seq/Validation project/Data and Script\""
      ]
     },
     "metadata": {},
     "output_type": "display_data"
    }
   ],
   "source": [
    "getwd()#get working directory"
   ]
  },
  {
   "cell_type": "code",
   "execution_count": 106,
   "metadata": {},
   "outputs": [],
   "source": [
    "library(tidyr)#data wrangling\n",
    "library(ggplot2)# plotting\n",
    "library(ggthemes)#themes\n",
    "library(ggpubr)#gather function\n",
    "library(dplyr)\n",
    "library(stringr)"
   ]
  },
  {
   "cell_type": "code",
   "execution_count": 122,
   "metadata": {},
   "outputs": [],
   "source": [
    "df<- read.csv('qpcr.csv')#import data"
   ]
  },
  {
   "cell_type": "code",
   "execution_count": 123,
   "metadata": {},
   "outputs": [
    {
     "name": "stdout",
     "output_type": "stream",
     "text": [
      "'data.frame':\t90 obs. of  7 variables:\n",
      " $ ID         : Factor w/ 21 levels \"Bj-10\",\"Bj-11\",..: 3 3 3 3 3 3 4 4 4 4 ...\n",
      " $ Host       : Factor w/ 4 levels \"Brassica juncea\",..: 1 1 1 1 1 1 1 1 1 1 ...\n",
      " $ Gene       : Factor w/ 30 levels \"Bj_Cluster-15354.44072-1\",..: 3 3 3 4 4 4 5 5 5 6 ...\n",
      " $ comparision: Factor w/ 6 levels \"111 vs 653\",\"111 vs control\",..: 3 3 3 1 1 1 3 3 3 2 ...\n",
      " $ Replication: int  1 2 3 1 2 3 1 2 3 1 ...\n",
      " $ qPCR       : Factor w/ 86 levels \"-0.19\",\"-0.34\",..: 36 16 44 79 68 74 67 77 70 75 ...\n",
      " $ RNASeq     : num  -6.2 -6.2 -6.2 6.2 6.2 6.2 3 3 3 3.5 ...\n"
     ]
    }
   ],
   "source": [
    "str(df)"
   ]
  },
  {
   "cell_type": "code",
   "execution_count": 124,
   "metadata": {},
   "outputs": [
    {
     "name": "stderr",
     "output_type": "stream",
     "text": [
      "Warning message in eval(expr, envir, enclos):\n",
      "\"NAs introduced by coercion\""
     ]
    }
   ],
   "source": [
    "df$Replication <- as.factor(df$Replication)#change numeric data to factor\n",
    "df$qPCR <- as.numeric(as.character(df$qPCR))#change factor to numeric\n",
    "df$Host <- factor(df$Host, levels= c('Brassica juncea','Solanum tuberosum', 'Mentha x piperita','Verticillium dahliae'),\n",
    "                 labels = c('mustard', 'potato', 'mint', 'V. dahliae'))"
   ]
  },
  {
   "cell_type": "code",
   "execution_count": 125,
   "metadata": {},
   "outputs": [
    {
     "data": {
      "text/html": [
       "<ol class=list-inline>\n",
       "\t<li>'111 vs 653'</li>\n",
       "\t<li>'mustard(111) vs potato(111)'</li>\n",
       "\t<li>'111 vs control'</li>\n",
       "\t<li>'mustard(653) vs potato(653)'</li>\n",
       "\t<li>'653 vs control'</li>\n",
       "\t<li>'potato(111) vs potato(653)'</li>\n",
       "</ol>\n"
      ],
      "text/latex": [
       "\\begin{enumerate*}\n",
       "\\item '111 vs 653'\n",
       "\\item 'mustard(111) vs potato(111)'\n",
       "\\item '111 vs control'\n",
       "\\item 'mustard(653) vs potato(653)'\n",
       "\\item '653 vs control'\n",
       "\\item 'potato(111) vs potato(653)'\n",
       "\\end{enumerate*}\n"
      ],
      "text/markdown": [
       "1. '111 vs 653'\n",
       "2. 'mustard(111) vs potato(111)'\n",
       "3. '111 vs control'\n",
       "4. 'mustard(653) vs potato(653)'\n",
       "5. '653 vs control'\n",
       "6. 'potato(111) vs potato(653)'\n",
       "\n",
       "\n"
      ],
      "text/plain": [
       "[1] \"111 vs 653\"                  \"mustard(111) vs potato(111)\"\n",
       "[3] \"111 vs control\"              \"mustard(653) vs potato(653)\"\n",
       "[5] \"653 vs control\"              \"potato(111) vs potato(653)\" "
      ]
     },
     "metadata": {},
     "output_type": "display_data"
    }
   ],
   "source": [
    "#rearrange the comparison labels\n",
    "df$comparision <- factor(df$comparision, \n",
    "                         levels = c('111 vs 653', 'Bj(111) vs St(111)', '111 vs control', 'Bj(653) vs St(653)','653 vs control', 'St(111) vs St(653)'),\n",
    "                        labels = c('111 vs 653', 'mustard(111) vs potato(111)', '111 vs control', 'mustard(653) vs potato(653)',\n",
    "                                   '653 vs control', 'potato(111) vs potato(653)'))\n",
    "levels(df$comparision)"
   ]
  },
  {
   "cell_type": "code",
   "execution_count": 126,
   "metadata": {},
   "outputs": [
    {
     "name": "stdout",
     "output_type": "stream",
     "text": [
      "'data.frame':\t90 obs. of  7 variables:\n",
      " $ ID         : Factor w/ 21 levels \"Bj-10\",\"Bj-11\",..: 3 3 3 3 3 3 4 4 4 4 ...\n",
      " $ Host       : Factor w/ 4 levels \"mustard\",\"potato\",..: 1 1 1 1 1 1 1 1 1 1 ...\n",
      " $ Gene       : Factor w/ 30 levels \"Bj_Cluster-15354.44072-1\",..: 3 3 3 4 4 4 5 5 5 6 ...\n",
      " $ comparision: Factor w/ 6 levels \"111 vs 653\",\"mustard(111) vs potato(111)\",..: 5 5 5 1 1 1 5 5 5 3 ...\n",
      " $ Replication: Factor w/ 3 levels \"1\",\"2\",\"3\": 1 2 3 1 2 3 1 2 3 1 ...\n",
      " $ qPCR       : num  -2.12 -1.36 -2.49 2.69 1.68 2.31 1.59 2.5 1.78 2.46 ...\n",
      " $ RNASeq     : num  -6.2 -6.2 -6.2 6.2 6.2 6.2 3 3 3 3.5 ...\n"
     ]
    }
   ],
   "source": [
    "str(df)"
   ]
  },
  {
   "cell_type": "code",
   "execution_count": 127,
   "metadata": {},
   "outputs": [
    {
     "data": {
      "text/html": [
       "<table>\n",
       "<thead><tr><th></th><th scope=col>ID</th><th scope=col>Host</th><th scope=col>Gene</th><th scope=col>comparision</th><th scope=col>Replication</th><th scope=col>qPCR</th><th scope=col>RNASeq</th></tr></thead>\n",
       "<tbody>\n",
       "\t<tr><th scope=row>64</th><td>St-11         </td><td>potato        </td><td>St_TIF5A_ARATH</td><td>111 vs 653    </td><td>1             </td><td>NA            </td><td>1.8           </td></tr>\n",
       "</tbody>\n",
       "</table>\n"
      ],
      "text/latex": [
       "\\begin{tabular}{r|lllllll}\n",
       "  & ID & Host & Gene & comparision & Replication & qPCR & RNASeq\\\\\n",
       "\\hline\n",
       "\t64 & St-11              & potato             & St\\_TIF5A\\_ARATH & 111 vs 653         & 1                  & NA                 & 1.8               \\\\\n",
       "\\end{tabular}\n"
      ],
      "text/markdown": [
       "\n",
       "| <!--/--> | ID | Host | Gene | comparision | Replication | qPCR | RNASeq |\n",
       "|---|---|---|---|---|---|---|---|\n",
       "| 64 | St-11          | potato         | St_TIF5A_ARATH | 111 vs 653     | 1              | NA             | 1.8            |\n",
       "\n"
      ],
      "text/plain": [
       "   ID    Host   Gene           comparision Replication qPCR RNASeq\n",
       "64 St-11 potato St_TIF5A_ARATH 111 vs 653  1           NA   1.8   "
      ]
     },
     "metadata": {},
     "output_type": "display_data"
    }
   ],
   "source": [
    "df[!complete.cases(df),]# find data with NA \n",
    "df<- df[!is.na(df$qPCR),]#subset data excluding NAs"
   ]
  },
  {
   "cell_type": "code",
   "execution_count": 128,
   "metadata": {},
   "outputs": [
    {
     "data": {
      "text/html": [
       "<ol class=list-inline>\n",
       "\t<li>89</li>\n",
       "\t<li>7</li>\n",
       "</ol>\n"
      ],
      "text/latex": [
       "\\begin{enumerate*}\n",
       "\\item 89\n",
       "\\item 7\n",
       "\\end{enumerate*}\n"
      ],
      "text/markdown": [
       "1. 89\n",
       "2. 7\n",
       "\n",
       "\n"
      ],
      "text/plain": [
       "[1] 89  7"
      ]
     },
     "metadata": {},
     "output_type": "display_data"
    }
   ],
   "source": [
    "dim(df)"
   ]
  },
  {
   "cell_type": "markdown",
   "metadata": {},
   "source": [
    "**Remove St_... from gene names**"
   ]
  },
  {
   "cell_type": "code",
   "execution_count": 129,
   "metadata": {},
   "outputs": [],
   "source": [
    "df$Gene <- gsub('St_', '', df$Gene)\n",
    "df$Gene <- gsub('Bj_', '', df$Gene)\n",
    "df$Gene <- gsub('Vd_', '', df$Gene)\n",
    "df$Gene <- gsub('Mp_', '', df$Gene)"
   ]
  },
  {
   "cell_type": "code",
   "execution_count": 130,
   "metadata": {},
   "outputs": [
    {
     "data": {
      "text/html": [
       "<ol class=list-inline>\n",
       "\t<li>77</li>\n",
       "\t<li>7</li>\n",
       "</ol>\n"
      ],
      "text/latex": [
       "\\begin{enumerate*}\n",
       "\\item 77\n",
       "\\item 7\n",
       "\\end{enumerate*}\n"
      ],
      "text/markdown": [
       "1. 77\n",
       "2. 7\n",
       "\n",
       "\n"
      ],
      "text/plain": [
       "[1] 77  7"
      ]
     },
     "metadata": {},
     "output_type": "display_data"
    }
   ],
   "source": [
    "df<- df[!df$Host == 'mint', ]# subset mustard, verticillim and potato \n",
    "dim(df)\n"
   ]
  },
  {
   "cell_type": "code",
   "execution_count": 131,
   "metadata": {},
   "outputs": [],
   "source": [
    "Genes_only_1 = c('Cluster-15354.44072-1','Cluster-15354.44072-2','Cluster-15354.86688-1','Cluster-15354.86688-2','NUP1_ARATH-1', 'NUP1_ARATH-2',\n",
    "'PDRP2_ARATH-1','PDRP2_ARATH-2','SCL1_ARATH-1','SCL1_ARATH-2','ABAH1_ARATH-1','ABAH1_ARATH-2',\n",
    "'CHSB_SOLTU','EDL3_ARATH','LOX12_SOLTU','PGSC0003DMG400024310-1','PGSC0003DMG400024310-2', 'PR04_SOLLC-1','PR04_SOLLC-2',\n",
    "'PRR1_TOBAC','TIF5A_ARATH','WRK40_ARATH','AOX_PODAS','AYG1_ASPFU', 'mRNA_1341','YDDQ_BACSU')"
   ]
  },
  {
   "cell_type": "code",
   "execution_count": 132,
   "metadata": {},
   "outputs": [],
   "source": [
    "x_labs_1 = expression('Cluster-15354.44072-1','Cluster-15354.44072-2','Cluster-15354.86688-1','Cluster-15354.86688-2',italic('NUP1_ARATH-1'),italic('NUP1_ARATH-2'),\n",
    "italic('PDRP2_ARATH-1'),italic('PDRP2_ARATH-2'),italic('SCL1_ARATH-1'),italic('SCL1_ARATH-2'),italic('ABAH1_ARATH-1'),italic('ABAH1_ARATH-2'),\n",
    "italic('CHSB_SOLTU'),italic('EDL3_ARATH'),italic('LOX12_SOLTU'),'PGSC0003DMG400024310-1','PGSC0003DMG400024310-2', italic('PR04_SOLLC-1'),italic('PR04_SOLLC-2'),\n",
    "italic('PRR1_TOBAC'),italic('TIF5A_ARATH'),italic('WRK40_ARATH'),italic('AOX_PODAS'),italic('AYG1_ASPFU'), 'mRNA_1341',italic('YDDQ_BACSU'))"
   ]
  },
  {
   "cell_type": "markdown",
   "metadata": {},
   "source": [
    "**Gather data to longer format**"
   ]
  },
  {
   "cell_type": "code",
   "execution_count": 133,
   "metadata": {},
   "outputs": [],
   "source": [
    "df1<- gather(df, method, foldchange, qPCR:RNASeq)"
   ]
  },
  {
   "cell_type": "code",
   "execution_count": 134,
   "metadata": {},
   "outputs": [
    {
     "data": {
      "text/html": [
       "<table>\n",
       "<thead><tr><th scope=col>ID</th><th scope=col>Host</th><th scope=col>Gene</th><th scope=col>comparision</th><th scope=col>Replication</th><th scope=col>method</th><th scope=col>foldchange</th></tr></thead>\n",
       "<tbody>\n",
       "\t<tr><td>Bj-3                 </td><td>mustard              </td><td>Cluster-15354.86688-1</td><td>653 vs control       </td><td>1                    </td><td>qPCR                 </td><td>-2.12                </td></tr>\n",
       "\t<tr><td>Bj-3                 </td><td>mustard              </td><td>Cluster-15354.86688-1</td><td>653 vs control       </td><td>2                    </td><td>qPCR                 </td><td>-1.36                </td></tr>\n",
       "\t<tr><td>Bj-3                 </td><td>mustard              </td><td>Cluster-15354.86688-1</td><td>653 vs control       </td><td>3                    </td><td>qPCR                 </td><td>-2.49                </td></tr>\n",
       "\t<tr><td>Bj-3                 </td><td>mustard              </td><td>Cluster-15354.86688-2</td><td>111 vs 653           </td><td>1                    </td><td>qPCR                 </td><td> 2.69                </td></tr>\n",
       "</tbody>\n",
       "</table>\n"
      ],
      "text/latex": [
       "\\begin{tabular}{r|lllllll}\n",
       " ID & Host & Gene & comparision & Replication & method & foldchange\\\\\n",
       "\\hline\n",
       "\t Bj-3                  & mustard               & Cluster-15354.86688-1 & 653 vs control        & 1                     & qPCR                  & -2.12                \\\\\n",
       "\t Bj-3                  & mustard               & Cluster-15354.86688-1 & 653 vs control        & 2                     & qPCR                  & -1.36                \\\\\n",
       "\t Bj-3                  & mustard               & Cluster-15354.86688-1 & 653 vs control        & 3                     & qPCR                  & -2.49                \\\\\n",
       "\t Bj-3                  & mustard               & Cluster-15354.86688-2 & 111 vs 653            & 1                     & qPCR                  &  2.69                \\\\\n",
       "\\end{tabular}\n"
      ],
      "text/markdown": [
       "\n",
       "| ID | Host | Gene | comparision | Replication | method | foldchange |\n",
       "|---|---|---|---|---|---|---|\n",
       "| Bj-3                  | mustard               | Cluster-15354.86688-1 | 653 vs control        | 1                     | qPCR                  | -2.12                 |\n",
       "| Bj-3                  | mustard               | Cluster-15354.86688-1 | 653 vs control        | 2                     | qPCR                  | -1.36                 |\n",
       "| Bj-3                  | mustard               | Cluster-15354.86688-1 | 653 vs control        | 3                     | qPCR                  | -2.49                 |\n",
       "| Bj-3                  | mustard               | Cluster-15354.86688-2 | 111 vs 653            | 1                     | qPCR                  |  2.69                 |\n",
       "\n"
      ],
      "text/plain": [
       "  ID   Host    Gene                  comparision    Replication method\n",
       "1 Bj-3 mustard Cluster-15354.86688-1 653 vs control 1           qPCR  \n",
       "2 Bj-3 mustard Cluster-15354.86688-1 653 vs control 2           qPCR  \n",
       "3 Bj-3 mustard Cluster-15354.86688-1 653 vs control 3           qPCR  \n",
       "4 Bj-3 mustard Cluster-15354.86688-2 111 vs 653     1           qPCR  \n",
       "  foldchange\n",
       "1 -2.12     \n",
       "2 -1.36     \n",
       "3 -2.49     \n",
       "4  2.69     "
      ]
     },
     "metadata": {},
     "output_type": "display_data"
    }
   ],
   "source": [
    "head(df1,4)"
   ]
  },
  {
   "cell_type": "markdown",
   "metadata": {},
   "source": [
    "**Create labels for strips**"
   ]
  },
  {
   "cell_type": "markdown",
   "metadata": {},
   "source": [
    "**Create a list of unique gene names**"
   ]
  },
  {
   "cell_type": "code",
   "execution_count": 376,
   "metadata": {},
   "outputs": [
    {
     "data": {
      "text/html": [
       "TRUE"
      ],
      "text/latex": [
       "TRUE"
      ],
      "text/markdown": [
       "TRUE"
      ],
      "text/plain": [
       "[1] TRUE"
      ]
     },
     "metadata": {},
     "output_type": "display_data"
    }
   ],
   "source": [
    "Gene_list<- unique(df$Gene)\n",
    "is.vector(Gene_list)\n",
    "write.table(rbind(Gene_list), file = \"GeneNames.txt\", row.names =FALSE, col.names = FALSE,sep = \",\")"
   ]
  },
  {
   "cell_type": "markdown",
   "metadata": {},
   "source": [
    "**Create the list of genes to change into italics**"
   ]
  },
  {
   "cell_type": "markdown",
   "metadata": {},
   "source": [
    "#### Boxplot"
   ]
  },
  {
   "cell_type": "code",
   "execution_count": 135,
   "metadata": {},
   "outputs": [],
   "source": [
    "#rename the qpcr and RNAseq column\n",
    "method.labs <- c(\"qRT-PCR\",\"RNA-seq\")\n",
    "names(method.labs) <- c(\"qPCR\", \"RNASeq\")"
   ]
  },
  {
   "cell_type": "code",
   "execution_count": 136,
   "metadata": {},
   "outputs": [
    {
     "data": {
      "text/html": [
       "<ol class=list-inline>\n",
       "\t<li>'mustard'</li>\n",
       "\t<li>'potato'</li>\n",
       "\t<li>'mint'</li>\n",
       "\t<li>'italic(\"V. dahliae\")'</li>\n",
       "</ol>\n"
      ],
      "text/latex": [
       "\\begin{enumerate*}\n",
       "\\item 'mustard'\n",
       "\\item 'potato'\n",
       "\\item 'mint'\n",
       "\\item 'italic(\"V. dahliae\")'\n",
       "\\end{enumerate*}\n"
      ],
      "text/markdown": [
       "1. 'mustard'\n",
       "2. 'potato'\n",
       "3. 'mint'\n",
       "4. 'italic(\"V. dahliae\")'\n",
       "\n",
       "\n"
      ],
      "text/plain": [
       "[1] \"mustard\"                \"potato\"                 \"mint\"                  \n",
       "[4] \"italic(\\\"V. dahliae\\\")\""
      ]
     },
     "metadata": {},
     "output_type": "display_data"
    }
   ],
   "source": [
    "# Rename the labels for Host\n",
    "levels(df1$Host) = c('mustard', 'potato', 'mint',expression(italic('V. dahliae')))\n",
    "levels(df1$Host)"
   ]
  },
  {
   "cell_type": "code",
   "execution_count": 138,
   "metadata": {},
   "outputs": [
    {
     "data": {
      "image/png": "[encoded data removed]",
      "text/plain": [
       "plot without title"
      ]
     },
     "metadata": {},
     "output_type": "display_data"
    }
   ],
   "source": [
    "#tiff('Boxplot.tiff',width=17,height=14,units='in',res=300)\n",
    "Boxplot = ggplot(df1, aes(x= Gene, y= foldchange, fill = comparision))+\n",
    "    geom_boxplot(aes(fill =comparision),alpha=1,lwd=0.6)+\n",
    "    geom_hline(yintercept = 0, alpha = 0.5)+\n",
    "    geom_jitter(size=4,pch=20,alpha = 0.5)+\n",
    "    theme_bw()+\n",
    "    scale_x_discrete('Gene', labels = x_labs_1, breaks = Genes_only_1 )+\n",
    "    facet_grid(method~Host, scales ='free', labeller = labeller(method = method.labs, Host = label_parsed))+#use label_parsed for italics\n",
    "    labs(title ='', x = 'Gene', y =expression(log[2]~fold~change))+\n",
    "    theme(axis.title.x= element_text(size =26, color ='black'),\n",
    "    axis.title.y = element_text(size =26, color ='black'),\n",
    "    axis.text.x = element_text(vjust =1, hjust = 1, size =18,angle =45,color = 'black'),\n",
    "    axis.text.y = element_text(size =24, color = 'black'),\n",
    "    plot.margin=unit(c(1,1,1,1.8),\"cm\"), # top, right, bottom, left  \n",
    "    strip.text.x = element_text(size = 26),\n",
    "    strip.text.y = element_text(size = 26),\n",
    "    legend.text = element_text(size =20),\n",
    "    legend.title = element_text(size =20),\n",
    "    legend.key.size = unit(1.5, 'cm'))+\n",
    "    theme(legend.position=\"bottom\")+\n",
    "    guides(fill = guide_legend('Comparision', override.aes = list(alpha =1)))+\n",
    "    scale_fill_manual(values = c('darkgoldenrod4', 'aquamarine2','firebrick2', 'cornflowerblue','orange','mediumblue'),\n",
    "                    labels = c('111 vs 653', 'mustard(111)\\nvs potato(111)', '111 vs control','mustard(653)\\nvs potato(653)',\n",
    "                                '653 vs control', 'potato(111)\\nvs potato(653)'))\n",
    "Boxplot\n",
    "#dev.off()"
   ]
  },
  {
   "cell_type": "code",
   "execution_count": 51,
   "metadata": {},
   "outputs": [
    {
     "name": "stderr",
     "output_type": "stream",
     "text": [
      "`summarise()` regrouping output by 'Gene', 'comparision' (override with `.groups` argument)\n"
     ]
    },
    {
     "data": {
      "text/html": [
       "<table>\n",
       "<thead><tr><th></th><th scope=col>Avg_RNASeq</th></tr></thead>\n",
       "<tbody>\n",
       "\t<tr><th scope=row>Avg_qPCR</th><td>0.9256268</td></tr>\n",
       "</tbody>\n",
       "</table>\n"
      ],
      "text/latex": [
       "\\begin{tabular}{r|l}\n",
       "  & Avg\\_RNASeq\\\\\n",
       "\\hline\n",
       "\tAvg\\_qPCR & 0.9256268\\\\\n",
       "\\end{tabular}\n"
      ],
      "text/markdown": [
       "\n",
       "| <!--/--> | Avg_RNASeq |\n",
       "|---|---|\n",
       "| Avg_qPCR | 0.9256268 |\n",
       "\n"
      ],
      "text/plain": [
       "         Avg_RNASeq\n",
       "Avg_qPCR 0.9256268 "
      ]
     },
     "metadata": {},
     "output_type": "display_data"
    }
   ],
   "source": [
    "df_summary <- df %>% \n",
    "                group_by (Gene, comparision, Host) %>% \n",
    "                summarise(Avg_qPCR = mean(qPCR), na.rm = T,\n",
    "                          Avg_RNASeq = mean(RNASeq),\n",
    "                          sd_qpcr = sd(qPCR), na.rm = T,\n",
    "                          sd_rnaseq = sd(RNASeq))#calculate mean and sd qpcr foldchange for each gene\n",
    "df_summary<- df_summary[,c(-5,-8)]#remove fifth and eighth rows\n",
    "cor(x=df_summary[,4], y=df_summary[,5])#correlation coefficient"
   ]
  },
  {
   "cell_type": "code",
   "execution_count": 52,
   "metadata": {},
   "outputs": [
    {
     "data": {
      "text/html": [
       "<ol class=list-inline>\n",
       "\t<li>'111 vs 653'</li>\n",
       "\t<li>'mustard(111) vs potato(111)'</li>\n",
       "\t<li>'111 vs control'</li>\n",
       "\t<li>'mustard(653) vs potato(653)'</li>\n",
       "\t<li>'653 vs control'</li>\n",
       "\t<li>'potato(111) vs potato(653)'</li>\n",
       "</ol>\n"
      ],
      "text/latex": [
       "\\begin{enumerate*}\n",
       "\\item '111 vs 653'\n",
       "\\item 'mustard(111) vs potato(111)'\n",
       "\\item '111 vs control'\n",
       "\\item 'mustard(653) vs potato(653)'\n",
       "\\item '653 vs control'\n",
       "\\item 'potato(111) vs potato(653)'\n",
       "\\end{enumerate*}\n"
      ],
      "text/markdown": [
       "1. '111 vs 653'\n",
       "2. 'mustard(111) vs potato(111)'\n",
       "3. '111 vs control'\n",
       "4. 'mustard(653) vs potato(653)'\n",
       "5. '653 vs control'\n",
       "6. 'potato(111) vs potato(653)'\n",
       "\n",
       "\n"
      ],
      "text/plain": [
       "[1] \"111 vs 653\"                  \"mustard(111) vs potato(111)\"\n",
       "[3] \"111 vs control\"              \"mustard(653) vs potato(653)\"\n",
       "[5] \"653 vs control\"              \"potato(111) vs potato(653)\" "
      ]
     },
     "metadata": {},
     "output_type": "display_data"
    }
   ],
   "source": [
    "levels(df1$comparision)"
   ]
  },
  {
   "cell_type": "code",
   "execution_count": 53,
   "metadata": {},
   "outputs": [
    {
     "data": {
      "text/html": [
       "<ol class=list-inline>\n",
       "\t<li>'mustard'</li>\n",
       "\t<li>'potato'</li>\n",
       "\t<li>'mint'</li>\n",
       "\t<li>'italic(\"V. dahliae\")'</li>\n",
       "</ol>\n"
      ],
      "text/latex": [
       "\\begin{enumerate*}\n",
       "\\item 'mustard'\n",
       "\\item 'potato'\n",
       "\\item 'mint'\n",
       "\\item 'italic(\"V. dahliae\")'\n",
       "\\end{enumerate*}\n"
      ],
      "text/markdown": [
       "1. 'mustard'\n",
       "2. 'potato'\n",
       "3. 'mint'\n",
       "4. 'italic(\"V. dahliae\")'\n",
       "\n",
       "\n"
      ],
      "text/plain": [
       "[1] \"mustard\"                \"potato\"                 \"mint\"                  \n",
       "[4] \"italic(\\\"V. dahliae\\\")\""
      ]
     },
     "metadata": {},
     "output_type": "display_data"
    }
   ],
   "source": [
    "# Rename the labels for Host\n",
    "levels(df_summary$Host) = c('mustard', 'potato', 'mint', expression(italic('V. dahliae')))\n",
    "levels(df_summary$Host)"
   ]
  },
  {
   "cell_type": "code",
   "execution_count": 54,
   "metadata": {},
   "outputs": [
    {
     "data": {
      "text/html": [
       "<table>\n",
       "<thead><tr><th scope=col>Gene</th><th scope=col>comparision</th><th scope=col>Host</th><th scope=col>Avg_qPCR</th><th scope=col>Avg_RNASeq</th><th scope=col>sd_qpcr</th></tr></thead>\n",
       "<tbody>\n",
       "\t<tr><td>ABAH1_ARATH-1              </td><td>653 vs control             </td><td>potato                     </td><td>-1.4166667                 </td><td>-2.9                       </td><td>0.4752192                  </td></tr>\n",
       "\t<tr><td>ABAH1_ARATH-2              </td><td>111 vs control             </td><td>potato                     </td><td>-1.4466667                 </td><td>-2.9                       </td><td>0.9130900                  </td></tr>\n",
       "\t<tr><td>AOX_PODAS                  </td><td>potato(111) vs potato(653) </td><td>italic(\"V. dahliae\")       </td><td> 3.2933333                 </td><td> 3.0                       </td><td>0.5381759                  </td></tr>\n",
       "\t<tr><td>AYG1_ASPFU                 </td><td>mustard(111) vs potato(111)</td><td>italic(\"V. dahliae\")       </td><td>-0.7933333                 </td><td>-1.1                       </td><td>0.6676326                  </td></tr>\n",
       "</tbody>\n",
       "</table>\n"
      ],
      "text/latex": [
       "\\begin{tabular}{r|llllll}\n",
       " Gene & comparision & Host & Avg\\_qPCR & Avg\\_RNASeq & sd\\_qpcr\\\\\n",
       "\\hline\n",
       "\t ABAH1\\_ARATH-1             & 653 vs control              & potato                      & -1.4166667                  & -2.9                        & 0.4752192                  \\\\\n",
       "\t ABAH1\\_ARATH-2             & 111 vs control              & potato                      & -1.4466667                  & -2.9                        & 0.9130900                  \\\\\n",
       "\t AOX\\_PODAS                 & potato(111) vs potato(653)  & italic(\"V. dahliae\")        &  3.2933333                  &  3.0                        & 0.5381759                  \\\\\n",
       "\t AYG1\\_ASPFU                & mustard(111) vs potato(111) & italic(\"V. dahliae\")        & -0.7933333                  & -1.1                        & 0.6676326                  \\\\\n",
       "\\end{tabular}\n"
      ],
      "text/markdown": [
       "\n",
       "| Gene | comparision | Host | Avg_qPCR | Avg_RNASeq | sd_qpcr |\n",
       "|---|---|---|---|---|---|\n",
       "| ABAH1_ARATH-1               | 653 vs control              | potato                      | -1.4166667                  | -2.9                        | 0.4752192                   |\n",
       "| ABAH1_ARATH-2               | 111 vs control              | potato                      | -1.4466667                  | -2.9                        | 0.9130900                   |\n",
       "| AOX_PODAS                   | potato(111) vs potato(653)  | italic(\"V. dahliae\")        |  3.2933333                  |  3.0                        | 0.5381759                   |\n",
       "| AYG1_ASPFU                  | mustard(111) vs potato(111) | italic(\"V. dahliae\")        | -0.7933333                  | -1.1                        | 0.6676326                   |\n",
       "\n"
      ],
      "text/plain": [
       "  Gene          comparision                 Host                 Avg_qPCR  \n",
       "1 ABAH1_ARATH-1 653 vs control              potato               -1.4166667\n",
       "2 ABAH1_ARATH-2 111 vs control              potato               -1.4466667\n",
       "3 AOX_PODAS     potato(111) vs potato(653)  italic(\"V. dahliae\")  3.2933333\n",
       "4 AYG1_ASPFU    mustard(111) vs potato(111) italic(\"V. dahliae\") -0.7933333\n",
       "  Avg_RNASeq sd_qpcr  \n",
       "1 -2.9       0.4752192\n",
       "2 -2.9       0.9130900\n",
       "3  3.0       0.5381759\n",
       "4 -1.1       0.6676326"
      ]
     },
     "metadata": {},
     "output_type": "display_data"
    }
   ],
   "source": [
    "head(df_summary,4)"
   ]
  },
  {
   "cell_type": "markdown",
   "metadata": {},
   "source": [
    "#### Scatter plot (All hosts combined)"
   ]
  },
  {
   "cell_type": "code",
   "execution_count": 22,
   "metadata": {},
   "outputs": [
    {
     "data": {
      "image/png": "[encoded data removed]",
      "text/plain": [
       "plot without title"
      ]
     },
     "metadata": {},
     "output_type": "display_data"
    }
   ],
   "source": [
    "#tiff('scatterplot.tiff',width=7,height=5,units='in',res=300)\n",
    "scatterplot<-ggplot(df_summary, aes(x = Avg_qPCR, y = Avg_RNASeq))+\n",
    "          geom_point( aes(colour= comparision, shape = Host),size = 3,  alpha =0.7)+\n",
    "          stat_cor(method = \"pearson\", label.x =3.1, label.y = 7)+\n",
    "          geom_vline(xintercept = 0, alpha = 0.5)+\n",
    "          geom_hline(yintercept = 0, alpha = 0.5)+\n",
    "          geom_smooth(method = 'lm', se = T, alpha =0.15, size = 0.4, color = 'black')+\n",
    "          scale_colour_manual(values = c('darkorange', 'red1', 'violetred', 'skyblue', 'seagreen', 'yellowgreen'))+\n",
    "          labs(title ='', x =expression(log[2]~fold ~change~(qRT-PCR)) , y = expression(log[2]~fold ~change~(RNA-Seq)))+\n",
    "          theme_bw()+theme(panel.grid.major=element_line(colour=\"white\"))+\n",
    "          theme(axis.title.x= element_text(size =12, color ='black', face ='bold'),\n",
    "              axis.title.y = element_text(size =12, color ='black', angle = 90,, face ='bold'),\n",
    "              axis.text.x = element_text(vjust =0.5, size =10,angle =1,color = 'black', face='bold'),\n",
    "              axis.text.y = element_text(size =10, color = 'black', face ='bold'),\n",
    "              legend.title = element_text(size =10))+labs(shape = \"Host\", color = \"Comparision\")\n",
    "              #scale_shape_discrete(guide =guide_legend(label.theme = element_text(size = 10, face = \"italic\")))#chage Host labels to italics\n",
    "            \n",
    "scatterplot\n",
    "#dev.off() "
   ]
  },
  {
   "cell_type": "markdown",
   "metadata": {},
   "source": [
    "#### Scatter plot (Hosts separate)"
   ]
  },
  {
   "cell_type": "code",
   "execution_count": 105,
   "metadata": {},
   "outputs": [
    {
     "data": {
      "text/html": [
       "<strong>png:</strong> 2"
      ],
      "text/latex": [
       "\\textbf{png:} 2"
      ],
      "text/markdown": [
       "**png:** 2"
      ],
      "text/plain": [
       "png \n",
       "  2 "
      ]
     },
     "metadata": {},
     "output_type": "display_data"
    }
   ],
   "source": [
    "tiff('scatterplot_separate.tiff',width=8,height=5,units='in',res=300)\n",
    "scatterplot_separate<-ggplot(df_summary, aes(x = Avg_qPCR, y = Avg_RNASeq))+\n",
    "          geom_point(aes(colour = comparision), size = 3, pch =18, alpha =1)+\n",
    "          stat_cor(method = \"pearson\", label.x =2.25, label.y = 7)+theme(legend.position=\"bottom\")+\n",
    "          geom_vline(xintercept = 0, alpha = 0.5)+\n",
    "          geom_hline(yintercept = 0, alpha = 0.5)+\n",
    "          geom_smooth(method = 'lm', se = T, alpha =0.2, size = 0.55, color = 'black')+\n",
    "          labs(title ='', x =expression(log[2]~fold ~change~(qRT-PCR)) , y = expression(log[2]~fold ~change~(RNA-seq)))+\n",
    "          theme_bw()+theme(panel.grid.major=element_line(colour=\"white\"))+\n",
    "          theme(axis.title.x= element_text(size =12, color ='black', face ='bold'),\n",
    "            axis.title.y = element_text(size =12, color ='black', angle = 90,, face ='bold'),\n",
    "            axis.text.x = element_text(vjust =0.5, size =10,angle =1,color = 'black', face='bold'),\n",
    "            axis.text.y = element_text(size =10, color = 'black', face ='bold'),\n",
    "            legend.text = element_text(size =10),\n",
    "            legend.title = element_text(size =12),\n",
    "            strip.text = element_text(size = 11))+theme(legend.position=\"bottom\")+\n",
    "        guides(color = guide_legend('Comparision'))+\n",
    "        facet_wrap(Host~., scales ='fixed', labeller = label_parsed)+\n",
    "        scale_color_manual(values = c('darkgoldenrod4', 'aquamarine2','firebrick2', 'cornflowerblue','orange','mediumblue'),\n",
    "                    labels = c('111 vs 653', 'mustard(111)\\nvs potato(111)', '111 vs control','mustard(653)\\nvs potato(653)',\n",
    "                                '653 vs control', 'potato(111)\\nvs potato(653)'))\n",
    "scatterplot_separate\n",
    "dev.off() "
   ]
  },
  {
   "cell_type": "code",
   "execution_count": null,
   "metadata": {},
   "outputs": [],
   "source": [
    "'darkgoldenrod4', 'cornflowerblue','firebrick2', 'seagreen4','tan1','mediumpurple3'"
   ]
  },
  {
   "cell_type": "markdown",
   "metadata": {},
   "source": [
    "#### Extra V. dahliae genes (Mint 111 vs Mint 653)"
   ]
  },
  {
   "cell_type": "code",
   "execution_count": 481,
   "metadata": {},
   "outputs": [
    {
     "name": "stdout",
     "output_type": "stream",
     "text": [
      "'data.frame':\t28 obs. of  5 variables:\n",
      " $ Host       : Factor w/ 2 levels \"Verticillium dahliae\",..: 1 2 1 2 1 2 1 2 1 2 ...\n",
      " $ Gene       : Factor w/ 7 levels \"ARP2_ASPFU\",\"AYG1_ASPFU\",..: 4 4 4 4 4 5 5 5 5 6 ...\n",
      " $ comparision: Factor w/ 1 level \"Mp(111) vs Mp(653)\": 1 1 1 1 1 1 1 1 1 1 ...\n",
      " $ Replication: int  1 2 3 4 5 1 2 3 4 1 ...\n",
      " $ foldchange : num  -1.68 -2.07 -0.94 -0.62 -1.55 0.31 -0.24 -0.36 -0.37 -2.56 ...\n"
     ]
    }
   ],
   "source": [
    "df_Vd <- read.csv('Vd_genes_mint.csv')\n",
    "str(df_Vd)\n",
    "df_Vd$Replication<- factor(df_Vd$Replication)"
   ]
  },
  {
   "cell_type": "code",
   "execution_count": 482,
   "metadata": {},
   "outputs": [
    {
     "data": {
      "image/png": "[encoded data removed]",
      "text/plain": [
       "plot without title"
      ]
     },
     "metadata": {},
     "output_type": "display_data"
    }
   ],
   "source": [
    "#tiff('Boxplot_Vd.tiff',width=5,height=5,units='in',res=300)\n",
    "Boxplot_Vd = ggplot(df_Vd, aes(x= Gene, y= foldchange))+\n",
    "    geom_boxplot( fill='#999999',alpha=0.5,lwd=0.6)+geom_hline(yintercept = 0, alpha = 0.5)+\n",
    "    geom_jitter(size=3,pch=20,alpha = 0.3)+\n",
    "    theme_bw()+\n",
    "    labs(title ='', x = 'Gene', y =expression(log[2]~fold~change))+\n",
    "    theme(axis.title.x= element_text(size =12, color ='black'),\n",
    "    axis.title.y = element_text(size =12, color ='black'),\n",
    "    axis.text.x = element_text(vjust =0.5, size =10,angle =60,color = 'black'),\n",
    "    axis.text.y = element_text(size =10, color = 'black'))\n",
    "Boxplot_Vd\n",
    "#dev.off()"
   ]
  },
  {
   "cell_type": "markdown",
   "metadata": {},
   "source": [
    "#### Lollipop(RNAseq only)"
   ]
  },
  {
   "cell_type": "code",
   "execution_count": null,
   "metadata": {},
   "outputs": [],
   "source": [
    "#tiff('lollipop_RNASeq.tiff',width=10,height=7,units='in',res=300)\n",
    "lollipop_RNASeq<-ggplot(df_summary, aes(x = Avg_RNASeq, y = Gene,color = comparision)) +\n",
    "        geom_segment(aes(x = 0, y = Gene, xend = Avg_RNASeq, yend = Gene), size =1.2) +\n",
    "        geom_point(stat='identity', size=3)+ theme_bw()+\n",
    "        geom_vline(xintercept = 0)+\n",
    "        scale_fill_manual(values = c(\"cyan3\", \"brown1\", \"chartreuse3\",\"cornflowerblue\", \"darkorchid\", \"deeppink\"))+\n",
    "       labs( title = \"\", x = expression(log[2]~fold ~change~(RNASeq)), y = 'Gene')+\n",
    "  theme(panel.grid.major=element_line(colour=\"white\"))+\n",
    "  theme(plot.title = element_text(size =12,\n",
    "                                    face =\"bold\",\n",
    "                                    color = 'black',\n",
    "                                    hjust = 0.5),\n",
    "          axis.title.x= element_text(size =12, color ='black'),\n",
    "          axis.title.y = element_text(size =12, color ='black', angle = 90 ),\n",
    "          axis.text.x = element_text(vjust =0.5, size =9,angle =90,color = 'black'),\n",
    "         strip.text.x = element_text(size = 16, face = 'italic'),\n",
    "          axis.text.y = element_text(size =12, color = 'black'))+\n",
    "          guides(shape = guide_legend('Comparision'))+theme(legend.position=\"bottom\")+\n",
    "facet_grid(~Host, scales ='free')+ coord_flip()\n",
    "lollipop_RNASeq\n",
    "#dev.off()"
   ]
  },
  {
   "cell_type": "markdown",
   "metadata": {},
   "source": [
    "#### Bar graph"
   ]
  },
  {
   "cell_type": "code",
   "execution_count": null,
   "metadata": {},
   "outputs": [],
   "source": [
    "#tiff('Bargraph.tiff',width=11,height=8,units='in',res=300)\n",
    "Bargraph = ggplot(df1, aes(x= Gene, y= foldchange, fill = comparision))+\n",
    "            geom_hline(yintercept = 0)+\n",
    "        stat_summary(geom = \"bar\", fun = mean, position = \"dodge\", colour ='black') +\n",
    "        stat_summary(geom = \"errorbar\", fun.data = mean_se, position = \"dodge\")+\n",
    "       theme_bw()+\n",
    "       labs(title ='', x = 'Gene',  y =expression(log[2]~fold~change))+\n",
    "       theme(plot.title = element_text(size =12, face =\"bold\", color = 'black', hjust = 0.5),\n",
    "          axis.title.x= element_text(size =14, color ='black'),\n",
    "          axis.title.y = element_text(size =14, color ='black'),\n",
    "          axis.text.x = element_text(vjust =0.5, size =10,angle =90,color = 'black'),\n",
    "          axis.text.y = element_text(size =10, color = 'black'), \n",
    "          legend.text = element_text(size =12),\n",
    "          strip.text = element_text(size = 15, face = 'italic')) +\n",
    "          guides(fill = guide_legend(''))+theme(legend.position=\"bottom\")+\n",
    "        facet_grid(method~Host, scales ='free',labeller = labeller (method =method.labs))\n",
    "Bargraph\n",
    "#dev.off()"
   ]
  },
  {
   "cell_type": "markdown",
   "metadata": {},
   "source": [
    "---"
   ]
  },
  {
   "cell_type": "markdown",
   "metadata": {},
   "source": [
    "## Folchange calculation by replications RNA seq (*Solanum tuberosum*)"
   ]
  },
  {
   "cell_type": "code",
   "execution_count": null,
   "metadata": {},
   "outputs": [],
   "source": [
    "library(\"DESeq2\")\n",
    "library(\"DEFormats\")\n",
    "library(\"dplyr\")\n",
    "library(\"ggplot2\")"
   ]
  },
  {
   "cell_type": "code",
   "execution_count": null,
   "metadata": {},
   "outputs": [],
   "source": [
    "DF<- read.csv('Solanum_reads.csv')#load read count data"
   ]
  },
  {
   "cell_type": "code",
   "execution_count": null,
   "metadata": {},
   "outputs": [],
   "source": [
    "DF_1 <- data.frame(DF[,-1], row.names = DF[,1])#change to dataframe\n",
    "df = data.matrix(DF_1)"
   ]
  },
  {
   "cell_type": "code",
   "execution_count": null,
   "metadata": {},
   "outputs": [],
   "source": [
    "group = rep(c(\"653\", \"111\", \"Control\"), each = 3) # create vector 'group'"
   ]
  },
  {
   "cell_type": "code",
   "execution_count": null,
   "metadata": {},
   "outputs": [],
   "source": [
    "dge = DGEList(df, group = group) #assign group\n"
   ]
  },
  {
   "cell_type": "code",
   "execution_count": null,
   "metadata": {},
   "outputs": [],
   "source": [
    "dds = as.DESeqDataSet(dge)# Set data in Deseqformat"
   ]
  },
  {
   "cell_type": "code",
   "execution_count": null,
   "metadata": {},
   "outputs": [],
   "source": [
    "dds <- dds[rowSums(counts(dds)) > 1, ]#exclude the count data if rowsum is less than 1"
   ]
  },
  {
   "cell_type": "code",
   "execution_count": null,
   "metadata": {},
   "outputs": [],
   "source": [
    "DESeq.ds<- estimateSizeFactors(dds)\n",
    "sizeFactors(DESeq.ds)"
   ]
  },
  {
   "cell_type": "code",
   "execution_count": null,
   "metadata": {},
   "outputs": [],
   "source": [
    "colData(DESeq.ds)"
   ]
  },
  {
   "cell_type": "code",
   "execution_count": null,
   "metadata": {},
   "outputs": [],
   "source": [
    "normalized_counts<- counts(DESeq.ds, normalized = TRUE)\n",
    "normalized_counts"
   ]
  },
  {
   "cell_type": "code",
   "execution_count": null,
   "metadata": {},
   "outputs": [],
   "source": [
    "log_norm_counts <-  log2(normalized_counts + 1)\n"
   ]
  },
  {
   "cell_type": "code",
   "execution_count": null,
   "metadata": {},
   "outputs": [],
   "source": [
    "genes<- c(\"PGSC0003DMG400023922\", \"PGSC0003DMG402018475\", \"PGSC0003DMG400024310\", \"PGSC0003DMG400020999\",\n",
    "          \"PGSC0003DMG400004259\", \"PGSC0003DMG400029620\", \"PGSC0003DMG400042481\", \"PGSC0003DMG400019824\",\n",
    "          \"PGSC0003DMG400001178\") #validated gene list"
   ]
  },
  {
   "cell_type": "code",
   "execution_count": null,
   "metadata": {},
   "outputs": [],
   "source": [
    "Solanum_norm_count<- (log_norm_counts)[genes,]#subset only validated genes"
   ]
  },
  {
   "cell_type": "code",
   "execution_count": null,
   "metadata": {},
   "outputs": [],
   "source": [
    "Solanum_norm_count"
   ]
  },
  {
   "cell_type": "code",
   "execution_count": null,
   "metadata": {},
   "outputs": [],
   "source": [
    "Solanum_trt = c('653-1', '653-2','653-3','111-1','111-2','111-3','control-1','control-2','control-3')"
   ]
  },
  {
   "cell_type": "code",
   "execution_count": null,
   "metadata": {},
   "outputs": [],
   "source": [
    "colnames(Solanum_norm_count)<- Solanum_trt"
   ]
  },
  {
   "cell_type": "code",
   "execution_count": null,
   "metadata": {},
   "outputs": [],
   "source": [
    "write.csv(Solanum_norm_count,'C:/Users/sudha.gcupadhaya/Desktop/RNA-seq/qPCR validation/Solanum.csv' )"
   ]
  },
  {
   "cell_type": "markdown",
   "metadata": {},
   "source": [
    "##### Tried to calculate foldchage by replicates in normalized data manually but it doesn't produce same foldchange values as DESeq2 does. DSEq2 uses regression model to every single gene to estimate fold change following: $Y = b0+b1*x+e$ (Love et al. 2014)"
   ]
  },
  {
   "cell_type": "markdown",
   "metadata": {},
   "source": [
    "### Mis"
   ]
  },
  {
   "cell_type": "code",
   "execution_count": 11,
   "metadata": {},
   "outputs": [
    {
     "name": "stdout",
     "output_type": "stream",
     "text": [
      "'data.frame':\t36 obs. of  4 variables:\n",
      " $ Gene       : Factor w/ 6 levels \"Bj_Cluster-15354.91015-1\",..: 6 6 6 5 5 5 3 3 3 4 ...\n",
      " $ comparision: Factor w/ 3 levels \"111 vs 653\",\"111 vs control\",..: 3 3 3 3 3 3 3 3 3 2 ...\n",
      " $ method     : Factor w/ 2 levels \"qPCR\",\"RNA-Seq\": 1 1 1 1 1 1 1 1 1 1 ...\n",
      " $ foldchange : num  -1.51 -0.22 -1.3 -0.16 -0.17 -0.48 -0.28 0.69 -1.19 0.7 ...\n"
     ]
    }
   ],
   "source": [
    "df_1<- read.csv('opposite.csv')\n",
    "str(df_1)\n",
    "library(ggplot2)"
   ]
  },
  {
   "cell_type": "code",
   "execution_count": 12,
   "metadata": {},
   "outputs": [],
   "source": [
    "method.labs <- c(\"qRT-PCR\", \"RNA-Seq\")\n",
    "names(method.labs) <- c(\"qPCR\", \"RNA-Seq\")"
   ]
  },
  {
   "cell_type": "markdown",
   "metadata": {},
   "source": [
    "##### Opposite results (Potato, mustard)"
   ]
  },
  {
   "cell_type": "code",
   "execution_count": 29,
   "metadata": {},
   "outputs": [
    {
     "data": {
      "image/png": "[encoded data removed]",
      "text/plain": [
       "plot without title"
      ]
     },
     "metadata": {},
     "output_type": "display_data"
    }
   ],
   "source": [
    "#tiff('Boxplot_opposite.tiff',width=10,height=8,units='in',res=300)\n",
    "Boxplot_opposite = ggplot(df_1, aes(x= Gene, y= foldchange, fill = comparision))+\n",
    "    geom_boxplot(aes(fill =comparision),alpha=0.7,lwd=0.6)+geom_hline(yintercept = 0)+\n",
    "    geom_jitter(size=4,pch=20,alpha = 0.5)+\n",
    "    theme_bw()+\n",
    "    scale_fill_manual(values = c(\"cyan3\", \"brown1\", \"chartreuse3\"))+\n",
    "    facet_grid(method~., scales ='free', labeller = labeller (method =method.labs))+\n",
    "    labs(title ='', x = 'Gene', y =expression(log[2]~fold~change))+\n",
    "    theme(axis.title.x= element_text(size =22, color ='black'),\n",
    "    axis.title.y = element_text(size =22, color ='black'),\n",
    "    axis.text.x = element_text(vjust =0.55, size =14,angle =60,color = 'black'),\n",
    "    axis.text.y = element_text(size =20, color = 'black'),\n",
    "    strip.text.y = element_text(size = 20),\n",
    "    legend.text = element_text(size =14),\n",
    "    legend.title = element_text(size =14),\n",
    "    legend.key.size = unit(1.5, 'cm'))+\n",
    "    guides(fill = guide_legend('Comparision', override.aes = list(alpha =0.7))) \n",
    "Boxplot_opposite\n",
    "#dev.off()"
   ]
  },
  {
   "cell_type": "markdown",
   "metadata": {},
   "source": [
    "#### Subset data excluding mint"
   ]
  },
  {
   "cell_type": "code",
   "execution_count": 392,
   "metadata": {},
   "outputs": [
    {
     "data": {
      "text/html": [
       "<ol class=list-inline>\n",
       "\t<li>78</li>\n",
       "\t<li>7</li>\n",
       "</ol>\n"
      ],
      "text/latex": [
       "\\begin{enumerate*}\n",
       "\\item 78\n",
       "\\item 7\n",
       "\\end{enumerate*}\n"
      ],
      "text/markdown": [
       "1. 78\n",
       "2. 7\n",
       "\n",
       "\n"
      ],
      "text/plain": [
       "[1] 78  7"
      ]
     },
     "metadata": {},
     "output_type": "display_data"
    }
   ],
   "source": [
    "df<- df[!df$Host == 'M. x piperita', ]# subset mustard, verticillim and potato \n",
    "dim(df)"
   ]
  },
  {
   "cell_type": "code",
   "execution_count": 424,
   "metadata": {},
   "outputs": [],
   "source": [
    "Genes_only_1 = c('Cluster-15354.44072-1','Cluster-15354.44072-2','Cluster-15354.86688-1','Cluster-15354.86688-2','NUP1_ARATH-1', 'NUP1_ARATH-2',\n",
    "'PDRP2_ARATH-1','PDRP2_ARATH-2','SCL1_ARATH-1','SCL1_ARATH-2','ABAH1_ARATH-1','ABAH1_ARATH-2',\n",
    "'CHSB_SOLTU','EDL3_ARATH','LOX12_SOLTU','PGSC0003DMG400024310-1','PGSC0003DMG400024310-2', 'PR04_SOLLC-1','PR04_SOLLC-2',\n",
    "'PRR1_TOBAC','TIF5A_ARATH','WRK40_ARATH','AOX_PODAS','AYG1_ASPFU', 'mRNA_1341','YDDQ_BACSU')"
   ]
  },
  {
   "cell_type": "code",
   "execution_count": 425,
   "metadata": {},
   "outputs": [],
   "source": [
    "x_labs_1 = expression('Cluster-15354.44072-1','Cluster-15354.44072-2','Cluster-15354.86688-1','Cluster-15354.86688-2',italic('NUP1_ARATH-1'),italic('NUP1_ARATH-2'),\n",
    "italic('PDRP2_ARATH-1'),italic('PDRP2_ARATH-2'),italic('SCL1_ARATH-1'),italic('SCL1_ARATH-2'),italic('ABAH1_ARATH-1'),italic('ABAH1_ARATH-2'),\n",
    "italic('CHSB_SOLTU'),italic('EDL3_ARATH'),italic('LOX12_SOLTU'),'PGSC0003DMG400024310-1','PGSC0003DMG400024310-2', italic('PR04_SOLLC-1'),italic('PR04_SOLLC-2'),\n",
    "italic('PRR1_TOBAC'),italic('TIF5A_ARATH'),italic('WRK40_ARATH'),italic('AOX_PODAS'),italic('AYG1_ASPFU'), 'mRNA_1341',italic('YDDQ_BACSU'))"
   ]
  },
  {
   "cell_type": "markdown",
   "metadata": {},
   "source": [
    "#### For all hosts"
   ]
  },
  {
   "cell_type": "code",
   "execution_count": 453,
   "metadata": {},
   "outputs": [],
   "source": [
    "Genes_only = c('Cluster-15354.44072-1','Cluster-15354.44072-2','Cluster-15354.86688-1','Cluster-15354.86688-2','NUP1_ARATH-1', 'NUP1_ARATH-2',\n",
    "'PDRP2_ARATH-1','PDRP2_ARATH-2','SCL1_ARATH-1','SCL1_ARATH-2','ABAH1_ARATH-1','ABAH1_ARATH-2',\n",
    "'CHSB_SOLTU','EDL3_ARATH','LOX12_SOLTU','PGSC0003DMG400024310-1','PGSC0003DMG400024310-2', 'PR04_SOLLC-1','PR04_SOLLC-2',\n",
    "'PRR1_TOBAC','TIF5A_ARATH','WRK40_ARATH' ,'CNGC5_ARATH-1','CNGC5_ARATH-2', 'EGL1_ARATH', 'PMTK_ARATH','AOX_PODAS','AYG1_ASPFU', 'mRNA_1341','YDDQ_BACSU')"
   ]
  },
  {
   "cell_type": "code",
   "execution_count": 454,
   "metadata": {},
   "outputs": [],
   "source": [
    "x_labs = expression('Cluster-15354.44072-1','Cluster-15354.44072-2','Cluster-15354.86688-1','Cluster-15354.86688-2',italic('NUP1_ARATH-1'),italic('NUP1_ARATH-2'),\n",
    "italic('PDRP2_ARATH-1'),italic('PDRP2_ARATH-2'),italic('SCL1_ARATH-1'),italic('SCL1_ARATH-2'),italic('ABAH1_ARATH-1'),italic('ABAH1_ARATH-2'),\n",
    "italic('CHSB_SOLTU'),italic('EDL3_ARATH'),italic('LOX12_SOLTU'),'PGSC0003DMG400024310-1','PGSC0003DMG400024310-2', italic('PR04_SOLLC-1'),italic('PR04_SOLLC-2'),\n",
    "italic('PRR1_TOBAC'),italic('TIF5A_ARATH'),italic('WRK40_ARATH'),italic('CNGC5_ARATH-1'),italic('CNGC5_ARATH-2'), italic('EGL1_ARATH'), italic('PMTK_ARATH'),\n",
    "italic('AOX_PODAS'),italic('AYG1_ASPFU'), 'mRNA_1341',italic('YDDQ_BACSU'))"
   ]
  },
  {
   "cell_type": "code",
   "execution_count": null,
   "metadata": {},
   "outputs": [],
   "source": [
    "df$Replication <- as.factor(df$Replication)#change numeric data to factor\n",
    "df$qPCR <- as.numeric(as.character(df$qPCR))#change factor to numeric\n",
    "df$Host <- factor(df$Host, levels= c('Brassica juncea','Solanum tuberosum', 'Mentha x piperita','Verticillium dahliae'),\n",
    "                 labels = c('B. juncea', 'S. tuberosum', 'M. x piperita', 'V. dahliae'))"
   ]
  },
  {
   "cell_type": "code",
   "execution_count": null,
   "metadata": {},
   "outputs": [],
   "source": []
  },
  {
   "cell_type": "code",
   "execution_count": null,
   "metadata": {},
   "outputs": [],
   "source": [
    "#tiff('scatterplot.tiff',width=7,height=5,units='in',res=300)\n",
    "scatterplot<-ggplot(df_summary, aes(x = Avg_qPCR, y = Avg_RNASeq))+\n",
    "          geom_point( aes(colour= comparision, shape = Host),size = 3,  alpha =1)+\n",
    "          stat_cor(method = \"pearson\", label.x =3.1, label.y = 7)+\n",
    "          geom_vline(xintercept = 0, alpha = 0.5)+\n",
    "          geom_hline(yintercept = 0, alpha = 0.5)+\n",
    "          geom_smooth(method = 'lm', se = T, alpha =0.15, size = 0.4, color = 'black')+\n",
    "          scale_colour_manual(values = c(\"#56B4E9\",\"#D55E00\",\"#CC79A7\",\"#009E73\",\"#DDCC77\",\"#999999\"))+\n",
    "          labs(title ='', x =expression(log[2]~fold ~change~(qRT-PCR)) , y = expression(log[2]~fold ~change~(RNA-Seq)))+\n",
    "          theme_bw()+theme(panel.grid.major=element_line(colour=\"white\"))+\n",
    "          theme(axis.title.x= element_text(size =12, color ='black', face ='bold'),\n",
    "              axis.title.y = element_text(size =12, color ='black', angle = 90,, face ='bold'),\n",
    "              axis.text.x = element_text(vjust =0.5, size =10,angle =1,color = 'black', face='bold'),\n",
    "              axis.text.y = element_text(size =10, color = 'black', face ='bold'),\n",
    "              legend.title = element_text(size =10))+labs(shape = \"Host\", color = \"Comparision\")+\n",
    "              scale_shape_discrete(guide =guide_legend(label.theme = element_text(size = 10, face = \"italic\")))#chage Host labels to italics\n",
    "            \n",
    "scatterplot\n",
    "#dev.off() "
   ]
  }
 ],
 "metadata": {
  "kernelspec": {
   "display_name": "R",
   "language": "R",
   "name": "ir"
  },
  "language_info": {
   "codemirror_mode": "r",
   "file_extension": ".r",
   "mimetype": "text/x-r-source",
   "name": "R",
   "pygments_lexer": "r",
   "version": "3.6.1"
  },
  "toc": {
   "base_numbering": 1,
   "nav_menu": {},
   "number_sections": true,
   "sideBar": true,
   "skip_h1_title": false,
   "title_cell": "Table of Contents",
   "title_sidebar": "Contents",
   "toc_cell": false,
   "toc_position": {},
   "toc_section_display": true,
   "toc_window_display": true
  }
 },
 "nbformat": 4,
 "nbformat_minor": 4
}
