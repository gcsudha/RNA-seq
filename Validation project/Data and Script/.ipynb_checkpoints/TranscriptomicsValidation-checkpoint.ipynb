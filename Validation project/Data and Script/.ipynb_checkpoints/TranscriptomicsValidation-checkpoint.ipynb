{
 "cells": [
  {
   "cell_type": "markdown",
   "metadata": {},
   "source": [
    "<h1> <center>Transcriptome Validation Project</center></h1> "
   ]
  },
  {
   "cell_type": "markdown",
   "metadata": {},
   "source": [
    "### Authors: Sudha GC Upadhaya & David Linnard Wheeler     "
   ]
  },
  {
   "cell_type": "markdown",
   "metadata": {},
   "source": [
    "## Objectives"
   ]
  },
  {
   "cell_type": "markdown",
   "metadata": {},
   "source": [
    "- Validate the differences in gene experssion between symptomatic vs asymptomatic hosts\n",
    "- Validate the differences in gene experssion of *Verticillium dahliae* isolates between symptomatic vs asymtomatic hosts"
   ]
  },
  {
   "cell_type": "markdown",
   "metadata": {},
   "source": [
    "## Experimental design"
   ]
  },
  {
   "cell_type": "markdown",
   "metadata": {},
   "source": [
    "- Treatment structure: 2 way factorial\n",
    "- Independent variables: \n",
    "  - Two Hosts\n",
    "    * Potato: cv. 'Russet Burbank'\n",
    "    * Brown mustard: cv. 'ISCI 99'\n",
    "  - Three Fungi\n",
    "    - *𝑉𝑒𝑟𝑡𝑖𝑐𝑖𝑙𝑙𝑖𝑢𝑚 𝑑𝑎ℎ𝑙𝑖𝑎𝑒*-653 (Virulent in potato and avirulent in mint)\n",
    "    - *𝑉𝑒𝑟𝑡𝑖𝑐𝑖𝑙𝑙𝑖𝑢𝑚 𝑑𝑎ℎ𝑙𝑖𝑎𝑒*-111 (Virulent in mint and avirulent in potato)\n",
    "    -  Non-inoculated control (Water only)\n",
    "       \n",
    "- Sample collection: 10 days after inoculation\n",
    "- Three replicates\n",
    "- Design structure: Randomized complete Block Design \n",
    "- Observational unit: plant\n",
    "- Experimental unit: plant\n",
    "- Samples: whole plants\n",
    "- Data\n",
    "    - RNA quantity\n",
    "    - Fold change\n",
    "- Analysis: \n",
    "   - delta-delta ct method\n",
    "   - correlation"
   ]
  },
  {
   "cell_type": "markdown",
   "metadata": {},
   "source": [
    "## Material and Methods"
   ]
  },
  {
   "cell_type": "markdown",
   "metadata": {},
   "source": [
    "  **Greenhouse trial**\n",
    "* Inoculum preparation for root dips (3.5\"pot):\n",
    " * Inoculum for isolates 653 and 111:\n",
    "   * 60 plants/3 isolates = 20 plants/isolate \n",
    "   * 100 ml/plant (Dung et al. 2010) = 2000 ml = 2 L inoculum/isolate\n",
    "   * 2 L of 10 conidia/ml inoculum is needed per isolate\n",
    "   * 2 L/200 ml/flask = 10 flasks/isolate \n",
    "* Trial planting date: 8/21/2020\n",
    "* Trial inoculation date: 9/2/2020 \n",
    "* Sample collection date : 9/12/2020 potato and mustards harvest @ 10 dpi\n"
   ]
  },
  {
   "cell_type": "markdown",
   "metadata": {},
   "source": [
    "**Gene expression validation**\n",
    "* RNA extraction: Crude method (Kumar et al. 2007)\n",
    "* RNA quantification: QUBIT Flurometer\n",
    "* RNA integrity check: Gel electorophoresis\n",
    "* cDNA synthesis: VWR cDNA supermix\n",
    "   * 6 µl of ~1µg total RNA + 4 µl supermix + 10 µl water\n",
    "   * Incubate: 5 min at 25°C +30 min at 42°C + 5 min at 85°C and hold at 4°C\n",
    "   * Dilute cDNA to 1/5th\n",
    "   * Store at -20°C\n",
    "* Primer design: \n",
    "   * 19 to 23 bp\n",
    "   * Product size: 70 to 210 bp\n",
    "   * GC content: 35% to 65%\n",
    "   * Spanning exon-exon junction (if applicable)\n",
    "* RTPCR\n",
    "  * Reaction mixture (10µl): \n",
    "     * SYBR Select Mix(2X): 5µl\n",
    "     * Forward primer (10µM): 0.5µl\n",
    "     * Reverse primer (10µM): 0.5µl\n",
    "     * H20: 3µl\n",
    "     * cDNA template: 1µl\n",
    "\n",
    "  * RT-PCR cycling condition:\n",
    "     * Initial denaturation 95°C for 10 min\n",
    "     * 40 cycles   95°C for 15 sec;\n",
    "     * 40 cycles   62°C for 1 min; \n",
    "     * Followed by 60 cycles of temperature increasing from 60°C to 95°C with fluorescence readings     acquired at 0.5°C \n",
    "        increment per cycle. \n",
    "   * Internal control: Housekeeping gene for normalization\n",
    "   * Negative control: No template\n",
    "   * Three technical replications\n",
    "   * Three biological replications\n",
    "   * Check melting curve for the presence of single amplified product\n",
    "* Calculate Ct values for samples using LinRegPCR software\n",
    "* Calculate primer efficiency using LinRegPCR (Ruijter et al. 2009)\n",
    "* Calculate log2foldchange using delta-delat Ct methond (Livak et al. 2001)\n",
    "   * $∆∆Ct = ∆Ct (Treatment) – ∆Ct (Control)$\n",
    "   * $Fold change = 2^-(∆∆Ct)$"
   ]
  },
  {
   "cell_type": "markdown",
   "metadata": {},
   "source": [
    "### Data Analysis/Visualization"
   ]
  },
  {
   "cell_type": "code",
   "execution_count": 1,
   "metadata": {},
   "outputs": [
    {
     "data": {
      "text/html": [
       "'C:/Users/sudha.gcupadhaya/Desktop/RNA-seq/Validation project/Data and Script'"
      ],
      "text/latex": [
       "'C:/Users/sudha.gcupadhaya/Desktop/RNA-seq/Validation project/Data and Script'"
      ],
      "text/markdown": [
       "'C:/Users/sudha.gcupadhaya/Desktop/RNA-seq/Validation project/Data and Script'"
      ],
      "text/plain": [
       "[1] \"C:/Users/sudha.gcupadhaya/Desktop/RNA-seq/Validation project/Data and Script\""
      ]
     },
     "metadata": {},
     "output_type": "display_data"
    }
   ],
   "source": [
    "getwd()#get working directory"
   ]
  },
  {
   "cell_type": "code",
   "execution_count": 16,
   "metadata": {},
   "outputs": [],
   "source": [
    "library(tidyr)#data wrangling\n",
    "library(ggplot2)# plotting\n",
    "library(ggthemes)#themes\n",
    "library(ggpubr)#gather function\n",
    "library(dplyr)"
   ]
  },
  {
   "cell_type": "code",
   "execution_count": 4,
   "metadata": {},
   "outputs": [],
   "source": [
    "df<- read.csv('qpcr.csv')#import data"
   ]
  },
  {
   "cell_type": "code",
   "execution_count": 5,
   "metadata": {},
   "outputs": [
    {
     "data": {
      "text/html": [
       "<table>\n",
       "<thead><tr><th></th><th scope=col>ID</th><th scope=col>Host</th><th scope=col>Gene</th><th scope=col>comparision</th><th scope=col>Replication</th><th scope=col>qPCR</th><th scope=col>RNASeq</th></tr></thead>\n",
       "<tbody>\n",
       "\t<tr><th scope=row>85</th><td>Vd-1                </td><td>Verticillium dahliae</td><td>Vd_mRNA_1341        </td><td>Bj(653) vs St(653)  </td><td>1                   </td><td>2.01                </td><td> 5.2                </td></tr>\n",
       "\t<tr><th scope=row>86</th><td>Vd-1                </td><td>Verticillium dahliae</td><td>Vd_mRNA_1341        </td><td>Bj(653) vs St(653)  </td><td>2                   </td><td>3.05                </td><td> 5.2                </td></tr>\n",
       "\t<tr><th scope=row>87</th><td>Vd-1                </td><td>Verticillium dahliae</td><td>Vd_mRNA_1341        </td><td>Bj(653) vs St(653)  </td><td>3                   </td><td>1.9                 </td><td> 5.2                </td></tr>\n",
       "\t<tr><th scope=row>88</th><td>Vd-3                </td><td>Verticillium dahliae</td><td>Vd_AYG1_ASPFU       </td><td>Bj(111) vs St(111)  </td><td>1                   </td><td>-0.34               </td><td>-1.1                </td></tr>\n",
       "\t<tr><th scope=row>89</th><td>Vd-3                </td><td>Verticillium dahliae</td><td>Vd_AYG1_ASPFU       </td><td>Bj(111) vs St(111)  </td><td>2                   </td><td>-0.48               </td><td>-1.1                </td></tr>\n",
       "\t<tr><th scope=row>90</th><td>Vd-3                </td><td>Verticillium dahliae</td><td>Vd_AYG1_ASPFU       </td><td>Bj(111) vs St(111)  </td><td>3                   </td><td>-1.56               </td><td>-1.1                </td></tr>\n",
       "</tbody>\n",
       "</table>\n"
      ],
      "text/latex": [
       "\\begin{tabular}{r|lllllll}\n",
       "  & ID & Host & Gene & comparision & Replication & qPCR & RNASeq\\\\\n",
       "\\hline\n",
       "\t85 & Vd-1                 & Verticillium dahliae & Vd\\_mRNA\\_1341     & Bj(653) vs St(653)   & 1                    & 2.01                 &  5.2                \\\\\n",
       "\t86 & Vd-1                 & Verticillium dahliae & Vd\\_mRNA\\_1341     & Bj(653) vs St(653)   & 2                    & 3.05                 &  5.2                \\\\\n",
       "\t87 & Vd-1                 & Verticillium dahliae & Vd\\_mRNA\\_1341     & Bj(653) vs St(653)   & 3                    & 1.9                  &  5.2                \\\\\n",
       "\t88 & Vd-3                 & Verticillium dahliae & Vd\\_AYG1\\_ASPFU    & Bj(111) vs St(111)   & 1                    & -0.34                & -1.1                \\\\\n",
       "\t89 & Vd-3                 & Verticillium dahliae & Vd\\_AYG1\\_ASPFU    & Bj(111) vs St(111)   & 2                    & -0.48                & -1.1                \\\\\n",
       "\t90 & Vd-3                 & Verticillium dahliae & Vd\\_AYG1\\_ASPFU    & Bj(111) vs St(111)   & 3                    & -1.56                & -1.1                \\\\\n",
       "\\end{tabular}\n"
      ],
      "text/markdown": [
       "\n",
       "| <!--/--> | ID | Host | Gene | comparision | Replication | qPCR | RNASeq |\n",
       "|---|---|---|---|---|---|---|---|\n",
       "| 85 | Vd-1                 | Verticillium dahliae | Vd_mRNA_1341         | Bj(653) vs St(653)   | 1                    | 2.01                 |  5.2                 |\n",
       "| 86 | Vd-1                 | Verticillium dahliae | Vd_mRNA_1341         | Bj(653) vs St(653)   | 2                    | 3.05                 |  5.2                 |\n",
       "| 87 | Vd-1                 | Verticillium dahliae | Vd_mRNA_1341         | Bj(653) vs St(653)   | 3                    | 1.9                  |  5.2                 |\n",
       "| 88 | Vd-3                 | Verticillium dahliae | Vd_AYG1_ASPFU        | Bj(111) vs St(111)   | 1                    | -0.34                | -1.1                 |\n",
       "| 89 | Vd-3                 | Verticillium dahliae | Vd_AYG1_ASPFU        | Bj(111) vs St(111)   | 2                    | -0.48                | -1.1                 |\n",
       "| 90 | Vd-3                 | Verticillium dahliae | Vd_AYG1_ASPFU        | Bj(111) vs St(111)   | 3                    | -1.56                | -1.1                 |\n",
       "\n"
      ],
      "text/plain": [
       "   ID   Host                 Gene          comparision        Replication qPCR \n",
       "85 Vd-1 Verticillium dahliae Vd_mRNA_1341  Bj(653) vs St(653) 1           2.01 \n",
       "86 Vd-1 Verticillium dahliae Vd_mRNA_1341  Bj(653) vs St(653) 2           3.05 \n",
       "87 Vd-1 Verticillium dahliae Vd_mRNA_1341  Bj(653) vs St(653) 3           1.9  \n",
       "88 Vd-3 Verticillium dahliae Vd_AYG1_ASPFU Bj(111) vs St(111) 1           -0.34\n",
       "89 Vd-3 Verticillium dahliae Vd_AYG1_ASPFU Bj(111) vs St(111) 2           -0.48\n",
       "90 Vd-3 Verticillium dahliae Vd_AYG1_ASPFU Bj(111) vs St(111) 3           -1.56\n",
       "   RNASeq\n",
       "85  5.2  \n",
       "86  5.2  \n",
       "87  5.2  \n",
       "88 -1.1  \n",
       "89 -1.1  \n",
       "90 -1.1  "
      ]
     },
     "metadata": {},
     "output_type": "display_data"
    }
   ],
   "source": [
    "tail(df)"
   ]
  },
  {
   "cell_type": "code",
   "execution_count": 6,
   "metadata": {},
   "outputs": [
    {
     "name": "stdout",
     "output_type": "stream",
     "text": [
      "'data.frame':\t90 obs. of  7 variables:\n",
      " $ ID         : Factor w/ 21 levels \"Bj-10\",\"Bj-11\",..: 3 3 3 3 3 3 4 4 4 4 ...\n",
      " $ Host       : Factor w/ 4 levels \"Brassica juncea\",..: 1 1 1 1 1 1 1 1 1 1 ...\n",
      " $ Gene       : Factor w/ 30 levels \"Bj_Cluster-15354.44072-1\",..: 3 3 3 4 4 4 5 5 5 6 ...\n",
      " $ comparision: Factor w/ 6 levels \"111 vs 653\",\"111 vs control\",..: 3 3 3 1 1 1 3 3 3 2 ...\n",
      " $ Replication: int  1 2 3 1 2 3 1 2 3 1 ...\n",
      " $ qPCR       : Factor w/ 86 levels \"-0.19\",\"-0.34\",..: 36 16 44 79 68 74 67 77 70 75 ...\n",
      " $ RNASeq     : num  -6.2 -6.2 -6.2 6.2 6.2 6.2 3 3 3 3.5 ...\n"
     ]
    }
   ],
   "source": [
    "str(df)"
   ]
  },
  {
   "cell_type": "code",
   "execution_count": 7,
   "metadata": {},
   "outputs": [
    {
     "name": "stderr",
     "output_type": "stream",
     "text": [
      "Warning message in eval(expr, envir, enclos):\n",
      "\"NAs introduced by coercion\""
     ]
    }
   ],
   "source": [
    "df$Replication <- as.factor(df$Replication)#change numeric data to factor\n",
    "df$qPCR <- as.numeric(as.character(df$qPCR))#change factor to numeric\n",
    "df$Host <- factor(df$Host, levels= c('Brassica juncea','Solanum tuberosum', 'Mentha x piperita','Verticillium dahliae'),\n",
    "                 labels = c('B. juncea', 'S. tuberosum', 'M. x piperita', 'V. dahliae'))"
   ]
  },
  {
   "cell_type": "code",
   "execution_count": 8,
   "metadata": {},
   "outputs": [
    {
     "data": {
      "text/html": [
       "<table>\n",
       "<thead><tr><th></th><th scope=col>ID</th><th scope=col>Host</th><th scope=col>Gene</th><th scope=col>comparision</th><th scope=col>Replication</th><th scope=col>qPCR</th><th scope=col>RNASeq</th></tr></thead>\n",
       "<tbody>\n",
       "\t<tr><th scope=row>64</th><td>St-11         </td><td>S. tuberosum  </td><td>St_TIF5A_ARATH</td><td>111 vs 653    </td><td>1             </td><td>NA            </td><td>1.8           </td></tr>\n",
       "</tbody>\n",
       "</table>\n"
      ],
      "text/latex": [
       "\\begin{tabular}{r|lllllll}\n",
       "  & ID & Host & Gene & comparision & Replication & qPCR & RNASeq\\\\\n",
       "\\hline\n",
       "\t64 & St-11              & S. tuberosum       & St\\_TIF5A\\_ARATH & 111 vs 653         & 1                  & NA                 & 1.8               \\\\\n",
       "\\end{tabular}\n"
      ],
      "text/markdown": [
       "\n",
       "| <!--/--> | ID | Host | Gene | comparision | Replication | qPCR | RNASeq |\n",
       "|---|---|---|---|---|---|---|---|\n",
       "| 64 | St-11          | S. tuberosum   | St_TIF5A_ARATH | 111 vs 653     | 1              | NA             | 1.8            |\n",
       "\n"
      ],
      "text/plain": [
       "   ID    Host         Gene           comparision Replication qPCR RNASeq\n",
       "64 St-11 S. tuberosum St_TIF5A_ARATH 111 vs 653  1           NA   1.8   "
      ]
     },
     "metadata": {},
     "output_type": "display_data"
    }
   ],
   "source": [
    "df[!complete.cases(df),]# find data with NA \n",
    "df<- df[!is.na(df$qPCR),]#subset data excluding NAs"
   ]
  },
  {
   "cell_type": "code",
   "execution_count": 9,
   "metadata": {},
   "outputs": [],
   "source": [
    "df1<- gather(df, method, foldchange, qPCR:RNASeq)#gather data to longer format"
   ]
  },
  {
   "cell_type": "code",
   "execution_count": 10,
   "metadata": {},
   "outputs": [
    {
     "data": {
      "text/html": [
       "<table>\n",
       "<thead><tr><th scope=col>ID</th><th scope=col>Host</th><th scope=col>Gene</th><th scope=col>comparision</th><th scope=col>Replication</th><th scope=col>method</th><th scope=col>foldchange</th></tr></thead>\n",
       "<tbody>\n",
       "\t<tr><td>Bj-3                    </td><td>B. juncea               </td><td>Bj_Cluster-15354.86688-1</td><td>653 vs control          </td><td>1                       </td><td>qPCR                    </td><td>-2.12                   </td></tr>\n",
       "\t<tr><td>Bj-3                    </td><td>B. juncea               </td><td>Bj_Cluster-15354.86688-1</td><td>653 vs control          </td><td>2                       </td><td>qPCR                    </td><td>-1.36                   </td></tr>\n",
       "\t<tr><td>Bj-3                    </td><td>B. juncea               </td><td>Bj_Cluster-15354.86688-1</td><td>653 vs control          </td><td>3                       </td><td>qPCR                    </td><td>-2.49                   </td></tr>\n",
       "\t<tr><td>Bj-3                    </td><td>B. juncea               </td><td>Bj_Cluster-15354.86688-2</td><td>111 vs 653              </td><td>1                       </td><td>qPCR                    </td><td> 2.69                   </td></tr>\n",
       "</tbody>\n",
       "</table>\n"
      ],
      "text/latex": [
       "\\begin{tabular}{r|lllllll}\n",
       " ID & Host & Gene & comparision & Replication & method & foldchange\\\\\n",
       "\\hline\n",
       "\t Bj-3                       & B. juncea                  & Bj\\_Cluster-15354.86688-1 & 653 vs control             & 1                          & qPCR                       & -2.12                     \\\\\n",
       "\t Bj-3                       & B. juncea                  & Bj\\_Cluster-15354.86688-1 & 653 vs control             & 2                          & qPCR                       & -1.36                     \\\\\n",
       "\t Bj-3                       & B. juncea                  & Bj\\_Cluster-15354.86688-1 & 653 vs control             & 3                          & qPCR                       & -2.49                     \\\\\n",
       "\t Bj-3                       & B. juncea                  & Bj\\_Cluster-15354.86688-2 & 111 vs 653                 & 1                          & qPCR                       &  2.69                     \\\\\n",
       "\\end{tabular}\n"
      ],
      "text/markdown": [
       "\n",
       "| ID | Host | Gene | comparision | Replication | method | foldchange |\n",
       "|---|---|---|---|---|---|---|\n",
       "| Bj-3                     | B. juncea                | Bj_Cluster-15354.86688-1 | 653 vs control           | 1                        | qPCR                     | -2.12                    |\n",
       "| Bj-3                     | B. juncea                | Bj_Cluster-15354.86688-1 | 653 vs control           | 2                        | qPCR                     | -1.36                    |\n",
       "| Bj-3                     | B. juncea                | Bj_Cluster-15354.86688-1 | 653 vs control           | 3                        | qPCR                     | -2.49                    |\n",
       "| Bj-3                     | B. juncea                | Bj_Cluster-15354.86688-2 | 111 vs 653               | 1                        | qPCR                     |  2.69                    |\n",
       "\n"
      ],
      "text/plain": [
       "  ID   Host      Gene                     comparision    Replication method\n",
       "1 Bj-3 B. juncea Bj_Cluster-15354.86688-1 653 vs control 1           qPCR  \n",
       "2 Bj-3 B. juncea Bj_Cluster-15354.86688-1 653 vs control 2           qPCR  \n",
       "3 Bj-3 B. juncea Bj_Cluster-15354.86688-1 653 vs control 3           qPCR  \n",
       "4 Bj-3 B. juncea Bj_Cluster-15354.86688-2 111 vs 653     1           qPCR  \n",
       "  foldchange\n",
       "1 -2.12     \n",
       "2 -1.36     \n",
       "3 -2.49     \n",
       "4  2.69     "
      ]
     },
     "metadata": {},
     "output_type": "display_data"
    }
   ],
   "source": [
    "head(df1,4)"
   ]
  },
  {
   "cell_type": "code",
   "execution_count": 11,
   "metadata": {},
   "outputs": [],
   "source": [
    "#rename the qpcr and RNAseq column\n",
    "method.labs <- c(\"qRT-PCR\", \"RNA-Seq\")\n",
    "names(method.labs) <- c(\"qPCR\", \"RNASeq\")"
   ]
  },
  {
   "cell_type": "markdown",
   "metadata": {},
   "source": [
    "---"
   ]
  },
  {
   "cell_type": "markdown",
   "metadata": {},
   "source": [
    "#### Boxplot"
   ]
  },
  {
   "cell_type": "code",
   "execution_count": 12,
   "metadata": {},
   "outputs": [
    {
     "data": {
      "text/html": [
       "<strong>png:</strong> 2"
      ],
      "text/latex": [
       "\\textbf{png:} 2"
      ],
      "text/markdown": [
       "**png:** 2"
      ],
      "text/plain": [
       "png \n",
       "  2 "
      ]
     },
     "metadata": {},
     "output_type": "display_data"
    }
   ],
   "source": [
    "#tiff('Boxplot.tiff',width=17,height=14,units='in',res=300)\n",
    "Boxplot = ggplot(df1, aes(x= Gene, y= foldchange, fill = comparision))+\n",
    "    geom_boxplot(aes(fill =comparision),alpha=1,lwd=0.6)+geom_hline(yintercept = 0, alpha = 0.5)+\n",
    "    geom_jitter(size=4,pch=20,alpha = 0.5)+\n",
    "    theme_bw()+\n",
    "    scale_fill_manual(values = c(\"#56B4E9\",\"#D55E00\",\"#CC79A7\",\"#009E73\",\"#F0E442\",\"#999999\"))+\n",
    "    facet_grid(method~Host, scales ='free', labeller = labeller (method =method.labs))+\n",
    "    labs(title ='', x = 'Gene', y =expression(log[2]~fold~change))+\n",
    "    theme(axis.title.x= element_text(size =26, color ='black'),\n",
    "    axis.title.y = element_text(size =26, color ='black'),\n",
    "    axis.text.x = element_text(vjust =0.5, size =18,angle =90,color = 'black'),\n",
    "    axis.text.y = element_text(size =24, color = 'black'),\n",
    "    strip.text.x = element_text(size = 26, face = 'italic'),\n",
    "    strip.text.y = element_text(size = 26),\n",
    "    legend.text = element_text(size =20),\n",
    "    legend.title = element_text(size =20),\n",
    "    legend.key.size = unit(1.5, 'cm'))+\n",
    "    theme(legend.position=\"bottom\")+\n",
    "    guides(fill = guide_legend('Comparision', override.aes = list(alpha =1))) \n",
    "Boxplot\n",
    "#dev.off()"
   ]
  },
  {
   "cell_type": "code",
   "execution_count": 17,
   "metadata": {},
   "outputs": [
    {
     "name": "stderr",
     "output_type": "stream",
     "text": [
      "`summarise()` regrouping output by 'Gene', 'comparision' (override with `.groups` argument)\n"
     ]
    },
    {
     "data": {
      "text/html": [
       "<table>\n",
       "<thead><tr><th></th><th scope=col>Avg_RNASeq</th></tr></thead>\n",
       "<tbody>\n",
       "\t<tr><th scope=row>Avg_qPCR</th><td>0.8791271</td></tr>\n",
       "</tbody>\n",
       "</table>\n"
      ],
      "text/latex": [
       "\\begin{tabular}{r|l}\n",
       "  & Avg\\_RNASeq\\\\\n",
       "\\hline\n",
       "\tAvg\\_qPCR & 0.8791271\\\\\n",
       "\\end{tabular}\n"
      ],
      "text/markdown": [
       "\n",
       "| <!--/--> | Avg_RNASeq |\n",
       "|---|---|\n",
       "| Avg_qPCR | 0.8791271 |\n",
       "\n"
      ],
      "text/plain": [
       "         Avg_RNASeq\n",
       "Avg_qPCR 0.8791271 "
      ]
     },
     "metadata": {},
     "output_type": "display_data"
    }
   ],
   "source": [
    "df_summary <- df %>% \n",
    "                group_by (Gene, comparision, Host) %>% \n",
    "                summarise(Avg_qPCR = mean(qPCR), na.rm = T,\n",
    "                          Avg_RNASeq = mean(RNASeq),\n",
    "                          sd_qpcr = sd(qPCR), na.rm = T,\n",
    "                          sd_rnaseq = sd(RNASeq))#calculate mean and sd qpcr foldchange for each gene\n",
    "df_summary<- df_summary[,c(-5,-8)]#remove fifth and eighth rows\n",
    "cor(x=df_summary[,4], y=df_summary[,5])#correlation coefficient"
   ]
  },
  {
   "cell_type": "code",
   "execution_count": 18,
   "metadata": {},
   "outputs": [
    {
     "data": {
      "text/html": [
       "<table>\n",
       "<thead><tr><th scope=col>Gene</th><th scope=col>comparision</th><th scope=col>Host</th><th scope=col>Avg_qPCR</th><th scope=col>Avg_RNASeq</th><th scope=col>sd_qpcr</th></tr></thead>\n",
       "<tbody>\n",
       "\t<tr><td>Bj_Cluster-15354.44072-1</td><td>111 vs control          </td><td>B. juncea               </td><td>-2.366667               </td><td>-4.4                    </td><td>0.7559321               </td></tr>\n",
       "\t<tr><td>Bj_Cluster-15354.44072-2</td><td>111 vs 653              </td><td>B. juncea               </td><td>-2.513333               </td><td>-4.9                    </td><td>0.7556675               </td></tr>\n",
       "\t<tr><td>Bj_Cluster-15354.86688-1</td><td>653 vs control          </td><td>B. juncea               </td><td>-1.990000               </td><td>-6.2                    </td><td>0.5761076               </td></tr>\n",
       "\t<tr><td>Bj_Cluster-15354.86688-2</td><td>111 vs 653              </td><td>B. juncea               </td><td> 2.226667               </td><td> 6.2                    </td><td>0.5101307               </td></tr>\n",
       "</tbody>\n",
       "</table>\n"
      ],
      "text/latex": [
       "\\begin{tabular}{r|llllll}\n",
       " Gene & comparision & Host & Avg\\_qPCR & Avg\\_RNASeq & sd\\_qpcr\\\\\n",
       "\\hline\n",
       "\t Bj\\_Cluster-15354.44072-1 & 111 vs control             & B. juncea                  & -2.366667                  & -4.4                       & 0.7559321                 \\\\\n",
       "\t Bj\\_Cluster-15354.44072-2 & 111 vs 653                 & B. juncea                  & -2.513333                  & -4.9                       & 0.7556675                 \\\\\n",
       "\t Bj\\_Cluster-15354.86688-1 & 653 vs control             & B. juncea                  & -1.990000                  & -6.2                       & 0.5761076                 \\\\\n",
       "\t Bj\\_Cluster-15354.86688-2 & 111 vs 653                 & B. juncea                  &  2.226667                  &  6.2                       & 0.5101307                 \\\\\n",
       "\\end{tabular}\n"
      ],
      "text/markdown": [
       "\n",
       "| Gene | comparision | Host | Avg_qPCR | Avg_RNASeq | sd_qpcr |\n",
       "|---|---|---|---|---|---|\n",
       "| Bj_Cluster-15354.44072-1 | 111 vs control           | B. juncea                | -2.366667                | -4.4                     | 0.7559321                |\n",
       "| Bj_Cluster-15354.44072-2 | 111 vs 653               | B. juncea                | -2.513333                | -4.9                     | 0.7556675                |\n",
       "| Bj_Cluster-15354.86688-1 | 653 vs control           | B. juncea                | -1.990000                | -6.2                     | 0.5761076                |\n",
       "| Bj_Cluster-15354.86688-2 | 111 vs 653               | B. juncea                |  2.226667                |  6.2                     | 0.5101307                |\n",
       "\n"
      ],
      "text/plain": [
       "  Gene                     comparision    Host      Avg_qPCR  Avg_RNASeq\n",
       "1 Bj_Cluster-15354.44072-1 111 vs control B. juncea -2.366667 -4.4      \n",
       "2 Bj_Cluster-15354.44072-2 111 vs 653     B. juncea -2.513333 -4.9      \n",
       "3 Bj_Cluster-15354.86688-1 653 vs control B. juncea -1.990000 -6.2      \n",
       "4 Bj_Cluster-15354.86688-2 111 vs 653     B. juncea  2.226667  6.2      \n",
       "  sd_qpcr  \n",
       "1 0.7559321\n",
       "2 0.7556675\n",
       "3 0.5761076\n",
       "4 0.5101307"
      ]
     },
     "metadata": {},
     "output_type": "display_data"
    }
   ],
   "source": [
    "head(df_summary,4)"
   ]
  },
  {
   "cell_type": "markdown",
   "metadata": {},
   "source": [
    "#### Scatter plot (All hosts combined)"
   ]
  },
  {
   "cell_type": "code",
   "execution_count": 29,
   "metadata": {},
   "outputs": [
    {
     "data": {
      "image/png": "[encoded data removed]",
      "text/plain": [
       "plot without title"
      ]
     },
     "metadata": {},
     "output_type": "display_data"
    }
   ],
   "source": [
    "#tiff('scatterplot.tiff',width=7,height=5,units='in',res=300)\n",
    "scatterplot<-ggplot(df_summary, aes(x = Avg_qPCR, y = Avg_RNASeq))+\n",
    "          geom_point( aes(colour= comparision, shape = Host),size = 3,  alpha =1)+\n",
    "          stat_cor(method = \"pearson\", label.x =3.1, label.y = 7)+\n",
    "          geom_vline(xintercept = 0, alpha = 0.5)+\n",
    "          geom_hline(yintercept = 0, alpha = 0.5)+\n",
    "          geom_smooth(method = 'lm', se = T, alpha =0.15, size = 0.4, color = 'black')+\n",
    "          scale_colour_manual(values = c(\"#56B4E9\",\"#D55E00\",\"#CC79A7\",\"#009E73\",\"#DDCC77\",\"#999999\"))+\n",
    "          labs(title ='', x =expression(log[2]~fold ~change~(qRT-PCR)) , y = expression(log[2]~fold ~change~(RNA-Seq)))+\n",
    "          theme_bw()+theme(panel.grid.major=element_line(colour=\"white\"))+\n",
    "          theme(axis.title.x= element_text(size =12, color ='black', face ='bold'),\n",
    "              axis.title.y = element_text(size =12, color ='black', angle = 90,, face ='bold'),\n",
    "              axis.text.x = element_text(vjust =0.5, size =10,angle =1,color = 'black', face='bold'),\n",
    "              axis.text.y = element_text(size =10, color = 'black', face ='bold'),\n",
    "              legend.text = element_text(size =8),\n",
    "              legend.title = element_text(size =8))+\n",
    "              guides(color = guide_legend('Comparision'), shape = guide_legend('Host'))\n",
    "            \n",
    "scatterplot\n",
    "#dev.off() "
   ]
  },
  {
   "cell_type": "markdown",
   "metadata": {},
   "source": [
    "#### Scatter plot (Hosts separate)"
   ]
  },
  {
   "cell_type": "code",
   "execution_count": 30,
   "metadata": {},
   "outputs": [
    {
     "data": {
      "image/png": "[encoded data removed]",
      "text/plain": [
       "plot without title"
      ]
     },
     "metadata": {},
     "output_type": "display_data"
    }
   ],
   "source": [
    "#tiff('scatterplot_separate.tiff',width=8,height=6,units='in',res=300)\n",
    "scatterplot_separate<-ggplot(df_summary, aes(x = Avg_qPCR, y = Avg_RNASeq))+\n",
    "          geom_point(aes(colour = comparision), size = 3, pch =18, alpha =1)+\n",
    "          stat_cor(method = \"pearson\", label.x =2.55, label.y = 7)+theme(legend.position=\"bottom\")+\n",
    "          geom_vline(xintercept = 0, alpha = 0.5)+\n",
    "          geom_hline(yintercept = 0, alpha = 0.5)+\n",
    "          geom_smooth(method = 'lm', se = T, alpha =0.2, size = 0.55, color = 'black')+\n",
    "          scale_colour_manual(values = c(\"#56B4E9\",\"#D55E00\",\"#CC79A7\",\"#009E73\",\"#F0E442\",\"#999999\"))+\n",
    "          labs(title ='', x =expression(log[2]~fold ~change~(qRT-PCR)) , y = expression(log[2]~fold ~change~(RNA-Seq)))+\n",
    "          theme_bw()+theme(panel.grid.major=element_line(colour=\"white\"))+\n",
    "          theme(axis.title.x= element_text(size =12, color ='black', face ='bold'),\n",
    "            axis.title.y = element_text(size =12, color ='black', angle = 90,, face ='bold'),\n",
    "            axis.text.x = element_text(vjust =0.5, size =10,angle =1,color = 'black', face='bold'),\n",
    "            axis.text.y = element_text(size =10, color = 'black', face ='bold'),\n",
    "            legend.text = element_text(size =8),\n",
    "            legend.title = element_text(size =8),\n",
    "            strip.text = element_text(size = 11, face = 'italic'))+\n",
    "        guides(color = guide_legend('Comparision'))+\n",
    "        facet_wrap(Host~., scales ='fixed')\n",
    "scatterplot_separate\n",
    "#dev.off() "
   ]
  },
  {
   "cell_type": "markdown",
   "metadata": {},
   "source": [
    "#### Lollipop(RNAseq only)"
   ]
  },
  {
   "cell_type": "code",
   "execution_count": 156,
   "metadata": {},
   "outputs": [
    {
     "data": {
      "image/png": "[encoded data removed]",
      "text/plain": [
       "plot without title"
      ]
     },
     "metadata": {},
     "output_type": "display_data"
    }
   ],
   "source": [
    "#tiff('lollipop_RNASeq.tiff',width=10,height=7,units='in',res=300)\n",
    "lollipop_RNASeq<-ggplot(df_summary, aes(x = Avg_RNASeq, y = Gene,color = comparision)) +\n",
    "        geom_segment(aes(x = 0, y = Gene, xend = Avg_RNASeq, yend = Gene), size =1.2) +\n",
    "        geom_point(stat='identity', size=3)+ theme_bw()+\n",
    "        geom_vline(xintercept = 0)+\n",
    "        scale_fill_manual(values = c(\"cyan3\", \"brown1\", \"chartreuse3\",\"cornflowerblue\", \"darkorchid\", \"deeppink\"))+\n",
    "       labs( title = \"\", x = expression(log[2]~fold ~change~(RNASeq)), y = 'Gene')+\n",
    "  theme(panel.grid.major=element_line(colour=\"white\"))+\n",
    "  theme(plot.title = element_text(size =12,\n",
    "                                    face =\"bold\",\n",
    "                                    color = 'black',\n",
    "                                    hjust = 0.5),\n",
    "          axis.title.x= element_text(size =12, color ='black'),\n",
    "          axis.title.y = element_text(size =12, color ='black', angle = 90 ),\n",
    "          axis.text.x = element_text(vjust =0.5, size =9,angle =90,color = 'black'),\n",
    "         strip.text.x = element_text(size = 16, face = 'italic'),\n",
    "          axis.text.y = element_text(size =12, color = 'black'))+\n",
    "          guides(shape = guide_legend('Comparision'))+theme(legend.position=\"bottom\")+\n",
    "facet_grid(~Host, scales ='free')+ coord_flip()\n",
    "lollipop_RNASeq\n",
    "#dev.off()"
   ]
  },
  {
   "cell_type": "markdown",
   "metadata": {},
   "source": [
    "#### Bar graph"
   ]
  },
  {
   "cell_type": "code",
   "execution_count": 247,
   "metadata": {},
   "outputs": [
    {
     "name": "stderr",
     "output_type": "stream",
     "text": [
      "Warning message:\n",
      "\"Ignoring unknown parameters: fun\"No summary function supplied, defaulting to `mean_se()\n",
      "No summary function supplied, defaulting to `mean_se()\n",
      "No summary function supplied, defaulting to `mean_se()\n",
      "No summary function supplied, defaulting to `mean_se()\n",
      "No summary function supplied, defaulting to `mean_se()\n",
      "No summary function supplied, defaulting to `mean_se()\n",
      "No summary function supplied, defaulting to `mean_se()\n",
      "No summary function supplied, defaulting to `mean_se()\n"
     ]
    },
    {
     "data": {
      "image/png": "[encoded data removed]",
      "text/plain": [
       "plot without title"
      ]
     },
     "metadata": {},
     "output_type": "display_data"
    }
   ],
   "source": [
    "#tiff('Bargraph.tiff',width=11,height=8,units='in',res=300)\n",
    "Bargraph = ggplot(df1, aes(x= Gene, y= foldchange, fill = comparision))+\n",
    "            geom_hline(yintercept = 0)+\n",
    "        stat_summary(geom = \"bar\", fun = mean, position = \"dodge\", colour ='black') +\n",
    "        stat_summary(geom = \"errorbar\", fun.data = mean_se, position = \"dodge\")+\n",
    "       theme_bw()+\n",
    "       labs(title ='', x = 'Gene',  y =expression(log[2]~fold~change))+\n",
    "       theme(plot.title = element_text(size =12, face =\"bold\", color = 'black', hjust = 0.5),\n",
    "          axis.title.x= element_text(size =14, color ='black'),\n",
    "          axis.title.y = element_text(size =14, color ='black'),\n",
    "          axis.text.x = element_text(vjust =0.5, size =10,angle =90,color = 'black'),\n",
    "          axis.text.y = element_text(size =10, color = 'black'), \n",
    "          legend.text = element_text(size =12),\n",
    "          strip.text = element_text(size = 15, face = 'italic')) +\n",
    "          guides(fill = guide_legend(''))+theme(legend.position=\"bottom\")+\n",
    "        facet_grid(method~Host, scales ='free',labeller = labeller (method =method.labs))\n",
    "Bargraph\n",
    "#dev.off()"
   ]
  },
  {
   "cell_type": "markdown",
   "metadata": {},
   "source": [
    "---"
   ]
  },
  {
   "cell_type": "markdown",
   "metadata": {},
   "source": [
    "## Folchange calculation by replications RNA seq (*Solanum tuberosum*)"
   ]
  },
  {
   "cell_type": "code",
   "execution_count": null,
   "metadata": {},
   "outputs": [],
   "source": [
    "library(\"DESeq2\")\n",
    "library(\"DEFormats\")\n",
    "library(\"dplyr\")\n",
    "library(\"ggplot2\")"
   ]
  },
  {
   "cell_type": "code",
   "execution_count": null,
   "metadata": {},
   "outputs": [],
   "source": [
    "DF<- read.csv('Solanum_reads.csv')#load read count data"
   ]
  },
  {
   "cell_type": "code",
   "execution_count": null,
   "metadata": {},
   "outputs": [],
   "source": [
    "DF_1 <- data.frame(DF[,-1], row.names = DF[,1])#change to dataframe\n",
    "df = data.matrix(DF_1)"
   ]
  },
  {
   "cell_type": "code",
   "execution_count": null,
   "metadata": {},
   "outputs": [],
   "source": [
    "group = rep(c(\"653\", \"111\", \"Control\"), each = 3) # create vector 'group'"
   ]
  },
  {
   "cell_type": "code",
   "execution_count": null,
   "metadata": {},
   "outputs": [],
   "source": [
    "dge = DGEList(df, group = group) #assign group\n"
   ]
  },
  {
   "cell_type": "code",
   "execution_count": null,
   "metadata": {},
   "outputs": [],
   "source": [
    "dds = as.DESeqDataSet(dge)# Set data in Deseqformat"
   ]
  },
  {
   "cell_type": "code",
   "execution_count": null,
   "metadata": {},
   "outputs": [],
   "source": [
    "dds <- dds[rowSums(counts(dds)) > 1, ]#exclude the count data if rowsum is less than 1"
   ]
  },
  {
   "cell_type": "code",
   "execution_count": null,
   "metadata": {},
   "outputs": [],
   "source": [
    "DESeq.ds<- estimateSizeFactors(dds)\n",
    "sizeFactors(DESeq.ds)"
   ]
  },
  {
   "cell_type": "code",
   "execution_count": null,
   "metadata": {},
   "outputs": [],
   "source": [
    "colData(DESeq.ds)"
   ]
  },
  {
   "cell_type": "code",
   "execution_count": null,
   "metadata": {},
   "outputs": [],
   "source": [
    "normalized_counts<- counts(DESeq.ds, normalized = TRUE)\n",
    "normalized_counts"
   ]
  },
  {
   "cell_type": "code",
   "execution_count": null,
   "metadata": {},
   "outputs": [],
   "source": [
    "log_norm_counts <-  log2(normalized_counts + 1)\n"
   ]
  },
  {
   "cell_type": "code",
   "execution_count": null,
   "metadata": {},
   "outputs": [],
   "source": [
    "genes<- c(\"PGSC0003DMG400023922\", \"PGSC0003DMG402018475\", \"PGSC0003DMG400024310\", \"PGSC0003DMG400020999\",\n",
    "          \"PGSC0003DMG400004259\", \"PGSC0003DMG400029620\", \"PGSC0003DMG400042481\", \"PGSC0003DMG400019824\",\n",
    "          \"PGSC0003DMG400001178\") #validated gene list"
   ]
  },
  {
   "cell_type": "code",
   "execution_count": null,
   "metadata": {},
   "outputs": [],
   "source": [
    "Solanum_norm_count<- (log_norm_counts)[genes,]#subset only validated genes"
   ]
  },
  {
   "cell_type": "code",
   "execution_count": null,
   "metadata": {},
   "outputs": [],
   "source": [
    "Solanum_norm_count"
   ]
  },
  {
   "cell_type": "code",
   "execution_count": null,
   "metadata": {},
   "outputs": [],
   "source": [
    "Solanum_trt = c('653-1', '653-2','653-3','111-1','111-2','111-3','control-1','control-2','control-3')"
   ]
  },
  {
   "cell_type": "code",
   "execution_count": null,
   "metadata": {},
   "outputs": [],
   "source": [
    "colnames(Solanum_norm_count)<- Solanum_trt"
   ]
  },
  {
   "cell_type": "code",
   "execution_count": null,
   "metadata": {},
   "outputs": [],
   "source": [
    "write.csv(Solanum_norm_count,'C:/Users/sudha.gcupadhaya/Desktop/RNA-seq/qPCR validation/Solanum.csv' )"
   ]
  },
  {
   "cell_type": "markdown",
   "metadata": {},
   "source": [
    "##### Tried to calculate foldchage by replicates in normalized data manually but it doesn't produce same foldchange values as DESeq2 does. DSEq2 uses regression model to every single gene to estimate fold change following: $Y = b0+b1*x+e$ (Love et al. 2014)"
   ]
  },
  {
   "cell_type": "markdown",
   "metadata": {},
   "source": [
    "### Mis"
   ]
  },
  {
   "cell_type": "code",
   "execution_count": 11,
   "metadata": {},
   "outputs": [
    {
     "name": "stdout",
     "output_type": "stream",
     "text": [
      "'data.frame':\t36 obs. of  4 variables:\n",
      " $ Gene       : Factor w/ 6 levels \"Bj_Cluster-15354.91015-1\",..: 6 6 6 5 5 5 3 3 3 4 ...\n",
      " $ comparision: Factor w/ 3 levels \"111 vs 653\",\"111 vs control\",..: 3 3 3 3 3 3 3 3 3 2 ...\n",
      " $ method     : Factor w/ 2 levels \"qPCR\",\"RNA-Seq\": 1 1 1 1 1 1 1 1 1 1 ...\n",
      " $ foldchange : num  -1.51 -0.22 -1.3 -0.16 -0.17 -0.48 -0.28 0.69 -1.19 0.7 ...\n"
     ]
    }
   ],
   "source": [
    "df_1<- read.csv('opposite.csv')\n",
    "str(df_1)\n",
    "library(ggplot2)"
   ]
  },
  {
   "cell_type": "code",
   "execution_count": 12,
   "metadata": {},
   "outputs": [],
   "source": [
    "method.labs <- c(\"qRT-PCR\", \"RNA-Seq\")\n",
    "names(method.labs) <- c(\"qPCR\", \"RNA-Seq\")"
   ]
  },
  {
   "cell_type": "markdown",
   "metadata": {},
   "source": [
    "##### Opposite results (Potato, mustard)"
   ]
  },
  {
   "cell_type": "code",
   "execution_count": 29,
   "metadata": {},
   "outputs": [
    {
     "data": {
      "image/png": "[encoded data removed]",
      "text/plain": [
       "plot without title"
      ]
     },
     "metadata": {},
     "output_type": "display_data"
    }
   ],
   "source": [
    "#tiff('Boxplot_opposite.tiff',width=10,height=8,units='in',res=300)\n",
    "Boxplot_opposite = ggplot(df_1, aes(x= Gene, y= foldchange, fill = comparision))+\n",
    "    geom_boxplot(aes(fill =comparision),alpha=0.7,lwd=0.6)+geom_hline(yintercept = 0)+\n",
    "    geom_jitter(size=4,pch=20,alpha = 0.5)+\n",
    "    theme_bw()+\n",
    "    scale_fill_manual(values = c(\"cyan3\", \"brown1\", \"chartreuse3\"))+\n",
    "    facet_grid(method~., scales ='free', labeller = labeller (method =method.labs))+\n",
    "    labs(title ='', x = 'Gene', y =expression(log[2]~fold~change))+\n",
    "    theme(axis.title.x= element_text(size =22, color ='black'),\n",
    "    axis.title.y = element_text(size =22, color ='black'),\n",
    "    axis.text.x = element_text(vjust =0.55, size =14,angle =60,color = 'black'),\n",
    "    axis.text.y = element_text(size =20, color = 'black'),\n",
    "    strip.text.y = element_text(size = 20),\n",
    "    legend.text = element_text(size =14),\n",
    "    legend.title = element_text(size =14),\n",
    "    legend.key.size = unit(1.5, 'cm'))+\n",
    "    guides(fill = guide_legend('Comparision', override.aes = list(alpha =0.7))) \n",
    "Boxplot_opposite\n",
    "#dev.off()"
   ]
  }
 ],
 "metadata": {
  "kernelspec": {
   "display_name": "R",
   "language": "R",
   "name": "ir"
  },
  "language_info": {
   "codemirror_mode": "r",
   "file_extension": ".r",
   "mimetype": "text/x-r-source",
   "name": "R",
   "pygments_lexer": "r",
   "version": "3.6.1"
  },
  "toc": {
   "base_numbering": 1,
   "nav_menu": {},
   "number_sections": true,
   "sideBar": true,
   "skip_h1_title": false,
   "title_cell": "Table of Contents",
   "title_sidebar": "Contents",
   "toc_cell": false,
   "toc_position": {},
   "toc_section_display": true,
   "toc_window_display": true
  }
 },
 "nbformat": 4,
 "nbformat_minor": 4
}
