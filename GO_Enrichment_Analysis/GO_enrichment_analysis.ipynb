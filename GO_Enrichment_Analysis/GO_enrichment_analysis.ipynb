{
 "cells": [
  {
   "cell_type": "markdown",
   "id": "different-forwarding",
   "metadata": {},
   "source": [
    "#### Potato"
   ]
  },
  {
   "cell_type": "code",
   "execution_count": null,
   "id": "adapted-safety",
   "metadata": {},
   "outputs": [],
   "source": [
    "import os\n",
    "import pandas as pd\n",
    "import numpy as np"
   ]
  },
  {
   "cell_type": "code",
   "execution_count": null,
   "id": "tough-tobacco",
   "metadata": {},
   "outputs": [],
   "source": [
    "os.chdir('C:/Users/sudha.gcupadhaya/Desktop/RNA-seq/Validation project/GO_Enrichment_Analysis/potato/')\n",
    "degs = pd.read_csv('Solanum_genename.csv')\n",
    "annot = pd.read_csv('Potato_gene.goannot.csv')"
   ]
  },
  {
   "cell_type": "code",
   "execution_count": null,
   "id": "increasing-internship",
   "metadata": {},
   "outputs": [],
   "source": [
    "selected_annot = annot[annot['Gene_ID'].isin(degs['Gene_ID'])]"
   ]
  },
  {
   "cell_type": "code",
   "execution_count": null,
   "id": "brief-demographic",
   "metadata": {},
   "outputs": [],
   "source": [
    "df_GO = selected_annot[['Gene_ID', 'biological_process', 'molecular_function', 'cellular_component']]\n",
    "df_GO.columns = ['Gene_ID', 'BP', 'MF', 'CC']"
   ]
  },
  {
   "cell_type": "code",
   "execution_count": null,
   "id": "comparative-assumption",
   "metadata": {},
   "outputs": [],
   "source": [
    "df_GO.shape"
   ]
  },
  {
   "cell_type": "markdown",
   "id": "devoted-republic",
   "metadata": {},
   "source": [
    "* BP"
   ]
  },
  {
   "cell_type": "code",
   "execution_count": null,
   "id": "needed-notice",
   "metadata": {},
   "outputs": [],
   "source": [
    "ID = df_GO['Gene_ID']\n",
    "BP = df_GO['BP'].str.split('//', 1000, expand = True)\n",
    "GO_BP = pd.concat([ID, BP], axis =1)"
   ]
  },
  {
   "cell_type": "code",
   "execution_count": null,
   "id": "under-multimedia",
   "metadata": {},
   "outputs": [],
   "source": [
    "melt_BP= GO_BP.melt(id_vars = ['Gene_ID'], value_name = 'GO')\n",
    "melt_BP = melt_BP.drop(['variable'], axis =1)\n",
    "melt_BP.head()"
   ]
  },
  {
   "cell_type": "code",
   "execution_count": null,
   "id": "radical-yugoslavia",
   "metadata": {},
   "outputs": [],
   "source": [
    "melt_BP.count()"
   ]
  },
  {
   "cell_type": "code",
   "execution_count": null,
   "id": "conditional-tribune",
   "metadata": {},
   "outputs": [],
   "source": [
    "nan_value = float(\"NaN\")\n",
    "melt_BP['GO'].replace(\"--\", nan_value, inplace=True)\n",
    "melt_BP.dropna(subset = [\"GO\"], inplace=True)"
   ]
  },
  {
   "cell_type": "code",
   "execution_count": null,
   "id": "southeast-imperial",
   "metadata": {},
   "outputs": [],
   "source": [
    "df_bp = melt_BP[melt_BP['GO'].astype(bool)]"
   ]
  },
  {
   "cell_type": "code",
   "execution_count": 49,
   "id": "north-carpet",
   "metadata": {},
   "outputs": [
    {
     "data": {
      "text/plain": [
       "Gene_ID    29199\n",
       "GO         29199\n",
       "dtype: int64"
      ]
     },
     "execution_count": 49,
     "metadata": {},
     "output_type": "execute_result"
    }
   ],
   "source": [
    "df_bp.count()"
   ]
  },
  {
   "cell_type": "markdown",
   "id": "assisted-european",
   "metadata": {},
   "source": [
    "* MF"
   ]
  },
  {
   "cell_type": "code",
   "execution_count": 50,
   "id": "embedded-drink",
   "metadata": {},
   "outputs": [],
   "source": [
    "ID = df_GO['Gene_ID']\n",
    "MF = df_GO['MF'].str.split('//', 1000, expand = True)\n",
    "GO_MF = pd.concat([ID, MF], axis =1)"
   ]
  },
  {
   "cell_type": "code",
   "execution_count": 51,
   "id": "injured-barrier",
   "metadata": {},
   "outputs": [
    {
     "data": {
      "text/html": [
       "<div>\n",
       "<style scoped>\n",
       "    .dataframe tbody tr th:only-of-type {\n",
       "        vertical-align: middle;\n",
       "    }\n",
       "\n",
       "    .dataframe tbody tr th {\n",
       "        vertical-align: top;\n",
       "    }\n",
       "\n",
       "    .dataframe thead th {\n",
       "        text-align: right;\n",
       "    }\n",
       "</style>\n",
       "<table border=\"1\" class=\"dataframe\">\n",
       "  <thead>\n",
       "    <tr style=\"text-align: right;\">\n",
       "      <th></th>\n",
       "      <th>Gene_ID</th>\n",
       "      <th>GO</th>\n",
       "    </tr>\n",
       "  </thead>\n",
       "  <tbody>\n",
       "    <tr>\n",
       "      <th>0</th>\n",
       "      <td>Novel00009</td>\n",
       "      <td>GO:0003674</td>\n",
       "    </tr>\n",
       "    <tr>\n",
       "      <th>1</th>\n",
       "      <td>Novel00021</td>\n",
       "      <td>GO:0005515</td>\n",
       "    </tr>\n",
       "    <tr>\n",
       "      <th>2</th>\n",
       "      <td>Novel00023</td>\n",
       "      <td>GO:0030554</td>\n",
       "    </tr>\n",
       "    <tr>\n",
       "      <th>3</th>\n",
       "      <td>Novel00024</td>\n",
       "      <td>GO:0030554</td>\n",
       "    </tr>\n",
       "    <tr>\n",
       "      <th>4</th>\n",
       "      <td>Novel00044</td>\n",
       "      <td>GO:0003674</td>\n",
       "    </tr>\n",
       "  </tbody>\n",
       "</table>\n",
       "</div>"
      ],
      "text/plain": [
       "      Gene_ID          GO\n",
       "0  Novel00009  GO:0003674\n",
       "1  Novel00021  GO:0005515\n",
       "2  Novel00023  GO:0030554\n",
       "3  Novel00024  GO:0030554\n",
       "4  Novel00044  GO:0003674"
      ]
     },
     "execution_count": 51,
     "metadata": {},
     "output_type": "execute_result"
    }
   ],
   "source": [
    "melt_MF= GO_MF.melt(id_vars = ['Gene_ID'], value_name = 'GO')\n",
    "melt_MF = melt_MF.drop(['variable'], axis =1)\n",
    "melt_MF.head()"
   ]
  },
  {
   "cell_type": "code",
   "execution_count": 52,
   "id": "three-cattle",
   "metadata": {},
   "outputs": [
    {
     "data": {
      "text/plain": [
       "Gene_ID    87669\n",
       "GO         15364\n",
       "dtype: int64"
      ]
     },
     "execution_count": 52,
     "metadata": {},
     "output_type": "execute_result"
    }
   ],
   "source": [
    "melt_MF.count()"
   ]
  },
  {
   "cell_type": "code",
   "execution_count": 53,
   "id": "ceramic-thread",
   "metadata": {},
   "outputs": [],
   "source": [
    "nan_value = float(\"NaN\")\n",
    "melt_MF['GO'].replace(\"--\", nan_value, inplace=True)\n",
    "melt_MF.dropna(subset = [\"GO\"], inplace=True)"
   ]
  },
  {
   "cell_type": "code",
   "execution_count": 54,
   "id": "silent-second",
   "metadata": {},
   "outputs": [],
   "source": [
    "df_mf = melt_MF[melt_MF['GO'].astype(bool)]"
   ]
  },
  {
   "cell_type": "code",
   "execution_count": 55,
   "id": "developed-creation",
   "metadata": {},
   "outputs": [
    {
     "data": {
      "text/plain": [
       "Gene_ID    15088\n",
       "GO         15088\n",
       "dtype: int64"
      ]
     },
     "execution_count": 55,
     "metadata": {},
     "output_type": "execute_result"
    }
   ],
   "source": [
    "df_mf.count()"
   ]
  },
  {
   "cell_type": "markdown",
   "id": "athletic-phone",
   "metadata": {},
   "source": [
    "* CC"
   ]
  },
  {
   "cell_type": "code",
   "execution_count": 56,
   "id": "editorial-shareware",
   "metadata": {},
   "outputs": [],
   "source": [
    "ID = df_GO['Gene_ID']\n",
    "CC = df_GO['CC'].str.split('//', 1000, expand = True)\n",
    "GO_CC = pd.concat([ID, CC], axis =1)"
   ]
  },
  {
   "cell_type": "code",
   "execution_count": 57,
   "id": "moderate-outreach",
   "metadata": {},
   "outputs": [
    {
     "data": {
      "text/html": [
       "<div>\n",
       "<style scoped>\n",
       "    .dataframe tbody tr th:only-of-type {\n",
       "        vertical-align: middle;\n",
       "    }\n",
       "\n",
       "    .dataframe tbody tr th {\n",
       "        vertical-align: top;\n",
       "    }\n",
       "\n",
       "    .dataframe thead th {\n",
       "        text-align: right;\n",
       "    }\n",
       "</style>\n",
       "<table border=\"1\" class=\"dataframe\">\n",
       "  <thead>\n",
       "    <tr style=\"text-align: right;\">\n",
       "      <th></th>\n",
       "      <th>Gene_ID</th>\n",
       "      <th>GO</th>\n",
       "    </tr>\n",
       "  </thead>\n",
       "  <tbody>\n",
       "    <tr>\n",
       "      <th>0</th>\n",
       "      <td>Novel00009</td>\n",
       "      <td>GO:0000813</td>\n",
       "    </tr>\n",
       "    <tr>\n",
       "      <th>1</th>\n",
       "      <td>Novel00021</td>\n",
       "      <td>--</td>\n",
       "    </tr>\n",
       "    <tr>\n",
       "      <th>2</th>\n",
       "      <td>Novel00023</td>\n",
       "      <td>GO:0005575</td>\n",
       "    </tr>\n",
       "    <tr>\n",
       "      <th>3</th>\n",
       "      <td>Novel00024</td>\n",
       "      <td>--</td>\n",
       "    </tr>\n",
       "    <tr>\n",
       "      <th>4</th>\n",
       "      <td>Novel00044</td>\n",
       "      <td>GO:0016020</td>\n",
       "    </tr>\n",
       "  </tbody>\n",
       "</table>\n",
       "</div>"
      ],
      "text/plain": [
       "      Gene_ID          GO\n",
       "0  Novel00009  GO:0000813\n",
       "1  Novel00021          --\n",
       "2  Novel00023  GO:0005575\n",
       "3  Novel00024          --\n",
       "4  Novel00044  GO:0016020"
      ]
     },
     "execution_count": 57,
     "metadata": {},
     "output_type": "execute_result"
    }
   ],
   "source": [
    "melt_CC= GO_CC.melt(id_vars = ['Gene_ID'], value_name = 'GO')\n",
    "melt_CC = melt_CC.drop(['variable'], axis =1)\n",
    "melt_CC.head()"
   ]
  },
  {
   "cell_type": "code",
   "execution_count": 58,
   "id": "hidden-measurement",
   "metadata": {},
   "outputs": [
    {
     "data": {
      "text/plain": [
       "Gene_ID    79074\n",
       "GO         11702\n",
       "dtype: int64"
      ]
     },
     "execution_count": 58,
     "metadata": {},
     "output_type": "execute_result"
    }
   ],
   "source": [
    "melt_CC.count()"
   ]
  },
  {
   "cell_type": "code",
   "execution_count": 59,
   "id": "broad-macedonia",
   "metadata": {},
   "outputs": [],
   "source": [
    "nan_value = float(\"NaN\")\n",
    "melt_CC['GO'].replace(\"--\", nan_value, inplace=True)\n",
    "melt_CC.dropna(subset = [\"GO\"], inplace=True)"
   ]
  },
  {
   "cell_type": "code",
   "execution_count": 60,
   "id": "behind-jesus",
   "metadata": {},
   "outputs": [],
   "source": [
    "df_cc = melt_CC[melt_CC['GO'].astype(bool)]"
   ]
  },
  {
   "cell_type": "code",
   "execution_count": 61,
   "id": "solar-shield",
   "metadata": {},
   "outputs": [
    {
     "data": {
      "text/plain": [
       "Gene_ID    10964\n",
       "GO         10964\n",
       "dtype: int64"
      ]
     },
     "execution_count": 61,
     "metadata": {},
     "output_type": "execute_result"
    }
   ],
   "source": [
    "df_cc.count()"
   ]
  },
  {
   "cell_type": "markdown",
   "id": "visible-phase",
   "metadata": {},
   "source": [
    "* Combine all three process"
   ]
  },
  {
   "cell_type": "code",
   "execution_count": 62,
   "id": "reserved-spanking",
   "metadata": {},
   "outputs": [],
   "source": [
    "annot_all = pd.concat([df_bp, df_mf, df_cc])"
   ]
  },
  {
   "cell_type": "code",
   "execution_count": 63,
   "id": "exceptional-standard",
   "metadata": {},
   "outputs": [
    {
     "data": {
      "text/plain": [
       "(55251, 2)"
      ]
     },
     "execution_count": 63,
     "metadata": {},
     "output_type": "execute_result"
    }
   ],
   "source": [
    "annot_all.shape"
   ]
  },
  {
   "cell_type": "code",
   "execution_count": 64,
   "id": "sitting-royalty",
   "metadata": {},
   "outputs": [],
   "source": [
    "#annot_all.to_csv('annot_list_potato.csv')"
   ]
  },
  {
   "cell_type": "code",
   "execution_count": null,
   "id": "olympic-removal",
   "metadata": {},
   "outputs": [],
   "source": []
  },
  {
   "cell_type": "code",
   "execution_count": null,
   "id": "blind-stationery",
   "metadata": {},
   "outputs": [],
   "source": []
  },
  {
   "cell_type": "markdown",
   "id": "exotic-solution",
   "metadata": {},
   "source": [
    "#### Mustard"
   ]
  },
  {
   "cell_type": "code",
   "execution_count": 70,
   "id": "brilliant-munich",
   "metadata": {},
   "outputs": [],
   "source": [
    "os.chdir('C:/Users/sudha.gcupadhaya/Desktop/RNA-seq/Validation project/GO_Enrichment_Analysis/mustard/')\n",
    "degs = pd.read_csv('Brassica_genename.csv')\n",
    "annot = pd.read_csv('Brassica_Annotation_GO.csv')"
   ]
  },
  {
   "cell_type": "code",
   "execution_count": 71,
   "id": "bibliographic-vanilla",
   "metadata": {},
   "outputs": [],
   "source": [
    "selected_annot = annot[annot['Gene ID'].isin(degs['Gene_ID'])]"
   ]
  },
  {
   "cell_type": "code",
   "execution_count": 72,
   "id": "better-polyester",
   "metadata": {},
   "outputs": [],
   "source": [
    "df_GO = selected_annot[['Gene ID', 'Gene Ontology Biological Pathway', 'Gene Ontology Molecular Function', 'Gene Ontology Cellular Component']]\n",
    "df_GO.columns = ['Gene_ID', 'BP', 'MF', 'CC']"
   ]
  },
  {
   "cell_type": "code",
   "execution_count": 73,
   "id": "funded-tradition",
   "metadata": {},
   "outputs": [
    {
     "data": {
      "text/plain": [
       "(1480, 4)"
      ]
     },
     "execution_count": 73,
     "metadata": {},
     "output_type": "execute_result"
    }
   ],
   "source": [
    "df_GO.shape"
   ]
  },
  {
   "cell_type": "markdown",
   "id": "traditional-forth",
   "metadata": {},
   "source": [
    "* BP"
   ]
  },
  {
   "cell_type": "code",
   "execution_count": 74,
   "id": "impossible-african",
   "metadata": {},
   "outputs": [],
   "source": [
    "ID = df_GO['Gene_ID']\n",
    "BP = df_GO['BP'].str.split('//', 1000, expand = True)\n",
    "GO_BP = pd.concat([ID, BP], axis =1)"
   ]
  },
  {
   "cell_type": "code",
   "execution_count": 75,
   "id": "interstate-young",
   "metadata": {},
   "outputs": [
    {
     "data": {
      "text/html": [
       "<div>\n",
       "<style scoped>\n",
       "    .dataframe tbody tr th:only-of-type {\n",
       "        vertical-align: middle;\n",
       "    }\n",
       "\n",
       "    .dataframe tbody tr th {\n",
       "        vertical-align: top;\n",
       "    }\n",
       "\n",
       "    .dataframe thead th {\n",
       "        text-align: right;\n",
       "    }\n",
       "</style>\n",
       "<table border=\"1\" class=\"dataframe\">\n",
       "  <thead>\n",
       "    <tr style=\"text-align: right;\">\n",
       "      <th></th>\n",
       "      <th>Gene_ID</th>\n",
       "      <th>GO</th>\n",
       "    </tr>\n",
       "  </thead>\n",
       "  <tbody>\n",
       "    <tr>\n",
       "      <th>0</th>\n",
       "      <td>Cluster-13954.7</td>\n",
       "      <td>GO:0016042</td>\n",
       "    </tr>\n",
       "    <tr>\n",
       "      <th>1</th>\n",
       "      <td>Cluster-14528.1</td>\n",
       "      <td>GO:0008152</td>\n",
       "    </tr>\n",
       "    <tr>\n",
       "      <th>2</th>\n",
       "      <td>Cluster-15354.100020</td>\n",
       "      <td>GO:0009733</td>\n",
       "    </tr>\n",
       "    <tr>\n",
       "      <th>3</th>\n",
       "      <td>Cluster-15354.100214</td>\n",
       "      <td>GO:0006955</td>\n",
       "    </tr>\n",
       "    <tr>\n",
       "      <th>4</th>\n",
       "      <td>Cluster-15354.100306</td>\n",
       "      <td>GO:0006355</td>\n",
       "    </tr>\n",
       "  </tbody>\n",
       "</table>\n",
       "</div>"
      ],
      "text/plain": [
       "                Gene_ID          GO\n",
       "0       Cluster-13954.7  GO:0016042\n",
       "1       Cluster-14528.1  GO:0008152\n",
       "2  Cluster-15354.100020  GO:0009733\n",
       "3  Cluster-15354.100214  GO:0006955\n",
       "4  Cluster-15354.100306  GO:0006355"
      ]
     },
     "execution_count": 75,
     "metadata": {},
     "output_type": "execute_result"
    }
   ],
   "source": [
    "melt_BP= GO_BP.melt(id_vars = ['Gene_ID'], value_name = 'GO')\n",
    "melt_BP = melt_BP.drop(['variable'], axis =1)\n",
    "melt_BP.head()"
   ]
  },
  {
   "cell_type": "code",
   "execution_count": 76,
   "id": "exposed-american",
   "metadata": {},
   "outputs": [
    {
     "data": {
      "text/plain": [
       "Gene_ID    38480\n",
       "GO          3221\n",
       "dtype: int64"
      ]
     },
     "execution_count": 76,
     "metadata": {},
     "output_type": "execute_result"
    }
   ],
   "source": [
    "melt_BP.count()"
   ]
  },
  {
   "cell_type": "code",
   "execution_count": 77,
   "id": "wicked-partition",
   "metadata": {},
   "outputs": [],
   "source": [
    "nan_value = float(\"NaN\")\n",
    "melt_BP['GO'].replace(\"--\", nan_value, inplace=True)\n",
    "melt_BP.dropna(subset = [\"GO\"], inplace=True)"
   ]
  },
  {
   "cell_type": "code",
   "execution_count": 78,
   "id": "drawn-going",
   "metadata": {},
   "outputs": [],
   "source": [
    "df_bp = melt_BP[melt_BP['GO'].astype(bool)]"
   ]
  },
  {
   "cell_type": "code",
   "execution_count": 79,
   "id": "alert-composite",
   "metadata": {},
   "outputs": [
    {
     "data": {
      "text/plain": [
       "Gene_ID    2902\n",
       "GO         2902\n",
       "dtype: int64"
      ]
     },
     "execution_count": 79,
     "metadata": {},
     "output_type": "execute_result"
    }
   ],
   "source": [
    "df_bp.count()"
   ]
  },
  {
   "cell_type": "markdown",
   "id": "stylish-float",
   "metadata": {},
   "source": [
    "* MF"
   ]
  },
  {
   "cell_type": "code",
   "execution_count": 80,
   "id": "eastern-tenant",
   "metadata": {},
   "outputs": [],
   "source": [
    "ID = df_GO['Gene_ID']\n",
    "MF = df_GO['MF'].str.split('//', 1000, expand = True)\n",
    "GO_MF = pd.concat([ID, MF], axis =1)"
   ]
  },
  {
   "cell_type": "code",
   "execution_count": 81,
   "id": "configured-oracle",
   "metadata": {},
   "outputs": [
    {
     "data": {
      "text/html": [
       "<div>\n",
       "<style scoped>\n",
       "    .dataframe tbody tr th:only-of-type {\n",
       "        vertical-align: middle;\n",
       "    }\n",
       "\n",
       "    .dataframe tbody tr th {\n",
       "        vertical-align: top;\n",
       "    }\n",
       "\n",
       "    .dataframe thead th {\n",
       "        text-align: right;\n",
       "    }\n",
       "</style>\n",
       "<table border=\"1\" class=\"dataframe\">\n",
       "  <thead>\n",
       "    <tr style=\"text-align: right;\">\n",
       "      <th></th>\n",
       "      <th>Gene_ID</th>\n",
       "      <th>GO</th>\n",
       "    </tr>\n",
       "  </thead>\n",
       "  <tbody>\n",
       "    <tr>\n",
       "      <th>0</th>\n",
       "      <td>Cluster-13954.7</td>\n",
       "      <td>GO:0003924</td>\n",
       "    </tr>\n",
       "    <tr>\n",
       "      <th>1</th>\n",
       "      <td>Cluster-14528.1</td>\n",
       "      <td>GO:0003824</td>\n",
       "    </tr>\n",
       "    <tr>\n",
       "      <th>2</th>\n",
       "      <td>Cluster-15354.100020</td>\n",
       "      <td>GO:0005515</td>\n",
       "    </tr>\n",
       "    <tr>\n",
       "      <th>3</th>\n",
       "      <td>Cluster-15354.100214</td>\n",
       "      <td>GO:0005125</td>\n",
       "    </tr>\n",
       "    <tr>\n",
       "      <th>4</th>\n",
       "      <td>Cluster-15354.100306</td>\n",
       "      <td>GO:0003779</td>\n",
       "    </tr>\n",
       "  </tbody>\n",
       "</table>\n",
       "</div>"
      ],
      "text/plain": [
       "                Gene_ID          GO\n",
       "0       Cluster-13954.7  GO:0003924\n",
       "1       Cluster-14528.1  GO:0003824\n",
       "2  Cluster-15354.100020  GO:0005515\n",
       "3  Cluster-15354.100214  GO:0005125\n",
       "4  Cluster-15354.100306  GO:0003779"
      ]
     },
     "execution_count": 81,
     "metadata": {},
     "output_type": "execute_result"
    }
   ],
   "source": [
    "melt_MF= GO_MF.melt(id_vars = ['Gene_ID'], value_name = 'GO')\n",
    "melt_MF = melt_MF.drop(['variable'], axis =1)\n",
    "melt_MF.head()"
   ]
  },
  {
   "cell_type": "code",
   "execution_count": 82,
   "id": "different-fault",
   "metadata": {},
   "outputs": [
    {
     "data": {
      "text/plain": [
       "Gene_ID    20720\n",
       "GO          3120\n",
       "dtype: int64"
      ]
     },
     "execution_count": 82,
     "metadata": {},
     "output_type": "execute_result"
    }
   ],
   "source": [
    "melt_MF.count()"
   ]
  },
  {
   "cell_type": "code",
   "execution_count": 83,
   "id": "determined-tackle",
   "metadata": {},
   "outputs": [],
   "source": [
    "nan_value = float(\"NaN\")\n",
    "melt_MF['GO'].replace(\"--\", nan_value, inplace=True)\n",
    "melt_MF.dropna(subset = [\"GO\"], inplace=True)"
   ]
  },
  {
   "cell_type": "code",
   "execution_count": 84,
   "id": "straight-shoulder",
   "metadata": {},
   "outputs": [],
   "source": [
    "df_mf = melt_MF[melt_MF['GO'].astype(bool)]"
   ]
  },
  {
   "cell_type": "code",
   "execution_count": 85,
   "id": "considerable-meditation",
   "metadata": {},
   "outputs": [
    {
     "data": {
      "text/plain": [
       "Gene_ID    2945\n",
       "GO         2945\n",
       "dtype: int64"
      ]
     },
     "execution_count": 85,
     "metadata": {},
     "output_type": "execute_result"
    }
   ],
   "source": [
    "df_mf.count()"
   ]
  },
  {
   "cell_type": "markdown",
   "id": "municipal-context",
   "metadata": {},
   "source": [
    "* CC"
   ]
  },
  {
   "cell_type": "code",
   "execution_count": 86,
   "id": "exposed-assignment",
   "metadata": {},
   "outputs": [],
   "source": [
    "ID = df_GO['Gene_ID']\n",
    "CC = df_GO['CC'].str.split('//', 1000, expand = True)\n",
    "GO_CC = pd.concat([ID, CC], axis =1)"
   ]
  },
  {
   "cell_type": "code",
   "execution_count": 87,
   "id": "certain-fence",
   "metadata": {},
   "outputs": [
    {
     "data": {
      "text/html": [
       "<div>\n",
       "<style scoped>\n",
       "    .dataframe tbody tr th:only-of-type {\n",
       "        vertical-align: middle;\n",
       "    }\n",
       "\n",
       "    .dataframe tbody tr th {\n",
       "        vertical-align: top;\n",
       "    }\n",
       "\n",
       "    .dataframe thead th {\n",
       "        text-align: right;\n",
       "    }\n",
       "</style>\n",
       "<table border=\"1\" class=\"dataframe\">\n",
       "  <thead>\n",
       "    <tr style=\"text-align: right;\">\n",
       "      <th></th>\n",
       "      <th>Gene_ID</th>\n",
       "      <th>GO</th>\n",
       "    </tr>\n",
       "  </thead>\n",
       "  <tbody>\n",
       "    <tr>\n",
       "      <th>0</th>\n",
       "      <td>Cluster-13954.7</td>\n",
       "      <td>GO:0005576</td>\n",
       "    </tr>\n",
       "    <tr>\n",
       "      <th>1</th>\n",
       "      <td>Cluster-14528.1</td>\n",
       "      <td>GO:0005886</td>\n",
       "    </tr>\n",
       "    <tr>\n",
       "      <th>2</th>\n",
       "      <td>Cluster-15354.100020</td>\n",
       "      <td>--</td>\n",
       "    </tr>\n",
       "    <tr>\n",
       "      <th>3</th>\n",
       "      <td>Cluster-15354.100214</td>\n",
       "      <td>GO:0005576</td>\n",
       "    </tr>\n",
       "    <tr>\n",
       "      <th>4</th>\n",
       "      <td>Cluster-15354.100306</td>\n",
       "      <td>GO:0005667</td>\n",
       "    </tr>\n",
       "  </tbody>\n",
       "</table>\n",
       "</div>"
      ],
      "text/plain": [
       "                Gene_ID          GO\n",
       "0       Cluster-13954.7  GO:0005576\n",
       "1       Cluster-14528.1  GO:0005886\n",
       "2  Cluster-15354.100020          --\n",
       "3  Cluster-15354.100214  GO:0005576\n",
       "4  Cluster-15354.100306  GO:0005667"
      ]
     },
     "execution_count": 87,
     "metadata": {},
     "output_type": "execute_result"
    }
   ],
   "source": [
    "melt_CC= GO_CC.melt(id_vars = ['Gene_ID'], value_name = 'GO')\n",
    "melt_CC = melt_CC.drop(['variable'], axis =1)\n",
    "melt_CC.head()"
   ]
  },
  {
   "cell_type": "code",
   "execution_count": 88,
   "id": "similar-brazilian",
   "metadata": {},
   "outputs": [
    {
     "data": {
      "text/plain": [
       "Gene_ID    19240\n",
       "GO          1969\n",
       "dtype: int64"
      ]
     },
     "execution_count": 88,
     "metadata": {},
     "output_type": "execute_result"
    }
   ],
   "source": [
    "melt_CC.count()"
   ]
  },
  {
   "cell_type": "code",
   "execution_count": 89,
   "id": "criminal-breeding",
   "metadata": {},
   "outputs": [],
   "source": [
    "nan_value = float(\"NaN\")\n",
    "melt_CC['GO'].replace(\"--\", nan_value, inplace=True)\n",
    "melt_CC.dropna(subset = [\"GO\"], inplace=True)"
   ]
  },
  {
   "cell_type": "code",
   "execution_count": 90,
   "id": "exclusive-portland",
   "metadata": {},
   "outputs": [],
   "source": [
    "df_cc = melt_CC[melt_CC['GO'].astype(bool)]"
   ]
  },
  {
   "cell_type": "code",
   "execution_count": 91,
   "id": "pointed-charter",
   "metadata": {},
   "outputs": [
    {
     "data": {
      "text/plain": [
       "Gene_ID    1162\n",
       "GO         1162\n",
       "dtype: int64"
      ]
     },
     "execution_count": 91,
     "metadata": {},
     "output_type": "execute_result"
    }
   ],
   "source": [
    "df_cc.count()"
   ]
  },
  {
   "cell_type": "markdown",
   "id": "increased-lesson",
   "metadata": {},
   "source": [
    "* Combine all three process"
   ]
  },
  {
   "cell_type": "code",
   "execution_count": 92,
   "id": "cathedral-listing",
   "metadata": {},
   "outputs": [],
   "source": [
    "annot_all = pd.concat([df_bp, df_mf, df_cc])"
   ]
  },
  {
   "cell_type": "code",
   "execution_count": 93,
   "id": "square-broadway",
   "metadata": {},
   "outputs": [
    {
     "data": {
      "text/plain": [
       "(7009, 2)"
      ]
     },
     "execution_count": 93,
     "metadata": {},
     "output_type": "execute_result"
    }
   ],
   "source": [
    "annot_all.shape"
   ]
  },
  {
   "cell_type": "code",
   "execution_count": 94,
   "id": "announced-tiger",
   "metadata": {},
   "outputs": [],
   "source": [
    "#annot_all.to_csv('annot_list_mustard.csv')"
   ]
  },
  {
   "cell_type": "code",
   "execution_count": null,
   "id": "psychological-cement",
   "metadata": {},
   "outputs": [],
   "source": []
  },
  {
   "cell_type": "markdown",
   "id": "unauthorized-fraction",
   "metadata": {},
   "source": [
    "#### Mint"
   ]
  },
  {
   "cell_type": "code",
   "execution_count": 100,
   "id": "fossil-helmet",
   "metadata": {},
   "outputs": [],
   "source": [
    "os.chdir('C:/Users/sudha.gcupadhaya/Desktop/RNA-seq/Validation project/GO_Enrichment_Analysis/mint/')\n",
    "degs = pd.read_csv('Mentha_ganename.csv')\n",
    "annot = pd.read_csv('Mentha_Annotation_GO.csv')"
   ]
  },
  {
   "cell_type": "code",
   "execution_count": 101,
   "id": "intellectual-sewing",
   "metadata": {},
   "outputs": [],
   "source": [
    "selected_annot = annot[annot['Gene ID'].isin(degs['Gene_ID'])]"
   ]
  },
  {
   "cell_type": "code",
   "execution_count": 102,
   "id": "horizontal-tractor",
   "metadata": {},
   "outputs": [],
   "source": [
    "df_GO = selected_annot[['Gene ID', 'Gene Ontology Biological Pathway', 'Gene Ontology Molecular Function', 'Gene Ontology Cellular Component']]\n",
    "df_GO.columns = ['Gene_ID', 'BP', 'MF', 'CC']"
   ]
  },
  {
   "cell_type": "code",
   "execution_count": 103,
   "id": "established-junior",
   "metadata": {},
   "outputs": [
    {
     "data": {
      "text/plain": [
       "(1195, 4)"
      ]
     },
     "execution_count": 103,
     "metadata": {},
     "output_type": "execute_result"
    }
   ],
   "source": [
    "df_GO.shape"
   ]
  },
  {
   "cell_type": "markdown",
   "id": "empirical-gasoline",
   "metadata": {},
   "source": [
    "* BP"
   ]
  },
  {
   "cell_type": "code",
   "execution_count": 104,
   "id": "selective-bread",
   "metadata": {},
   "outputs": [],
   "source": [
    "ID = df_GO['Gene_ID']\n",
    "BP = df_GO['BP'].str.split('//', 1000, expand = True)\n",
    "GO_BP = pd.concat([ID, BP], axis =1)"
   ]
  },
  {
   "cell_type": "code",
   "execution_count": 105,
   "id": "coral-reply",
   "metadata": {},
   "outputs": [
    {
     "data": {
      "text/html": [
       "<div>\n",
       "<style scoped>\n",
       "    .dataframe tbody tr th:only-of-type {\n",
       "        vertical-align: middle;\n",
       "    }\n",
       "\n",
       "    .dataframe tbody tr th {\n",
       "        vertical-align: top;\n",
       "    }\n",
       "\n",
       "    .dataframe thead th {\n",
       "        text-align: right;\n",
       "    }\n",
       "</style>\n",
       "<table border=\"1\" class=\"dataframe\">\n",
       "  <thead>\n",
       "    <tr style=\"text-align: right;\">\n",
       "      <th></th>\n",
       "      <th>Gene_ID</th>\n",
       "      <th>GO</th>\n",
       "    </tr>\n",
       "  </thead>\n",
       "  <tbody>\n",
       "    <tr>\n",
       "      <th>0</th>\n",
       "      <td>Cluster-12724.0</td>\n",
       "      <td>GO:0006730</td>\n",
       "    </tr>\n",
       "    <tr>\n",
       "      <th>1</th>\n",
       "      <td>Cluster-21872.0</td>\n",
       "      <td>GO:0006979</td>\n",
       "    </tr>\n",
       "    <tr>\n",
       "      <th>2</th>\n",
       "      <td>Cluster-21903.0</td>\n",
       "      <td>GO:0008033</td>\n",
       "    </tr>\n",
       "    <tr>\n",
       "      <th>3</th>\n",
       "      <td>Cluster-24414.0</td>\n",
       "      <td>GO:0042254</td>\n",
       "    </tr>\n",
       "    <tr>\n",
       "      <th>4</th>\n",
       "      <td>Cluster-24764.0</td>\n",
       "      <td>GO:0009877</td>\n",
       "    </tr>\n",
       "  </tbody>\n",
       "</table>\n",
       "</div>"
      ],
      "text/plain": [
       "           Gene_ID          GO\n",
       "0  Cluster-12724.0  GO:0006730\n",
       "1  Cluster-21872.0  GO:0006979\n",
       "2  Cluster-21903.0  GO:0008033\n",
       "3  Cluster-24414.0  GO:0042254\n",
       "4  Cluster-24764.0  GO:0009877"
      ]
     },
     "execution_count": 105,
     "metadata": {},
     "output_type": "execute_result"
    }
   ],
   "source": [
    "melt_BP= GO_BP.melt(id_vars = ['Gene_ID'], value_name = 'GO')\n",
    "melt_BP = melt_BP.drop(['variable'], axis =1)\n",
    "melt_BP.head()"
   ]
  },
  {
   "cell_type": "code",
   "execution_count": 106,
   "id": "flexible-damage",
   "metadata": {},
   "outputs": [
    {
     "data": {
      "text/plain": [
       "Gene_ID    21510\n",
       "GO          2602\n",
       "dtype: int64"
      ]
     },
     "execution_count": 106,
     "metadata": {},
     "output_type": "execute_result"
    }
   ],
   "source": [
    "melt_BP.count()"
   ]
  },
  {
   "cell_type": "code",
   "execution_count": 107,
   "id": "municipal-principle",
   "metadata": {},
   "outputs": [],
   "source": [
    "nan_value = float(\"NaN\")\n",
    "melt_BP['GO'].replace(\"--\", nan_value, inplace=True)\n",
    "melt_BP.dropna(subset = [\"GO\"], inplace=True)"
   ]
  },
  {
   "cell_type": "code",
   "execution_count": 108,
   "id": "derived-project",
   "metadata": {},
   "outputs": [],
   "source": [
    "df_bp = melt_BP[melt_BP['GO'].astype(bool)]"
   ]
  },
  {
   "cell_type": "code",
   "execution_count": 109,
   "id": "seasonal-diana",
   "metadata": {},
   "outputs": [
    {
     "data": {
      "text/plain": [
       "Gene_ID    2379\n",
       "GO         2379\n",
       "dtype: int64"
      ]
     },
     "execution_count": 109,
     "metadata": {},
     "output_type": "execute_result"
    }
   ],
   "source": [
    "df_bp.count()"
   ]
  },
  {
   "cell_type": "markdown",
   "id": "separated-moldova",
   "metadata": {},
   "source": [
    "* MF"
   ]
  },
  {
   "cell_type": "code",
   "execution_count": 110,
   "id": "solid-nigeria",
   "metadata": {},
   "outputs": [],
   "source": [
    "ID = df_GO['Gene_ID']\n",
    "MF = df_GO['MF'].str.split('//', 1000, expand = True)\n",
    "GO_MF = pd.concat([ID, MF], axis =1)"
   ]
  },
  {
   "cell_type": "code",
   "execution_count": 111,
   "id": "taken-battery",
   "metadata": {},
   "outputs": [
    {
     "data": {
      "text/html": [
       "<div>\n",
       "<style scoped>\n",
       "    .dataframe tbody tr th:only-of-type {\n",
       "        vertical-align: middle;\n",
       "    }\n",
       "\n",
       "    .dataframe tbody tr th {\n",
       "        vertical-align: top;\n",
       "    }\n",
       "\n",
       "    .dataframe thead th {\n",
       "        text-align: right;\n",
       "    }\n",
       "</style>\n",
       "<table border=\"1\" class=\"dataframe\">\n",
       "  <thead>\n",
       "    <tr style=\"text-align: right;\">\n",
       "      <th></th>\n",
       "      <th>Gene_ID</th>\n",
       "      <th>GO</th>\n",
       "    </tr>\n",
       "  </thead>\n",
       "  <tbody>\n",
       "    <tr>\n",
       "      <th>0</th>\n",
       "      <td>Cluster-12724.0</td>\n",
       "      <td>GO:0004089</td>\n",
       "    </tr>\n",
       "    <tr>\n",
       "      <th>1</th>\n",
       "      <td>Cluster-21872.0</td>\n",
       "      <td>GO:0004096</td>\n",
       "    </tr>\n",
       "    <tr>\n",
       "      <th>2</th>\n",
       "      <td>Cluster-21903.0</td>\n",
       "      <td>GO:0071949</td>\n",
       "    </tr>\n",
       "    <tr>\n",
       "      <th>3</th>\n",
       "      <td>Cluster-24414.0</td>\n",
       "      <td>GO:0003735</td>\n",
       "    </tr>\n",
       "    <tr>\n",
       "      <th>4</th>\n",
       "      <td>Cluster-24764.0</td>\n",
       "      <td>--</td>\n",
       "    </tr>\n",
       "  </tbody>\n",
       "</table>\n",
       "</div>"
      ],
      "text/plain": [
       "           Gene_ID          GO\n",
       "0  Cluster-12724.0  GO:0004089\n",
       "1  Cluster-21872.0  GO:0004096\n",
       "2  Cluster-21903.0  GO:0071949\n",
       "3  Cluster-24414.0  GO:0003735\n",
       "4  Cluster-24764.0          --"
      ]
     },
     "execution_count": 111,
     "metadata": {},
     "output_type": "execute_result"
    }
   ],
   "source": [
    "melt_MF= GO_MF.melt(id_vars = ['Gene_ID'], value_name = 'GO')\n",
    "melt_MF = melt_MF.drop(['variable'], axis =1)\n",
    "melt_MF.head()"
   ]
  },
  {
   "cell_type": "code",
   "execution_count": 112,
   "id": "hindu-polish",
   "metadata": {},
   "outputs": [
    {
     "data": {
      "text/plain": [
       "Gene_ID    14340\n",
       "GO          2734\n",
       "dtype: int64"
      ]
     },
     "execution_count": 112,
     "metadata": {},
     "output_type": "execute_result"
    }
   ],
   "source": [
    "melt_MF.count()"
   ]
  },
  {
   "cell_type": "code",
   "execution_count": 113,
   "id": "stunning-carbon",
   "metadata": {},
   "outputs": [],
   "source": [
    "nan_value = float(\"NaN\")\n",
    "melt_MF['GO'].replace(\"--\", nan_value, inplace=True)\n",
    "melt_MF.dropna(subset = [\"GO\"], inplace=True)"
   ]
  },
  {
   "cell_type": "code",
   "execution_count": 114,
   "id": "fresh-armenia",
   "metadata": {},
   "outputs": [],
   "source": [
    "df_mf = melt_MF[melt_MF['GO'].astype(bool)]"
   ]
  },
  {
   "cell_type": "code",
   "execution_count": 115,
   "id": "dietary-contribution",
   "metadata": {},
   "outputs": [
    {
     "data": {
      "text/plain": [
       "Gene_ID    2633\n",
       "GO         2633\n",
       "dtype: int64"
      ]
     },
     "execution_count": 115,
     "metadata": {},
     "output_type": "execute_result"
    }
   ],
   "source": [
    "df_mf.count()"
   ]
  },
  {
   "cell_type": "markdown",
   "id": "modified-bangkok",
   "metadata": {},
   "source": [
    "* CC"
   ]
  },
  {
   "cell_type": "code",
   "execution_count": 116,
   "id": "little-sperm",
   "metadata": {},
   "outputs": [],
   "source": [
    "ID = df_GO['Gene_ID']\n",
    "CC = df_GO['CC'].str.split('//', 1000, expand = True)\n",
    "GO_CC = pd.concat([ID, CC], axis =1)"
   ]
  },
  {
   "cell_type": "code",
   "execution_count": 117,
   "id": "prescription-resource",
   "metadata": {},
   "outputs": [
    {
     "data": {
      "text/html": [
       "<div>\n",
       "<style scoped>\n",
       "    .dataframe tbody tr th:only-of-type {\n",
       "        vertical-align: middle;\n",
       "    }\n",
       "\n",
       "    .dataframe tbody tr th {\n",
       "        vertical-align: top;\n",
       "    }\n",
       "\n",
       "    .dataframe thead th {\n",
       "        text-align: right;\n",
       "    }\n",
       "</style>\n",
       "<table border=\"1\" class=\"dataframe\">\n",
       "  <thead>\n",
       "    <tr style=\"text-align: right;\">\n",
       "      <th></th>\n",
       "      <th>Gene_ID</th>\n",
       "      <th>GO</th>\n",
       "    </tr>\n",
       "  </thead>\n",
       "  <tbody>\n",
       "    <tr>\n",
       "      <th>0</th>\n",
       "      <td>Cluster-12724.0</td>\n",
       "      <td>--</td>\n",
       "    </tr>\n",
       "    <tr>\n",
       "      <th>1</th>\n",
       "      <td>Cluster-21872.0</td>\n",
       "      <td>--</td>\n",
       "    </tr>\n",
       "    <tr>\n",
       "      <th>2</th>\n",
       "      <td>Cluster-21903.0</td>\n",
       "      <td>GO:0005730</td>\n",
       "    </tr>\n",
       "    <tr>\n",
       "      <th>3</th>\n",
       "      <td>Cluster-24414.0</td>\n",
       "      <td>GO:0005622</td>\n",
       "    </tr>\n",
       "    <tr>\n",
       "      <th>4</th>\n",
       "      <td>Cluster-24764.0</td>\n",
       "      <td>--</td>\n",
       "    </tr>\n",
       "  </tbody>\n",
       "</table>\n",
       "</div>"
      ],
      "text/plain": [
       "           Gene_ID          GO\n",
       "0  Cluster-12724.0          --\n",
       "1  Cluster-21872.0          --\n",
       "2  Cluster-21903.0  GO:0005730\n",
       "3  Cluster-24414.0  GO:0005622\n",
       "4  Cluster-24764.0          --"
      ]
     },
     "execution_count": 117,
     "metadata": {},
     "output_type": "execute_result"
    }
   ],
   "source": [
    "melt_CC= GO_CC.melt(id_vars = ['Gene_ID'], value_name = 'GO')\n",
    "melt_CC = melt_CC.drop(['variable'], axis =1)\n",
    "melt_CC.head()"
   ]
  },
  {
   "cell_type": "code",
   "execution_count": 118,
   "id": "destroyed-georgia",
   "metadata": {},
   "outputs": [
    {
     "data": {
      "text/plain": [
       "Gene_ID    10755\n",
       "GO          1506\n",
       "dtype: int64"
      ]
     },
     "execution_count": 118,
     "metadata": {},
     "output_type": "execute_result"
    }
   ],
   "source": [
    "melt_CC.count()"
   ]
  },
  {
   "cell_type": "code",
   "execution_count": 119,
   "id": "northern-small",
   "metadata": {},
   "outputs": [],
   "source": [
    "nan_value = float(\"NaN\")\n",
    "melt_CC['GO'].replace(\"--\", nan_value, inplace=True)\n",
    "melt_CC.dropna(subset = [\"GO\"], inplace=True)"
   ]
  },
  {
   "cell_type": "code",
   "execution_count": 120,
   "id": "ongoing-kruger",
   "metadata": {},
   "outputs": [],
   "source": [
    "df_cc = melt_CC[melt_CC['GO'].astype(bool)]"
   ]
  },
  {
   "cell_type": "code",
   "execution_count": 121,
   "id": "vocal-electronics",
   "metadata": {},
   "outputs": [
    {
     "data": {
      "text/plain": [
       "Gene_ID    866\n",
       "GO         866\n",
       "dtype: int64"
      ]
     },
     "execution_count": 121,
     "metadata": {},
     "output_type": "execute_result"
    }
   ],
   "source": [
    "df_cc.count()"
   ]
  },
  {
   "cell_type": "markdown",
   "id": "innovative-seattle",
   "metadata": {},
   "source": [
    "* Combine all three process"
   ]
  },
  {
   "cell_type": "code",
   "execution_count": 122,
   "id": "lightweight-dinner",
   "metadata": {},
   "outputs": [],
   "source": [
    "annot_all = pd.concat([df_bp, df_mf, df_cc])"
   ]
  },
  {
   "cell_type": "code",
   "execution_count": 123,
   "id": "welsh-seattle",
   "metadata": {},
   "outputs": [
    {
     "data": {
      "text/plain": [
       "(5878, 2)"
      ]
     },
     "execution_count": 123,
     "metadata": {},
     "output_type": "execute_result"
    }
   ],
   "source": [
    "annot_all.shape"
   ]
  },
  {
   "cell_type": "code",
   "execution_count": 124,
   "id": "reverse-frame",
   "metadata": {},
   "outputs": [],
   "source": [
    "#annot_all.to_csv('annot_list_mint.csv')"
   ]
  },
  {
   "cell_type": "code",
   "execution_count": null,
   "id": "extra-confidence",
   "metadata": {},
   "outputs": [],
   "source": []
  },
  {
   "cell_type": "markdown",
   "id": "premium-register",
   "metadata": {},
   "source": [
    "#### Veticillium dahliae"
   ]
  },
  {
   "cell_type": "code",
   "execution_count": 127,
   "id": "suitable-workplace",
   "metadata": {},
   "outputs": [],
   "source": [
    "os.chdir('C:/Users/sudha.gcupadhaya/Desktop/RNA-seq/Validation project/GO_Enrichment_Analysis/Vd/')\n",
    "degs = pd.read_csv('Fungal_genename.csv')\n",
    "annot = pd.read_csv('Vd_gene.goannot.csv')"
   ]
  },
  {
   "cell_type": "code",
   "execution_count": 128,
   "id": "horizontal-berkeley",
   "metadata": {},
   "outputs": [],
   "source": [
    "selected_annot = annot[annot['Gene_ID'].isin(degs['Gene_ID'])]"
   ]
  },
  {
   "cell_type": "code",
   "execution_count": 129,
   "id": "armed-danger",
   "metadata": {},
   "outputs": [],
   "source": [
    "df_GO = selected_annot[['Gene_ID', 'biological_process', 'molecular_function', 'cellular_component']]\n",
    "df_GO.columns = ['Gene_ID', 'BP', 'MF', 'CC']"
   ]
  },
  {
   "cell_type": "code",
   "execution_count": 130,
   "id": "structured-showcase",
   "metadata": {},
   "outputs": [
    {
     "data": {
      "text/plain": [
       "(28, 4)"
      ]
     },
     "execution_count": 130,
     "metadata": {},
     "output_type": "execute_result"
    }
   ],
   "source": [
    "df_GO.shape"
   ]
  },
  {
   "cell_type": "markdown",
   "id": "caring-avatar",
   "metadata": {},
   "source": [
    "* BP"
   ]
  },
  {
   "cell_type": "code",
   "execution_count": 131,
   "id": "thick-saturday",
   "metadata": {},
   "outputs": [],
   "source": [
    "ID = df_GO['Gene_ID']\n",
    "BP = df_GO['BP'].str.split('//', 1000, expand = True)\n",
    "GO_BP = pd.concat([ID, BP], axis =1)"
   ]
  },
  {
   "cell_type": "code",
   "execution_count": 132,
   "id": "prescription-wings",
   "metadata": {},
   "outputs": [
    {
     "data": {
      "text/html": [
       "<div>\n",
       "<style scoped>\n",
       "    .dataframe tbody tr th:only-of-type {\n",
       "        vertical-align: middle;\n",
       "    }\n",
       "\n",
       "    .dataframe tbody tr th {\n",
       "        vertical-align: top;\n",
       "    }\n",
       "\n",
       "    .dataframe thead th {\n",
       "        text-align: right;\n",
       "    }\n",
       "</style>\n",
       "<table border=\"1\" class=\"dataframe\">\n",
       "  <thead>\n",
       "    <tr style=\"text-align: right;\">\n",
       "      <th></th>\n",
       "      <th>Gene_ID</th>\n",
       "      <th>GO</th>\n",
       "    </tr>\n",
       "  </thead>\n",
       "  <tbody>\n",
       "    <tr>\n",
       "      <th>0</th>\n",
       "      <td>mRNA_10037</td>\n",
       "      <td>GO:0008150</td>\n",
       "    </tr>\n",
       "    <tr>\n",
       "      <th>1</th>\n",
       "      <td>mRNA_10198</td>\n",
       "      <td>GO:1901135</td>\n",
       "    </tr>\n",
       "    <tr>\n",
       "      <th>2</th>\n",
       "      <td>mRNA_10347</td>\n",
       "      <td>GO:0008152</td>\n",
       "    </tr>\n",
       "    <tr>\n",
       "      <th>3</th>\n",
       "      <td>mRNA_1128</td>\n",
       "      <td>GO:0044699</td>\n",
       "    </tr>\n",
       "    <tr>\n",
       "      <th>4</th>\n",
       "      <td>mRNA_1402</td>\n",
       "      <td>GO:0006542</td>\n",
       "    </tr>\n",
       "  </tbody>\n",
       "</table>\n",
       "</div>"
      ],
      "text/plain": [
       "      Gene_ID          GO\n",
       "0  mRNA_10037  GO:0008150\n",
       "1  mRNA_10198  GO:1901135\n",
       "2  mRNA_10347  GO:0008152\n",
       "3   mRNA_1128  GO:0044699\n",
       "4   mRNA_1402  GO:0006542"
      ]
     },
     "execution_count": 132,
     "metadata": {},
     "output_type": "execute_result"
    }
   ],
   "source": [
    "melt_BP= GO_BP.melt(id_vars = ['Gene_ID'], value_name = 'GO')\n",
    "melt_BP = melt_BP.drop(['variable'], axis =1)\n",
    "melt_BP.head()"
   ]
  },
  {
   "cell_type": "code",
   "execution_count": 133,
   "id": "respected-province",
   "metadata": {},
   "outputs": [
    {
     "data": {
      "text/plain": [
       "Gene_ID    2520\n",
       "GO          538\n",
       "dtype: int64"
      ]
     },
     "execution_count": 133,
     "metadata": {},
     "output_type": "execute_result"
    }
   ],
   "source": [
    "melt_BP.count()"
   ]
  },
  {
   "cell_type": "code",
   "execution_count": 134,
   "id": "asian-compromise",
   "metadata": {},
   "outputs": [],
   "source": [
    "nan_value = float(\"NaN\")\n",
    "melt_BP['GO'].replace(\"--\", nan_value, inplace=True)\n",
    "melt_BP.dropna(subset = [\"GO\"], inplace=True)"
   ]
  },
  {
   "cell_type": "code",
   "execution_count": 135,
   "id": "smoking-spokesman",
   "metadata": {},
   "outputs": [],
   "source": [
    "df_bp = melt_BP[melt_BP['GO'].astype(bool)]"
   ]
  },
  {
   "cell_type": "code",
   "execution_count": 136,
   "id": "apart-cartoon",
   "metadata": {},
   "outputs": [
    {
     "data": {
      "text/plain": [
       "Gene_ID    535\n",
       "GO         535\n",
       "dtype: int64"
      ]
     },
     "execution_count": 136,
     "metadata": {},
     "output_type": "execute_result"
    }
   ],
   "source": [
    "df_bp.count()"
   ]
  },
  {
   "cell_type": "markdown",
   "id": "wrapped-rendering",
   "metadata": {},
   "source": [
    "* MF"
   ]
  },
  {
   "cell_type": "code",
   "execution_count": 137,
   "id": "third-blast",
   "metadata": {},
   "outputs": [],
   "source": [
    "ID = df_GO['Gene_ID']\n",
    "MF = df_GO['MF'].str.split('//', 1000, expand = True)\n",
    "GO_MF = pd.concat([ID, MF], axis =1)"
   ]
  },
  {
   "cell_type": "code",
   "execution_count": 138,
   "id": "differential-guide",
   "metadata": {},
   "outputs": [
    {
     "data": {
      "text/html": [
       "<div>\n",
       "<style scoped>\n",
       "    .dataframe tbody tr th:only-of-type {\n",
       "        vertical-align: middle;\n",
       "    }\n",
       "\n",
       "    .dataframe tbody tr th {\n",
       "        vertical-align: top;\n",
       "    }\n",
       "\n",
       "    .dataframe thead th {\n",
       "        text-align: right;\n",
       "    }\n",
       "</style>\n",
       "<table border=\"1\" class=\"dataframe\">\n",
       "  <thead>\n",
       "    <tr style=\"text-align: right;\">\n",
       "      <th></th>\n",
       "      <th>Gene_ID</th>\n",
       "      <th>GO</th>\n",
       "    </tr>\n",
       "  </thead>\n",
       "  <tbody>\n",
       "    <tr>\n",
       "      <th>0</th>\n",
       "      <td>mRNA_10037</td>\n",
       "      <td>--</td>\n",
       "    </tr>\n",
       "    <tr>\n",
       "      <th>1</th>\n",
       "      <td>mRNA_10198</td>\n",
       "      <td>GO:0008233</td>\n",
       "    </tr>\n",
       "    <tr>\n",
       "      <th>2</th>\n",
       "      <td>mRNA_10347</td>\n",
       "      <td>GO:0003824</td>\n",
       "    </tr>\n",
       "    <tr>\n",
       "      <th>3</th>\n",
       "      <td>mRNA_1128</td>\n",
       "      <td>GO:0097159</td>\n",
       "    </tr>\n",
       "    <tr>\n",
       "      <th>4</th>\n",
       "      <td>mRNA_1402</td>\n",
       "      <td>GO:0016211</td>\n",
       "    </tr>\n",
       "  </tbody>\n",
       "</table>\n",
       "</div>"
      ],
      "text/plain": [
       "      Gene_ID          GO\n",
       "0  mRNA_10037          --\n",
       "1  mRNA_10198  GO:0008233\n",
       "2  mRNA_10347  GO:0003824\n",
       "3   mRNA_1128  GO:0097159\n",
       "4   mRNA_1402  GO:0016211"
      ]
     },
     "execution_count": 138,
     "metadata": {},
     "output_type": "execute_result"
    }
   ],
   "source": [
    "melt_MF= GO_MF.melt(id_vars = ['Gene_ID'], value_name = 'GO')\n",
    "melt_MF = melt_MF.drop(['variable'], axis =1)\n",
    "melt_MF.head()"
   ]
  },
  {
   "cell_type": "code",
   "execution_count": 139,
   "id": "surgical-overhead",
   "metadata": {},
   "outputs": [
    {
     "data": {
      "text/plain": [
       "Gene_ID    1400\n",
       "GO          336\n",
       "dtype: int64"
      ]
     },
     "execution_count": 139,
     "metadata": {},
     "output_type": "execute_result"
    }
   ],
   "source": [
    "melt_MF.count()"
   ]
  },
  {
   "cell_type": "code",
   "execution_count": 140,
   "id": "agreed-prior",
   "metadata": {},
   "outputs": [],
   "source": [
    "nan_value = float(\"NaN\")\n",
    "melt_MF['GO'].replace(\"--\", nan_value, inplace=True)\n",
    "melt_MF.dropna(subset = [\"GO\"], inplace=True)"
   ]
  },
  {
   "cell_type": "code",
   "execution_count": 141,
   "id": "imported-hayes",
   "metadata": {},
   "outputs": [],
   "source": [
    "df_mf = melt_MF[melt_MF['GO'].astype(bool)]"
   ]
  },
  {
   "cell_type": "code",
   "execution_count": 142,
   "id": "corrected-saturn",
   "metadata": {},
   "outputs": [
    {
     "data": {
      "text/plain": [
       "Gene_ID    333\n",
       "GO         333\n",
       "dtype: int64"
      ]
     },
     "execution_count": 142,
     "metadata": {},
     "output_type": "execute_result"
    }
   ],
   "source": [
    "df_mf.count()"
   ]
  },
  {
   "cell_type": "markdown",
   "id": "sonic-insider",
   "metadata": {},
   "source": [
    "* CC"
   ]
  },
  {
   "cell_type": "code",
   "execution_count": 143,
   "id": "central-blackjack",
   "metadata": {},
   "outputs": [],
   "source": [
    "ID = df_GO['Gene_ID']\n",
    "CC = df_GO['CC'].str.split('//', 1000, expand = True)\n",
    "GO_CC = pd.concat([ID, CC], axis =1)"
   ]
  },
  {
   "cell_type": "code",
   "execution_count": 144,
   "id": "guided-brown",
   "metadata": {},
   "outputs": [
    {
     "data": {
      "text/html": [
       "<div>\n",
       "<style scoped>\n",
       "    .dataframe tbody tr th:only-of-type {\n",
       "        vertical-align: middle;\n",
       "    }\n",
       "\n",
       "    .dataframe tbody tr th {\n",
       "        vertical-align: top;\n",
       "    }\n",
       "\n",
       "    .dataframe thead th {\n",
       "        text-align: right;\n",
       "    }\n",
       "</style>\n",
       "<table border=\"1\" class=\"dataframe\">\n",
       "  <thead>\n",
       "    <tr style=\"text-align: right;\">\n",
       "      <th></th>\n",
       "      <th>Gene_ID</th>\n",
       "      <th>GO</th>\n",
       "    </tr>\n",
       "  </thead>\n",
       "  <tbody>\n",
       "    <tr>\n",
       "      <th>0</th>\n",
       "      <td>mRNA_10037</td>\n",
       "      <td>--</td>\n",
       "    </tr>\n",
       "    <tr>\n",
       "      <th>1</th>\n",
       "      <td>mRNA_10198</td>\n",
       "      <td>GO:0005576</td>\n",
       "    </tr>\n",
       "    <tr>\n",
       "      <th>2</th>\n",
       "      <td>mRNA_10347</td>\n",
       "      <td>--</td>\n",
       "    </tr>\n",
       "    <tr>\n",
       "      <th>3</th>\n",
       "      <td>mRNA_1128</td>\n",
       "      <td>GO:0031224</td>\n",
       "    </tr>\n",
       "    <tr>\n",
       "      <th>4</th>\n",
       "      <td>mRNA_1402</td>\n",
       "      <td>--</td>\n",
       "    </tr>\n",
       "  </tbody>\n",
       "</table>\n",
       "</div>"
      ],
      "text/plain": [
       "      Gene_ID          GO\n",
       "0  mRNA_10037          --\n",
       "1  mRNA_10198  GO:0005576\n",
       "2  mRNA_10347          --\n",
       "3   mRNA_1128  GO:0031224\n",
       "4   mRNA_1402          --"
      ]
     },
     "execution_count": 144,
     "metadata": {},
     "output_type": "execute_result"
    }
   ],
   "source": [
    "melt_CC= GO_CC.melt(id_vars = ['Gene_ID'], value_name = 'GO')\n",
    "melt_CC = melt_CC.drop(['variable'], axis =1)\n",
    "melt_CC.head()"
   ]
  },
  {
   "cell_type": "code",
   "execution_count": 145,
   "id": "increasing-venture",
   "metadata": {},
   "outputs": [
    {
     "data": {
      "text/plain": [
       "Gene_ID    896\n",
       "GO          92\n",
       "dtype: int64"
      ]
     },
     "execution_count": 145,
     "metadata": {},
     "output_type": "execute_result"
    }
   ],
   "source": [
    "melt_CC.count()"
   ]
  },
  {
   "cell_type": "code",
   "execution_count": 146,
   "id": "trained-testament",
   "metadata": {},
   "outputs": [],
   "source": [
    "nan_value = float(\"NaN\")\n",
    "melt_CC['GO'].replace(\"--\", nan_value, inplace=True)\n",
    "melt_CC.dropna(subset = [\"GO\"], inplace=True)"
   ]
  },
  {
   "cell_type": "code",
   "execution_count": 147,
   "id": "original-rehabilitation",
   "metadata": {},
   "outputs": [],
   "source": [
    "df_cc = melt_CC[melt_CC['GO'].astype(bool)]"
   ]
  },
  {
   "cell_type": "code",
   "execution_count": 148,
   "id": "alleged-island",
   "metadata": {},
   "outputs": [
    {
     "data": {
      "text/plain": [
       "Gene_ID    74\n",
       "GO         74\n",
       "dtype: int64"
      ]
     },
     "execution_count": 148,
     "metadata": {},
     "output_type": "execute_result"
    }
   ],
   "source": [
    "df_cc.count()"
   ]
  },
  {
   "cell_type": "markdown",
   "id": "editorial-aviation",
   "metadata": {},
   "source": [
    "* Combine all three process"
   ]
  },
  {
   "cell_type": "code",
   "execution_count": 152,
   "id": "sustainable-macedonia",
   "metadata": {},
   "outputs": [],
   "source": [
    "annot_all = pd.concat([df_bp, df_mf, df_cc])"
   ]
  },
  {
   "cell_type": "code",
   "execution_count": 153,
   "id": "touched-johnson",
   "metadata": {},
   "outputs": [
    {
     "data": {
      "text/plain": [
       "(942, 2)"
      ]
     },
     "execution_count": 153,
     "metadata": {},
     "output_type": "execute_result"
    }
   ],
   "source": [
    "annot_all.shape"
   ]
  },
  {
   "cell_type": "code",
   "execution_count": 154,
   "id": "expressed-softball",
   "metadata": {},
   "outputs": [],
   "source": [
    "annot_all.to_csv('annot_list_Vd_all.csv')"
   ]
  },
  {
   "cell_type": "code",
   "execution_count": null,
   "id": "republican-stability",
   "metadata": {},
   "outputs": [],
   "source": []
  }
 ],
 "metadata": {
  "kernelspec": {
   "display_name": "Python 3",
   "language": "python",
   "name": "python3"
  },
  "language_info": {
   "codemirror_mode": {
    "name": "ipython",
    "version": 3
   },
   "file_extension": ".py",
   "mimetype": "text/x-python",
   "name": "python",
   "nbconvert_exporter": "python",
   "pygments_lexer": "ipython3",
   "version": "3.7.7"
  }
 },
 "nbformat": 4,
 "nbformat_minor": 5
}
