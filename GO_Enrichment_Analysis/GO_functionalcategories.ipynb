{
 "cells": [
  {
   "cell_type": "markdown",
   "id": "flush-recipe",
   "metadata": {},
   "source": [
    "#### Potato"
   ]
  },
  {
   "cell_type": "code",
   "execution_count": 1,
   "id": "static-birth",
   "metadata": {},
   "outputs": [],
   "source": [
    "import os\n",
    "import pandas as pd\n",
    "import numpy as np"
   ]
  },
  {
   "cell_type": "code",
   "execution_count": 2,
   "id": "every-south",
   "metadata": {},
   "outputs": [],
   "source": [
    "os.chdir('C:/Users/sudha.gcupadhaya/Desktop/RNA-seq/Validation project/GO_Enrichment_Analysis/potato/')\n",
    "degs = pd.read_csv('Solanum_genename.csv')\n",
    "annot = pd.read_csv('Potato_gene.goannot.csv')"
   ]
  },
  {
   "cell_type": "code",
   "execution_count": 23,
   "id": "suburban-trout",
   "metadata": {},
   "outputs": [
    {
     "data": {
      "text/html": [
       "<div>\n",
       "<style scoped>\n",
       "    .dataframe tbody tr th:only-of-type {\n",
       "        vertical-align: middle;\n",
       "    }\n",
       "\n",
       "    .dataframe tbody tr th {\n",
       "        vertical-align: top;\n",
       "    }\n",
       "\n",
       "    .dataframe thead th {\n",
       "        text-align: right;\n",
       "    }\n",
       "</style>\n",
       "<table border=\"1\" class=\"dataframe\">\n",
       "  <thead>\n",
       "    <tr style=\"text-align: right;\">\n",
       "      <th></th>\n",
       "      <th>Gene_ID</th>\n",
       "      <th>biological_process</th>\n",
       "      <th>biological_process_description</th>\n",
       "      <th>cellular_component</th>\n",
       "      <th>cellular_component_description</th>\n",
       "      <th>molecular_function</th>\n",
       "      <th>molecular_function_description</th>\n",
       "    </tr>\n",
       "  </thead>\n",
       "  <tbody>\n",
       "    <tr>\n",
       "      <th>4</th>\n",
       "      <td>Novel00009</td>\n",
       "      <td>GO:1902578//GO:0044765//GO:0016197//GO:0008150...</td>\n",
       "      <td>single-organism localization//single-organism ...</td>\n",
       "      <td>GO:0000813//GO:0043234//GO:0098588//GO:0043226...</td>\n",
       "      <td>ESCRT I complex//protein complex//bounding mem...</td>\n",
       "      <td>GO:0003674//GO:0005488//GO:0032182//GO:0005515...</td>\n",
       "      <td>molecular_function//binding//ubiquitin-like pr...</td>\n",
       "    </tr>\n",
       "    <tr>\n",
       "      <th>8</th>\n",
       "      <td>Novel00021</td>\n",
       "      <td>--</td>\n",
       "      <td>--</td>\n",
       "      <td>--</td>\n",
       "      <td>--</td>\n",
       "      <td>GO:0005515//GO:0003674//GO:0005488</td>\n",
       "      <td>protein binding//molecular_function//binding</td>\n",
       "    </tr>\n",
       "    <tr>\n",
       "      <th>9</th>\n",
       "      <td>Novel00023</td>\n",
       "      <td>GO:0006811//GO:0051234//GO:0006810//GO:0051179...</td>\n",
       "      <td>ion transport//establishment of localization//...</td>\n",
       "      <td>GO:0005575//GO:0016020</td>\n",
       "      <td>cellular_component//membrane</td>\n",
       "      <td>GO:0030554//GO:0001883//GO:0022857//GO:0022891...</td>\n",
       "      <td>adenyl nucleotide binding//purine nucleoside b...</td>\n",
       "    </tr>\n",
       "  </tbody>\n",
       "</table>\n",
       "</div>"
      ],
      "text/plain": [
       "      Gene_ID                                 biological_process  \\\n",
       "4  Novel00009  GO:1902578//GO:0044765//GO:0016197//GO:0008150...   \n",
       "8  Novel00021                                                 --   \n",
       "9  Novel00023  GO:0006811//GO:0051234//GO:0006810//GO:0051179...   \n",
       "\n",
       "                      biological_process_description  \\\n",
       "4  single-organism localization//single-organism ...   \n",
       "8                                                 --   \n",
       "9  ion transport//establishment of localization//...   \n",
       "\n",
       "                                  cellular_component  \\\n",
       "4  GO:0000813//GO:0043234//GO:0098588//GO:0043226...   \n",
       "8                                                 --   \n",
       "9                             GO:0005575//GO:0016020   \n",
       "\n",
       "                      cellular_component_description  \\\n",
       "4  ESCRT I complex//protein complex//bounding mem...   \n",
       "8                                                 --   \n",
       "9                       cellular_component//membrane   \n",
       "\n",
       "                                  molecular_function  \\\n",
       "4  GO:0003674//GO:0005488//GO:0032182//GO:0005515...   \n",
       "8                 GO:0005515//GO:0003674//GO:0005488   \n",
       "9  GO:0030554//GO:0001883//GO:0022857//GO:0022891...   \n",
       "\n",
       "                      molecular_function_description  \n",
       "4  molecular_function//binding//ubiquitin-like pr...  \n",
       "8       protein binding//molecular_function//binding  \n",
       "9  adenyl nucleotide binding//purine nucleoside b...  "
      ]
     },
     "execution_count": 23,
     "metadata": {},
     "output_type": "execute_result"
    }
   ],
   "source": [
    "selected_annot = annot[annot['Gene_ID'].isin(degs['Gene_ID'])]\n",
    "selected_annot.head(3)"
   ]
  },
  {
   "cell_type": "code",
   "execution_count": 24,
   "id": "honest-rabbit",
   "metadata": {},
   "outputs": [],
   "source": [
    "df_GO = selected_annot[['Gene_ID', 'biological_process_description', 'molecular_function_description', 'cellular_component_description']]\n",
    "df_GO.columns = ['Gene_ID', 'BP', 'MF', 'CC']"
   ]
  },
  {
   "cell_type": "code",
   "execution_count": 25,
   "id": "inclusive-hygiene",
   "metadata": {},
   "outputs": [
    {
     "data": {
      "text/plain": [
       "(1719, 4)"
      ]
     },
     "execution_count": 25,
     "metadata": {},
     "output_type": "execute_result"
    }
   ],
   "source": [
    "df_GO.shape"
   ]
  },
  {
   "cell_type": "markdown",
   "id": "confident-danish",
   "metadata": {},
   "source": [
    "* BP"
   ]
  },
  {
   "cell_type": "code",
   "execution_count": 26,
   "id": "related-estate",
   "metadata": {},
   "outputs": [],
   "source": [
    "ID = df_GO['Gene_ID']\n",
    "BP = df_GO['BP'].str.split('//', 1000, expand = True)\n",
    "GO_BP = pd.concat([ID, BP], axis =1)"
   ]
  },
  {
   "cell_type": "code",
   "execution_count": 27,
   "id": "different-television",
   "metadata": {},
   "outputs": [
    {
     "data": {
      "text/html": [
       "<div>\n",
       "<style scoped>\n",
       "    .dataframe tbody tr th:only-of-type {\n",
       "        vertical-align: middle;\n",
       "    }\n",
       "\n",
       "    .dataframe tbody tr th {\n",
       "        vertical-align: top;\n",
       "    }\n",
       "\n",
       "    .dataframe thead th {\n",
       "        text-align: right;\n",
       "    }\n",
       "</style>\n",
       "<table border=\"1\" class=\"dataframe\">\n",
       "  <thead>\n",
       "    <tr style=\"text-align: right;\">\n",
       "      <th></th>\n",
       "      <th>Gene_ID</th>\n",
       "      <th>GO</th>\n",
       "    </tr>\n",
       "  </thead>\n",
       "  <tbody>\n",
       "    <tr>\n",
       "      <th>0</th>\n",
       "      <td>Novel00009</td>\n",
       "      <td>single-organism localization</td>\n",
       "    </tr>\n",
       "    <tr>\n",
       "      <th>1</th>\n",
       "      <td>Novel00021</td>\n",
       "      <td>--</td>\n",
       "    </tr>\n",
       "    <tr>\n",
       "      <th>2</th>\n",
       "      <td>Novel00023</td>\n",
       "      <td>ion transport</td>\n",
       "    </tr>\n",
       "    <tr>\n",
       "      <th>3</th>\n",
       "      <td>Novel00024</td>\n",
       "      <td>biological regulation</td>\n",
       "    </tr>\n",
       "    <tr>\n",
       "      <th>4</th>\n",
       "      <td>Novel00044</td>\n",
       "      <td>protein transport</td>\n",
       "    </tr>\n",
       "  </tbody>\n",
       "</table>\n",
       "</div>"
      ],
      "text/plain": [
       "      Gene_ID                            GO\n",
       "0  Novel00009  single-organism localization\n",
       "1  Novel00021                            --\n",
       "2  Novel00023                 ion transport\n",
       "3  Novel00024         biological regulation\n",
       "4  Novel00044             protein transport"
      ]
     },
     "execution_count": 27,
     "metadata": {},
     "output_type": "execute_result"
    }
   ],
   "source": [
    "melt_BP= GO_BP.melt(id_vars = ['Gene_ID'], value_name = 'GO')\n",
    "melt_BP = melt_BP.drop(['variable'], axis =1)\n",
    "melt_BP.head()"
   ]
  },
  {
   "cell_type": "code",
   "execution_count": 28,
   "id": "mental-comedy",
   "metadata": {},
   "outputs": [
    {
     "data": {
      "text/plain": [
       "Gene_ID    460692\n",
       "GO          29687\n",
       "dtype: int64"
      ]
     },
     "execution_count": 28,
     "metadata": {},
     "output_type": "execute_result"
    }
   ],
   "source": [
    "melt_BP.count()"
   ]
  },
  {
   "cell_type": "code",
   "execution_count": 29,
   "id": "mexican-travel",
   "metadata": {},
   "outputs": [],
   "source": [
    "nan_value = float(\"NaN\")\n",
    "melt_BP['GO'].replace(\"--\", nan_value, inplace=True)\n",
    "melt_BP.dropna(subset = [\"GO\"], inplace=True)"
   ]
  },
  {
   "cell_type": "code",
   "execution_count": 30,
   "id": "modified-farmer",
   "metadata": {},
   "outputs": [],
   "source": [
    "df_bp = melt_BP[melt_BP['GO'].astype(bool)]"
   ]
  },
  {
   "cell_type": "code",
   "execution_count": 31,
   "id": "successful-measure",
   "metadata": {},
   "outputs": [
    {
     "data": {
      "text/plain": [
       "Gene_ID    29199\n",
       "GO         29199\n",
       "dtype: int64"
      ]
     },
     "execution_count": 31,
     "metadata": {},
     "output_type": "execute_result"
    }
   ],
   "source": [
    "df_bp.count()"
   ]
  },
  {
   "cell_type": "code",
   "execution_count": 42,
   "id": "after-theta",
   "metadata": {},
   "outputs": [
    {
     "data": {
      "text/html": [
       "<div>\n",
       "<style scoped>\n",
       "    .dataframe tbody tr th:only-of-type {\n",
       "        vertical-align: middle;\n",
       "    }\n",
       "\n",
       "    .dataframe tbody tr th {\n",
       "        vertical-align: top;\n",
       "    }\n",
       "\n",
       "    .dataframe thead th {\n",
       "        text-align: right;\n",
       "    }\n",
       "</style>\n",
       "<table border=\"1\" class=\"dataframe\">\n",
       "  <thead>\n",
       "    <tr style=\"text-align: right;\">\n",
       "      <th></th>\n",
       "      <th>GO</th>\n",
       "      <th>G</th>\n",
       "    </tr>\n",
       "  </thead>\n",
       "  <tbody>\n",
       "    <tr>\n",
       "      <th>0</th>\n",
       "      <td>1-aminocyclopropane-1-carboxylate biosynthetic...</td>\n",
       "      <td>1</td>\n",
       "    </tr>\n",
       "    <tr>\n",
       "      <th>1</th>\n",
       "      <td>1-aminocyclopropane-1-carboxylate metabolic pr...</td>\n",
       "      <td>1</td>\n",
       "    </tr>\n",
       "    <tr>\n",
       "      <th>2</th>\n",
       "      <td>ADP metabolic process</td>\n",
       "      <td>4</td>\n",
       "    </tr>\n",
       "    <tr>\n",
       "      <th>3</th>\n",
       "      <td>ADP transport</td>\n",
       "      <td>1</td>\n",
       "    </tr>\n",
       "    <tr>\n",
       "      <th>4</th>\n",
       "      <td>ATP biosynthetic process</td>\n",
       "      <td>2</td>\n",
       "    </tr>\n",
       "    <tr>\n",
       "      <th>...</th>\n",
       "      <td>...</td>\n",
       "      <td>...</td>\n",
       "    </tr>\n",
       "    <tr>\n",
       "      <th>1755</th>\n",
       "      <td>water-soluble vitamin metabolic process</td>\n",
       "      <td>1</td>\n",
       "    </tr>\n",
       "    <tr>\n",
       "      <th>1756</th>\n",
       "      <td>wax biosynthetic process</td>\n",
       "      <td>1</td>\n",
       "    </tr>\n",
       "    <tr>\n",
       "      <th>1757</th>\n",
       "      <td>wax metabolic process</td>\n",
       "      <td>1</td>\n",
       "    </tr>\n",
       "    <tr>\n",
       "      <th>1758</th>\n",
       "      <td>xylem development</td>\n",
       "      <td>1</td>\n",
       "    </tr>\n",
       "    <tr>\n",
       "      <th>1759</th>\n",
       "      <td>xylem-to-phloem iron transport</td>\n",
       "      <td>1</td>\n",
       "    </tr>\n",
       "  </tbody>\n",
       "</table>\n",
       "<p>1760 rows × 2 columns</p>\n",
       "</div>"
      ],
      "text/plain": [
       "                                                     GO  G\n",
       "0     1-aminocyclopropane-1-carboxylate biosynthetic...  1\n",
       "1     1-aminocyclopropane-1-carboxylate metabolic pr...  1\n",
       "2                                 ADP metabolic process  4\n",
       "3                                         ADP transport  1\n",
       "4                              ATP biosynthetic process  2\n",
       "...                                                 ... ..\n",
       "1755            water-soluble vitamin metabolic process  1\n",
       "1756                           wax biosynthetic process  1\n",
       "1757                              wax metabolic process  1\n",
       "1758                                  xylem development  1\n",
       "1759                     xylem-to-phloem iron transport  1\n",
       "\n",
       "[1760 rows x 2 columns]"
      ]
     },
     "execution_count": 42,
     "metadata": {},
     "output_type": "execute_result"
    }
   ],
   "source": [
    "a = df_bp.groupby(['GO']).size().reset_index(name = 'G')\n",
    "a\n",
    "b = a.sort_values(by = 'G', ascending = False)"
   ]
  },
  {
   "cell_type": "markdown",
   "id": "announced-lecture",
   "metadata": {},
   "source": [
    "* MF"
   ]
  },
  {
   "cell_type": "code",
   "execution_count": 336,
   "id": "square-terminology",
   "metadata": {},
   "outputs": [],
   "source": [
    "ID = df_GO['Gene_ID']\n",
    "MF = df_GO['MF'].str.split('//', 1000, expand = True)\n",
    "GO_MF = pd.concat([ID, MF], axis =1)"
   ]
  },
  {
   "cell_type": "code",
   "execution_count": 337,
   "id": "weekly-alexander",
   "metadata": {},
   "outputs": [
    {
     "data": {
      "text/html": [
       "<div>\n",
       "<style scoped>\n",
       "    .dataframe tbody tr th:only-of-type {\n",
       "        vertical-align: middle;\n",
       "    }\n",
       "\n",
       "    .dataframe tbody tr th {\n",
       "        vertical-align: top;\n",
       "    }\n",
       "\n",
       "    .dataframe thead th {\n",
       "        text-align: right;\n",
       "    }\n",
       "</style>\n",
       "<table border=\"1\" class=\"dataframe\">\n",
       "  <thead>\n",
       "    <tr style=\"text-align: right;\">\n",
       "      <th></th>\n",
       "      <th>Gene_ID</th>\n",
       "      <th>GO</th>\n",
       "    </tr>\n",
       "  </thead>\n",
       "  <tbody>\n",
       "    <tr>\n",
       "      <th>0</th>\n",
       "      <td>Novel00135</td>\n",
       "      <td>GO:1901363</td>\n",
       "    </tr>\n",
       "    <tr>\n",
       "      <th>1</th>\n",
       "      <td>Novel01306</td>\n",
       "      <td>GO:0043169</td>\n",
       "    </tr>\n",
       "    <tr>\n",
       "      <th>2</th>\n",
       "      <td>Novel01794</td>\n",
       "      <td>GO:0003824</td>\n",
       "    </tr>\n",
       "    <tr>\n",
       "      <th>3</th>\n",
       "      <td>Novel02419</td>\n",
       "      <td>GO:0016872</td>\n",
       "    </tr>\n",
       "    <tr>\n",
       "      <th>4</th>\n",
       "      <td>Novel02885</td>\n",
       "      <td>GO:0003674</td>\n",
       "    </tr>\n",
       "  </tbody>\n",
       "</table>\n",
       "</div>"
      ],
      "text/plain": [
       "      Gene_ID          GO\n",
       "0  Novel00135  GO:1901363\n",
       "1  Novel01306  GO:0043169\n",
       "2  Novel01794  GO:0003824\n",
       "3  Novel02419  GO:0016872\n",
       "4  Novel02885  GO:0003674"
      ]
     },
     "execution_count": 337,
     "metadata": {},
     "output_type": "execute_result"
    }
   ],
   "source": [
    "melt_MF= GO_MF.melt(id_vars = ['Gene_ID'], value_name = 'GO')\n",
    "melt_MF = melt_MF.drop(['variable'], axis =1)\n",
    "melt_MF.head()"
   ]
  },
  {
   "cell_type": "code",
   "execution_count": 338,
   "id": "generous-lyric",
   "metadata": {},
   "outputs": [
    {
     "data": {
      "text/plain": [
       "Gene_ID    2280\n",
       "GO          534\n",
       "dtype: int64"
      ]
     },
     "execution_count": 338,
     "metadata": {},
     "output_type": "execute_result"
    }
   ],
   "source": [
    "melt_MF.count()"
   ]
  },
  {
   "cell_type": "code",
   "execution_count": 339,
   "id": "regional-sheffield",
   "metadata": {},
   "outputs": [],
   "source": [
    "nan_value = float(\"NaN\")\n",
    "melt_MF['GO'].replace(\"--\", nan_value, inplace=True)\n",
    "melt_MF.dropna(subset = [\"GO\"], inplace=True)"
   ]
  },
  {
   "cell_type": "code",
   "execution_count": 340,
   "id": "median-driver",
   "metadata": {},
   "outputs": [],
   "source": [
    "df_mf = melt_MF[melt_MF['GO'].astype(bool)]"
   ]
  },
  {
   "cell_type": "code",
   "execution_count": 341,
   "id": "immediate-placement",
   "metadata": {},
   "outputs": [
    {
     "data": {
      "text/plain": [
       "Gene_ID    522\n",
       "GO         522\n",
       "dtype: int64"
      ]
     },
     "execution_count": 341,
     "metadata": {},
     "output_type": "execute_result"
    }
   ],
   "source": [
    "df_mf.count()"
   ]
  },
  {
   "cell_type": "markdown",
   "id": "palestinian-vacation",
   "metadata": {},
   "source": [
    "* CC"
   ]
  },
  {
   "cell_type": "code",
   "execution_count": 342,
   "id": "requested-colombia",
   "metadata": {},
   "outputs": [],
   "source": [
    "ID = df_GO['Gene_ID']\n",
    "CC = df_GO['CC'].str.split('//', 1000, expand = True)\n",
    "GO_CC = pd.concat([ID, CC], axis =1)"
   ]
  },
  {
   "cell_type": "code",
   "execution_count": 343,
   "id": "together-improvement",
   "metadata": {},
   "outputs": [
    {
     "data": {
      "text/html": [
       "<div>\n",
       "<style scoped>\n",
       "    .dataframe tbody tr th:only-of-type {\n",
       "        vertical-align: middle;\n",
       "    }\n",
       "\n",
       "    .dataframe tbody tr th {\n",
       "        vertical-align: top;\n",
       "    }\n",
       "\n",
       "    .dataframe thead th {\n",
       "        text-align: right;\n",
       "    }\n",
       "</style>\n",
       "<table border=\"1\" class=\"dataframe\">\n",
       "  <thead>\n",
       "    <tr style=\"text-align: right;\">\n",
       "      <th></th>\n",
       "      <th>Gene_ID</th>\n",
       "      <th>GO</th>\n",
       "    </tr>\n",
       "  </thead>\n",
       "  <tbody>\n",
       "    <tr>\n",
       "      <th>0</th>\n",
       "      <td>Novel00135</td>\n",
       "      <td>--</td>\n",
       "    </tr>\n",
       "    <tr>\n",
       "      <th>1</th>\n",
       "      <td>Novel01306</td>\n",
       "      <td>--</td>\n",
       "    </tr>\n",
       "    <tr>\n",
       "      <th>2</th>\n",
       "      <td>Novel01794</td>\n",
       "      <td>--</td>\n",
       "    </tr>\n",
       "    <tr>\n",
       "      <th>3</th>\n",
       "      <td>Novel02419</td>\n",
       "      <td>--</td>\n",
       "    </tr>\n",
       "    <tr>\n",
       "      <th>4</th>\n",
       "      <td>Novel02885</td>\n",
       "      <td>--</td>\n",
       "    </tr>\n",
       "  </tbody>\n",
       "</table>\n",
       "</div>"
      ],
      "text/plain": [
       "      Gene_ID  GO\n",
       "0  Novel00135  --\n",
       "1  Novel01306  --\n",
       "2  Novel01794  --\n",
       "3  Novel02419  --\n",
       "4  Novel02885  --"
      ]
     },
     "execution_count": 343,
     "metadata": {},
     "output_type": "execute_result"
    }
   ],
   "source": [
    "melt_CC= GO_CC.melt(id_vars = ['Gene_ID'], value_name = 'GO')\n",
    "melt_CC = melt_CC.drop(['variable'], axis =1)\n",
    "melt_CC.head()"
   ]
  },
  {
   "cell_type": "code",
   "execution_count": 344,
   "id": "plastic-terror",
   "metadata": {},
   "outputs": [
    {
     "data": {
      "text/plain": [
       "Gene_ID    960\n",
       "GO         223\n",
       "dtype: int64"
      ]
     },
     "execution_count": 344,
     "metadata": {},
     "output_type": "execute_result"
    }
   ],
   "source": [
    "melt_CC.count()"
   ]
  },
  {
   "cell_type": "code",
   "execution_count": 345,
   "id": "homeless-hearts",
   "metadata": {},
   "outputs": [],
   "source": [
    "nan_value = float(\"NaN\")\n",
    "melt_CC['GO'].replace(\"--\", nan_value, inplace=True)\n",
    "melt_CC.dropna(subset = [\"GO\"], inplace=True)"
   ]
  },
  {
   "cell_type": "code",
   "execution_count": 346,
   "id": "living-combination",
   "metadata": {},
   "outputs": [],
   "source": [
    "df_cc = melt_CC[melt_CC['GO'].astype(bool)]"
   ]
  },
  {
   "cell_type": "code",
   "execution_count": 347,
   "id": "conceptual-characterization",
   "metadata": {},
   "outputs": [
    {
     "data": {
      "text/plain": [
       "Gene_ID    191\n",
       "GO         191\n",
       "dtype: int64"
      ]
     },
     "execution_count": 347,
     "metadata": {},
     "output_type": "execute_result"
    }
   ],
   "source": [
    "df_cc.count()"
   ]
  },
  {
   "cell_type": "markdown",
   "id": "wrapped-singles",
   "metadata": {},
   "source": [
    "* Combine all three process"
   ]
  },
  {
   "cell_type": "code",
   "execution_count": 348,
   "id": "athletic-pacific",
   "metadata": {},
   "outputs": [],
   "source": [
    "annot_all = pd.concat([df_bp, df_mf, df_cc])"
   ]
  },
  {
   "cell_type": "code",
   "execution_count": 349,
   "id": "secondary-nightmare",
   "metadata": {},
   "outputs": [
    {
     "data": {
      "text/plain": [
       "(1783, 2)"
      ]
     },
     "execution_count": 349,
     "metadata": {},
     "output_type": "execute_result"
    }
   ],
   "source": [
    "annot_all.shape"
   ]
  },
  {
   "cell_type": "code",
   "execution_count": 350,
   "id": "documented-tomato",
   "metadata": {},
   "outputs": [],
   "source": [
    "annot_all.to_csv('annot_list_potato.csv')"
   ]
  },
  {
   "cell_type": "code",
   "execution_count": null,
   "id": "absent-speed",
   "metadata": {},
   "outputs": [],
   "source": []
  },
  {
   "cell_type": "code",
   "execution_count": null,
   "id": "numeric-corporation",
   "metadata": {},
   "outputs": [],
   "source": []
  },
  {
   "cell_type": "markdown",
   "id": "departmental-pride",
   "metadata": {},
   "source": [
    "#### Mustard"
   ]
  },
  {
   "cell_type": "code",
   "execution_count": 10,
   "id": "empty-cisco",
   "metadata": {},
   "outputs": [],
   "source": [
    "import os\n",
    "import pandas as pd\n",
    "import numpy as np"
   ]
  },
  {
   "cell_type": "code",
   "execution_count": 51,
   "id": "chinese-arbitration",
   "metadata": {},
   "outputs": [],
   "source": [
    "os.chdir('C:/Users/sudha.gcupadhaya/Desktop/RNA-seq/Validation project/GO_Enrichment_Analysis/mustard/')\n",
    "degs = pd.read_csv('Brassica_genename.csv')\n",
    "annot = pd.read_csv('Brassica_Annotation_GO.csv')"
   ]
  },
  {
   "cell_type": "code",
   "execution_count": 16,
   "id": "compact-nursery",
   "metadata": {},
   "outputs": [
    {
     "data": {
      "text/html": [
       "<div>\n",
       "<style scoped>\n",
       "    .dataframe tbody tr th:only-of-type {\n",
       "        vertical-align: middle;\n",
       "    }\n",
       "\n",
       "    .dataframe tbody tr th {\n",
       "        vertical-align: top;\n",
       "    }\n",
       "\n",
       "    .dataframe thead th {\n",
       "        text-align: right;\n",
       "    }\n",
       "</style>\n",
       "<table border=\"1\" class=\"dataframe\">\n",
       "  <thead>\n",
       "    <tr style=\"text-align: right;\">\n",
       "      <th></th>\n",
       "      <th>Gene ID</th>\n",
       "      <th>Gene Ontology Biological Pathway</th>\n",
       "      <th>BP Description</th>\n",
       "      <th>Gene Ontology Molecular Function</th>\n",
       "      <th>MF Description</th>\n",
       "      <th>Gene Ontology Cellular Component</th>\n",
       "      <th>CC Description</th>\n",
       "    </tr>\n",
       "  </thead>\n",
       "  <tbody>\n",
       "    <tr>\n",
       "      <th>3893</th>\n",
       "      <td>Cluster-15354.101048</td>\n",
       "      <td>--</td>\n",
       "      <td>--</td>\n",
       "      <td>GO:0016773</td>\n",
       "      <td>phosphotransferase activity, alcohol group as ...</td>\n",
       "      <td>--</td>\n",
       "      <td>--</td>\n",
       "    </tr>\n",
       "    <tr>\n",
       "      <th>5095</th>\n",
       "      <td>Cluster-15354.102982</td>\n",
       "      <td>GO:0006810</td>\n",
       "      <td>transport</td>\n",
       "      <td>GO:0005524//GO:0004386//GO:0016887//GO:0003676</td>\n",
       "      <td>ATP binding//helicase activity//ATPase activit...</td>\n",
       "      <td>--</td>\n",
       "      <td>--</td>\n",
       "    </tr>\n",
       "    <tr>\n",
       "      <th>8835</th>\n",
       "      <td>Cluster-15354.108826</td>\n",
       "      <td>--</td>\n",
       "      <td>--</td>\n",
       "      <td>GO:0005515</td>\n",
       "      <td>protein binding</td>\n",
       "      <td>--</td>\n",
       "      <td>--</td>\n",
       "    </tr>\n",
       "    <tr>\n",
       "      <th>13004</th>\n",
       "      <td>Cluster-15354.115916</td>\n",
       "      <td>GO:0008152//GO:0006629//GO:0006355//GO:0009058</td>\n",
       "      <td>metabolic process//lipid metabolic process//re...</td>\n",
       "      <td>GO:0016787//GO:0016788//GO:0000287//GO:0030976...</td>\n",
       "      <td>hydrolase activity//hydrolase activity, acting...</td>\n",
       "      <td>--</td>\n",
       "      <td>--</td>\n",
       "    </tr>\n",
       "    <tr>\n",
       "      <th>13192</th>\n",
       "      <td>Cluster-15354.11627</td>\n",
       "      <td>--</td>\n",
       "      <td>--</td>\n",
       "      <td>GO:0003924//GO:0016887//GO:0005524//GO:0005525</td>\n",
       "      <td>GTPase activity//ATPase activity//ATP binding/...</td>\n",
       "      <td>GO:0016020</td>\n",
       "      <td>membrane</td>\n",
       "    </tr>\n",
       "    <tr>\n",
       "      <th>...</th>\n",
       "      <td>...</td>\n",
       "      <td>...</td>\n",
       "      <td>...</td>\n",
       "      <td>...</td>\n",
       "      <td>...</td>\n",
       "      <td>...</td>\n",
       "      <td>...</td>\n",
       "    </tr>\n",
       "    <tr>\n",
       "      <th>109468</th>\n",
       "      <td>Cluster-48422.1</td>\n",
       "      <td>GO:0016567</td>\n",
       "      <td>protein ubiquitination</td>\n",
       "      <td>GO:0005515//GO:0061630//GO:0004842//GO:0008270...</td>\n",
       "      <td>protein binding//ubiquitin protein ligase acti...</td>\n",
       "      <td>GO:0005680</td>\n",
       "      <td>anaphase-promoting complex</td>\n",
       "    </tr>\n",
       "    <tr>\n",
       "      <th>110939</th>\n",
       "      <td>Cluster-50294.0</td>\n",
       "      <td>GO:0045893//GO:0030154//GO:0030238//GO:0006357...</td>\n",
       "      <td>positive regulation of transcription, DNA-temp...</td>\n",
       "      <td>GO:0005516//GO:0003705//GO:0008134//GO:0003677</td>\n",
       "      <td>calmodulin binding//transcription factor activ...</td>\n",
       "      <td>GO:0005737//GO:0005667//GO:0016607</td>\n",
       "      <td>cytoplasm//transcription factor complex//nucle...</td>\n",
       "    </tr>\n",
       "    <tr>\n",
       "      <th>115315</th>\n",
       "      <td>Cluster-5840.0</td>\n",
       "      <td>GO:0007283</td>\n",
       "      <td>spermatogenesis</td>\n",
       "      <td>GO:0003677</td>\n",
       "      <td>DNA binding</td>\n",
       "      <td>GO:0005634//GO:0000786</td>\n",
       "      <td>nucleus//nucleosome</td>\n",
       "    </tr>\n",
       "    <tr>\n",
       "      <th>115965</th>\n",
       "      <td>Cluster-6811.0</td>\n",
       "      <td>GO:0006355//GO:0006810//GO:0009405</td>\n",
       "      <td>regulation of transcription, DNA-templated//tr...</td>\n",
       "      <td>GO:0003677//GO:0008200//GO:0004190//GO:0003700</td>\n",
       "      <td>DNA binding//ion channel inhibitor activity//a...</td>\n",
       "      <td>GO:0016021//GO:0005667//GO:0005576</td>\n",
       "      <td>integral component of membrane//transcription ...</td>\n",
       "    </tr>\n",
       "    <tr>\n",
       "      <th>116471</th>\n",
       "      <td>Cluster-7594.0</td>\n",
       "      <td>GO:0055085</td>\n",
       "      <td>transmembrane transport</td>\n",
       "      <td>GO:0022857</td>\n",
       "      <td>transmembrane transporter activity</td>\n",
       "      <td>GO:0016021</td>\n",
       "      <td>integral component of membrane</td>\n",
       "    </tr>\n",
       "  </tbody>\n",
       "</table>\n",
       "<p>66 rows × 7 columns</p>\n",
       "</div>"
      ],
      "text/plain": [
       "                     Gene ID  \\\n",
       "3893    Cluster-15354.101048   \n",
       "5095    Cluster-15354.102982   \n",
       "8835    Cluster-15354.108826   \n",
       "13004   Cluster-15354.115916   \n",
       "13192    Cluster-15354.11627   \n",
       "...                      ...   \n",
       "109468       Cluster-48422.1   \n",
       "110939       Cluster-50294.0   \n",
       "115315        Cluster-5840.0   \n",
       "115965        Cluster-6811.0   \n",
       "116471        Cluster-7594.0   \n",
       "\n",
       "                         Gene Ontology Biological Pathway  \\\n",
       "3893                                                   --   \n",
       "5095                                           GO:0006810   \n",
       "8835                                                   --   \n",
       "13004      GO:0008152//GO:0006629//GO:0006355//GO:0009058   \n",
       "13192                                                  --   \n",
       "...                                                   ...   \n",
       "109468                                         GO:0016567   \n",
       "110939  GO:0045893//GO:0030154//GO:0030238//GO:0006357...   \n",
       "115315                                         GO:0007283   \n",
       "115965                 GO:0006355//GO:0006810//GO:0009405   \n",
       "116471                                         GO:0055085   \n",
       "\n",
       "                                           BP Description  \\\n",
       "3893                                                   --   \n",
       "5095                                            transport   \n",
       "8835                                                   --   \n",
       "13004   metabolic process//lipid metabolic process//re...   \n",
       "13192                                                  --   \n",
       "...                                                   ...   \n",
       "109468                             protein ubiquitination   \n",
       "110939  positive regulation of transcription, DNA-temp...   \n",
       "115315                                    spermatogenesis   \n",
       "115965  regulation of transcription, DNA-templated//tr...   \n",
       "116471                            transmembrane transport   \n",
       "\n",
       "                         Gene Ontology Molecular Function  \\\n",
       "3893                                           GO:0016773   \n",
       "5095       GO:0005524//GO:0004386//GO:0016887//GO:0003676   \n",
       "8835                                           GO:0005515   \n",
       "13004   GO:0016787//GO:0016788//GO:0000287//GO:0030976...   \n",
       "13192      GO:0003924//GO:0016887//GO:0005524//GO:0005525   \n",
       "...                                                   ...   \n",
       "109468  GO:0005515//GO:0061630//GO:0004842//GO:0008270...   \n",
       "110939     GO:0005516//GO:0003705//GO:0008134//GO:0003677   \n",
       "115315                                         GO:0003677   \n",
       "115965     GO:0003677//GO:0008200//GO:0004190//GO:0003700   \n",
       "116471                                         GO:0022857   \n",
       "\n",
       "                                           MF Description  \\\n",
       "3893    phosphotransferase activity, alcohol group as ...   \n",
       "5095    ATP binding//helicase activity//ATPase activit...   \n",
       "8835                                      protein binding   \n",
       "13004   hydrolase activity//hydrolase activity, acting...   \n",
       "13192   GTPase activity//ATPase activity//ATP binding/...   \n",
       "...                                                   ...   \n",
       "109468  protein binding//ubiquitin protein ligase acti...   \n",
       "110939  calmodulin binding//transcription factor activ...   \n",
       "115315                                        DNA binding   \n",
       "115965  DNA binding//ion channel inhibitor activity//a...   \n",
       "116471                 transmembrane transporter activity   \n",
       "\n",
       "          Gene Ontology Cellular Component  \\\n",
       "3893                                    --   \n",
       "5095                                    --   \n",
       "8835                                    --   \n",
       "13004                                   --   \n",
       "13192                           GO:0016020   \n",
       "...                                    ...   \n",
       "109468                          GO:0005680   \n",
       "110939  GO:0005737//GO:0005667//GO:0016607   \n",
       "115315              GO:0005634//GO:0000786   \n",
       "115965  GO:0016021//GO:0005667//GO:0005576   \n",
       "116471                          GO:0016021   \n",
       "\n",
       "                                           CC Description  \n",
       "3893                                                   --  \n",
       "5095                                                   --  \n",
       "8835                                                   --  \n",
       "13004                                                  --  \n",
       "13192                                            membrane  \n",
       "...                                                   ...  \n",
       "109468                         anaphase-promoting complex  \n",
       "110939  cytoplasm//transcription factor complex//nucle...  \n",
       "115315                                nucleus//nucleosome  \n",
       "115965  integral component of membrane//transcription ...  \n",
       "116471                     integral component of membrane  \n",
       "\n",
       "[66 rows x 7 columns]"
      ]
     },
     "execution_count": 16,
     "metadata": {},
     "output_type": "execute_result"
    }
   ],
   "source": [
    "selected_annot"
   ]
  },
  {
   "cell_type": "code",
   "execution_count": 15,
   "id": "agreed-russia",
   "metadata": {},
   "outputs": [],
   "source": [
    "degs = degs[degs['Comparison'] == '653v111']\n",
    "selected_degs = degs['Gene_ID'] \n",
    "selected_annot = annot[annot['Gene ID'].isin(selected_degs)]"
   ]
  },
  {
   "cell_type": "code",
   "execution_count": 17,
   "id": "insured-characterization",
   "metadata": {},
   "outputs": [],
   "source": [
    "df_GO = selected_annot[['Gene ID', 'Gene Ontology Biological Pathway', 'Gene Ontology Molecular Function', 'Gene Ontology Cellular Component']]\n",
    "df_GO.columns = ['Gene_ID', 'BP', 'MF', 'CC']"
   ]
  },
  {
   "cell_type": "code",
   "execution_count": 18,
   "id": "rural-shore",
   "metadata": {},
   "outputs": [
    {
     "data": {
      "text/plain": [
       "(66, 4)"
      ]
     },
     "execution_count": 18,
     "metadata": {},
     "output_type": "execute_result"
    }
   ],
   "source": [
    "df_GO.shape"
   ]
  },
  {
   "cell_type": "markdown",
   "id": "excessive-cassette",
   "metadata": {},
   "source": [
    "* BP"
   ]
  },
  {
   "cell_type": "code",
   "execution_count": 19,
   "id": "divine-schedule",
   "metadata": {},
   "outputs": [],
   "source": [
    "ID = df_GO['Gene_ID']\n",
    "BP = df_GO['BP'].str.split('//', 1000, expand = True)\n",
    "GO_BP = pd.concat([ID, BP], axis =1)"
   ]
  },
  {
   "cell_type": "code",
   "execution_count": 20,
   "id": "resident-sample",
   "metadata": {},
   "outputs": [
    {
     "data": {
      "text/html": [
       "<div>\n",
       "<style scoped>\n",
       "    .dataframe tbody tr th:only-of-type {\n",
       "        vertical-align: middle;\n",
       "    }\n",
       "\n",
       "    .dataframe tbody tr th {\n",
       "        vertical-align: top;\n",
       "    }\n",
       "\n",
       "    .dataframe thead th {\n",
       "        text-align: right;\n",
       "    }\n",
       "</style>\n",
       "<table border=\"1\" class=\"dataframe\">\n",
       "  <thead>\n",
       "    <tr style=\"text-align: right;\">\n",
       "      <th></th>\n",
       "      <th>Gene_ID</th>\n",
       "      <th>GO</th>\n",
       "    </tr>\n",
       "  </thead>\n",
       "  <tbody>\n",
       "    <tr>\n",
       "      <th>0</th>\n",
       "      <td>Cluster-15354.101048</td>\n",
       "      <td>--</td>\n",
       "    </tr>\n",
       "    <tr>\n",
       "      <th>1</th>\n",
       "      <td>Cluster-15354.102982</td>\n",
       "      <td>GO:0006810</td>\n",
       "    </tr>\n",
       "    <tr>\n",
       "      <th>2</th>\n",
       "      <td>Cluster-15354.108826</td>\n",
       "      <td>--</td>\n",
       "    </tr>\n",
       "    <tr>\n",
       "      <th>3</th>\n",
       "      <td>Cluster-15354.115916</td>\n",
       "      <td>GO:0008152</td>\n",
       "    </tr>\n",
       "    <tr>\n",
       "      <th>4</th>\n",
       "      <td>Cluster-15354.11627</td>\n",
       "      <td>--</td>\n",
       "    </tr>\n",
       "  </tbody>\n",
       "</table>\n",
       "</div>"
      ],
      "text/plain": [
       "                Gene_ID          GO\n",
       "0  Cluster-15354.101048          --\n",
       "1  Cluster-15354.102982  GO:0006810\n",
       "2  Cluster-15354.108826          --\n",
       "3  Cluster-15354.115916  GO:0008152\n",
       "4   Cluster-15354.11627          --"
      ]
     },
     "execution_count": 20,
     "metadata": {},
     "output_type": "execute_result"
    }
   ],
   "source": [
    "melt_BP= GO_BP.melt(id_vars = ['Gene_ID'], value_name = 'GO')\n",
    "melt_BP = melt_BP.drop(['variable'], axis =1)\n",
    "melt_BP.head()"
   ]
  },
  {
   "cell_type": "code",
   "execution_count": 21,
   "id": "established-feeling",
   "metadata": {},
   "outputs": [
    {
     "data": {
      "text/plain": [
       "Gene_ID    396\n",
       "GO         143\n",
       "dtype: int64"
      ]
     },
     "execution_count": 21,
     "metadata": {},
     "output_type": "execute_result"
    }
   ],
   "source": [
    "melt_BP.count()"
   ]
  },
  {
   "cell_type": "code",
   "execution_count": 22,
   "id": "classical-wallpaper",
   "metadata": {},
   "outputs": [],
   "source": [
    "nan_value = float(\"NaN\")\n",
    "melt_BP['GO'].replace(\"--\", nan_value, inplace=True)\n",
    "melt_BP.dropna(subset = [\"GO\"], inplace=True)"
   ]
  },
  {
   "cell_type": "code",
   "execution_count": 23,
   "id": "healthy-rugby",
   "metadata": {},
   "outputs": [],
   "source": [
    "df_bp = melt_BP[melt_BP['GO'].astype(bool)]"
   ]
  },
  {
   "cell_type": "code",
   "execution_count": 24,
   "id": "designed-jurisdiction",
   "metadata": {},
   "outputs": [
    {
     "data": {
      "text/plain": [
       "Gene_ID    131\n",
       "GO         131\n",
       "dtype: int64"
      ]
     },
     "execution_count": 24,
     "metadata": {},
     "output_type": "execute_result"
    }
   ],
   "source": [
    "df_bp.count()"
   ]
  },
  {
   "cell_type": "markdown",
   "id": "competent-jurisdiction",
   "metadata": {},
   "source": [
    "* MF"
   ]
  },
  {
   "cell_type": "code",
   "execution_count": 25,
   "id": "cognitive-newspaper",
   "metadata": {},
   "outputs": [],
   "source": [
    "ID = df_GO['Gene_ID']\n",
    "MF = df_GO['MF'].str.split('//', 1000, expand = True)\n",
    "GO_MF = pd.concat([ID, MF], axis =1)"
   ]
  },
  {
   "cell_type": "code",
   "execution_count": 26,
   "id": "lasting-champion",
   "metadata": {},
   "outputs": [
    {
     "data": {
      "text/html": [
       "<div>\n",
       "<style scoped>\n",
       "    .dataframe tbody tr th:only-of-type {\n",
       "        vertical-align: middle;\n",
       "    }\n",
       "\n",
       "    .dataframe tbody tr th {\n",
       "        vertical-align: top;\n",
       "    }\n",
       "\n",
       "    .dataframe thead th {\n",
       "        text-align: right;\n",
       "    }\n",
       "</style>\n",
       "<table border=\"1\" class=\"dataframe\">\n",
       "  <thead>\n",
       "    <tr style=\"text-align: right;\">\n",
       "      <th></th>\n",
       "      <th>Gene_ID</th>\n",
       "      <th>GO</th>\n",
       "    </tr>\n",
       "  </thead>\n",
       "  <tbody>\n",
       "    <tr>\n",
       "      <th>0</th>\n",
       "      <td>Cluster-15354.101048</td>\n",
       "      <td>GO:0016773</td>\n",
       "    </tr>\n",
       "    <tr>\n",
       "      <th>1</th>\n",
       "      <td>Cluster-15354.102982</td>\n",
       "      <td>GO:0005524</td>\n",
       "    </tr>\n",
       "    <tr>\n",
       "      <th>2</th>\n",
       "      <td>Cluster-15354.108826</td>\n",
       "      <td>GO:0005515</td>\n",
       "    </tr>\n",
       "    <tr>\n",
       "      <th>3</th>\n",
       "      <td>Cluster-15354.115916</td>\n",
       "      <td>GO:0016787</td>\n",
       "    </tr>\n",
       "    <tr>\n",
       "      <th>4</th>\n",
       "      <td>Cluster-15354.11627</td>\n",
       "      <td>GO:0003924</td>\n",
       "    </tr>\n",
       "  </tbody>\n",
       "</table>\n",
       "</div>"
      ],
      "text/plain": [
       "                Gene_ID          GO\n",
       "0  Cluster-15354.101048  GO:0016773\n",
       "1  Cluster-15354.102982  GO:0005524\n",
       "2  Cluster-15354.108826  GO:0005515\n",
       "3  Cluster-15354.115916  GO:0016787\n",
       "4   Cluster-15354.11627  GO:0003924"
      ]
     },
     "execution_count": 26,
     "metadata": {},
     "output_type": "execute_result"
    }
   ],
   "source": [
    "melt_MF= GO_MF.melt(id_vars = ['Gene_ID'], value_name = 'GO')\n",
    "melt_MF = melt_MF.drop(['variable'], axis =1)\n",
    "melt_MF.head()"
   ]
  },
  {
   "cell_type": "code",
   "execution_count": 27,
   "id": "negative-summary",
   "metadata": {},
   "outputs": [
    {
     "data": {
      "text/plain": [
       "Gene_ID    462\n",
       "GO         156\n",
       "dtype: int64"
      ]
     },
     "execution_count": 27,
     "metadata": {},
     "output_type": "execute_result"
    }
   ],
   "source": [
    "melt_MF.count()"
   ]
  },
  {
   "cell_type": "code",
   "execution_count": 28,
   "id": "intimate-reach",
   "metadata": {},
   "outputs": [],
   "source": [
    "nan_value = float(\"NaN\")\n",
    "melt_MF['GO'].replace(\"--\", nan_value, inplace=True)\n",
    "melt_MF.dropna(subset = [\"GO\"], inplace=True)"
   ]
  },
  {
   "cell_type": "code",
   "execution_count": 29,
   "id": "integral-significance",
   "metadata": {},
   "outputs": [],
   "source": [
    "df_mf = melt_MF[melt_MF['GO'].astype(bool)]"
   ]
  },
  {
   "cell_type": "code",
   "execution_count": 30,
   "id": "elect-money",
   "metadata": {},
   "outputs": [
    {
     "data": {
      "text/plain": [
       "Gene_ID    150\n",
       "GO         150\n",
       "dtype: int64"
      ]
     },
     "execution_count": 30,
     "metadata": {},
     "output_type": "execute_result"
    }
   ],
   "source": [
    "df_mf.count()"
   ]
  },
  {
   "cell_type": "markdown",
   "id": "banner-spank",
   "metadata": {},
   "source": [
    "* CC"
   ]
  },
  {
   "cell_type": "code",
   "execution_count": 31,
   "id": "fifty-console",
   "metadata": {},
   "outputs": [],
   "source": [
    "ID = df_GO['Gene_ID']\n",
    "CC = df_GO['CC'].str.split('//', 1000, expand = True)\n",
    "GO_CC = pd.concat([ID, CC], axis =1)"
   ]
  },
  {
   "cell_type": "code",
   "execution_count": 32,
   "id": "cooked-scholarship",
   "metadata": {},
   "outputs": [
    {
     "data": {
      "text/html": [
       "<div>\n",
       "<style scoped>\n",
       "    .dataframe tbody tr th:only-of-type {\n",
       "        vertical-align: middle;\n",
       "    }\n",
       "\n",
       "    .dataframe tbody tr th {\n",
       "        vertical-align: top;\n",
       "    }\n",
       "\n",
       "    .dataframe thead th {\n",
       "        text-align: right;\n",
       "    }\n",
       "</style>\n",
       "<table border=\"1\" class=\"dataframe\">\n",
       "  <thead>\n",
       "    <tr style=\"text-align: right;\">\n",
       "      <th></th>\n",
       "      <th>Gene_ID</th>\n",
       "      <th>GO</th>\n",
       "    </tr>\n",
       "  </thead>\n",
       "  <tbody>\n",
       "    <tr>\n",
       "      <th>0</th>\n",
       "      <td>Cluster-15354.101048</td>\n",
       "      <td>--</td>\n",
       "    </tr>\n",
       "    <tr>\n",
       "      <th>1</th>\n",
       "      <td>Cluster-15354.102982</td>\n",
       "      <td>--</td>\n",
       "    </tr>\n",
       "    <tr>\n",
       "      <th>2</th>\n",
       "      <td>Cluster-15354.108826</td>\n",
       "      <td>--</td>\n",
       "    </tr>\n",
       "    <tr>\n",
       "      <th>3</th>\n",
       "      <td>Cluster-15354.115916</td>\n",
       "      <td>--</td>\n",
       "    </tr>\n",
       "    <tr>\n",
       "      <th>4</th>\n",
       "      <td>Cluster-15354.11627</td>\n",
       "      <td>GO:0016020</td>\n",
       "    </tr>\n",
       "  </tbody>\n",
       "</table>\n",
       "</div>"
      ],
      "text/plain": [
       "                Gene_ID          GO\n",
       "0  Cluster-15354.101048          --\n",
       "1  Cluster-15354.102982          --\n",
       "2  Cluster-15354.108826          --\n",
       "3  Cluster-15354.115916          --\n",
       "4   Cluster-15354.11627  GO:0016020"
      ]
     },
     "execution_count": 32,
     "metadata": {},
     "output_type": "execute_result"
    }
   ],
   "source": [
    "melt_CC= GO_CC.melt(id_vars = ['Gene_ID'], value_name = 'GO')\n",
    "melt_CC = melt_CC.drop(['variable'], axis =1)\n",
    "melt_CC.head()"
   ]
  },
  {
   "cell_type": "code",
   "execution_count": 33,
   "id": "major-staff",
   "metadata": {},
   "outputs": [
    {
     "data": {
      "text/plain": [
       "Gene_ID    198\n",
       "GO          87\n",
       "dtype: int64"
      ]
     },
     "execution_count": 33,
     "metadata": {},
     "output_type": "execute_result"
    }
   ],
   "source": [
    "melt_CC.count()"
   ]
  },
  {
   "cell_type": "code",
   "execution_count": 34,
   "id": "confident-alarm",
   "metadata": {},
   "outputs": [],
   "source": [
    "nan_value = float(\"NaN\")\n",
    "melt_CC['GO'].replace(\"--\", nan_value, inplace=True)\n",
    "melt_CC.dropna(subset = [\"GO\"], inplace=True)"
   ]
  },
  {
   "cell_type": "code",
   "execution_count": 35,
   "id": "alien-alfred",
   "metadata": {},
   "outputs": [],
   "source": [
    "df_cc = melt_CC[melt_CC['GO'].astype(bool)]"
   ]
  },
  {
   "cell_type": "code",
   "execution_count": 36,
   "id": "compliant-purpose",
   "metadata": {},
   "outputs": [
    {
     "data": {
      "text/plain": [
       "Gene_ID    65\n",
       "GO         65\n",
       "dtype: int64"
      ]
     },
     "execution_count": 36,
     "metadata": {},
     "output_type": "execute_result"
    }
   ],
   "source": [
    "df_cc.count()"
   ]
  },
  {
   "cell_type": "markdown",
   "id": "formal-layer",
   "metadata": {},
   "source": [
    "* Combine all three process"
   ]
  },
  {
   "cell_type": "code",
   "execution_count": 37,
   "id": "checked-pioneer",
   "metadata": {},
   "outputs": [],
   "source": [
    "annot_all = pd.concat([df_bp, df_mf, df_cc])"
   ]
  },
  {
   "cell_type": "code",
   "execution_count": 38,
   "id": "exterior-preliminary",
   "metadata": {},
   "outputs": [
    {
     "data": {
      "text/plain": [
       "(346, 2)"
      ]
     },
     "execution_count": 38,
     "metadata": {},
     "output_type": "execute_result"
    }
   ],
   "source": [
    "annot_all.shape"
   ]
  },
  {
   "cell_type": "code",
   "execution_count": 39,
   "id": "resident-passenger",
   "metadata": {},
   "outputs": [],
   "source": [
    "annot_all.to_csv('annot_list_mustard.csv')"
   ]
  },
  {
   "cell_type": "code",
   "execution_count": null,
   "id": "stretch-conspiracy",
   "metadata": {},
   "outputs": [],
   "source": []
  },
  {
   "cell_type": "markdown",
   "id": "secret-compatibility",
   "metadata": {},
   "source": [
    "#### Mint"
   ]
  },
  {
   "cell_type": "code",
   "execution_count": 46,
   "id": "settled-focus",
   "metadata": {},
   "outputs": [],
   "source": [
    "import os\n",
    "import pandas as pd\n",
    "import numpy as np"
   ]
  },
  {
   "cell_type": "code",
   "execution_count": 49,
   "id": "english-improvement",
   "metadata": {},
   "outputs": [],
   "source": [
    "os.chdir('C:/Users/sudha.gcupadhaya/Desktop/RNA-seq/Validation project/GO_Enrichment_Analysis/mint/')\n",
    "degs = pd.read_csv('Mentha_ganename.csv')\n",
    "annot = pd.read_csv('Mentha_Annotation_GO.csv')"
   ]
  },
  {
   "cell_type": "code",
   "execution_count": 50,
   "id": "superior-disorder",
   "metadata": {},
   "outputs": [],
   "source": [
    "selected_annot = annot[annot['Gene ID'].isin(degs['Gene_ID'])]"
   ]
  },
  {
   "cell_type": "code",
   "execution_count": 51,
   "id": "consecutive-rover",
   "metadata": {},
   "outputs": [
    {
     "data": {
      "text/plain": [
       "Index(['Gene ID', 'Gene Ontology Biological Pathway', 'BP Description',\n",
       "       'Gene Ontology Molecular Function', 'MF Description',\n",
       "       'Gene Ontology Cellular Component', 'CC Description'],\n",
       "      dtype='object')"
      ]
     },
     "execution_count": 51,
     "metadata": {},
     "output_type": "execute_result"
    }
   ],
   "source": [
    "selected_annot.columns"
   ]
  },
  {
   "cell_type": "code",
   "execution_count": 52,
   "id": "sufficient-secretariat",
   "metadata": {},
   "outputs": [],
   "source": [
    "df_GO = selected_annot[['Gene ID', 'BP Description', 'MF Description', 'CC Description']]\n",
    "df_GO.columns = ['Gene_ID', 'BP', 'MF', 'CC']"
   ]
  },
  {
   "cell_type": "code",
   "execution_count": 53,
   "id": "artistic-clark",
   "metadata": {},
   "outputs": [
    {
     "data": {
      "text/plain": [
       "(1195, 4)"
      ]
     },
     "execution_count": 53,
     "metadata": {},
     "output_type": "execute_result"
    }
   ],
   "source": [
    "df_GO.shape"
   ]
  },
  {
   "cell_type": "markdown",
   "id": "modified-borough",
   "metadata": {},
   "source": [
    "* BP"
   ]
  },
  {
   "cell_type": "code",
   "execution_count": 54,
   "id": "physical-candle",
   "metadata": {},
   "outputs": [],
   "source": [
    "ID = df_GO['Gene_ID']\n",
    "BP = df_GO['BP'].str.split('//', 1000, expand = True)\n",
    "GO_BP = pd.concat([ID, BP], axis =1)"
   ]
  },
  {
   "cell_type": "code",
   "execution_count": 55,
   "id": "permanent-enemy",
   "metadata": {},
   "outputs": [
    {
     "data": {
      "text/html": [
       "<div>\n",
       "<style scoped>\n",
       "    .dataframe tbody tr th:only-of-type {\n",
       "        vertical-align: middle;\n",
       "    }\n",
       "\n",
       "    .dataframe tbody tr th {\n",
       "        vertical-align: top;\n",
       "    }\n",
       "\n",
       "    .dataframe thead th {\n",
       "        text-align: right;\n",
       "    }\n",
       "</style>\n",
       "<table border=\"1\" class=\"dataframe\">\n",
       "  <thead>\n",
       "    <tr style=\"text-align: right;\">\n",
       "      <th></th>\n",
       "      <th>Gene_ID</th>\n",
       "      <th>GO</th>\n",
       "    </tr>\n",
       "  </thead>\n",
       "  <tbody>\n",
       "    <tr>\n",
       "      <th>0</th>\n",
       "      <td>Cluster-12724.0</td>\n",
       "      <td>one-carbon metabolic process</td>\n",
       "    </tr>\n",
       "    <tr>\n",
       "      <th>1</th>\n",
       "      <td>Cluster-21872.0</td>\n",
       "      <td>response to oxidative stress</td>\n",
       "    </tr>\n",
       "    <tr>\n",
       "      <th>2</th>\n",
       "      <td>Cluster-21903.0</td>\n",
       "      <td>tRNA processing</td>\n",
       "    </tr>\n",
       "    <tr>\n",
       "      <th>3</th>\n",
       "      <td>Cluster-24414.0</td>\n",
       "      <td>ribosome biogenesis</td>\n",
       "    </tr>\n",
       "    <tr>\n",
       "      <th>4</th>\n",
       "      <td>Cluster-24764.0</td>\n",
       "      <td>nodulation</td>\n",
       "    </tr>\n",
       "  </tbody>\n",
       "</table>\n",
       "</div>"
      ],
      "text/plain": [
       "           Gene_ID                            GO\n",
       "0  Cluster-12724.0  one-carbon metabolic process\n",
       "1  Cluster-21872.0  response to oxidative stress\n",
       "2  Cluster-21903.0               tRNA processing\n",
       "3  Cluster-24414.0           ribosome biogenesis\n",
       "4  Cluster-24764.0                    nodulation"
      ]
     },
     "execution_count": 55,
     "metadata": {},
     "output_type": "execute_result"
    }
   ],
   "source": [
    "melt_BP= GO_BP.melt(id_vars = ['Gene_ID'], value_name = 'GO')\n",
    "melt_BP = melt_BP.drop(['variable'], axis =1)\n",
    "melt_BP.head()"
   ]
  },
  {
   "cell_type": "code",
   "execution_count": 59,
   "id": "cross-cooking",
   "metadata": {},
   "outputs": [
    {
     "data": {
      "text/plain": [
       "Gene_ID    2379\n",
       "GO         2379\n",
       "dtype: int64"
      ]
     },
     "execution_count": 59,
     "metadata": {},
     "output_type": "execute_result"
    }
   ],
   "source": [
    "melt_BP.count()"
   ]
  },
  {
   "cell_type": "code",
   "execution_count": 60,
   "id": "skilled-moderator",
   "metadata": {},
   "outputs": [],
   "source": [
    "melt_BP['GO'].replace(\"--\", float('NaN'), inplace=True)\n",
    "melt_BP.dropna(subset = [\"GO\"], inplace=True)"
   ]
  },
  {
   "cell_type": "code",
   "execution_count": 61,
   "id": "conventional-baghdad",
   "metadata": {},
   "outputs": [],
   "source": [
    "df_bp = melt_BP[melt_BP['GO'].astype(bool)]"
   ]
  },
  {
   "cell_type": "code",
   "execution_count": 63,
   "id": "bored-might",
   "metadata": {},
   "outputs": [
    {
     "data": {
      "text/plain": [
       "(2379, 2)"
      ]
     },
     "execution_count": 63,
     "metadata": {},
     "output_type": "execute_result"
    }
   ],
   "source": [
    "df_bp.shape"
   ]
  },
  {
   "cell_type": "markdown",
   "id": "absolute-kingdom",
   "metadata": {},
   "source": [
    "* MF"
   ]
  },
  {
   "cell_type": "code",
   "execution_count": 64,
   "id": "published-poverty",
   "metadata": {},
   "outputs": [],
   "source": [
    "ID = df_GO['Gene_ID']\n",
    "MF = df_GO['MF'].str.split('//', 1000, expand = True)\n",
    "GO_MF = pd.concat([ID, MF], axis =1)"
   ]
  },
  {
   "cell_type": "code",
   "execution_count": 65,
   "id": "resident-society",
   "metadata": {},
   "outputs": [
    {
     "data": {
      "text/html": [
       "<div>\n",
       "<style scoped>\n",
       "    .dataframe tbody tr th:only-of-type {\n",
       "        vertical-align: middle;\n",
       "    }\n",
       "\n",
       "    .dataframe tbody tr th {\n",
       "        vertical-align: top;\n",
       "    }\n",
       "\n",
       "    .dataframe thead th {\n",
       "        text-align: right;\n",
       "    }\n",
       "</style>\n",
       "<table border=\"1\" class=\"dataframe\">\n",
       "  <thead>\n",
       "    <tr style=\"text-align: right;\">\n",
       "      <th></th>\n",
       "      <th>Gene_ID</th>\n",
       "      <th>GO</th>\n",
       "    </tr>\n",
       "  </thead>\n",
       "  <tbody>\n",
       "    <tr>\n",
       "      <th>0</th>\n",
       "      <td>Cluster-12724.0</td>\n",
       "      <td>carbonate dehydratase activity</td>\n",
       "    </tr>\n",
       "    <tr>\n",
       "      <th>1</th>\n",
       "      <td>Cluster-21872.0</td>\n",
       "      <td>catalase activity</td>\n",
       "    </tr>\n",
       "    <tr>\n",
       "      <th>2</th>\n",
       "      <td>Cluster-21903.0</td>\n",
       "      <td>FAD binding</td>\n",
       "    </tr>\n",
       "    <tr>\n",
       "      <th>3</th>\n",
       "      <td>Cluster-24414.0</td>\n",
       "      <td>structural constituent of ribosome</td>\n",
       "    </tr>\n",
       "    <tr>\n",
       "      <th>4</th>\n",
       "      <td>Cluster-24764.0</td>\n",
       "      <td>--</td>\n",
       "    </tr>\n",
       "  </tbody>\n",
       "</table>\n",
       "</div>"
      ],
      "text/plain": [
       "           Gene_ID                                  GO\n",
       "0  Cluster-12724.0      carbonate dehydratase activity\n",
       "1  Cluster-21872.0                   catalase activity\n",
       "2  Cluster-21903.0                         FAD binding\n",
       "3  Cluster-24414.0  structural constituent of ribosome\n",
       "4  Cluster-24764.0                                  --"
      ]
     },
     "execution_count": 65,
     "metadata": {},
     "output_type": "execute_result"
    }
   ],
   "source": [
    "melt_MF= GO_MF.melt(id_vars = ['Gene_ID'], value_name = 'GO')\n",
    "melt_MF = melt_MF.drop(['variable'], axis =1)\n",
    "melt_MF.head()"
   ]
  },
  {
   "cell_type": "code",
   "execution_count": 66,
   "id": "general-trance",
   "metadata": {},
   "outputs": [
    {
     "data": {
      "text/plain": [
       "Gene_ID    14340\n",
       "GO          2734\n",
       "dtype: int64"
      ]
     },
     "execution_count": 66,
     "metadata": {},
     "output_type": "execute_result"
    }
   ],
   "source": [
    "melt_MF.count()"
   ]
  },
  {
   "cell_type": "code",
   "execution_count": 69,
   "id": "durable-curtis",
   "metadata": {},
   "outputs": [],
   "source": [
    "melt_MF['GO'].replace(\"--\", float(\"NaN\"), inplace=True)\n",
    "melt_MF.dropna(subset = [\"GO\"], inplace=True)"
   ]
  },
  {
   "cell_type": "code",
   "execution_count": 70,
   "id": "floral-armor",
   "metadata": {},
   "outputs": [],
   "source": [
    "df_mf = melt_MF[melt_MF['GO'].astype(bool)]"
   ]
  },
  {
   "cell_type": "code",
   "execution_count": 71,
   "id": "headed-bangkok",
   "metadata": {},
   "outputs": [
    {
     "data": {
      "text/plain": [
       "Gene_ID    2633\n",
       "GO         2633\n",
       "dtype: int64"
      ]
     },
     "execution_count": 71,
     "metadata": {},
     "output_type": "execute_result"
    }
   ],
   "source": [
    "df_mf.count()"
   ]
  },
  {
   "cell_type": "code",
   "execution_count": null,
   "id": "present-syndicate",
   "metadata": {},
   "outputs": [],
   "source": []
  },
  {
   "cell_type": "markdown",
   "id": "higher-script",
   "metadata": {},
   "source": [
    "* CC"
   ]
  },
  {
   "cell_type": "code",
   "execution_count": 61,
   "id": "monetary-worthy",
   "metadata": {},
   "outputs": [],
   "source": [
    "ID = df_GO['Gene_ID']\n",
    "CC = df_GO['CC'].str.split('//', 1000, expand = True)\n",
    "GO_CC = pd.concat([ID, CC], axis =1)"
   ]
  },
  {
   "cell_type": "code",
   "execution_count": 62,
   "id": "stopped-renaissance",
   "metadata": {},
   "outputs": [
    {
     "data": {
      "text/html": [
       "<div>\n",
       "<style scoped>\n",
       "    .dataframe tbody tr th:only-of-type {\n",
       "        vertical-align: middle;\n",
       "    }\n",
       "\n",
       "    .dataframe tbody tr th {\n",
       "        vertical-align: top;\n",
       "    }\n",
       "\n",
       "    .dataframe thead th {\n",
       "        text-align: right;\n",
       "    }\n",
       "</style>\n",
       "<table border=\"1\" class=\"dataframe\">\n",
       "  <thead>\n",
       "    <tr style=\"text-align: right;\">\n",
       "      <th></th>\n",
       "      <th>Gene_ID</th>\n",
       "      <th>GO</th>\n",
       "    </tr>\n",
       "  </thead>\n",
       "  <tbody>\n",
       "    <tr>\n",
       "      <th>0</th>\n",
       "      <td>Cluster-67248.100189</td>\n",
       "      <td>--</td>\n",
       "    </tr>\n",
       "    <tr>\n",
       "      <th>1</th>\n",
       "      <td>Cluster-67248.100665</td>\n",
       "      <td>--</td>\n",
       "    </tr>\n",
       "    <tr>\n",
       "      <th>2</th>\n",
       "      <td>Cluster-67248.101001</td>\n",
       "      <td>--</td>\n",
       "    </tr>\n",
       "    <tr>\n",
       "      <th>3</th>\n",
       "      <td>Cluster-67248.101576</td>\n",
       "      <td>--</td>\n",
       "    </tr>\n",
       "    <tr>\n",
       "      <th>4</th>\n",
       "      <td>Cluster-67248.102077</td>\n",
       "      <td>GO:0005737</td>\n",
       "    </tr>\n",
       "  </tbody>\n",
       "</table>\n",
       "</div>"
      ],
      "text/plain": [
       "                Gene_ID          GO\n",
       "0  Cluster-67248.100189          --\n",
       "1  Cluster-67248.100665          --\n",
       "2  Cluster-67248.101001          --\n",
       "3  Cluster-67248.101576          --\n",
       "4  Cluster-67248.102077  GO:0005737"
      ]
     },
     "execution_count": 62,
     "metadata": {},
     "output_type": "execute_result"
    }
   ],
   "source": [
    "melt_CC= GO_CC.melt(id_vars = ['Gene_ID'], value_name = 'GO')\n",
    "melt_CC = melt_CC.drop(['variable'], axis =1)\n",
    "melt_CC.head()"
   ]
  },
  {
   "cell_type": "code",
   "execution_count": 63,
   "id": "placed-terrain",
   "metadata": {},
   "outputs": [
    {
     "data": {
      "text/plain": [
       "Gene_ID    213\n",
       "GO          84\n",
       "dtype: int64"
      ]
     },
     "execution_count": 63,
     "metadata": {},
     "output_type": "execute_result"
    }
   ],
   "source": [
    "melt_CC.count()"
   ]
  },
  {
   "cell_type": "code",
   "execution_count": 64,
   "id": "human-italy",
   "metadata": {},
   "outputs": [],
   "source": [
    "nan_value = float(\"NaN\")\n",
    "melt_CC['GO'].replace(\"--\", nan_value, inplace=True)\n",
    "melt_CC.dropna(subset = [\"GO\"], inplace=True)"
   ]
  },
  {
   "cell_type": "code",
   "execution_count": 65,
   "id": "starting-auditor",
   "metadata": {},
   "outputs": [],
   "source": [
    "df_cc = melt_CC[melt_CC['GO'].astype(bool)]"
   ]
  },
  {
   "cell_type": "code",
   "execution_count": 66,
   "id": "spread-granny",
   "metadata": {},
   "outputs": [
    {
     "data": {
      "text/plain": [
       "Gene_ID    39\n",
       "GO         39\n",
       "dtype: int64"
      ]
     },
     "execution_count": 66,
     "metadata": {},
     "output_type": "execute_result"
    }
   ],
   "source": [
    "df_cc.count()"
   ]
  },
  {
   "cell_type": "markdown",
   "id": "fitting-liberia",
   "metadata": {},
   "source": [
    "* Combine all three process"
   ]
  },
  {
   "cell_type": "code",
   "execution_count": 67,
   "id": "accessible-chester",
   "metadata": {},
   "outputs": [],
   "source": [
    "annot_all = pd.concat([df_bp, df_mf, df_cc])"
   ]
  },
  {
   "cell_type": "code",
   "execution_count": 68,
   "id": "ranking-anthropology",
   "metadata": {},
   "outputs": [
    {
     "data": {
      "text/plain": [
       "(326, 2)"
      ]
     },
     "execution_count": 68,
     "metadata": {},
     "output_type": "execute_result"
    }
   ],
   "source": [
    "annot_all.shape"
   ]
  },
  {
   "cell_type": "code",
   "execution_count": 69,
   "id": "chemical-ranking",
   "metadata": {},
   "outputs": [],
   "source": [
    "annot_all.to_csv('annot_list_mint_653v111.csv')"
   ]
  },
  {
   "cell_type": "code",
   "execution_count": null,
   "id": "super-edwards",
   "metadata": {},
   "outputs": [],
   "source": []
  },
  {
   "cell_type": "markdown",
   "id": "authentic-power",
   "metadata": {},
   "source": [
    "#### Veticillium dahliae"
   ]
  },
  {
   "cell_type": "code",
   "execution_count": 72,
   "id": "jewish-seeker",
   "metadata": {},
   "outputs": [],
   "source": [
    "import os\n",
    "import pandas as pd\n",
    "import numpy as np"
   ]
  },
  {
   "cell_type": "code",
   "execution_count": 73,
   "id": "metric-dictionary",
   "metadata": {},
   "outputs": [],
   "source": [
    "os.chdir('C:/Users/sudha.gcupadhaya/Desktop/RNA-seq/Validation project/GO_Enrichment_Analysis/Vd/')\n",
    "degs = pd.read_csv('Fungal_genename.csv')\n",
    "annot = pd.read_csv('Vd_gene.goannot.csv')"
   ]
  },
  {
   "cell_type": "code",
   "execution_count": 74,
   "id": "bridal-pattern",
   "metadata": {},
   "outputs": [],
   "source": [
    "selected_annot = annot[annot['Gene_ID'].isin(degs['Gene_ID'])]"
   ]
  },
  {
   "cell_type": "code",
   "execution_count": 75,
   "id": "scenic-objective",
   "metadata": {},
   "outputs": [
    {
     "data": {
      "text/plain": [
       "Index(['Gene_ID', 'biological_process', 'biological_process_description',\n",
       "       'cellular_component', 'cellular_component_description',\n",
       "       'molecular_function', 'molecular_function_description'],\n",
       "      dtype='object')"
      ]
     },
     "execution_count": 75,
     "metadata": {},
     "output_type": "execute_result"
    }
   ],
   "source": [
    "selected_annot.columns"
   ]
  },
  {
   "cell_type": "code",
   "execution_count": 76,
   "id": "choice-italian",
   "metadata": {},
   "outputs": [],
   "source": [
    "df_GO = selected_annot[['Gene_ID', 'biological_process_description', 'molecular_function_description', 'cellular_component_description']]\n",
    "df_GO.columns = ['Gene_ID', 'BP', 'MF', 'CC']"
   ]
  },
  {
   "cell_type": "code",
   "execution_count": 77,
   "id": "treated-mouse",
   "metadata": {},
   "outputs": [
    {
     "data": {
      "text/plain": [
       "(28, 4)"
      ]
     },
     "execution_count": 77,
     "metadata": {},
     "output_type": "execute_result"
    }
   ],
   "source": [
    "df_GO.shape"
   ]
  },
  {
   "cell_type": "markdown",
   "id": "controlling-force",
   "metadata": {},
   "source": [
    "* BP"
   ]
  },
  {
   "cell_type": "code",
   "execution_count": 78,
   "id": "affiliated-visiting",
   "metadata": {},
   "outputs": [],
   "source": [
    "ID = df_GO['Gene_ID']\n",
    "BP = df_GO['BP'].str.split('//', 1000, expand = True)\n",
    "GO_BP = pd.concat([ID, BP], axis =1)"
   ]
  },
  {
   "cell_type": "code",
   "execution_count": 79,
   "id": "alternative-horse",
   "metadata": {},
   "outputs": [
    {
     "data": {
      "text/html": [
       "<div>\n",
       "<style scoped>\n",
       "    .dataframe tbody tr th:only-of-type {\n",
       "        vertical-align: middle;\n",
       "    }\n",
       "\n",
       "    .dataframe tbody tr th {\n",
       "        vertical-align: top;\n",
       "    }\n",
       "\n",
       "    .dataframe thead th {\n",
       "        text-align: right;\n",
       "    }\n",
       "</style>\n",
       "<table border=\"1\" class=\"dataframe\">\n",
       "  <thead>\n",
       "    <tr style=\"text-align: right;\">\n",
       "      <th></th>\n",
       "      <th>Gene_ID</th>\n",
       "      <th>GO</th>\n",
       "    </tr>\n",
       "  </thead>\n",
       "  <tbody>\n",
       "    <tr>\n",
       "      <th>0</th>\n",
       "      <td>mRNA_10037</td>\n",
       "      <td>biological_process</td>\n",
       "    </tr>\n",
       "    <tr>\n",
       "      <th>1</th>\n",
       "      <td>mRNA_10198</td>\n",
       "      <td>carbohydrate derivative metabolic process</td>\n",
       "    </tr>\n",
       "    <tr>\n",
       "      <th>2</th>\n",
       "      <td>mRNA_10347</td>\n",
       "      <td>metabolic process</td>\n",
       "    </tr>\n",
       "    <tr>\n",
       "      <th>3</th>\n",
       "      <td>mRNA_1128</td>\n",
       "      <td>single-organism process</td>\n",
       "    </tr>\n",
       "    <tr>\n",
       "      <th>4</th>\n",
       "      <td>mRNA_1402</td>\n",
       "      <td>glutamine biosynthetic process</td>\n",
       "    </tr>\n",
       "  </tbody>\n",
       "</table>\n",
       "</div>"
      ],
      "text/plain": [
       "      Gene_ID                                         GO\n",
       "0  mRNA_10037                         biological_process\n",
       "1  mRNA_10198  carbohydrate derivative metabolic process\n",
       "2  mRNA_10347                          metabolic process\n",
       "3   mRNA_1128                    single-organism process\n",
       "4   mRNA_1402             glutamine biosynthetic process"
      ]
     },
     "execution_count": 79,
     "metadata": {},
     "output_type": "execute_result"
    }
   ],
   "source": [
    "melt_BP= GO_BP.melt(id_vars = ['Gene_ID'], value_name = 'GO')\n",
    "melt_BP = melt_BP.drop(['variable'], axis =1)\n",
    "melt_BP.head()"
   ]
  },
  {
   "cell_type": "code",
   "execution_count": 80,
   "id": "voluntary-conducting",
   "metadata": {},
   "outputs": [
    {
     "data": {
      "text/plain": [
       "Gene_ID    2520\n",
       "GO          538\n",
       "dtype: int64"
      ]
     },
     "execution_count": 80,
     "metadata": {},
     "output_type": "execute_result"
    }
   ],
   "source": [
    "melt_BP.count()"
   ]
  },
  {
   "cell_type": "code",
   "execution_count": 81,
   "id": "ordinary-notification",
   "metadata": {},
   "outputs": [],
   "source": [
    "nan_value = float(\"NaN\")\n",
    "melt_BP['GO'].replace(\"--\", nan_value, inplace=True)\n",
    "melt_BP.dropna(subset = [\"GO\"], inplace=True)"
   ]
  },
  {
   "cell_type": "code",
   "execution_count": 82,
   "id": "velvet-toronto",
   "metadata": {},
   "outputs": [],
   "source": [
    "df_bp = melt_BP[melt_BP['GO'].astype(bool)]"
   ]
  },
  {
   "cell_type": "code",
   "execution_count": 83,
   "id": "composite-multimedia",
   "metadata": {},
   "outputs": [
    {
     "data": {
      "text/plain": [
       "Gene_ID    535\n",
       "GO         535\n",
       "dtype: int64"
      ]
     },
     "execution_count": 83,
     "metadata": {},
     "output_type": "execute_result"
    }
   ],
   "source": [
    "df_bp.count()"
   ]
  },
  {
   "cell_type": "code",
   "execution_count": 85,
   "id": "alternative-butterfly",
   "metadata": {},
   "outputs": [
    {
     "data": {
      "text/html": [
       "<div>\n",
       "<style scoped>\n",
       "    .dataframe tbody tr th:only-of-type {\n",
       "        vertical-align: middle;\n",
       "    }\n",
       "\n",
       "    .dataframe tbody tr th {\n",
       "        vertical-align: top;\n",
       "    }\n",
       "\n",
       "    .dataframe thead th {\n",
       "        text-align: right;\n",
       "    }\n",
       "</style>\n",
       "<table border=\"1\" class=\"dataframe\">\n",
       "  <thead>\n",
       "    <tr style=\"text-align: right;\">\n",
       "      <th></th>\n",
       "      <th>GO</th>\n",
       "      <th>count</th>\n",
       "    </tr>\n",
       "  </thead>\n",
       "  <tbody>\n",
       "    <tr>\n",
       "      <th>11</th>\n",
       "      <td>biological_process</td>\n",
       "      <td>25</td>\n",
       "    </tr>\n",
       "    <tr>\n",
       "      <th>65</th>\n",
       "      <td>metabolic process</td>\n",
       "      <td>21</td>\n",
       "    </tr>\n",
       "    <tr>\n",
       "      <th>127</th>\n",
       "      <td>single-organism process</td>\n",
       "      <td>19</td>\n",
       "    </tr>\n",
       "    <tr>\n",
       "      <th>126</th>\n",
       "      <td>single-organism metabolic process</td>\n",
       "      <td>16</td>\n",
       "    </tr>\n",
       "    <tr>\n",
       "      <th>35</th>\n",
       "      <td>cellular process</td>\n",
       "      <td>12</td>\n",
       "    </tr>\n",
       "    <tr>\n",
       "      <th>86</th>\n",
       "      <td>organic substance metabolic process</td>\n",
       "      <td>11</td>\n",
       "    </tr>\n",
       "    <tr>\n",
       "      <th>89</th>\n",
       "      <td>oxidation-reduction process</td>\n",
       "      <td>11</td>\n",
       "    </tr>\n",
       "    <tr>\n",
       "      <th>30</th>\n",
       "      <td>cellular metabolic process</td>\n",
       "      <td>11</td>\n",
       "    </tr>\n",
       "    <tr>\n",
       "      <th>72</th>\n",
       "      <td>nitrogen compound metabolic process</td>\n",
       "      <td>10</td>\n",
       "    </tr>\n",
       "    <tr>\n",
       "      <th>24</th>\n",
       "      <td>cellular aromatic compound metabolic process</td>\n",
       "      <td>10</td>\n",
       "    </tr>\n",
       "  </tbody>\n",
       "</table>\n",
       "</div>"
      ],
      "text/plain": [
       "                                               GO  count\n",
       "11                             biological_process     25\n",
       "65                              metabolic process     21\n",
       "127                       single-organism process     19\n",
       "126             single-organism metabolic process     16\n",
       "35                               cellular process     12\n",
       "86            organic substance metabolic process     11\n",
       "89                    oxidation-reduction process     11\n",
       "30                     cellular metabolic process     11\n",
       "72            nitrogen compound metabolic process     10\n",
       "24   cellular aromatic compound metabolic process     10"
      ]
     },
     "execution_count": 85,
     "metadata": {},
     "output_type": "execute_result"
    }
   ],
   "source": [
    "count = df_bp.groupby(['GO']).size().reset_index(name = 'count')\n",
    "count_bp = count.sort_values(by = 'count', ascending = False)\n",
    "count_bp['term_type'] = 'P'\n",
    "count_bp.head(10)"
   ]
  },
  {
   "cell_type": "code",
   "execution_count": 86,
   "id": "editorial-refund",
   "metadata": {},
   "outputs": [],
   "source": [
    "count_bp['term_type'] = 'P'"
   ]
  },
  {
   "cell_type": "markdown",
   "id": "southwest-holmes",
   "metadata": {},
   "source": [
    "* MF"
   ]
  },
  {
   "cell_type": "code",
   "execution_count": 88,
   "id": "digital-notion",
   "metadata": {},
   "outputs": [],
   "source": [
    "ID = df_GO['Gene_ID']\n",
    "MF = df_GO['MF'].str.split('//', 1000, expand = True)\n",
    "GO_MF = pd.concat([ID, MF], axis =1)"
   ]
  },
  {
   "cell_type": "code",
   "execution_count": 89,
   "id": "changed-biography",
   "metadata": {},
   "outputs": [
    {
     "data": {
      "text/html": [
       "<div>\n",
       "<style scoped>\n",
       "    .dataframe tbody tr th:only-of-type {\n",
       "        vertical-align: middle;\n",
       "    }\n",
       "\n",
       "    .dataframe tbody tr th {\n",
       "        vertical-align: top;\n",
       "    }\n",
       "\n",
       "    .dataframe thead th {\n",
       "        text-align: right;\n",
       "    }\n",
       "</style>\n",
       "<table border=\"1\" class=\"dataframe\">\n",
       "  <thead>\n",
       "    <tr style=\"text-align: right;\">\n",
       "      <th></th>\n",
       "      <th>Gene_ID</th>\n",
       "      <th>GO</th>\n",
       "    </tr>\n",
       "  </thead>\n",
       "  <tbody>\n",
       "    <tr>\n",
       "      <th>0</th>\n",
       "      <td>mRNA_10037</td>\n",
       "      <td>--</td>\n",
       "    </tr>\n",
       "    <tr>\n",
       "      <th>1</th>\n",
       "      <td>mRNA_10198</td>\n",
       "      <td>peptidase activity</td>\n",
       "    </tr>\n",
       "    <tr>\n",
       "      <th>2</th>\n",
       "      <td>mRNA_10347</td>\n",
       "      <td>catalytic activity</td>\n",
       "    </tr>\n",
       "    <tr>\n",
       "      <th>3</th>\n",
       "      <td>mRNA_1128</td>\n",
       "      <td>organic cyclic compound binding</td>\n",
       "    </tr>\n",
       "    <tr>\n",
       "      <th>4</th>\n",
       "      <td>mRNA_1402</td>\n",
       "      <td>ammonia ligase activity</td>\n",
       "    </tr>\n",
       "  </tbody>\n",
       "</table>\n",
       "</div>"
      ],
      "text/plain": [
       "      Gene_ID                               GO\n",
       "0  mRNA_10037                               --\n",
       "1  mRNA_10198               peptidase activity\n",
       "2  mRNA_10347               catalytic activity\n",
       "3   mRNA_1128  organic cyclic compound binding\n",
       "4   mRNA_1402          ammonia ligase activity"
      ]
     },
     "execution_count": 89,
     "metadata": {},
     "output_type": "execute_result"
    }
   ],
   "source": [
    "melt_MF= GO_MF.melt(id_vars = ['Gene_ID'], value_name = 'GO')\n",
    "melt_MF = melt_MF.drop(['variable'], axis =1)\n",
    "melt_MF.head()"
   ]
  },
  {
   "cell_type": "code",
   "execution_count": 90,
   "id": "vanilla-korean",
   "metadata": {},
   "outputs": [
    {
     "data": {
      "text/plain": [
       "Gene_ID    1400\n",
       "GO          336\n",
       "dtype: int64"
      ]
     },
     "execution_count": 90,
     "metadata": {},
     "output_type": "execute_result"
    }
   ],
   "source": [
    "melt_MF.count()"
   ]
  },
  {
   "cell_type": "code",
   "execution_count": 91,
   "id": "ultimate-turtle",
   "metadata": {},
   "outputs": [],
   "source": [
    "nan_value = float(\"NaN\")\n",
    "melt_MF['GO'].replace(\"--\", nan_value, inplace=True)\n",
    "melt_MF.dropna(subset = [\"GO\"], inplace=True)"
   ]
  },
  {
   "cell_type": "code",
   "execution_count": 92,
   "id": "educated-machinery",
   "metadata": {},
   "outputs": [],
   "source": [
    "df_mf = melt_MF[melt_MF['GO'].astype(bool)]"
   ]
  },
  {
   "cell_type": "code",
   "execution_count": 93,
   "id": "suffering-bolivia",
   "metadata": {},
   "outputs": [
    {
     "data": {
      "text/plain": [
       "Gene_ID    333\n",
       "GO         333\n",
       "dtype: int64"
      ]
     },
     "execution_count": 93,
     "metadata": {},
     "output_type": "execute_result"
    }
   ],
   "source": [
    "df_mf.count()"
   ]
  },
  {
   "cell_type": "code",
   "execution_count": 94,
   "id": "convinced-ferry",
   "metadata": {},
   "outputs": [
    {
     "data": {
      "text/html": [
       "<div>\n",
       "<style scoped>\n",
       "    .dataframe tbody tr th:only-of-type {\n",
       "        vertical-align: middle;\n",
       "    }\n",
       "\n",
       "    .dataframe tbody tr th {\n",
       "        vertical-align: top;\n",
       "    }\n",
       "\n",
       "    .dataframe thead th {\n",
       "        text-align: right;\n",
       "    }\n",
       "</style>\n",
       "<table border=\"1\" class=\"dataframe\">\n",
       "  <thead>\n",
       "    <tr style=\"text-align: right;\">\n",
       "      <th></th>\n",
       "      <th>GO</th>\n",
       "      <th>count</th>\n",
       "      <th>term_type</th>\n",
       "    </tr>\n",
       "  </thead>\n",
       "  <tbody>\n",
       "    <tr>\n",
       "      <th>60</th>\n",
       "      <td>molecular_function</td>\n",
       "      <td>25</td>\n",
       "      <td>F</td>\n",
       "    </tr>\n",
       "    <tr>\n",
       "      <th>28</th>\n",
       "      <td>catalytic activity</td>\n",
       "      <td>20</td>\n",
       "      <td>F</td>\n",
       "    </tr>\n",
       "    <tr>\n",
       "      <th>24</th>\n",
       "      <td>binding</td>\n",
       "      <td>16</td>\n",
       "      <td>F</td>\n",
       "    </tr>\n",
       "    <tr>\n",
       "      <th>70</th>\n",
       "      <td>oxidoreductase activity</td>\n",
       "      <td>11</td>\n",
       "      <td>F</td>\n",
       "    </tr>\n",
       "    <tr>\n",
       "      <th>50</th>\n",
       "      <td>ion binding</td>\n",
       "      <td>10</td>\n",
       "      <td>F</td>\n",
       "    </tr>\n",
       "    <tr>\n",
       "      <th>42</th>\n",
       "      <td>heterocyclic compound binding</td>\n",
       "      <td>10</td>\n",
       "      <td>F</td>\n",
       "    </tr>\n",
       "    <tr>\n",
       "      <th>69</th>\n",
       "      <td>organic cyclic compound binding</td>\n",
       "      <td>10</td>\n",
       "      <td>F</td>\n",
       "    </tr>\n",
       "    <tr>\n",
       "      <th>68</th>\n",
       "      <td>nucleotide binding</td>\n",
       "      <td>9</td>\n",
       "      <td>F</td>\n",
       "    </tr>\n",
       "    <tr>\n",
       "      <th>66</th>\n",
       "      <td>nucleoside phosphate binding</td>\n",
       "      <td>9</td>\n",
       "      <td>F</td>\n",
       "    </tr>\n",
       "    <tr>\n",
       "      <th>102</th>\n",
       "      <td>small molecule binding</td>\n",
       "      <td>9</td>\n",
       "      <td>F</td>\n",
       "    </tr>\n",
       "    <tr>\n",
       "      <th>23</th>\n",
       "      <td>anion binding</td>\n",
       "      <td>8</td>\n",
       "      <td>F</td>\n",
       "    </tr>\n",
       "    <tr>\n",
       "      <th>32</th>\n",
       "      <td>cofactor binding</td>\n",
       "      <td>7</td>\n",
       "      <td>F</td>\n",
       "    </tr>\n",
       "    <tr>\n",
       "      <th>31</th>\n",
       "      <td>coenzyme binding</td>\n",
       "      <td>7</td>\n",
       "      <td>F</td>\n",
       "    </tr>\n",
       "    <tr>\n",
       "      <th>37</th>\n",
       "      <td>flavin adenine dinucleotide binding</td>\n",
       "      <td>5</td>\n",
       "      <td>F</td>\n",
       "    </tr>\n",
       "    <tr>\n",
       "      <th>44</th>\n",
       "      <td>hydrolase activity</td>\n",
       "      <td>5</td>\n",
       "      <td>F</td>\n",
       "    </tr>\n",
       "    <tr>\n",
       "      <th>112</th>\n",
       "      <td>transporter activity</td>\n",
       "      <td>4</td>\n",
       "      <td>F</td>\n",
       "    </tr>\n",
       "    <tr>\n",
       "      <th>111</th>\n",
       "      <td>transmembrane transporter activity</td>\n",
       "      <td>4</td>\n",
       "      <td>F</td>\n",
       "    </tr>\n",
       "    <tr>\n",
       "      <th>45</th>\n",
       "      <td>hydrolase activity, acting on acid anhydrides</td>\n",
       "      <td>3</td>\n",
       "      <td>F</td>\n",
       "    </tr>\n",
       "    <tr>\n",
       "      <th>46</th>\n",
       "      <td>hydrolase activity, acting on acid anhydrides,...</td>\n",
       "      <td>3</td>\n",
       "      <td>F</td>\n",
       "    </tr>\n",
       "    <tr>\n",
       "      <th>91</th>\n",
       "      <td>purine ribonucleoside binding</td>\n",
       "      <td>3</td>\n",
       "      <td>F</td>\n",
       "    </tr>\n",
       "  </tbody>\n",
       "</table>\n",
       "</div>"
      ],
      "text/plain": [
       "                                                    GO  count term_type\n",
       "60                                  molecular_function     25         F\n",
       "28                                  catalytic activity     20         F\n",
       "24                                             binding     16         F\n",
       "70                             oxidoreductase activity     11         F\n",
       "50                                         ion binding     10         F\n",
       "42                       heterocyclic compound binding     10         F\n",
       "69                     organic cyclic compound binding     10         F\n",
       "68                                  nucleotide binding      9         F\n",
       "66                        nucleoside phosphate binding      9         F\n",
       "102                             small molecule binding      9         F\n",
       "23                                       anion binding      8         F\n",
       "32                                    cofactor binding      7         F\n",
       "31                                    coenzyme binding      7         F\n",
       "37                 flavin adenine dinucleotide binding      5         F\n",
       "44                                  hydrolase activity      5         F\n",
       "112                               transporter activity      4         F\n",
       "111                 transmembrane transporter activity      4         F\n",
       "45       hydrolase activity, acting on acid anhydrides      3         F\n",
       "46   hydrolase activity, acting on acid anhydrides,...      3         F\n",
       "91                       purine ribonucleoside binding      3         F"
      ]
     },
     "execution_count": 94,
     "metadata": {},
     "output_type": "execute_result"
    }
   ],
   "source": [
    "count = df_mf.groupby(['GO']).size().reset_index(name = 'count')\n",
    "count_mf = count.sort_values(by = 'count', ascending = False)\n",
    "count_mf['term_type'] = 'F'\n",
    "count_mf.head(20)"
   ]
  },
  {
   "cell_type": "markdown",
   "id": "fantastic-identity",
   "metadata": {},
   "source": [
    "* CC"
   ]
  },
  {
   "cell_type": "code",
   "execution_count": 95,
   "id": "amino-withdrawal",
   "metadata": {},
   "outputs": [],
   "source": [
    "ID = df_GO['Gene_ID']\n",
    "CC = df_GO['CC'].str.split('//', 1000, expand = True)\n",
    "GO_CC = pd.concat([ID, CC], axis =1)"
   ]
  },
  {
   "cell_type": "code",
   "execution_count": 96,
   "id": "regional-ghost",
   "metadata": {},
   "outputs": [
    {
     "data": {
      "text/html": [
       "<div>\n",
       "<style scoped>\n",
       "    .dataframe tbody tr th:only-of-type {\n",
       "        vertical-align: middle;\n",
       "    }\n",
       "\n",
       "    .dataframe tbody tr th {\n",
       "        vertical-align: top;\n",
       "    }\n",
       "\n",
       "    .dataframe thead th {\n",
       "        text-align: right;\n",
       "    }\n",
       "</style>\n",
       "<table border=\"1\" class=\"dataframe\">\n",
       "  <thead>\n",
       "    <tr style=\"text-align: right;\">\n",
       "      <th></th>\n",
       "      <th>Gene_ID</th>\n",
       "      <th>GO</th>\n",
       "    </tr>\n",
       "  </thead>\n",
       "  <tbody>\n",
       "    <tr>\n",
       "      <th>0</th>\n",
       "      <td>mRNA_10037</td>\n",
       "      <td>--</td>\n",
       "    </tr>\n",
       "    <tr>\n",
       "      <th>1</th>\n",
       "      <td>mRNA_10198</td>\n",
       "      <td>extracellular region</td>\n",
       "    </tr>\n",
       "    <tr>\n",
       "      <th>2</th>\n",
       "      <td>mRNA_10347</td>\n",
       "      <td>--</td>\n",
       "    </tr>\n",
       "    <tr>\n",
       "      <th>3</th>\n",
       "      <td>mRNA_1128</td>\n",
       "      <td>intrinsic component of membrane</td>\n",
       "    </tr>\n",
       "    <tr>\n",
       "      <th>4</th>\n",
       "      <td>mRNA_1402</td>\n",
       "      <td>--</td>\n",
       "    </tr>\n",
       "  </tbody>\n",
       "</table>\n",
       "</div>"
      ],
      "text/plain": [
       "      Gene_ID                               GO\n",
       "0  mRNA_10037                               --\n",
       "1  mRNA_10198             extracellular region\n",
       "2  mRNA_10347                               --\n",
       "3   mRNA_1128  intrinsic component of membrane\n",
       "4   mRNA_1402                               --"
      ]
     },
     "execution_count": 96,
     "metadata": {},
     "output_type": "execute_result"
    }
   ],
   "source": [
    "melt_CC= GO_CC.melt(id_vars = ['Gene_ID'], value_name = 'GO')\n",
    "melt_CC = melt_CC.drop(['variable'], axis =1)\n",
    "melt_CC.head()"
   ]
  },
  {
   "cell_type": "code",
   "execution_count": 97,
   "id": "diverse-parade",
   "metadata": {},
   "outputs": [
    {
     "data": {
      "text/plain": [
       "Gene_ID    896\n",
       "GO          92\n",
       "dtype: int64"
      ]
     },
     "execution_count": 97,
     "metadata": {},
     "output_type": "execute_result"
    }
   ],
   "source": [
    "melt_CC.count()"
   ]
  },
  {
   "cell_type": "code",
   "execution_count": 98,
   "id": "august-partition",
   "metadata": {},
   "outputs": [],
   "source": [
    "nan_value = float(\"NaN\")\n",
    "melt_CC['GO'].replace(\"--\", nan_value, inplace=True)\n",
    "melt_CC.dropna(subset = [\"GO\"], inplace=True)"
   ]
  },
  {
   "cell_type": "code",
   "execution_count": 99,
   "id": "fancy-advertiser",
   "metadata": {},
   "outputs": [],
   "source": [
    "df_cc = melt_CC[melt_CC['GO'].astype(bool)]"
   ]
  },
  {
   "cell_type": "code",
   "execution_count": 100,
   "id": "julian-boost",
   "metadata": {},
   "outputs": [
    {
     "data": {
      "text/plain": [
       "Gene_ID    74\n",
       "GO         74\n",
       "dtype: int64"
      ]
     },
     "execution_count": 100,
     "metadata": {},
     "output_type": "execute_result"
    }
   ],
   "source": [
    "df_cc.count()"
   ]
  },
  {
   "cell_type": "markdown",
   "id": "allied-mirror",
   "metadata": {},
   "source": [
    "* Combine all three process"
   ]
  },
  {
   "cell_type": "code",
   "execution_count": 101,
   "id": "ambient-imperial",
   "metadata": {},
   "outputs": [
    {
     "data": {
      "text/html": [
       "<div>\n",
       "<style scoped>\n",
       "    .dataframe tbody tr th:only-of-type {\n",
       "        vertical-align: middle;\n",
       "    }\n",
       "\n",
       "    .dataframe tbody tr th {\n",
       "        vertical-align: top;\n",
       "    }\n",
       "\n",
       "    .dataframe thead th {\n",
       "        text-align: right;\n",
       "    }\n",
       "</style>\n",
       "<table border=\"1\" class=\"dataframe\">\n",
       "  <thead>\n",
       "    <tr style=\"text-align: right;\">\n",
       "      <th></th>\n",
       "      <th>GO</th>\n",
       "      <th>count</th>\n",
       "      <th>term_type</th>\n",
       "    </tr>\n",
       "  </thead>\n",
       "  <tbody>\n",
       "    <tr>\n",
       "      <th>7</th>\n",
       "      <td>cellular_component</td>\n",
       "      <td>10</td>\n",
       "      <td>C</td>\n",
       "    </tr>\n",
       "    <tr>\n",
       "      <th>18</th>\n",
       "      <td>membrane</td>\n",
       "      <td>6</td>\n",
       "      <td>C</td>\n",
       "    </tr>\n",
       "    <tr>\n",
       "      <th>19</th>\n",
       "      <td>membrane part</td>\n",
       "      <td>5</td>\n",
       "      <td>C</td>\n",
       "    </tr>\n",
       "    <tr>\n",
       "      <th>16</th>\n",
       "      <td>intrinsic component of membrane</td>\n",
       "      <td>5</td>\n",
       "      <td>C</td>\n",
       "    </tr>\n",
       "    <tr>\n",
       "      <th>9</th>\n",
       "      <td>integral component of membrane</td>\n",
       "      <td>5</td>\n",
       "      <td>C</td>\n",
       "    </tr>\n",
       "  </tbody>\n",
       "</table>\n",
       "</div>"
      ],
      "text/plain": [
       "                                 GO  count term_type\n",
       "7                cellular_component     10         C\n",
       "18                         membrane      6         C\n",
       "19                    membrane part      5         C\n",
       "16  intrinsic component of membrane      5         C\n",
       "9    integral component of membrane      5         C"
      ]
     },
     "execution_count": 101,
     "metadata": {},
     "output_type": "execute_result"
    }
   ],
   "source": [
    "count = df_cc.groupby(['GO']).size().reset_index(name = 'count')\n",
    "count_cc = count.sort_values(by = 'count', ascending = False)\n",
    "count_cc['term_type'] = 'C'\n",
    "count_cc.head()"
   ]
  },
  {
   "cell_type": "code",
   "execution_count": 102,
   "id": "moving-blank",
   "metadata": {},
   "outputs": [],
   "source": [
    "annot_all = pd.concat([count_bp, count_mf, count_cc])"
   ]
  },
  {
   "cell_type": "code",
   "execution_count": 103,
   "id": "typical-player",
   "metadata": {},
   "outputs": [
    {
     "data": {
      "text/plain": [
       "(302, 3)"
      ]
     },
     "execution_count": 103,
     "metadata": {},
     "output_type": "execute_result"
    }
   ],
   "source": [
    "annot_all.shape"
   ]
  },
  {
   "cell_type": "code",
   "execution_count": 104,
   "id": "ignored-wealth",
   "metadata": {},
   "outputs": [],
   "source": [
    "annot_all.to_csv('GOTerms_Vd_all.csv')"
   ]
  },
  {
   "cell_type": "code",
   "execution_count": null,
   "id": "unable-backup",
   "metadata": {},
   "outputs": [],
   "source": []
  },
  {
   "cell_type": "markdown",
   "id": "dramatic-infrastructure",
   "metadata": {},
   "source": [
    "### Graveyard"
   ]
  },
  {
   "cell_type": "code",
   "execution_count": null,
   "id": "funky-elimination",
   "metadata": {},
   "outputs": [],
   "source": [
    "degs = degs[degs['Comparison'] == '653v111']\n",
    "selected_degs = degs['Gene_ID'] \n",
    "selected_annot = annot[annot['Gene_ID'].isin(selected_degs)]"
   ]
  }
 ],
 "metadata": {
  "kernelspec": {
   "display_name": "Python 3",
   "language": "python",
   "name": "python3"
  },
  "language_info": {
   "codemirror_mode": {
    "name": "ipython",
    "version": 3
   },
   "file_extension": ".py",
   "mimetype": "text/x-python",
   "name": "python",
   "nbconvert_exporter": "python",
   "pygments_lexer": "ipython3",
   "version": "3.7.7"
  }
 },
 "nbformat": 4,
 "nbformat_minor": 5
}
