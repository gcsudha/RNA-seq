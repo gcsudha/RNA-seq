{
 "cells": [
  {
   "cell_type": "markdown",
   "id": "fantastic-carol",
   "metadata": {},
   "source": [
    "### *Verticillium dahliae*"
   ]
  },
  {
   "cell_type": "code",
   "execution_count": 22,
   "id": "yellow-irish",
   "metadata": {},
   "outputs": [],
   "source": [
    "import os\n",
    "import pandas as pd\n",
    "import numpy as np"
   ]
  },
  {
   "cell_type": "code",
   "execution_count": 23,
   "id": "developed-formation",
   "metadata": {},
   "outputs": [],
   "source": [
    "os.chdir('C:/Users/sudha.gcupadhaya/Desktop/RNA-seq/GO_Enrichment_Analysis/Vd/')\n",
    "degs = pd.read_csv('Fungal_genename.csv')\n",
    "annot = pd.read_csv('Vd_gene.goannot.csv')"
   ]
  },
  {
   "cell_type": "code",
   "execution_count": 24,
   "id": "governing-skiing",
   "metadata": {},
   "outputs": [
    {
     "data": {
      "text/plain": [
       "Index(['Gene_ID', 'biological_process', 'biological_process_description',\n",
       "       'cellular_component', 'cellular_component_description',\n",
       "       'molecular_function', 'molecular_function_description'],\n",
       "      dtype='object')"
      ]
     },
     "execution_count": 24,
     "metadata": {},
     "output_type": "execute_result"
    }
   ],
   "source": [
    "selected_annot = annot[annot['Gene_ID'].isin(degs['Gene_ID'])]\n",
    "selected_annot.columns"
   ]
  },
  {
   "cell_type": "code",
   "execution_count": 25,
   "id": "enhanced-edgar",
   "metadata": {},
   "outputs": [
    {
     "data": {
      "text/plain": [
       "(28, 4)"
      ]
     },
     "execution_count": 25,
     "metadata": {},
     "output_type": "execute_result"
    }
   ],
   "source": [
    "df_GO = selected_annot[['Gene_ID', 'biological_process_description', 'molecular_function_description', 'cellular_component_description']]\n",
    "df_GO.columns = ['Gene_ID', 'BP', 'MF', 'CC']\n",
    "df_GO.shape"
   ]
  },
  {
   "cell_type": "markdown",
   "id": "mineral-advance",
   "metadata": {},
   "source": [
    "* BP"
   ]
  },
  {
   "cell_type": "code",
   "execution_count": 26,
   "id": "realistic-privacy",
   "metadata": {},
   "outputs": [],
   "source": [
    "ID = df_GO['Gene_ID']\n",
    "BP = df_GO['BP'].str.split('//', 1000, expand = True)\n",
    "GO_BP = pd.concat([ID, BP], axis =1)"
   ]
  },
  {
   "cell_type": "code",
   "execution_count": 27,
   "id": "silent-fever",
   "metadata": {},
   "outputs": [
    {
     "name": "stdout",
     "output_type": "stream",
     "text": [
      "Gene_ID    2520\n",
      "GO          538\n",
      "dtype: int64\n"
     ]
    },
    {
     "data": {
      "text/html": [
       "<div>\n",
       "<style scoped>\n",
       "    .dataframe tbody tr th:only-of-type {\n",
       "        vertical-align: middle;\n",
       "    }\n",
       "\n",
       "    .dataframe tbody tr th {\n",
       "        vertical-align: top;\n",
       "    }\n",
       "\n",
       "    .dataframe thead th {\n",
       "        text-align: right;\n",
       "    }\n",
       "</style>\n",
       "<table border=\"1\" class=\"dataframe\">\n",
       "  <thead>\n",
       "    <tr style=\"text-align: right;\">\n",
       "      <th></th>\n",
       "      <th>Gene_ID</th>\n",
       "      <th>GO</th>\n",
       "    </tr>\n",
       "  </thead>\n",
       "  <tbody>\n",
       "    <tr>\n",
       "      <th>0</th>\n",
       "      <td>mRNA_10037</td>\n",
       "      <td>biological_process</td>\n",
       "    </tr>\n",
       "    <tr>\n",
       "      <th>1</th>\n",
       "      <td>mRNA_10198</td>\n",
       "      <td>carbohydrate derivative metabolic process</td>\n",
       "    </tr>\n",
       "    <tr>\n",
       "      <th>2</th>\n",
       "      <td>mRNA_10347</td>\n",
       "      <td>metabolic process</td>\n",
       "    </tr>\n",
       "    <tr>\n",
       "      <th>3</th>\n",
       "      <td>mRNA_1128</td>\n",
       "      <td>single-organism process</td>\n",
       "    </tr>\n",
       "    <tr>\n",
       "      <th>4</th>\n",
       "      <td>mRNA_1402</td>\n",
       "      <td>glutamine biosynthetic process</td>\n",
       "    </tr>\n",
       "  </tbody>\n",
       "</table>\n",
       "</div>"
      ],
      "text/plain": [
       "      Gene_ID                                         GO\n",
       "0  mRNA_10037                         biological_process\n",
       "1  mRNA_10198  carbohydrate derivative metabolic process\n",
       "2  mRNA_10347                          metabolic process\n",
       "3   mRNA_1128                    single-organism process\n",
       "4   mRNA_1402             glutamine biosynthetic process"
      ]
     },
     "execution_count": 27,
     "metadata": {},
     "output_type": "execute_result"
    }
   ],
   "source": [
    "melt_BP= GO_BP.melt(id_vars = ['Gene_ID'], value_name = 'GO')\n",
    "melt_BP = melt_BP.drop(['variable'], axis =1)\n",
    "print(melt_BP.count())\n",
    "melt_BP.head()"
   ]
  },
  {
   "cell_type": "code",
   "execution_count": 28,
   "id": "junior-nudist",
   "metadata": {},
   "outputs": [
    {
     "data": {
      "text/plain": [
       "Gene_ID    535\n",
       "GO         535\n",
       "dtype: int64"
      ]
     },
     "execution_count": 28,
     "metadata": {},
     "output_type": "execute_result"
    }
   ],
   "source": [
    "nan_value = float(\"NaN\")\n",
    "melt_BP['GO'].replace(\"--\", nan_value, inplace=True)\n",
    "melt_BP.dropna(subset = [\"GO\"], inplace=True)\n",
    "df_bp = melt_BP[melt_BP['GO'].astype(bool)]\n",
    "df_bp.count()"
   ]
  },
  {
   "cell_type": "code",
   "execution_count": 29,
   "id": "planned-resolution",
   "metadata": {},
   "outputs": [
    {
     "data": {
      "text/html": [
       "<div>\n",
       "<style scoped>\n",
       "    .dataframe tbody tr th:only-of-type {\n",
       "        vertical-align: middle;\n",
       "    }\n",
       "\n",
       "    .dataframe tbody tr th {\n",
       "        vertical-align: top;\n",
       "    }\n",
       "\n",
       "    .dataframe thead th {\n",
       "        text-align: right;\n",
       "    }\n",
       "</style>\n",
       "<table border=\"1\" class=\"dataframe\">\n",
       "  <thead>\n",
       "    <tr style=\"text-align: right;\">\n",
       "      <th></th>\n",
       "      <th>GO</th>\n",
       "      <th>count</th>\n",
       "      <th>term_type</th>\n",
       "    </tr>\n",
       "  </thead>\n",
       "  <tbody>\n",
       "    <tr>\n",
       "      <th>11</th>\n",
       "      <td>biological_process</td>\n",
       "      <td>25</td>\n",
       "      <td>P</td>\n",
       "    </tr>\n",
       "    <tr>\n",
       "      <th>65</th>\n",
       "      <td>metabolic process</td>\n",
       "      <td>21</td>\n",
       "      <td>P</td>\n",
       "    </tr>\n",
       "    <tr>\n",
       "      <th>127</th>\n",
       "      <td>single-organism process</td>\n",
       "      <td>19</td>\n",
       "      <td>P</td>\n",
       "    </tr>\n",
       "    <tr>\n",
       "      <th>126</th>\n",
       "      <td>single-organism metabolic process</td>\n",
       "      <td>16</td>\n",
       "      <td>P</td>\n",
       "    </tr>\n",
       "    <tr>\n",
       "      <th>35</th>\n",
       "      <td>cellular process</td>\n",
       "      <td>12</td>\n",
       "      <td>P</td>\n",
       "    </tr>\n",
       "  </tbody>\n",
       "</table>\n",
       "</div>"
      ],
      "text/plain": [
       "                                    GO  count term_type\n",
       "11                  biological_process     25         P\n",
       "65                   metabolic process     21         P\n",
       "127            single-organism process     19         P\n",
       "126  single-organism metabolic process     16         P\n",
       "35                    cellular process     12         P"
      ]
     },
     "execution_count": 29,
     "metadata": {},
     "output_type": "execute_result"
    }
   ],
   "source": [
    "count = df_bp.groupby(['GO']).size().reset_index(name = 'count')\n",
    "count_bp = count.sort_values(by = 'count', ascending = False)\n",
    "count_bp['term_type'] = 'P'\n",
    "count_bp.head()"
   ]
  },
  {
   "cell_type": "markdown",
   "id": "north-superior",
   "metadata": {},
   "source": [
    "* MF"
   ]
  },
  {
   "cell_type": "code",
   "execution_count": 30,
   "id": "molecular-poverty",
   "metadata": {},
   "outputs": [],
   "source": [
    "ID = df_GO['Gene_ID']\n",
    "MF = df_GO['MF'].str.split('//', 1000, expand = True)\n",
    "GO_MF = pd.concat([ID, MF], axis =1)"
   ]
  },
  {
   "cell_type": "code",
   "execution_count": 31,
   "id": "practical-rebel",
   "metadata": {},
   "outputs": [
    {
     "name": "stdout",
     "output_type": "stream",
     "text": [
      "Gene_ID    1400\n",
      "GO          336\n",
      "dtype: int64\n"
     ]
    },
    {
     "data": {
      "text/html": [
       "<div>\n",
       "<style scoped>\n",
       "    .dataframe tbody tr th:only-of-type {\n",
       "        vertical-align: middle;\n",
       "    }\n",
       "\n",
       "    .dataframe tbody tr th {\n",
       "        vertical-align: top;\n",
       "    }\n",
       "\n",
       "    .dataframe thead th {\n",
       "        text-align: right;\n",
       "    }\n",
       "</style>\n",
       "<table border=\"1\" class=\"dataframe\">\n",
       "  <thead>\n",
       "    <tr style=\"text-align: right;\">\n",
       "      <th></th>\n",
       "      <th>Gene_ID</th>\n",
       "      <th>GO</th>\n",
       "    </tr>\n",
       "  </thead>\n",
       "  <tbody>\n",
       "    <tr>\n",
       "      <th>0</th>\n",
       "      <td>mRNA_10037</td>\n",
       "      <td>--</td>\n",
       "    </tr>\n",
       "    <tr>\n",
       "      <th>1</th>\n",
       "      <td>mRNA_10198</td>\n",
       "      <td>peptidase activity</td>\n",
       "    </tr>\n",
       "    <tr>\n",
       "      <th>2</th>\n",
       "      <td>mRNA_10347</td>\n",
       "      <td>catalytic activity</td>\n",
       "    </tr>\n",
       "    <tr>\n",
       "      <th>3</th>\n",
       "      <td>mRNA_1128</td>\n",
       "      <td>organic cyclic compound binding</td>\n",
       "    </tr>\n",
       "    <tr>\n",
       "      <th>4</th>\n",
       "      <td>mRNA_1402</td>\n",
       "      <td>ammonia ligase activity</td>\n",
       "    </tr>\n",
       "  </tbody>\n",
       "</table>\n",
       "</div>"
      ],
      "text/plain": [
       "      Gene_ID                               GO\n",
       "0  mRNA_10037                               --\n",
       "1  mRNA_10198               peptidase activity\n",
       "2  mRNA_10347               catalytic activity\n",
       "3   mRNA_1128  organic cyclic compound binding\n",
       "4   mRNA_1402          ammonia ligase activity"
      ]
     },
     "execution_count": 31,
     "metadata": {},
     "output_type": "execute_result"
    }
   ],
   "source": [
    "melt_MF= GO_MF.melt(id_vars = ['Gene_ID'], value_name = 'GO')\n",
    "melt_MF = melt_MF.drop(['variable'], axis =1)\n",
    "print(melt_MF.count())\n",
    "melt_MF.head()"
   ]
  },
  {
   "cell_type": "code",
   "execution_count": 32,
   "id": "exclusive-firewall",
   "metadata": {},
   "outputs": [
    {
     "data": {
      "text/plain": [
       "Gene_ID    333\n",
       "GO         333\n",
       "dtype: int64"
      ]
     },
     "execution_count": 32,
     "metadata": {},
     "output_type": "execute_result"
    }
   ],
   "source": [
    "nan_value = float(\"NaN\")\n",
    "melt_MF['GO'].replace(\"--\", nan_value, inplace=True)\n",
    "melt_MF.dropna(subset = [\"GO\"], inplace=True)\n",
    "df_mf = melt_MF[melt_MF['GO'].astype(bool)]\n",
    "df_mf.count()"
   ]
  },
  {
   "cell_type": "code",
   "execution_count": 33,
   "id": "suspended-blank",
   "metadata": {},
   "outputs": [
    {
     "data": {
      "text/html": [
       "<div>\n",
       "<style scoped>\n",
       "    .dataframe tbody tr th:only-of-type {\n",
       "        vertical-align: middle;\n",
       "    }\n",
       "\n",
       "    .dataframe tbody tr th {\n",
       "        vertical-align: top;\n",
       "    }\n",
       "\n",
       "    .dataframe thead th {\n",
       "        text-align: right;\n",
       "    }\n",
       "</style>\n",
       "<table border=\"1\" class=\"dataframe\">\n",
       "  <thead>\n",
       "    <tr style=\"text-align: right;\">\n",
       "      <th></th>\n",
       "      <th>GO</th>\n",
       "      <th>count</th>\n",
       "      <th>term_type</th>\n",
       "    </tr>\n",
       "  </thead>\n",
       "  <tbody>\n",
       "    <tr>\n",
       "      <th>60</th>\n",
       "      <td>molecular_function</td>\n",
       "      <td>25</td>\n",
       "      <td>F</td>\n",
       "    </tr>\n",
       "    <tr>\n",
       "      <th>28</th>\n",
       "      <td>catalytic activity</td>\n",
       "      <td>20</td>\n",
       "      <td>F</td>\n",
       "    </tr>\n",
       "    <tr>\n",
       "      <th>24</th>\n",
       "      <td>binding</td>\n",
       "      <td>16</td>\n",
       "      <td>F</td>\n",
       "    </tr>\n",
       "    <tr>\n",
       "      <th>70</th>\n",
       "      <td>oxidoreductase activity</td>\n",
       "      <td>11</td>\n",
       "      <td>F</td>\n",
       "    </tr>\n",
       "    <tr>\n",
       "      <th>50</th>\n",
       "      <td>ion binding</td>\n",
       "      <td>10</td>\n",
       "      <td>F</td>\n",
       "    </tr>\n",
       "  </tbody>\n",
       "</table>\n",
       "</div>"
      ],
      "text/plain": [
       "                         GO  count term_type\n",
       "60       molecular_function     25         F\n",
       "28       catalytic activity     20         F\n",
       "24                  binding     16         F\n",
       "70  oxidoreductase activity     11         F\n",
       "50              ion binding     10         F"
      ]
     },
     "execution_count": 33,
     "metadata": {},
     "output_type": "execute_result"
    }
   ],
   "source": [
    "count = df_mf.groupby(['GO']).size().reset_index(name = 'count')\n",
    "count_mf = count.sort_values(by = 'count', ascending = False)\n",
    "count_mf['term_type'] = 'F'\n",
    "count_mf.head()"
   ]
  },
  {
   "cell_type": "markdown",
   "id": "eastern-hawaii",
   "metadata": {},
   "source": [
    "* CC"
   ]
  },
  {
   "cell_type": "code",
   "execution_count": 34,
   "id": "registered-spoke",
   "metadata": {},
   "outputs": [],
   "source": [
    "ID = df_GO['Gene_ID']\n",
    "CC = df_GO['CC'].str.split('//', 1000, expand = True)\n",
    "GO_CC = pd.concat([ID, CC], axis =1)"
   ]
  },
  {
   "cell_type": "code",
   "execution_count": 35,
   "id": "cognitive-circulation",
   "metadata": {},
   "outputs": [
    {
     "name": "stdout",
     "output_type": "stream",
     "text": [
      "Gene_ID    896\n",
      "GO          92\n",
      "dtype: int64\n"
     ]
    },
    {
     "data": {
      "text/html": [
       "<div>\n",
       "<style scoped>\n",
       "    .dataframe tbody tr th:only-of-type {\n",
       "        vertical-align: middle;\n",
       "    }\n",
       "\n",
       "    .dataframe tbody tr th {\n",
       "        vertical-align: top;\n",
       "    }\n",
       "\n",
       "    .dataframe thead th {\n",
       "        text-align: right;\n",
       "    }\n",
       "</style>\n",
       "<table border=\"1\" class=\"dataframe\">\n",
       "  <thead>\n",
       "    <tr style=\"text-align: right;\">\n",
       "      <th></th>\n",
       "      <th>Gene_ID</th>\n",
       "      <th>GO</th>\n",
       "    </tr>\n",
       "  </thead>\n",
       "  <tbody>\n",
       "    <tr>\n",
       "      <th>0</th>\n",
       "      <td>mRNA_10037</td>\n",
       "      <td>--</td>\n",
       "    </tr>\n",
       "    <tr>\n",
       "      <th>1</th>\n",
       "      <td>mRNA_10198</td>\n",
       "      <td>extracellular region</td>\n",
       "    </tr>\n",
       "    <tr>\n",
       "      <th>2</th>\n",
       "      <td>mRNA_10347</td>\n",
       "      <td>--</td>\n",
       "    </tr>\n",
       "    <tr>\n",
       "      <th>3</th>\n",
       "      <td>mRNA_1128</td>\n",
       "      <td>intrinsic component of membrane</td>\n",
       "    </tr>\n",
       "    <tr>\n",
       "      <th>4</th>\n",
       "      <td>mRNA_1402</td>\n",
       "      <td>--</td>\n",
       "    </tr>\n",
       "  </tbody>\n",
       "</table>\n",
       "</div>"
      ],
      "text/plain": [
       "      Gene_ID                               GO\n",
       "0  mRNA_10037                               --\n",
       "1  mRNA_10198             extracellular region\n",
       "2  mRNA_10347                               --\n",
       "3   mRNA_1128  intrinsic component of membrane\n",
       "4   mRNA_1402                               --"
      ]
     },
     "execution_count": 35,
     "metadata": {},
     "output_type": "execute_result"
    }
   ],
   "source": [
    "melt_CC= GO_CC.melt(id_vars = ['Gene_ID'], value_name = 'GO')\n",
    "melt_CC = melt_CC.drop(['variable'], axis =1)\n",
    "print(melt_CC.count())\n",
    "melt_CC.head()"
   ]
  },
  {
   "cell_type": "code",
   "execution_count": 36,
   "id": "lonely-drama",
   "metadata": {},
   "outputs": [
    {
     "data": {
      "text/plain": [
       "Gene_ID    74\n",
       "GO         74\n",
       "dtype: int64"
      ]
     },
     "execution_count": 36,
     "metadata": {},
     "output_type": "execute_result"
    }
   ],
   "source": [
    "nan_value = float(\"NaN\")\n",
    "melt_CC['GO'].replace(\"--\", nan_value, inplace=True)\n",
    "melt_CC.dropna(subset = [\"GO\"], inplace=True)\n",
    "df_cc = melt_CC[melt_CC['GO'].astype(bool)]\n",
    "df_cc.count()"
   ]
  },
  {
   "cell_type": "code",
   "execution_count": 37,
   "id": "republican-poverty",
   "metadata": {},
   "outputs": [
    {
     "data": {
      "text/html": [
       "<div>\n",
       "<style scoped>\n",
       "    .dataframe tbody tr th:only-of-type {\n",
       "        vertical-align: middle;\n",
       "    }\n",
       "\n",
       "    .dataframe tbody tr th {\n",
       "        vertical-align: top;\n",
       "    }\n",
       "\n",
       "    .dataframe thead th {\n",
       "        text-align: right;\n",
       "    }\n",
       "</style>\n",
       "<table border=\"1\" class=\"dataframe\">\n",
       "  <thead>\n",
       "    <tr style=\"text-align: right;\">\n",
       "      <th></th>\n",
       "      <th>GO</th>\n",
       "      <th>count</th>\n",
       "      <th>term_type</th>\n",
       "    </tr>\n",
       "  </thead>\n",
       "  <tbody>\n",
       "    <tr>\n",
       "      <th>7</th>\n",
       "      <td>cellular_component</td>\n",
       "      <td>10</td>\n",
       "      <td>C</td>\n",
       "    </tr>\n",
       "    <tr>\n",
       "      <th>18</th>\n",
       "      <td>membrane</td>\n",
       "      <td>6</td>\n",
       "      <td>C</td>\n",
       "    </tr>\n",
       "    <tr>\n",
       "      <th>19</th>\n",
       "      <td>membrane part</td>\n",
       "      <td>5</td>\n",
       "      <td>C</td>\n",
       "    </tr>\n",
       "    <tr>\n",
       "      <th>16</th>\n",
       "      <td>intrinsic component of membrane</td>\n",
       "      <td>5</td>\n",
       "      <td>C</td>\n",
       "    </tr>\n",
       "    <tr>\n",
       "      <th>9</th>\n",
       "      <td>integral component of membrane</td>\n",
       "      <td>5</td>\n",
       "      <td>C</td>\n",
       "    </tr>\n",
       "  </tbody>\n",
       "</table>\n",
       "</div>"
      ],
      "text/plain": [
       "                                 GO  count term_type\n",
       "7                cellular_component     10         C\n",
       "18                         membrane      6         C\n",
       "19                    membrane part      5         C\n",
       "16  intrinsic component of membrane      5         C\n",
       "9    integral component of membrane      5         C"
      ]
     },
     "execution_count": 37,
     "metadata": {},
     "output_type": "execute_result"
    }
   ],
   "source": [
    "count = df_cc.groupby(['GO']).size().reset_index(name = 'count')\n",
    "count_cc = count.sort_values(by = 'count', ascending = False)\n",
    "count_cc['term_type'] = 'C'\n",
    "count_cc.head()"
   ]
  },
  {
   "cell_type": "markdown",
   "id": "driven-colonial",
   "metadata": {},
   "source": [
    "* Combine all three process"
   ]
  },
  {
   "cell_type": "code",
   "execution_count": 38,
   "id": "empirical-reality",
   "metadata": {},
   "outputs": [
    {
     "name": "stdout",
     "output_type": "stream",
     "text": [
      "(302, 3)\n"
     ]
    }
   ],
   "source": [
    "annot_all = pd.concat([count_bp, count_mf, count_cc])\n",
    "print(annot_all.shape)\n",
    "#annot_all.to_csv('GOTerms_Vd_all.csv')"
   ]
  },
  {
   "cell_type": "code",
   "execution_count": 39,
   "id": "timely-bearing",
   "metadata": {},
   "outputs": [
    {
     "data": {
      "text/html": [
       "<div>\n",
       "<style scoped>\n",
       "    .dataframe tbody tr th:only-of-type {\n",
       "        vertical-align: middle;\n",
       "    }\n",
       "\n",
       "    .dataframe tbody tr th {\n",
       "        vertical-align: top;\n",
       "    }\n",
       "\n",
       "    .dataframe thead th {\n",
       "        text-align: right;\n",
       "    }\n",
       "</style>\n",
       "<table border=\"1\" class=\"dataframe\">\n",
       "  <thead>\n",
       "    <tr style=\"text-align: right;\">\n",
       "      <th></th>\n",
       "      <th>GO</th>\n",
       "      <th>count</th>\n",
       "      <th>term_type</th>\n",
       "    </tr>\n",
       "  </thead>\n",
       "  <tbody>\n",
       "    <tr>\n",
       "      <th>11</th>\n",
       "      <td>biological_process</td>\n",
       "      <td>25</td>\n",
       "      <td>P</td>\n",
       "    </tr>\n",
       "    <tr>\n",
       "      <th>65</th>\n",
       "      <td>metabolic process</td>\n",
       "      <td>21</td>\n",
       "      <td>P</td>\n",
       "    </tr>\n",
       "    <tr>\n",
       "      <th>127</th>\n",
       "      <td>single-organism process</td>\n",
       "      <td>19</td>\n",
       "      <td>P</td>\n",
       "    </tr>\n",
       "    <tr>\n",
       "      <th>126</th>\n",
       "      <td>single-organism metabolic process</td>\n",
       "      <td>16</td>\n",
       "      <td>P</td>\n",
       "    </tr>\n",
       "    <tr>\n",
       "      <th>35</th>\n",
       "      <td>cellular process</td>\n",
       "      <td>12</td>\n",
       "      <td>P</td>\n",
       "    </tr>\n",
       "    <tr>\n",
       "      <th>...</th>\n",
       "      <td>...</td>\n",
       "      <td>...</td>\n",
       "      <td>...</td>\n",
       "    </tr>\n",
       "    <tr>\n",
       "      <th>13</th>\n",
       "      <td>intracellular organelle lumen</td>\n",
       "      <td>1</td>\n",
       "      <td>C</td>\n",
       "    </tr>\n",
       "    <tr>\n",
       "      <th>4</th>\n",
       "      <td>catalytic complex</td>\n",
       "      <td>1</td>\n",
       "      <td>C</td>\n",
       "    </tr>\n",
       "    <tr>\n",
       "      <th>3</th>\n",
       "      <td>RNA polymerase complex</td>\n",
       "      <td>1</td>\n",
       "      <td>C</td>\n",
       "    </tr>\n",
       "    <tr>\n",
       "      <th>2</th>\n",
       "      <td>RNA polymerase II transcription factor complex</td>\n",
       "      <td>1</td>\n",
       "      <td>C</td>\n",
       "    </tr>\n",
       "    <tr>\n",
       "      <th>36</th>\n",
       "      <td>transferase complex, transferring phosphorus-c...</td>\n",
       "      <td>1</td>\n",
       "      <td>C</td>\n",
       "    </tr>\n",
       "  </tbody>\n",
       "</table>\n",
       "<p>302 rows × 3 columns</p>\n",
       "</div>"
      ],
      "text/plain": [
       "                                                    GO  count term_type\n",
       "11                                  biological_process     25         P\n",
       "65                                   metabolic process     21         P\n",
       "127                            single-organism process     19         P\n",
       "126                  single-organism metabolic process     16         P\n",
       "35                                    cellular process     12         P\n",
       "..                                                 ...    ...       ...\n",
       "13                       intracellular organelle lumen      1         C\n",
       "4                                    catalytic complex      1         C\n",
       "3                               RNA polymerase complex      1         C\n",
       "2       RNA polymerase II transcription factor complex      1         C\n",
       "36   transferase complex, transferring phosphorus-c...      1         C\n",
       "\n",
       "[302 rows x 3 columns]"
      ]
     },
     "execution_count": 39,
     "metadata": {},
     "output_type": "execute_result"
    }
   ],
   "source": [
    "annot_all"
   ]
  },
  {
   "cell_type": "markdown",
   "id": "clinical-theory",
   "metadata": {},
   "source": [
    "### Graveyard"
   ]
  },
  {
   "cell_type": "code",
   "execution_count": null,
   "id": "streaming-hypothesis",
   "metadata": {},
   "outputs": [],
   "source": [
    "degs = degs[degs['Comparison'] == '653v111']\n",
    "selected_degs = degs['Gene_ID'] \n",
    "selected_annot = annot[annot['Gene_ID'].isin(selected_degs)]"
   ]
  }
 ],
 "metadata": {
  "kernelspec": {
   "display_name": "Python 3",
   "language": "python",
   "name": "python3"
  },
  "language_info": {
   "codemirror_mode": {
    "name": "ipython",
    "version": 3
   },
   "file_extension": ".py",
   "mimetype": "text/x-python",
   "name": "python",
   "nbconvert_exporter": "python",
   "pygments_lexer": "ipython3",
   "version": "3.7.7"
  }
 },
 "nbformat": 4,
 "nbformat_minor": 5
}
