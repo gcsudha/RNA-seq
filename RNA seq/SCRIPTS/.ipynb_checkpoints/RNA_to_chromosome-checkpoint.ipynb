{
 "cells": [
  {
   "cell_type": "markdown",
   "metadata": {},
   "source": [
    "<h1> <center> Insert Title </center></h1>         "
   ]
  },
  {
   "cell_type": "markdown",
   "metadata": {},
   "source": [
    "#### <h1> Authors: Sowmya Ramachandran </h1>         "
   ]
  },
  {
   "cell_type": "markdown",
   "metadata": {},
   "source": [
    "## Table of Contents: <a class=\"anchor\" id=\"toc-q\"></a>\n",
    "* [Objectives](#first-q)\n",
    "* [Hypotheses](#second-q)\n",
    "* [Experimental design](#third-q)\n",
    "* [Matierial and Methods](#fourth-q)\n",
    "* [Open data](#fifth-q)\n",
    "* [Curate data](#sixth-q)\n",
    "* [Summary statistics](#seventh-q)\n",
    "* [Exploratory data analyses](#eighth-q)\n",
    "* [Diagnostics](#nineth-q)\n",
    "* [Parametric analyses](#tenth-q)\n",
    "* [Visualization](#eleventh-q)\n",
    "* [Export data](#twelveth-q)\n",
    "* [Graveyard](#thirteenth-q)\n",
    "* [Resources](#fourteenth-q)"
   ]
  },
  {
   "cell_type": "markdown",
   "metadata": {},
   "source": [
    "### Objectives <a class=\"anchor\" id=\"first-q\"></a>  \n",
    "[Back to Table of Contents](#toc-q)"
   ]
  },
  {
   "cell_type": "markdown",
   "metadata": {},
   "source": [
    "* Objective"
   ]
  },
  {
   "cell_type": "markdown",
   "metadata": {},
   "source": [
    "### Hypotheses <a class=\"anchor\" id=\"second-q\"></a>  \n",
    "[Back to Table of Contents](#toc-q)"
   ]
  },
  {
   "cell_type": "markdown",
   "metadata": {},
   "source": [
    "* **Science Ho 1**:\n",
    "* **Science Ho 2**: \n",
    "* **Science Ho 3**: \n",
    "* **Statistical Ho 1-3**: "
   ]
  },
  {
   "cell_type": "markdown",
   "metadata": {},
   "source": [
    "### Experimental design<a class=\"anchor\" id=\"third-q\"></a>  \n",
    "[Back to Table of Contents](#toc-q)"
   ]
  },
  {
   "cell_type": "markdown",
   "metadata": {},
   "source": [
    "* **Treatment structure**: 2 way factorial\n",
    "    * **Independent variables**: \n",
    "    * **Dependent variables**:\n",
    "        \n",
    "* **Design structure**:  \n",
    "* **Observational unit**: \n",
    "* **Experimental unit**: \n",
    "* **Samples**: \n",
    "* **Data**: \n",
    "* **Analysis**:        "
   ]
  },
  {
   "cell_type": "markdown",
   "metadata": {},
   "source": [
    "### Material and Methods<a class=\"anchor\" id=\"fourth-q\"></a>  \n",
    "[Back to Table of Contents](#toc-q)"
   ]
  },
  {
   "cell_type": "code",
   "execution_count": null,
   "metadata": {},
   "outputs": [],
   "source": []
  },
  {
   "cell_type": "markdown",
   "metadata": {},
   "source": [
    "### Open data<a class=\"anchor\" id=\"fifth-q\"></a>  \n",
    "[Back to Table of Contents](#toc-q)"
   ]
  },
  {
   "cell_type": "markdown",
   "metadata": {},
   "source": [
    "* **Install and invoke packages**"
   ]
  },
  {
   "cell_type": "markdown",
   "metadata": {},
   "source": [
    "> * Install"
   ]
  },
  {
   "cell_type": "code",
   "execution_count": 1,
   "metadata": {
    "scrolled": true
   },
   "outputs": [
    {
     "name": "stdout",
     "output_type": "stream",
     "text": [
      "Requirement already satisfied: pandas in /anaconda3/lib/python3.7/site-packages (0.23.4)\n",
      "Requirement already satisfied: python-dateutil>=2.5.0 in /anaconda3/lib/python3.7/site-packages (from pandas) (2.7.5)\n",
      "Requirement already satisfied: pytz>=2011k in /anaconda3/lib/python3.7/site-packages (from pandas) (2018.7)\n",
      "Requirement already satisfied: numpy>=1.9.0 in /anaconda3/lib/python3.7/site-packages (from pandas) (1.15.4)\n",
      "Requirement already satisfied: six>=1.5 in /anaconda3/lib/python3.7/site-packages (from python-dateutil>=2.5.0->pandas) (1.12.0)\n"
     ]
    }
   ],
   "source": [
    "!pip install pandas # JUST DO THIS ONCE!!!"
   ]
  },
  {
   "cell_type": "markdown",
   "metadata": {},
   "source": [
    "> * Import"
   ]
  },
  {
   "cell_type": "code",
   "execution_count": 4,
   "metadata": {},
   "outputs": [],
   "source": [
    "import pandas as pd # import pandas and rename pd"
   ]
  },
  {
   "cell_type": "markdown",
   "metadata": {},
   "source": [
    "* Grab current working directory"
   ]
  },
  {
   "cell_type": "code",
   "execution_count": 3,
   "metadata": {},
   "outputs": [
    {
     "data": {
      "text/plain": [
       "'/Users/davidwheeler/Desktop/RESEARCH/Data/TRANSCRIPTOMICS/SCRIPTS'"
      ]
     },
     "execution_count": 3,
     "metadata": {},
     "output_type": "execute_result"
    }
   ],
   "source": [
    "%pwd"
   ]
  },
  {
   "cell_type": "markdown",
   "metadata": {},
   "source": [
    "* Set working directory"
   ]
  },
  {
   "cell_type": "code",
   "execution_count": 5,
   "metadata": {},
   "outputs": [
    {
     "name": "stdout",
     "output_type": "stream",
     "text": [
      "/Users/davidwheeler/Downloads\n"
     ]
    }
   ],
   "source": [
    "%cd /Users/davidwheeler/Downloads"
   ]
  },
  {
   "cell_type": "code",
   "execution_count": 6,
   "metadata": {},
   "outputs": [
    {
     "data": {
      "text/plain": [
       "'/Users/davidwheeler/Downloads'"
      ]
     },
     "execution_count": 6,
     "metadata": {},
     "output_type": "execute_result"
    }
   ],
   "source": [
    "%pwd"
   ]
  },
  {
   "cell_type": "code",
   "execution_count": 7,
   "metadata": {},
   "outputs": [
    {
     "name": "stdout",
     "output_type": "stream",
     "text": [
      "2013 WSJRC Progress Report - Panella - Development And Testing Of Sugar Beet Germplasm For Fusarium Resistance.pdf\r\n",
      "2013 Western Sugar Rhizoctonia Reportfinal .pdf\r\n",
      "2016 01-25 WSJRC Report on Development and Testing of Fusarium Resistant Germplasm.pdf\r\n",
      "ABD_genomiclocations_knownmiRNAs.txt\r\n",
      "AdobeConnect_2019.1.1 (1).dmg\r\n",
      "AdobeConnect_2019.1.1.dmg\r\n",
      "Essa_Lin_Wheeler_lab_2_Final.ipynb\r\n",
      "Feeling_Thermometer.png\r\n",
      "Party_ID.png\r\n",
      "RStudio-1.1.463.dmg\r\n",
      "Skype-8.41.0.54.dmg\r\n",
      "Slack-3.3.8.dmg\r\n",
      "anes_pilot_2018.csv\r\n",
      "unit_2_ls_inst.ipynb\r\n"
     ]
    }
   ],
   "source": [
    "%ls # there she is!"
   ]
  },
  {
   "cell_type": "markdown",
   "metadata": {},
   "source": [
    "* **Open data**"
   ]
  },
  {
   "cell_type": "markdown",
   "metadata": {},
   "source": [
    "* Inspect the data frame"
   ]
  },
  {
   "cell_type": "code",
   "execution_count": 26,
   "metadata": {},
   "outputs": [],
   "source": [
    "df = pd.read_csv('ABD_genomiclocations_knownmiRNAs.csv',header=0)"
   ]
  },
  {
   "cell_type": "code",
   "execution_count": 27,
   "metadata": {},
   "outputs": [
    {
     "data": {
      "text/html": [
       "<div>\n",
       "<style scoped>\n",
       "    .dataframe tbody tr th:only-of-type {\n",
       "        vertical-align: middle;\n",
       "    }\n",
       "\n",
       "    .dataframe tbody tr th {\n",
       "        vertical-align: top;\n",
       "    }\n",
       "\n",
       "    .dataframe thead th {\n",
       "        text-align: right;\n",
       "    }\n",
       "</style>\n",
       "<table border=\"1\" class=\"dataframe\">\n",
       "  <thead>\n",
       "    <tr style=\"text-align: right;\">\n",
       "      <th></th>\n",
       "      <th>Id100001_x28\t24\t1..24\tta_iwgsc_5al_v1_434810\t763\t242..265\t1e-04\t1.00\t42.1\tPlus / Plus</th>\n",
       "    </tr>\n",
       "  </thead>\n",
       "  <tbody>\n",
       "    <tr>\n",
       "      <th>0</th>\n",
       "      <td>Id100003_x12\\t24\\t1..24\\tta_iwgsc_6al_v1_57691...</td>\n",
       "    </tr>\n",
       "    <tr>\n",
       "      <th>1</th>\n",
       "      <td>Id100003_x12\\t24\\t1..24\\tta_iwgsc_7as_v1_42550...</td>\n",
       "    </tr>\n",
       "    <tr>\n",
       "      <th>2</th>\n",
       "      <td>Id100003_x12\\t24\\t1..24\\tta_iwgsc_5al_v1_16119...</td>\n",
       "    </tr>\n",
       "    <tr>\n",
       "      <th>3</th>\n",
       "      <td>Id100003_x12\\t24\\t1..24\\tta_iwgsc_5al_v1_16119...</td>\n",
       "    </tr>\n",
       "    <tr>\n",
       "      <th>4</th>\n",
       "      <td>Id100003_x12\\t24\\t1..24\\tta_iwgsc_1al_v2_39727...</td>\n",
       "    </tr>\n",
       "  </tbody>\n",
       "</table>\n",
       "</div>"
      ],
      "text/plain": [
       "  Id100001_x28\\t24\\t1..24\\tta_iwgsc_5al_v1_434810\\t763\\t242..265\\t1e-04\\t1.00\\t42.1\\tPlus / Plus\n",
       "0  Id100003_x12\\t24\\t1..24\\tta_iwgsc_6al_v1_57691...                                            \n",
       "1  Id100003_x12\\t24\\t1..24\\tta_iwgsc_7as_v1_42550...                                            \n",
       "2  Id100003_x12\\t24\\t1..24\\tta_iwgsc_5al_v1_16119...                                            \n",
       "3  Id100003_x12\\t24\\t1..24\\tta_iwgsc_5al_v1_16119...                                            \n",
       "4  Id100003_x12\\t24\\t1..24\\tta_iwgsc_1al_v2_39727...                                            "
      ]
     },
     "execution_count": 27,
     "metadata": {},
     "output_type": "execute_result"
    }
   ],
   "source": [
    "df.head()"
   ]
  },
  {
   "cell_type": "markdown",
   "metadata": {},
   "source": [
    "### Curate data<a class=\"anchor\" id=\"sixth-q\"></a>  \n",
    "[Back to Table of Contents](#toc-q)"
   ]
  },
  {
   "cell_type": "code",
   "execution_count": null,
   "metadata": {},
   "outputs": [],
   "source": []
  },
  {
   "cell_type": "markdown",
   "metadata": {},
   "source": [
    "### Summary Statistics<a class=\"anchor\" id=\"seventh-q\"></a>  \n",
    "[Back to Table of Contents](#toc-q)"
   ]
  },
  {
   "cell_type": "code",
   "execution_count": null,
   "metadata": {},
   "outputs": [],
   "source": []
  },
  {
   "cell_type": "markdown",
   "metadata": {},
   "source": [
    "### Exploratory data analyses<a class=\"anchor\" id=\"eighth-q\"></a>  \n",
    "[Back to Table of Contents](#toc-q)"
   ]
  },
  {
   "cell_type": "code",
   "execution_count": null,
   "metadata": {},
   "outputs": [],
   "source": []
  },
  {
   "cell_type": "markdown",
   "metadata": {},
   "source": [
    "### Diagnostics<a class=\"anchor\" id=\"nineth-q\"></a>  \n",
    "[Back to Table of Contents](#toc-q)"
   ]
  },
  {
   "cell_type": "code",
   "execution_count": null,
   "metadata": {},
   "outputs": [],
   "source": []
  },
  {
   "cell_type": "markdown",
   "metadata": {},
   "source": [
    "### Parametric analysis: <a class=\"anchor\" id=\"tenth-q\"></a>  \n",
    "[Back to Table of Contents](#toc-q)"
   ]
  },
  {
   "cell_type": "code",
   "execution_count": null,
   "metadata": {},
   "outputs": [],
   "source": []
  },
  {
   "cell_type": "markdown",
   "metadata": {},
   "source": [
    "### Visualization<a class=\"anchor\" id=\"eleventh-q\"></a>  \n",
    "[Back to Table of Contents](#toc-q)"
   ]
  },
  {
   "cell_type": "code",
   "execution_count": null,
   "metadata": {},
   "outputs": [],
   "source": []
  },
  {
   "cell_type": "markdown",
   "metadata": {},
   "source": [
    "### Export data<a class=\"anchor\" id=\"twelveth-q\"></a>  \n",
    "[Back to Table of Contents](#toc-q)"
   ]
  },
  {
   "cell_type": "code",
   "execution_count": null,
   "metadata": {},
   "outputs": [],
   "source": []
  },
  {
   "cell_type": "markdown",
   "metadata": {},
   "source": [
    "### Graveyard<a class=\"anchor\" id=\"thirteenth-q\"></a>  \n",
    "[Back to Table of Contents](#toc-q)"
   ]
  },
  {
   "cell_type": "code",
   "execution_count": null,
   "metadata": {},
   "outputs": [],
   "source": []
  },
  {
   "cell_type": "markdown",
   "metadata": {},
   "source": [
    "### Resources<a class=\"anchor\" id=\"fourteenth-q\"></a>  \n",
    "[Back to Table of Contents](#toc-q)"
   ]
  },
  {
   "cell_type": "code",
   "execution_count": null,
   "metadata": {},
   "outputs": [],
   "source": []
  }
 ],
 "metadata": {
  "kernelspec": {
   "display_name": "Python 3",
   "language": "python",
   "name": "python3"
  },
  "language_info": {
   "codemirror_mode": {
    "name": "ipython",
    "version": 3
   },
   "file_extension": ".py",
   "mimetype": "text/x-python",
   "name": "python",
   "nbconvert_exporter": "python",
   "pygments_lexer": "ipython3",
   "version": "3.7.1"
  }
 },
 "nbformat": 4,
 "nbformat_minor": 2
}
