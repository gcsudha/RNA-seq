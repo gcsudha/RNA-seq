{
 "cells": [
  {
   "cell_type": "code",
   "execution_count": 2,
   "metadata": {},
   "outputs": [
    {
     "name": "stderr",
     "output_type": "stream",
     "text": [
      "Loading required package: SummarizedExperiment\n",
      "Loading required package: GenomicRanges\n",
      "Loading required package: stats4\n",
      "Loading required package: BiocGenerics\n",
      "Loading required package: parallel\n",
      "\n",
      "Attaching package: ‘BiocGenerics’\n",
      "\n",
      "The following objects are masked from ‘package:parallel’:\n",
      "\n",
      "    clusterApply, clusterApplyLB, clusterCall, clusterEvalQ,\n",
      "    clusterExport, clusterMap, parApply, parCapply, parLapply,\n",
      "    parLapplyLB, parRapply, parSapply, parSapplyLB\n",
      "\n",
      "The following objects are masked from ‘package:stats’:\n",
      "\n",
      "    IQR, mad, sd, var, xtabs\n",
      "\n",
      "The following objects are masked from ‘package:base’:\n",
      "\n",
      "    anyDuplicated, append, as.data.frame, basename, cbind, colMeans,\n",
      "    colnames, colSums, dirname, do.call, duplicated, eval, evalq,\n",
      "    Filter, Find, get, grep, grepl, intersect, is.unsorted, lapply,\n",
      "    lengths, Map, mapply, match, mget, order, paste, pmax, pmax.int,\n",
      "    pmin, pmin.int, Position, rank, rbind, Reduce, rowMeans, rownames,\n",
      "    rowSums, sapply, setdiff, sort, table, tapply, union, unique,\n",
      "    unsplit, which, which.max, which.min\n",
      "\n",
      "Loading required package: S4Vectors\n",
      "\n",
      "Attaching package: ‘S4Vectors’\n",
      "\n",
      "The following object is masked from ‘package:base’:\n",
      "\n",
      "    expand.grid\n",
      "\n",
      "Loading required package: IRanges\n",
      "Loading required package: GenomeInfoDb\n",
      "Loading required package: Biobase\n",
      "Welcome to Bioconductor\n",
      "\n",
      "    Vignettes contain introductory material; view with\n",
      "    'browseVignettes()'. To cite Bioconductor, see\n",
      "    'citation(\"Biobase\")', and for packages 'citation(\"pkgname\")'.\n",
      "\n",
      "Loading required package: DelayedArray\n",
      "Loading required package: matrixStats\n",
      "\n",
      "Attaching package: ‘matrixStats’\n",
      "\n",
      "The following objects are masked from ‘package:Biobase’:\n",
      "\n",
      "    anyMissing, rowMedians\n",
      "\n",
      "Loading required package: BiocParallel\n",
      "\n",
      "Attaching package: ‘DelayedArray’\n",
      "\n",
      "The following objects are masked from ‘package:matrixStats’:\n",
      "\n",
      "    colMaxs, colMins, colRanges, rowMaxs, rowMins, rowRanges\n",
      "\n",
      "The following objects are masked from ‘package:base’:\n",
      "\n",
      "    aperm, apply\n",
      "\n"
     ]
    }
   ],
   "source": [
    "library(airway)"
   ]
  },
  {
   "cell_type": "code",
   "execution_count": 6,
   "metadata": {},
   "outputs": [],
   "source": [
    "library(\"magrittr\")"
   ]
  },
  {
   "cell_type": "code",
   "execution_count": 3,
   "metadata": {},
   "outputs": [],
   "source": [
    "data(airway)"
   ]
  },
  {
   "cell_type": "code",
   "execution_count": 4,
   "metadata": {},
   "outputs": [],
   "source": [
    "se <- airway"
   ]
  },
  {
   "cell_type": "code",
   "execution_count": 8,
   "metadata": {},
   "outputs": [
    {
     "data": {
      "text/html": [
       "<ol class=list-inline>\n",
       "\t<li>untrt</li>\n",
       "\t<li>trt</li>\n",
       "\t<li>untrt</li>\n",
       "\t<li>trt</li>\n",
       "\t<li>untrt</li>\n",
       "\t<li>trt</li>\n",
       "\t<li>untrt</li>\n",
       "\t<li>trt</li>\n",
       "</ol>\n",
       "\n",
       "<details>\n",
       "\t<summary style=display:list-item;cursor:pointer>\n",
       "\t\t<strong>Levels</strong>:\n",
       "\t</summary>\n",
       "\t<ol class=list-inline>\n",
       "\t\t<li>'untrt'</li>\n",
       "\t\t<li>'trt'</li>\n",
       "\t</ol>\n",
       "</details>"
      ],
      "text/latex": [
       "\\begin{enumerate*}\n",
       "\\item untrt\n",
       "\\item trt\n",
       "\\item untrt\n",
       "\\item trt\n",
       "\\item untrt\n",
       "\\item trt\n",
       "\\item untrt\n",
       "\\item trt\n",
       "\\end{enumerate*}\n",
       "\n",
       "\\emph{Levels}: \\begin{enumerate*}\n",
       "\\item 'untrt'\n",
       "\\item 'trt'\n",
       "\\end{enumerate*}\n"
      ],
      "text/markdown": [
       "1. untrt\n",
       "2. trt\n",
       "3. untrt\n",
       "4. trt\n",
       "5. untrt\n",
       "6. trt\n",
       "7. untrt\n",
       "8. trt\n",
       "\n",
       "\n",
       "\n",
       "**Levels**: 1. 'untrt'\n",
       "2. 'trt'\n",
       "\n",
       "\n"
      ],
      "text/plain": [
       "[1] untrt trt   untrt trt   untrt trt   untrt trt  \n",
       "Levels: untrt trt"
      ]
     },
     "metadata": {},
     "output_type": "display_data"
    }
   ],
   "source": [
    "se$dex %<>% relevel(\"untrt\")\n",
    "se$dex"
   ]
  },
  {
   "cell_type": "code",
   "execution_count": 9,
   "metadata": {},
   "outputs": [
    {
     "data": {
      "text/html": [
       "<dl class=dl-horizontal>\n",
       "\t<dt>SRR1039508</dt>\n",
       "\t\t<dd>20.6</dd>\n",
       "\t<dt>SRR1039509</dt>\n",
       "\t\t<dd>18.8</dd>\n",
       "\t<dt>SRR1039512</dt>\n",
       "\t\t<dd>25.3</dd>\n",
       "\t<dt>SRR1039513</dt>\n",
       "\t\t<dd>15.2</dd>\n",
       "\t<dt>SRR1039516</dt>\n",
       "\t\t<dd>24.4</dd>\n",
       "\t<dt>SRR1039517</dt>\n",
       "\t\t<dd>30.8</dd>\n",
       "\t<dt>SRR1039520</dt>\n",
       "\t\t<dd>19.1</dd>\n",
       "\t<dt>SRR1039521</dt>\n",
       "\t\t<dd>21.2</dd>\n",
       "</dl>\n"
      ],
      "text/latex": [
       "\\begin{description*}\n",
       "\\item[SRR1039508] 20.6\n",
       "\\item[SRR1039509] 18.8\n",
       "\\item[SRR1039512] 25.3\n",
       "\\item[SRR1039513] 15.2\n",
       "\\item[SRR1039516] 24.4\n",
       "\\item[SRR1039517] 30.8\n",
       "\\item[SRR1039520] 19.1\n",
       "\\item[SRR1039521] 21.2\n",
       "\\end{description*}\n"
      ],
      "text/markdown": [
       "SRR1039508\n",
       ":   20.6SRR1039509\n",
       ":   18.8SRR1039512\n",
       ":   25.3SRR1039513\n",
       ":   15.2SRR1039516\n",
       ":   24.4SRR1039517\n",
       ":   30.8SRR1039520\n",
       ":   19.1SRR1039521\n",
       ":   21.2\n",
       "\n"
      ],
      "text/plain": [
       "SRR1039508 SRR1039509 SRR1039512 SRR1039513 SRR1039516 SRR1039517 SRR1039520 \n",
       "      20.6       18.8       25.3       15.2       24.4       30.8       19.1 \n",
       "SRR1039521 \n",
       "      21.2 "
      ]
     },
     "metadata": {},
     "output_type": "display_data"
    }
   ],
   "source": [
    "round( colSums(assay(se)) / 1e6, 1 )"
   ]
  },
  {
   "cell_type": "code",
   "execution_count": 10,
   "metadata": {},
   "outputs": [
    {
     "data": {
      "text/plain": [
       "DataFrame with 8 rows and 9 columns\n",
       "           SampleName     cell      dex    albut        Run avgLength\n",
       "             <factor> <factor> <factor> <factor>   <factor> <integer>\n",
       "SRR1039508 GSM1275862   N61311    untrt    untrt SRR1039508       126\n",
       "SRR1039509 GSM1275863   N61311      trt    untrt SRR1039509       126\n",
       "SRR1039512 GSM1275866  N052611    untrt    untrt SRR1039512       126\n",
       "SRR1039513 GSM1275867  N052611      trt    untrt SRR1039513        87\n",
       "SRR1039516 GSM1275870  N080611    untrt    untrt SRR1039516       120\n",
       "SRR1039517 GSM1275871  N080611      trt    untrt SRR1039517       126\n",
       "SRR1039520 GSM1275874  N061011    untrt    untrt SRR1039520       101\n",
       "SRR1039521 GSM1275875  N061011      trt    untrt SRR1039521        98\n",
       "           Experiment    Sample    BioSample\n",
       "             <factor>  <factor>     <factor>\n",
       "SRR1039508  SRX384345 SRS508568 SAMN02422669\n",
       "SRR1039509  SRX384346 SRS508567 SAMN02422675\n",
       "SRR1039512  SRX384349 SRS508571 SAMN02422678\n",
       "SRR1039513  SRX384350 SRS508572 SAMN02422670\n",
       "SRR1039516  SRX384353 SRS508575 SAMN02422682\n",
       "SRR1039517  SRX384354 SRS508576 SAMN02422673\n",
       "SRR1039520  SRX384357 SRS508579 SAMN02422683\n",
       "SRR1039521  SRX384358 SRS508580 SAMN02422677"
      ]
     },
     "metadata": {},
     "output_type": "display_data"
    }
   ],
   "source": [
    "colData(se)"
   ]
  },
  {
   "cell_type": "code",
   "execution_count": 11,
   "metadata": {},
   "outputs": [
    {
     "data": {
      "text/plain": [
       "class: RangedSummarizedExperiment \n",
       "dim: 6 8 \n",
       "metadata(1): ''\n",
       "assays(1): counts\n",
       "rownames(6): ENSG00000000003 ENSG00000000005 ... ENSG00000000460\n",
       "  ENSG00000000938\n",
       "rowData names(0):\n",
       "colnames(8): SRR1039508 SRR1039509 ... SRR1039520 SRR1039521\n",
       "colData names(9): SampleName cell ... Sample BioSample"
      ]
     },
     "metadata": {},
     "output_type": "display_data"
    }
   ],
   "source": [
    "head(se)"
   ]
  },
  {
   "cell_type": "code",
   "execution_count": 14,
   "metadata": {},
   "outputs": [],
   "source": [
    "library(DESeq2)"
   ]
  },
  {
   "cell_type": "code",
   "execution_count": 15,
   "metadata": {},
   "outputs": [],
   "source": [
    "dds <- DESeqDataSet(se, design = ~ cell + dex)"
   ]
  },
  {
   "cell_type": "code",
   "execution_count": 16,
   "metadata": {},
   "outputs": [
    {
     "data": {
      "text/plain": [
       "class: DESeqDataSet \n",
       "dim: 64102 8 \n",
       "metadata(2): '' version\n",
       "assays(1): counts\n",
       "rownames(64102): ENSG00000000003 ENSG00000000005 ... LRG_98 LRG_99\n",
       "rowData names(0):\n",
       "colnames(8): SRR1039508 SRR1039509 ... SRR1039520 SRR1039521\n",
       "colData names(9): SampleName cell ... Sample BioSample"
      ]
     },
     "metadata": {},
     "output_type": "display_data"
    }
   ],
   "source": [
    "dds"
   ]
  },
  {
   "cell_type": "code",
   "execution_count": null,
   "metadata": {},
   "outputs": [],
   "source": []
  }
 ],
 "metadata": {
  "kernelspec": {
   "display_name": "R",
   "language": "R",
   "name": "ir"
  },
  "language_info": {
   "codemirror_mode": "r",
   "file_extension": ".r",
   "mimetype": "text/x-r-source",
   "name": "R",
   "pygments_lexer": "r",
   "version": "3.5.2"
  }
 },
 "nbformat": 4,
 "nbformat_minor": 2
}
